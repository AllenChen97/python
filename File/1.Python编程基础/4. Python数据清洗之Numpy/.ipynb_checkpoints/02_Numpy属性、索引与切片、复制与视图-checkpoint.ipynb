{
 "cells": [
  {
   "cell_type": "markdown",
   "metadata": {
    "toc": true
   },
   "source": [
    "<h1>Table of Contents<span class=\"tocSkip\"></span></h1>\n",
    "<div class=\"toc\"><ul class=\"toc-item\"><li><span><a href=\"#nddaray常用属性\" data-toc-modified-id=\"nddaray常用属性-1\"><span class=\"toc-item-num\">1&nbsp;&nbsp;</span>nddaray常用属性</a></span><ul class=\"toc-item\"><li><span><a href=\"#np.random.seed()\" data-toc-modified-id=\"np.random.seed()-1.1\"><span class=\"toc-item-num\">1.1&nbsp;&nbsp;</span>np.random.seed()</a></span></li><li><span><a href=\"#ndarray.shape\" data-toc-modified-id=\"ndarray.shape-1.2\"><span class=\"toc-item-num\">1.2&nbsp;&nbsp;</span>ndarray.shape</a></span></li><li><span><a href=\"#ndarray.ndim\" data-toc-modified-id=\"ndarray.ndim-1.3\"><span class=\"toc-item-num\">1.3&nbsp;&nbsp;</span>ndarray.ndim</a></span></li><li><span><a href=\"#ndarray.size\" data-toc-modified-id=\"ndarray.size-1.4\"><span class=\"toc-item-num\">1.4&nbsp;&nbsp;</span>ndarray.size</a></span></li></ul></li><li><span><a href=\"#数组的索引和切片\" data-toc-modified-id=\"数组的索引和切片-2\"><span class=\"toc-item-num\">2&nbsp;&nbsp;</span>数组的索引和切片</a></span><ul class=\"toc-item\"><li><span><a href=\"#单个元素索引\" data-toc-modified-id=\"单个元素索引-2.1\"><span class=\"toc-item-num\">2.1&nbsp;&nbsp;</span>单个元素索引</a></span></li><li><span><a href=\"#多维数组索引\" data-toc-modified-id=\"多维数组索引-2.2\"><span class=\"toc-item-num\">2.2&nbsp;&nbsp;</span>多维数组索引</a></span></li><li><span><a href=\"#习题1\" data-toc-modified-id=\"习题1-2.3\"><span class=\"toc-item-num\">2.3&nbsp;&nbsp;</span>习题1</a></span></li><li><span><a href=\"#习题2\" data-toc-modified-id=\"习题2-2.4\"><span class=\"toc-item-num\">2.4&nbsp;&nbsp;</span>习题2</a></span></li><li><span><a href=\"#修改数组元素值\" data-toc-modified-id=\"修改数组元素值-2.5\"><span class=\"toc-item-num\">2.5&nbsp;&nbsp;</span>修改数组元素值</a></span></li><li><span><a href=\"#切片\" data-toc-modified-id=\"切片-2.6\"><span class=\"toc-item-num\">2.6&nbsp;&nbsp;</span>切片</a></span></li><li><span><a href=\"#习题3\" data-toc-modified-id=\"习题3-2.7\"><span class=\"toc-item-num\">2.7&nbsp;&nbsp;</span>习题3</a></span></li></ul></li><li><span><a href=\"#复制和视图\" data-toc-modified-id=\"复制和视图-3\"><span class=\"toc-item-num\">3&nbsp;&nbsp;</span>复制和视图</a></span><ul class=\"toc-item\"><li><span><a href=\"#简单赋值\" data-toc-modified-id=\"简单赋值-3.1\"><span class=\"toc-item-num\">3.1&nbsp;&nbsp;</span>简单赋值</a></span></li><li><span><a href=\"#视图\" data-toc-modified-id=\"视图-3.2\"><span class=\"toc-item-num\">3.2&nbsp;&nbsp;</span>视图</a></span></li><li><span><a href=\"#数组副本\" data-toc-modified-id=\"数组副本-3.3\"><span class=\"toc-item-num\">3.3&nbsp;&nbsp;</span>数组副本</a></span></li></ul></li></ul></div>"
   ]
  },
  {
   "cell_type": "code",
   "execution_count": 1,
   "metadata": {
    "ExecuteTime": {
     "end_time": "2019-04-26T01:34:09.153784Z",
     "start_time": "2019-04-26T01:34:09.147787Z"
    }
   },
   "outputs": [],
   "source": [
    "#全部行都能输出\n",
    "from IPython.core.interactiveshell import InteractiveShell\n",
    "InteractiveShell.ast_node_interactivity = \"all\"\n",
    "import numpy as np"
   ]
  },
  {
   "cell_type": "markdown",
   "metadata": {},
   "source": [
    "```\n",
    "\n",
    "```\n",
    "\n",
    "## nddaray常用属性"
   ]
  },
  {
   "cell_type": "markdown",
   "metadata": {},
   "source": [
    "###  np.random.seed()\n",
    "np.random.seed(Num)可以设置一组种子值，确保每次程序执行的时候都可以生成同样的随机数组。"
   ]
  },
  {
   "cell_type": "code",
   "execution_count": 2,
   "metadata": {},
   "outputs": [
    {
     "data": {
      "text/plain": [
       "array([4, 7, 8, 9, 7, 7])"
      ]
     },
     "execution_count": 2,
     "metadata": {},
     "output_type": "execute_result"
    },
    {
     "data": {
      "text/plain": [
       "array([[5, 0, 9, 5],\n",
       "       [9, 5, 7, 2],\n",
       "       [4, 9, 1, 0]])"
      ]
     },
     "execution_count": 2,
     "metadata": {},
     "output_type": "execute_result"
    }
   ],
   "source": [
    "#不设定随机种子，每次随机生成的数组都不一样\n",
    "x1 = np.random.randint(10, size=6) # 一维数组\n",
    "x2 = np.random.randint(10, size=(3, 4)) # 二维数组\n",
    "\n",
    "x1\n",
    "x2"
   ]
  },
  {
   "cell_type": "code",
   "execution_count": 3,
   "metadata": {
    "ExecuteTime": {
     "end_time": "2019-04-26T03:01:57.270627Z",
     "start_time": "2019-04-26T03:01:57.253641Z"
    }
   },
   "outputs": [
    {
     "data": {
      "text/plain": [
       "array([5, 0, 3, 3, 7, 9])"
      ]
     },
     "execution_count": 3,
     "metadata": {},
     "output_type": "execute_result"
    },
    {
     "data": {
      "text/plain": [
       "array([[3, 5, 2, 4],\n",
       "       [7, 6, 8, 8],\n",
       "       [1, 6, 7, 7]])"
      ]
     },
     "execution_count": 3,
     "metadata": {},
     "output_type": "execute_result"
    }
   ],
   "source": [
    "# 为了确保大家都能生成一样的数组, 我们先设置随机数种子\n",
    "a=np.random.seed(0)\n",
    "\n",
    "x1 = np.random.randint(10, size=6) # 一维数组\n",
    "x2 = np.random.randint(10, size=(3, 4)) # 二维数组\n",
    "\n",
    "x1\n",
    "x2"
   ]
  },
  {
   "cell_type": "markdown",
   "metadata": {},
   "source": [
    "```\n",
    "\n",
    "```\n",
    "\n",
    "### ndarray.shape\n",
    "\n",
    "现在我们想要查看数组是什么形状"
   ]
  },
  {
   "cell_type": "code",
   "execution_count": 4,
   "metadata": {},
   "outputs": [
    {
     "data": {
      "text/plain": [
       "(6,)"
      ]
     },
     "execution_count": 4,
     "metadata": {},
     "output_type": "execute_result"
    },
    {
     "data": {
      "text/plain": [
       "(3, 4)"
      ]
     },
     "execution_count": 4,
     "metadata": {},
     "output_type": "execute_result"
    }
   ],
   "source": [
    "x1.shape\n",
    "x2.shape"
   ]
  },
  {
   "cell_type": "markdown",
   "metadata": {},
   "source": [
    "```\n",
    "\n",
    "```\n",
    "\n",
    "### ndarray.ndim\n",
    "\n",
    "想要查看数组的维度"
   ]
  },
  {
   "cell_type": "code",
   "execution_count": 5,
   "metadata": {
    "ExecuteTime": {
     "end_time": "2019-02-27T08:48:22.796818Z",
     "start_time": "2019-02-27T08:48:22.771835Z"
    }
   },
   "outputs": [
    {
     "data": {
      "text/plain": [
       "array([5, 0, 3, 3, 7, 9])"
      ]
     },
     "execution_count": 5,
     "metadata": {},
     "output_type": "execute_result"
    },
    {
     "data": {
      "text/plain": [
       "array([[3, 5, 2, 4],\n",
       "       [7, 6, 8, 8],\n",
       "       [1, 6, 7, 7]])"
      ]
     },
     "execution_count": 5,
     "metadata": {},
     "output_type": "execute_result"
    },
    {
     "data": {
      "text/plain": [
       "1"
      ]
     },
     "execution_count": 5,
     "metadata": {},
     "output_type": "execute_result"
    },
    {
     "data": {
      "text/plain": [
       "2"
      ]
     },
     "execution_count": 5,
     "metadata": {},
     "output_type": "execute_result"
    }
   ],
   "source": [
    "x1\n",
    "x2\n",
    "\n",
    "x1.ndim  #n-dimension的意思\n",
    "x2.ndim"
   ]
  },
  {
   "cell_type": "markdown",
   "metadata": {},
   "source": [
    "```\n",
    "   \n",
    "\n",
    "```\n",
    "\n",
    "### ndarray.size\n",
    "查看数组元素个数"
   ]
  },
  {
   "cell_type": "code",
   "execution_count": 6,
   "metadata": {
    "ExecuteTime": {
     "end_time": "2019-04-26T03:02:22.738334Z",
     "start_time": "2019-04-26T03:02:22.725341Z"
    }
   },
   "outputs": [
    {
     "data": {
      "text/plain": [
       "6"
      ]
     },
     "execution_count": 6,
     "metadata": {},
     "output_type": "execute_result"
    },
    {
     "data": {
      "text/plain": [
       "12"
      ]
     },
     "execution_count": 6,
     "metadata": {},
     "output_type": "execute_result"
    }
   ],
   "source": [
    "x1.size\n",
    "x2.size"
   ]
  },
  {
   "cell_type": "markdown",
   "metadata": {},
   "source": [
    "```  \n",
    "\n",
    "```\n",
    "```\n",
    "   \n",
    "   \n",
    "\n",
    "```\n",
    "## 数组的索引和切片\n",
    "\n",
    "Python 中原生的数组就支持使用方括号（[ ]）进行索引和切片操作，Numpy 也同样具有这个强大的特性。"
   ]
  },
  {
   "cell_type": "markdown",
   "metadata": {},
   "source": [
    "### 单个元素索引\n",
    "\n",
    "数组的单元素索引操作的工作原理与其他标准Python序列一样。它是从0开始的，并且接受负索引来从数组的结尾进行索引。"
   ]
  },
  {
   "cell_type": "code",
   "execution_count": 7,
   "metadata": {
    "ExecuteTime": {
     "end_time": "2019-02-27T08:57:51.014616Z",
     "start_time": "2019-02-27T08:57:51.008621Z"
    }
   },
   "outputs": [
    {
     "data": {
      "text/plain": [
       "array([0, 1, 2, 3, 4, 5, 6, 7, 8, 9])"
      ]
     },
     "execution_count": 7,
     "metadata": {},
     "output_type": "execute_result"
    }
   ],
   "source": [
    "x = np.arange(10)\n",
    "\n",
    "x"
   ]
  },
  {
   "cell_type": "code",
   "execution_count": 8,
   "metadata": {
    "ExecuteTime": {
     "end_time": "2019-06-20T11:28:53.056420Z",
     "start_time": "2019-06-20T11:28:52.723624Z"
    }
   },
   "outputs": [
    {
     "data": {
      "text/plain": [
       "0"
      ]
     },
     "execution_count": 8,
     "metadata": {},
     "output_type": "execute_result"
    },
    {
     "data": {
      "text/plain": [
       "array([0, 1, 2, 3, 4])"
      ]
     },
     "execution_count": 8,
     "metadata": {},
     "output_type": "execute_result"
    },
    {
     "data": {
      "text/plain": [
       "array([9, 8, 7, 6])"
      ]
     },
     "execution_count": 8,
     "metadata": {},
     "output_type": "execute_result"
    }
   ],
   "source": [
    "x[0]\n",
    "\n",
    "x[0:5]\n",
    "\n",
    "x[-1:-5:-1]"
   ]
  },
  {
   "cell_type": "markdown",
   "metadata": {},
   "source": [
    "```\n",
    "\n",
    "```\n",
    "\n",
    "### 多维数组索引"
   ]
  },
  {
   "cell_type": "markdown",
   "metadata": {},
   "source": [
    "与Python原生的列表、元组不同的是，Numpy数组支持多维数组的多维索引。\n",
    "\n",
    "每一个逗号, 代表索引的一个维度"
   ]
  },
  {
   "cell_type": "code",
   "execution_count": 9,
   "metadata": {
    "ExecuteTime": {
     "end_time": "2019-06-20T11:29:00.135332Z",
     "start_time": "2019-06-20T11:29:00.130334Z"
    }
   },
   "outputs": [],
   "source": [
    "x2=np.array([[3, 5, 2, 4],\n",
    "             [7, 6, 8, 8],\n",
    "             [1, 6, 7, 7]])"
   ]
  },
  {
   "cell_type": "code",
   "execution_count": 10,
   "metadata": {
    "ExecuteTime": {
     "end_time": "2019-06-20T11:29:02.419815Z",
     "start_time": "2019-06-20T11:29:02.395830Z"
    }
   },
   "outputs": [
    {
     "data": {
      "text/plain": [
       "array([3, 5, 2, 4])"
      ]
     },
     "execution_count": 10,
     "metadata": {},
     "output_type": "execute_result"
    },
    {
     "data": {
      "text/plain": [
       "3"
      ]
     },
     "execution_count": 10,
     "metadata": {},
     "output_type": "execute_result"
    },
    {
     "data": {
      "text/plain": [
       "6"
      ]
     },
     "execution_count": 10,
     "metadata": {},
     "output_type": "execute_result"
    }
   ],
   "source": [
    "x2[0]\n",
    "\n",
    "x2[0, 0]\n",
    "\n",
    "x2[1, 1]"
   ]
  },
  {
   "cell_type": "markdown",
   "metadata": {},
   "source": [
    "也可以按照以往嵌套列表取元素的方法，一层一层取："
   ]
  },
  {
   "cell_type": "code",
   "execution_count": 19,
   "metadata": {},
   "outputs": [
    {
     "data": {
      "text/plain": [
       "array([3, 5, 2, 4])"
      ]
     },
     "execution_count": 19,
     "metadata": {},
     "output_type": "execute_result"
    },
    {
     "data": {
      "text/plain": [
       "3"
      ]
     },
     "execution_count": 19,
     "metadata": {},
     "output_type": "execute_result"
    },
    {
     "data": {
      "text/plain": [
       "6"
      ]
     },
     "execution_count": 19,
     "metadata": {},
     "output_type": "execute_result"
    }
   ],
   "source": [
    "x2[0]\n",
    "\n",
    "x2[0][0]\n",
    "\n",
    "x2[1][1]"
   ]
  },
  {
   "cell_type": "markdown",
   "metadata": {},
   "source": [
    "二维以上的如何取？"
   ]
  },
  {
   "cell_type": "code",
   "execution_count": 21,
   "metadata": {
    "ExecuteTime": {
     "end_time": "2019-04-26T03:21:01.269701Z",
     "start_time": "2019-04-26T03:21:01.257713Z"
    }
   },
   "outputs": [],
   "source": [
    "x3=np.array([[[8, 1, 5, 9, 8],\n",
    "              [9, 4, 3, 0, 3],\n",
    "              [5, 0, 2, 3, 8],\n",
    "              [1, 3, 3, 3, 7]],\n",
    "\n",
    "             [[0, 1, 9, 9, 0],\n",
    "              [4, 7, 3, 2, 7],\n",
    "              [2, 0, 0, 4, 5],\n",
    "              [5, 6, 8, 4, 1]],\n",
    "\n",
    "             [[4, 9, 8, 1, 1],\n",
    "              [7, 9, 9, 3, 6],\n",
    "              [7, 2, 0, 3, 5],\n",
    "              [9, 4, 4, 6, 4]]])"
   ]
  },
  {
   "cell_type": "markdown",
   "metadata": {
    "scrolled": true
   },
   "source": [
    "如何取中间那块[0,0]？"
   ]
  },
  {
   "cell_type": "code",
   "execution_count": 22,
   "metadata": {
    "ExecuteTime": {
     "end_time": "2019-04-26T03:23:35.911090Z",
     "start_time": "2019-04-26T03:23:35.897098Z"
    }
   },
   "outputs": [
    {
     "data": {
      "text/plain": [
       "array([[0, 1, 9, 9, 0],\n",
       "       [4, 7, 3, 2, 7],\n",
       "       [2, 0, 0, 4, 5],\n",
       "       [5, 6, 8, 4, 1]])"
      ]
     },
     "execution_count": 22,
     "metadata": {},
     "output_type": "execute_result"
    },
    {
     "data": {
      "text/plain": [
       "array([2, 0, 0, 4, 5])"
      ]
     },
     "execution_count": 22,
     "metadata": {},
     "output_type": "execute_result"
    },
    {
     "data": {
      "text/plain": [
       "array([0, 0])"
      ]
     },
     "execution_count": 22,
     "metadata": {},
     "output_type": "execute_result"
    }
   ],
   "source": [
    "x3[1]\n",
    "x3[1][2]\n",
    "x3[1][2][1:3]"
   ]
  },
  {
   "cell_type": "code",
   "execution_count": 23,
   "metadata": {
    "ExecuteTime": {
     "end_time": "2019-04-26T03:24:10.498069Z",
     "start_time": "2019-04-26T03:24:10.484078Z"
    }
   },
   "outputs": [
    {
     "data": {
      "text/plain": [
       "array([[0, 1, 9, 9, 0],\n",
       "       [4, 7, 3, 2, 7],\n",
       "       [2, 0, 0, 4, 5],\n",
       "       [5, 6, 8, 4, 1]])"
      ]
     },
     "execution_count": 23,
     "metadata": {},
     "output_type": "execute_result"
    },
    {
     "data": {
      "text/plain": [
       "array([2, 0, 0, 4, 5])"
      ]
     },
     "execution_count": 23,
     "metadata": {},
     "output_type": "execute_result"
    },
    {
     "data": {
      "text/plain": [
       "array([0, 0])"
      ]
     },
     "execution_count": 23,
     "metadata": {},
     "output_type": "execute_result"
    }
   ],
   "source": [
    "x3[1]\n",
    "x3[1,2]\n",
    "x3[1,2,1:3]"
   ]
  },
  {
   "cell_type": "markdown",
   "metadata": {},
   "source": [
    "### 习题1"
   ]
  },
  {
   "attachments": {
    "_auto_0": {
     "image/png": "[encoded data removed]"
    }
   },
   "cell_type": "markdown",
   "metadata": {},
   "source": [
    "如何取出x3中的：\n",
    "![_auto_0](attachment:_auto_0)"
   ]
  },
  {
   "cell_type": "code",
   "execution_count": null,
   "metadata": {},
   "outputs": [],
   "source": []
  },
  {
   "cell_type": "markdown",
   "metadata": {},
   "source": [
    "   \n",
    "```\n",
    "\n",
    "\n",
    "```\n",
    "### 习题2"
   ]
  },
  {
   "attachments": {
    "_auto_0": {
     "image/png": "[encoded data removed]"
    }
   },
   "cell_type": "markdown",
   "metadata": {},
   "source": [
    "**如果需要截取的行和列数，并不是并排的，该怎么办？**\n",
    "![_auto_0](attachment:_auto_0)"
   ]
  },
  {
   "cell_type": "markdown",
   "metadata": {},
   "source": [
    "如果你想取出上面数组的第二行，同时取出第一和第四列，该怎么取？"
   ]
  },
  {
   "cell_type": "markdown",
   "metadata": {
    "ExecuteTime": {
     "end_time": "2019-04-26T04:04:48.077711Z",
     "start_time": "2019-04-26T04:04:48.066716Z"
    }
   },
   "source": [
    "如何取出x2的第一行和第三行的第一列和第四列值？"
   ]
  },
  {
   "cell_type": "code",
   "execution_count": null,
   "metadata": {},
   "outputs": [],
   "source": []
  },
  {
   "cell_type": "markdown",
   "metadata": {},
   "source": [
    "```\n",
    "\n",
    "```\n",
    "\n",
    "### 修改数组元素值"
   ]
  },
  {
   "cell_type": "code",
   "execution_count": 11,
   "metadata": {
    "ExecuteTime": {
     "end_time": "2019-04-26T04:26:08.637621Z",
     "start_time": "2019-04-26T04:26:08.632626Z"
    }
   },
   "outputs": [
    {
     "data": {
      "text/plain": [
       "array([1999,    0,    3,    3,    7,    9])"
      ]
     },
     "execution_count": 11,
     "metadata": {},
     "output_type": "execute_result"
    }
   ],
   "source": [
    "x=np.array([5, 0, 3, 3, 7, 9])\n",
    "\n",
    "x[0] = 1999\n",
    "x"
   ]
  },
  {
   "cell_type": "code",
   "execution_count": 12,
   "metadata": {
    "ExecuteTime": {
     "end_time": "2019-04-26T04:06:10.337282Z",
     "start_time": "2019-04-26T04:06:10.330287Z"
    }
   },
   "outputs": [
    {
     "data": {
      "text/plain": [
       "array([[ 3,  5,  2,  4],\n",
       "       [ 7,  6,  8,  8],\n",
       "       [ 1,  6, 77, 88]])"
      ]
     },
     "execution_count": 12,
     "metadata": {},
     "output_type": "execute_result"
    }
   ],
   "source": [
    "x2=np.array([[ 3,  5,  2,  4],\n",
    "             [ 7,  6,  8,  8],\n",
    "             [ 1,  6, 77, 77]])\n",
    "\n",
    "x2[2,3]=88.1  #数据类型会转化\n",
    "\n",
    "x2"
   ]
  },
  {
   "cell_type": "markdown",
   "metadata": {},
   "source": [
    "```\n",
    "    \n",
    "    \n",
    "    \n",
    "```\n",
    "\n",
    "### 切片\n",
    "\n",
    "可以使用切片和步长来截取不同长度的数组，使用方式与Python原生的对列表和元组的方式相同。\n",
    "\n",
    "\n",
    "语法和之前学过的列表的切片是一样的\n",
    "\n",
    "`x[start:stop:step]`"
   ]
  },
  {
   "cell_type": "code",
   "execution_count": 27,
   "metadata": {
    "ExecuteTime": {
     "end_time": "2019-04-26T06:48:56.680734Z",
     "start_time": "2019-04-26T06:48:56.647755Z"
    },
    "scrolled": true
   },
   "outputs": [
    {
     "data": {
      "text/plain": [
       "array([[3, 5, 2, 4],\n",
       "       [7, 6, 8, 8],\n",
       "       [1, 6, 7, 7]])"
      ]
     },
     "execution_count": 27,
     "metadata": {},
     "output_type": "execute_result"
    }
   ],
   "source": [
    "x=np.array([[3, 5, 2, 4],\n",
    "            [7, 6, 8, 8],\n",
    "            [1, 6, 7, 7]])\n",
    "x"
   ]
  },
  {
   "cell_type": "code",
   "execution_count": 28,
   "metadata": {
    "ExecuteTime": {
     "end_time": "2019-04-26T07:05:43.436672Z",
     "start_time": "2019-04-26T07:05:43.427680Z"
    }
   },
   "outputs": [
    {
     "data": {
      "text/plain": [
       "array([3, 5, 2, 4])"
      ]
     },
     "execution_count": 28,
     "metadata": {},
     "output_type": "execute_result"
    }
   ],
   "source": [
    "#取出第一行\n",
    "x[0,:]"
   ]
  },
  {
   "cell_type": "code",
   "execution_count": 29,
   "metadata": {
    "ExecuteTime": {
     "end_time": "2019-04-26T07:06:11.166627Z",
     "start_time": "2019-04-26T07:06:11.158635Z"
    }
   },
   "outputs": [
    {
     "data": {
      "text/plain": [
       "array([3, 7, 1])"
      ]
     },
     "execution_count": 29,
     "metadata": {},
     "output_type": "execute_result"
    }
   ],
   "source": [
    "#取出第一列\n",
    "x[:,0]"
   ]
  },
  {
   "cell_type": "markdown",
   "metadata": {},
   "source": [
    "注意，二维数组切片的取法，下面两种方法的差异："
   ]
  },
  {
   "attachments": {
    "_auto_0": {
     "image/png": "[encoded data removed]"
    }
   },
   "cell_type": "markdown",
   "metadata": {},
   "source": [
    "![_auto_0](attachment:_auto_0)"
   ]
  },
  {
   "cell_type": "code",
   "execution_count": 31,
   "metadata": {
    "ExecuteTime": {
     "end_time": "2019-04-26T06:54:47.023183Z",
     "start_time": "2019-04-26T06:54:46.983211Z"
    }
   },
   "outputs": [
    {
     "data": {
      "text/plain": [
       "array([[3, 5],\n",
       "       [7, 6]])"
      ]
     },
     "execution_count": 31,
     "metadata": {},
     "output_type": "execute_result"
    },
    {
     "data": {
      "text/plain": [
       "array([[3, 5, 2, 4],\n",
       "       [7, 6, 8, 8]])"
      ]
     },
     "execution_count": 31,
     "metadata": {},
     "output_type": "execute_result"
    },
    {
     "data": {
      "text/plain": [
       "array([[3, 5, 2, 4],\n",
       "       [7, 6, 8, 8]])"
      ]
     },
     "execution_count": 31,
     "metadata": {},
     "output_type": "execute_result"
    }
   ],
   "source": [
    "#x[第一维度,第二维度]\n",
    "x[:2, :2]     #先取行，后取列\n",
    "\n",
    "x[:2]    \n",
    "x[:2][:2]     #取两次都是取行数"
   ]
  },
  {
   "cell_type": "markdown",
   "metadata": {},
   "source": [
    "```\n",
    "    \n",
    "    \n",
    "    \n",
    "```\n",
    "### 习题3"
   ]
  },
  {
   "cell_type": "markdown",
   "metadata": {
    "ExecuteTime": {
     "end_time": "2019-02-27T10:17:45.257209Z",
     "start_time": "2019-02-27T10:17:45.249216Z"
    }
   },
   "source": [
    "```\n",
    "x2=np.array([[3, 5, 2, 4],\n",
    "            [7, 6, 8, 8],\n",
    "            [1, 6, 7, 7]])\n",
    "```\n",
    "如何通过索引和切片的方式，分别取出：\n",
    "```\n",
    "[[3,5]\n",
    " [7,6]]\n",
    " ```\n",
    " 和\n",
    " ```\n",
    " [[3,2]\n",
    " [1,7]]\n",
    " ```\n",
    " "
   ]
  },
  {
   "cell_type": "code",
   "execution_count": null,
   "metadata": {},
   "outputs": [],
   "source": []
  },
  {
   "cell_type": "markdown",
   "metadata": {
    "collapsed": true
   },
   "source": [
    "```\n",
    "    \n",
    "    \n",
    "    \n",
    "```\n",
    "## 复制和视图"
   ]
  },
  {
   "cell_type": "markdown",
   "metadata": {
    "collapsed": true
   },
   "source": [
    "### 简单赋值\n",
    "\n",
    "简单赋值不会创建数组对象或其数据的拷贝。"
   ]
  },
  {
   "cell_type": "code",
   "execution_count": 35,
   "metadata": {
    "ExecuteTime": {
     "end_time": "2019-04-26T08:39:00.756817Z",
     "start_time": "2019-04-26T08:39:00.741828Z"
    }
   },
   "outputs": [
    {
     "data": {
      "text/plain": [
       "2574643468048"
      ]
     },
     "execution_count": 35,
     "metadata": {},
     "output_type": "execute_result"
    },
    {
     "data": {
      "text/plain": [
       "2574643468048"
      ]
     },
     "execution_count": 35,
     "metadata": {},
     "output_type": "execute_result"
    }
   ],
   "source": [
    "a = np.arange(6)  \n",
    "b = a \n",
    "\n",
    "id(a)\n",
    "id(b) # id(a)和id(b)结果相同"
   ]
  },
  {
   "cell_type": "code",
   "execution_count": 36,
   "metadata": {
    "ExecuteTime": {
     "end_time": "2019-04-26T08:39:05.800275Z",
     "start_time": "2019-04-26T08:39:05.787283Z"
    }
   },
   "outputs": [
    {
     "data": {
      "text/plain": [
       "array([ 0, 22,  2,  3,  4,  5])"
      ]
     },
     "execution_count": 36,
     "metadata": {},
     "output_type": "execute_result"
    },
    {
     "data": {
      "text/plain": [
       "array([ 0, 22,  2,  3,  4,  5])"
      ]
     },
     "execution_count": 36,
     "metadata": {},
     "output_type": "execute_result"
    }
   ],
   "source": [
    "b[1] =  22 \n",
    "\n",
    "b\n",
    "a"
   ]
  },
  {
   "cell_type": "markdown",
   "metadata": {
    "ExecuteTime": {
     "end_time": "2019-04-26T08:25:47.113219Z",
     "start_time": "2019-04-26T08:25:47.091231Z"
    },
    "collapsed": true
   },
   "source": [
    "```\n",
    "    \n",
    "    \n",
    "    \n",
    "```\n",
    "### 视图\n",
    "a.view()\n",
    "- 不同的数组对象可以共享相同的数据。view方法创建一个新数组对象，该对象看到相同的数据。\n",
    "- 新数组数据更改后，会影响原始数据。"
   ]
  },
  {
   "cell_type": "code",
   "execution_count": 37,
   "metadata": {
    "ExecuteTime": {
     "end_time": "2019-04-26T08:49:21.021112Z",
     "start_time": "2019-04-26T08:49:21.003125Z"
    }
   },
   "outputs": [
    {
     "data": {
      "text/plain": [
       "array([[ 0,  1],\n",
       "       [ 2,  3],\n",
       "       [ 4,  5],\n",
       "       [ 6,  7],\n",
       "       [ 8,  9],\n",
       "       [10, 11]])"
      ]
     },
     "execution_count": 37,
     "metadata": {},
     "output_type": "execute_result"
    }
   ],
   "source": [
    "a = np.arange(0, 12, 1).reshape(6, 2)\n",
    "c = a.view()\n",
    "\n",
    "c"
   ]
  },
  {
   "cell_type": "code",
   "execution_count": 38,
   "metadata": {},
   "outputs": [
    {
     "data": {
      "text/plain": [
       "2574643470208"
      ]
     },
     "execution_count": 38,
     "metadata": {},
     "output_type": "execute_result"
    },
    {
     "data": {
      "text/plain": [
       "2574643469888"
      ]
     },
     "execution_count": 38,
     "metadata": {},
     "output_type": "execute_result"
    }
   ],
   "source": [
    "id(a)\n",
    "id(c)"
   ]
  },
  {
   "cell_type": "markdown",
   "metadata": {},
   "source": [
    "新数组数据更改后，会影响原始数据。类似于原生python中的浅复制："
   ]
  },
  {
   "cell_type": "code",
   "execution_count": 41,
   "metadata": {
    "ExecuteTime": {
     "end_time": "2019-04-26T08:49:29.386093Z",
     "start_time": "2019-04-26T08:49:29.375096Z"
    }
   },
   "outputs": [
    {
     "data": {
      "text/plain": [
       "array([[ 0, 11],\n",
       "       [ 2,  3],\n",
       "       [ 4,  5],\n",
       "       [ 6,  7],\n",
       "       [ 8,  9],\n",
       "       [10, 11]])"
      ]
     },
     "execution_count": 41,
     "metadata": {},
     "output_type": "execute_result"
    },
    {
     "data": {
      "text/plain": [
       "array([[ 0, 11],\n",
       "       [ 2,  3],\n",
       "       [ 4,  5],\n",
       "       [ 6,  7],\n",
       "       [ 8,  9],\n",
       "       [10, 11]])"
      ]
     },
     "execution_count": 41,
     "metadata": {},
     "output_type": "execute_result"
    }
   ],
   "source": [
    "a[0,1]=11\n",
    "\n",
    "a\n",
    "c  #c = a.view()"
   ]
  },
  {
   "cell_type": "markdown",
   "metadata": {},
   "source": [
    "```\n",
    "    \n",
    "```\n",
    "### 数组副本\n",
    "\n",
    "也可以通过.copy()方法创建一个副本，类似于列表知识章节中提到的深复制。"
   ]
  },
  {
   "cell_type": "code",
   "execution_count": 42,
   "metadata": {
    "ExecuteTime": {
     "end_time": "2019-04-26T08:30:35.117324Z",
     "start_time": "2019-04-26T08:30:35.106330Z"
    }
   },
   "outputs": [
    {
     "data": {
      "text/plain": [
       "array([[0, 0, 1, 1],\n",
       "       [1, 1, 0, 1],\n",
       "       [0, 1, 0, 1]])"
      ]
     },
     "execution_count": 42,
     "metadata": {},
     "output_type": "execute_result"
    },
    {
     "data": {
      "text/plain": [
       "array([[0, 0, 1, 1],\n",
       "       [1, 1, 0, 1],\n",
       "       [0, 1, 0, 1]])"
      ]
     },
     "execution_count": 42,
     "metadata": {},
     "output_type": "execute_result"
    }
   ],
   "source": [
    "#复原x3\n",
    "a = np.random.randint(2, size=(3, 4)) # 二维数组\n",
    "b = a.copy()\n",
    "\n",
    "a\n",
    "b"
   ]
  },
  {
   "cell_type": "code",
   "execution_count": 43,
   "metadata": {},
   "outputs": [
    {
     "data": {
      "text/plain": [
       "2574643470048"
      ]
     },
     "execution_count": 43,
     "metadata": {},
     "output_type": "execute_result"
    },
    {
     "data": {
      "text/plain": [
       "2574643509808"
      ]
     },
     "execution_count": 43,
     "metadata": {},
     "output_type": "execute_result"
    }
   ],
   "source": [
    "id(a)\n",
    "id(b)"
   ]
  },
  {
   "cell_type": "code",
   "execution_count": 44,
   "metadata": {
    "ExecuteTime": {
     "end_time": "2019-04-26T08:51:09.606252Z",
     "start_time": "2019-04-26T08:51:09.596257Z"
    }
   },
   "outputs": [
    {
     "data": {
      "text/plain": [
       "array([[8888,    0,    1,    1],\n",
       "       [   1,    1,    0,    1],\n",
       "       [   0,    1,    0,    1]])"
      ]
     },
     "execution_count": 44,
     "metadata": {},
     "output_type": "execute_result"
    },
    {
     "data": {
      "text/plain": [
       "array([[0, 0, 1, 1],\n",
       "       [1, 1, 0, 1],\n",
       "       [0, 1, 0, 1]])"
      ]
     },
     "execution_count": 44,
     "metadata": {},
     "output_type": "execute_result"
    }
   ],
   "source": [
    "a[0, 0]= 8888\n",
    "\n",
    "a\n",
    "b"
   ]
  },
  {
   "cell_type": "code",
   "execution_count": 14,
   "metadata": {
    "ExecuteTime": {
     "end_time": "2019-06-21T01:15:25.708045Z",
     "start_time": "2019-06-21T01:15:25.704047Z"
    }
   },
   "outputs": [
    {
     "data": {
      "text/plain": [
       "[1, 2, 3, 4]"
      ]
     },
     "execution_count": 14,
     "metadata": {},
     "output_type": "execute_result"
    },
    {
     "data": {
      "text/plain": [
       "[1, 2, 3]"
      ]
     },
     "execution_count": 14,
     "metadata": {},
     "output_type": "execute_result"
    }
   ],
   "source": [
    "from copy import deepcopy\n",
    "a=[1,2,3]\n",
    "\n",
    "b=deepcopy(a)\n",
    "a.append(4)\n",
    "\n",
    "a\n",
    "b"
   ]
  }
 ],
 "metadata": {
  "kernelspec": {
   "display_name": "Python 3",
   "language": "python",
   "name": "python3"
  },
  "language_info": {
   "codemirror_mode": {
    "name": "ipython",
    "version": 3
   },
   "file_extension": ".py",
   "mimetype": "text/x-python",
   "name": "python",
   "nbconvert_exporter": "python",
   "pygments_lexer": "ipython3",
   "version": "3.7.1"
  },
  "nbTranslate": {
   "displayLangs": [
    "*"
   ],
   "hotkey": "alt-t",
   "langInMainMenu": true,
   "sourceLang": "en",
   "targetLang": "fr",
   "useGoogleTranslate": true
  },
  "toc": {
   "base_numbering": 1,
   "nav_menu": {},
   "number_sections": true,
   "sideBar": true,
   "skip_h1_title": false,
   "title_cell": "Table of Contents",
   "title_sidebar": "Contents",
   "toc_cell": true,
   "toc_position": {
    "height": "46.6667px",
    "left": "31px",
    "top": "110.333px",
    "width": "188.313px"
   },
   "toc_section_display": true,
   "toc_window_display": true
  },
  "varInspector": {
   "cols": {
    "lenName": 16,
    "lenType": 16,
    "lenVar": 40
   },
   "kernels_config": {
    "python": {
     "delete_cmd_postfix": "",
     "delete_cmd_prefix": "del ",
     "library": "var_list.py",
     "varRefreshCmd": "print(var_dic_list())"
    },
    "r": {
     "delete_cmd_postfix": ") ",
     "delete_cmd_prefix": "rm(",
     "library": "var_list.r",
     "varRefreshCmd": "cat(var_dic_list()) "
    }
   },
   "types_to_exclude": [
    "module",
    "function",
    "builtin_function_or_method",
    "instance",
    "_Feature"
   ],
   "window_display": false
  }
 },
 "nbformat": 4,
 "nbformat_minor": 2
}
