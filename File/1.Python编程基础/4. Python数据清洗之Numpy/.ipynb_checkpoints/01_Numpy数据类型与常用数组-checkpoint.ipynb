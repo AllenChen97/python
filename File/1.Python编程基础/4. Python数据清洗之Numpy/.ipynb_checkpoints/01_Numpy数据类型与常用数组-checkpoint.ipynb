{
 "cells": [
  {
   "cell_type": "markdown",
   "metadata": {
    "toc": true
   },
   "source": [
    "<h1>Table of Contents<span class=\"tocSkip\"></span></h1>\n",
    "<div class=\"toc\"><ul class=\"toc-item\"><li><span><a href=\"#Numpy-是什么\" data-toc-modified-id=\"Numpy-是什么-1\"><span class=\"toc-item-num\">1&nbsp;&nbsp;</span>Numpy 是什么</a></span></li><li><span><a href=\"#与python原生array区别\" data-toc-modified-id=\"与python原生array区别-2\"><span class=\"toc-item-num\">2&nbsp;&nbsp;</span>与python原生array区别</a></span></li><li><span><a href=\"#构建ndarray\" data-toc-modified-id=\"构建ndarray-3\"><span class=\"toc-item-num\">3&nbsp;&nbsp;</span>构建ndarray</a></span></li><li><span><a href=\"#数据类型\" data-toc-modified-id=\"数据类型-4\"><span class=\"toc-item-num\">4&nbsp;&nbsp;</span>数据类型</a></span><ul class=\"toc-item\"><li><span><a href=\"#基本数据类型\" data-toc-modified-id=\"基本数据类型-4.1\"><span class=\"toc-item-num\">4.1&nbsp;&nbsp;</span>基本数据类型</a></span></li><li><span><a href=\"#ndarray.dtype\" data-toc-modified-id=\"ndarray.dtype-4.2\"><span class=\"toc-item-num\">4.2&nbsp;&nbsp;</span>ndarray.dtype</a></span></li><li><span><a href=\"#类型转换np.astype()\" data-toc-modified-id=\"类型转换np.astype()-4.3\"><span class=\"toc-item-num\">4.3&nbsp;&nbsp;</span>类型转换np.astype()</a></span></li></ul></li><li><span><a href=\"#常用的数组\" data-toc-modified-id=\"常用的数组-5\"><span class=\"toc-item-num\">5&nbsp;&nbsp;</span>常用的数组</a></span><ul class=\"toc-item\"><li><span><a href=\"#np.arange()\" data-toc-modified-id=\"np.arange()-5.1\"><span class=\"toc-item-num\">5.1&nbsp;&nbsp;</span>np.arange()</a></span></li><li><span><a href=\"#np.linspace()\" data-toc-modified-id=\"np.linspace()-5.2\"><span class=\"toc-item-num\">5.2&nbsp;&nbsp;</span>np.linspace()</a></span></li><li><span><a href=\"#np.zeros()\" data-toc-modified-id=\"np.zeros()-5.3\"><span class=\"toc-item-num\">5.3&nbsp;&nbsp;</span>np.zeros()</a></span></li><li><span><a href=\"#np.ones()\" data-toc-modified-id=\"np.ones()-5.4\"><span class=\"toc-item-num\">5.4&nbsp;&nbsp;</span>np.ones()</a></span></li><li><span><a href=\"#np.eye()\" data-toc-modified-id=\"np.eye()-5.5\"><span class=\"toc-item-num\">5.5&nbsp;&nbsp;</span>np.eye()</a></span></li><li><span><a href=\"#np.empty()\" data-toc-modified-id=\"np.empty()-5.6\"><span class=\"toc-item-num\">5.6&nbsp;&nbsp;</span>np.empty()</a></span></li><li><span><a href=\"#np.diag()\" data-toc-modified-id=\"np.diag()-5.7\"><span class=\"toc-item-num\">5.7&nbsp;&nbsp;</span>np.diag()</a></span></li><li><span><a href=\"#np.full()\" data-toc-modified-id=\"np.full()-5.8\"><span class=\"toc-item-num\">5.8&nbsp;&nbsp;</span>np.full()</a></span></li><li><span><a href=\"#设置空值\" data-toc-modified-id=\"设置空值-5.9\"><span class=\"toc-item-num\">5.9&nbsp;&nbsp;</span>设置空值</a></span></li><li><span><a href=\"#随机数组\" data-toc-modified-id=\"随机数组-5.10\"><span class=\"toc-item-num\">5.10&nbsp;&nbsp;</span>随机数组</a></span><ul class=\"toc-item\"><li><span><a href=\"#np.random.randint()\" data-toc-modified-id=\"np.random.randint()-5.10.1\"><span class=\"toc-item-num\">5.10.1&nbsp;&nbsp;</span>np.random.randint()</a></span></li><li><span><a href=\"#np.random.random()\" data-toc-modified-id=\"np.random.random()-5.10.2\"><span class=\"toc-item-num\">5.10.2&nbsp;&nbsp;</span>np.random.random()</a></span></li><li><span><a href=\"#np.random.randn()\" data-toc-modified-id=\"np.random.randn()-5.10.3\"><span class=\"toc-item-num\">5.10.3&nbsp;&nbsp;</span>np.random.randn()</a></span></li><li><span><a href=\"#np.random.normal()\" data-toc-modified-id=\"np.random.normal()-5.10.4\"><span class=\"toc-item-num\">5.10.4&nbsp;&nbsp;</span>np.random.normal()</a></span></li><li><span><a href=\"#np.random.choice()\" data-toc-modified-id=\"np.random.choice()-5.10.5\"><span class=\"toc-item-num\">5.10.5&nbsp;&nbsp;</span>np.random.choice()</a></span></li><li><span><a href=\"#np.random.shuffle()\" data-toc-modified-id=\"np.random.shuffle()-5.10.6\"><span class=\"toc-item-num\">5.10.6&nbsp;&nbsp;</span>np.random.shuffle()</a></span></li><li><span><a href=\"#其他分布随机数\" data-toc-modified-id=\"其他分布随机数-5.10.7\"><span class=\"toc-item-num\">5.10.7&nbsp;&nbsp;</span>其他分布随机数</a></span></li></ul></li></ul></li><li><span><a href=\"#习题\" data-toc-modified-id=\"习题-6\"><span class=\"toc-item-num\">6&nbsp;&nbsp;</span>习题</a></span></li></ul></div>"
   ]
  },
  {
   "cell_type": "code",
   "execution_count": 1,
   "metadata": {
    "ExecuteTime": {
     "end_time": "2019-04-26T01:34:09.153784Z",
     "start_time": "2019-04-26T01:34:09.147787Z"
    }
   },
   "outputs": [],
   "source": [
    "#全部行都能输出\n",
    "from IPython.core.interactiveshell import InteractiveShell\n",
    "InteractiveShell.ast_node_interactivity = \"all\"\n",
    "import numpy as np"
   ]
  },
  {
   "cell_type": "markdown",
   "metadata": {},
   "source": [
    "## Numpy 是什么\n",
    "\n",
    "- 简单来说，Numpy 是 Python 的一个科学计算包，包含了多维数组以及多维数组的操作。\n",
    "- Numpy 的核心是 ndarray 对象，这个对象封装了同质数据类型的n维数组。\n",
    "- 起名 ndarray 的原因就是因为是 n-dimension-array 的简写。\n",
    "\n",
    "## 与python原生array区别\n",
    "\n",
    "- NumPy 数组在创建时有固定的大小，更改ndarray的大小将创建一个新的数组并删除原始数据，不同于Python列表（可以动态增长）。  \n",
    "-  <strong><font face=\"黑体\"  color=\"#FF0000\" size=3 >NumPy 数组中的元素都需要具有相同的数据类型。</font><br /></strong>\n",
    "- 数组的元素如果也是数组（可以是 Python 的原生 array，也可以是 ndarray）的情况下，则构成了多维数组。NumPy 数组便于对大量数据进行高级数学和其他类型的操作。通常，这样的操作比使用Python的内置序列可能更有效和更少的代码执行。\n",
    "- 越来越多的科学和数学的基于Python的包使用NumPy数组，所以需要学会 Numpy 的使用。\n",
    "\n"
   ]
  },
  {
   "cell_type": "markdown",
   "metadata": {},
   "source": [
    "## 构建ndarray\n",
    "- Numpy 中最重要的一个对象就是 ndarray。\n",
    "- ndarray中的每个元素在内存中使用相同大小的块。 ndarray中的每个元素是数据类型对象的对象(称为 dtype)。\n",
    "- 从Python列表创建数组"
   ]
  },
  {
   "cell_type": "code",
   "execution_count": 2,
   "metadata": {},
   "outputs": [
    {
     "data": {
      "text/plain": [
       "array([2, 3, 5])"
      ]
     },
     "execution_count": 2,
     "metadata": {},
     "output_type": "execute_result"
    }
   ],
   "source": [
    "a= np.array([2, 3, 5])\n",
    "a"
   ]
  },
  {
   "cell_type": "code",
   "execution_count": 3,
   "metadata": {},
   "outputs": [
    {
     "data": {
      "text/plain": [
       "array([[ 2,  3,  5],\n",
       "       [ 4,  6,  8],\n",
       "       [ 3,  5, 66]])"
      ]
     },
     "execution_count": 3,
     "metadata": {},
     "output_type": "execute_result"
    }
   ],
   "source": [
    "a= np.array([[2, 3, 5], [4, 6, 8], [3, 5, 66]])\n",
    "a"
   ]
  },
  {
   "cell_type": "code",
   "execution_count": null,
   "metadata": {},
   "outputs": [],
   "source": []
  },
  {
   "cell_type": "markdown",
   "metadata": {},
   "source": [
    "```\n",
    "\n",
    "\n",
    "\n",
    "```\n",
    "    \n",
    "    \n",
    "## 数据类型\n",
    "\n",
    "Numpy 中的数组比 Python 原生中的数组（只支持整数类型与浮点类型）强大的一点就是它支持更多的数据类型。\n",
    "\n",
    "### 基本数据类型\n",
    "\n",
    "numpy 支持的数据类型比 Python 内置的类型要多很多，基本上可以和 C 语言的数据类型对应上，其中部分类型对应为 Python 内置的类型。\n",
    "\n",
    "|\t数据类型|\t描述|\t\n",
    "|--|--|\n",
    "|\tbool_\t|布尔（True或False），存储为一个字节|\t\n",
    "|\tint_\t|默认整数类型（与C long相同；通常为int64或int32）|\t\n",
    "|\tintc\t|与C int（通常为int32或int64）相同|\t\n",
    "|\tintp\t|用于索引的整数（与C ssize_t相同；通常为int32或int64）|\t\n",
    "|\tint8\t|字节（-128到127）|\t\n",
    "|\tint16\t|整数（-32768到32767）|\t\n",
    "|\tint32\t|整数（-2147483648至2147483647）|\t\n",
    "|\tint64|\t整数（-9223372036854775808至9223372036854775807）|\t\n",
    "|\tuint8|\t无符号整数（0到255）|\t\n",
    "|\tuint16|\t无符号整数（0到65535）|\t\n",
    "|\tuint32\t|无符号整数（0至4294967295）|\t\n",
    "|\tuint64\t|无符号整数（0至18446744073709551615）|\t\n",
    "|\tfloat_\t|float64的简写。|\t\n",
    "|\tfloat16\t|半精度浮点：符号位，5位指数，10位尾数|\t\n",
    "|\tfloat32\t|单精度浮点：符号位，8位指数，23位尾数|\t\n",
    "|\tfloat64\t|双精度浮点：符号位，11位指数，52位尾数|\t\n",
    "|\tcomplex_|\tcomplex128的简写。|\t\n",
    "|\tcomplex64|\t复数，由两个32位浮点（实数和虚数分量）|\t\n",
    "|\tcomplex128|\t复数，由两个64位浮点（实数和虚数分量）|\t"
   ]
  },
  {
   "cell_type": "markdown",
   "metadata": {},
   "source": [
    "- 请记住，不同于 Python 列表，NumPy 要求数组必须包含同一类型的数据。\n",
    "- <strong><font face=\"黑体\"  color=\"#FF0000\" size=3 >如果类型不匹配，NumPy 将会向上转换（如果可行）。</font><br /></strong>\n",
    "- 字符串>浮点数>整数\n",
    "  \n",
    "这里整型被转换为浮点型："
   ]
  },
  {
   "cell_type": "code",
   "execution_count": 4,
   "metadata": {
    "ExecuteTime": {
     "end_time": "2019-02-26T10:00:21.495375Z",
     "start_time": "2019-02-26T10:00:21.489378Z"
    }
   },
   "outputs": [
    {
     "data": {
      "text/plain": [
       "array([3.14, 4.  , 2.  , 3.  ])"
      ]
     },
     "execution_count": 4,
     "metadata": {},
     "output_type": "execute_result"
    },
    {
     "data": {
      "text/plain": [
       "array(['3.14', '4', '2', '3'], dtype='<U32')"
      ]
     },
     "execution_count": 4,
     "metadata": {},
     "output_type": "execute_result"
    }
   ],
   "source": [
    "a=np.array([3.14, 4, 2, 3])\n",
    "b=np.array([3.14, \"4\", 2, 3])\n",
    "\n",
    "a\n",
    "b"
   ]
  },
  {
   "cell_type": "markdown",
   "metadata": {},
   "source": [
    "但我们也可以强行指定类型, 将浮点型被转换成整型"
   ]
  },
  {
   "cell_type": "code",
   "execution_count": 9,
   "metadata": {
    "ExecuteTime": {
     "end_time": "2019-02-27T02:58:49.844042Z",
     "start_time": "2019-02-27T02:58:49.827052Z"
    }
   },
   "outputs": [
    {
     "data": {
      "text/plain": [
       "array([3, 4, 2, 4])"
      ]
     },
     "execution_count": 9,
     "metadata": {},
     "output_type": "execute_result"
    }
   ],
   "source": [
    "a = np.array([3.14, 4, 2, 4], dtype='int32')\n",
    "a"
   ]
  },
  {
   "cell_type": "code",
   "execution_count": 12,
   "metadata": {},
   "outputs": [
    {
     "data": {
      "text/plain": [
       "array(['3.1', '4', '2', '4'], dtype='<U3')"
      ]
     },
     "execution_count": 12,
     "metadata": {},
     "output_type": "execute_result"
    }
   ],
   "source": [
    "a = np.array([3.14, 4, 2, 4], dtype='<U3')\n",
    "a"
   ]
  },
  {
   "cell_type": "markdown",
   "metadata": {},
   "source": [
    "8位，32位是什么意思？\n",
    "- 是指二进制的存储的长度，比如32位，能存储2的32次幂的位数\n",
    "- dtype='<U3'的意思是：字符串最大字节是4"
   ]
  },
  {
   "cell_type": "markdown",
   "metadata": {},
   "source": [
    "```\n",
    "\n",
    "   \n",
    "```\n",
    "### ndarray.dtype"
   ]
  },
  {
   "cell_type": "markdown",
   "metadata": {},
   "source": [
    "ndarray.dtype用来显示当前ndarray对象的数据属于什么类型："
   ]
  },
  {
   "cell_type": "code",
   "execution_count": 27,
   "metadata": {
    "ExecuteTime": {
     "end_time": "2019-02-26T10:00:29.734985Z",
     "start_time": "2019-02-26T10:00:29.724993Z"
    }
   },
   "outputs": [
    {
     "data": {
      "text/plain": [
       "dtype('int32')"
      ]
     },
     "execution_count": 27,
     "metadata": {},
     "output_type": "execute_result"
    },
    {
     "data": {
      "text/plain": [
       "dtype('float64')"
      ]
     },
     "execution_count": 27,
     "metadata": {},
     "output_type": "execute_result"
    },
    {
     "data": {
      "text/plain": [
       "dtype('<U3')"
      ]
     },
     "execution_count": 27,
     "metadata": {},
     "output_type": "execute_result"
    }
   ],
   "source": [
    "a=np.array([3, 4, 2, 3])\n",
    "b=np.array([3.14,4.5, 2.8, 3,2])\n",
    "c=np.array([3.14, 4, 2, 4], dtype='<U3')\n",
    "\n",
    "a.dtype\n",
    "b.dtype\n",
    "c.dtype"
   ]
  },
  {
   "cell_type": "markdown",
   "metadata": {},
   "source": [
    "```\n",
    "\n",
    "   \n",
    "```\n",
    "### 类型转换np.astype()\n",
    "\n",
    "- 要转换数组的类型，请使用.astype()方法（首选）或类型本身作为函数。\n",
    "- 转换类型之后，ndarray的id不会变。"
   ]
  },
  {
   "cell_type": "code",
   "execution_count": 14,
   "metadata": {
    "ExecuteTime": {
     "end_time": "2019-04-25T08:06:26.827803Z",
     "start_time": "2019-04-25T08:06:26.819810Z"
    }
   },
   "outputs": [
    {
     "data": {
      "text/plain": [
       "array([3, 4, 2, 4], dtype=int64)"
      ]
     },
     "execution_count": 14,
     "metadata": {},
     "output_type": "execute_result"
    },
    {
     "data": {
      "text/plain": [
       "1869882205488"
      ]
     },
     "execution_count": 14,
     "metadata": {},
     "output_type": "execute_result"
    }
   ],
   "source": [
    "a=np.array([3, 4, 2, 4], dtype=\"int64\")\n",
    "a\n",
    "id(a)"
   ]
  },
  {
   "cell_type": "markdown",
   "metadata": {},
   "source": [
    "- 第一种方式： np.astype(\"数据类型名\")\n",
    "- 第二种方式： np.astype(np.数据类型名)\n"
   ]
  },
  {
   "cell_type": "code",
   "execution_count": 15,
   "metadata": {
    "ExecuteTime": {
     "end_time": "2019-04-25T08:10:39.765172Z",
     "start_time": "2019-04-25T08:10:39.756179Z"
    }
   },
   "outputs": [
    {
     "data": {
      "text/plain": [
       "array([3, 4, 2, 4], dtype=int64)"
      ]
     },
     "execution_count": 15,
     "metadata": {},
     "output_type": "execute_result"
    },
    {
     "data": {
      "text/plain": [
       "array([ True,  True,  True,  True])"
      ]
     },
     "execution_count": 15,
     "metadata": {},
     "output_type": "execute_result"
    }
   ],
   "source": [
    "a\n",
    "a.astype(bool)   #这里返回的是一个新的对象，并没有改变a"
   ]
  },
  {
   "cell_type": "code",
   "execution_count": 16,
   "metadata": {
    "ExecuteTime": {
     "end_time": "2019-04-25T08:10:54.968770Z",
     "start_time": "2019-04-25T08:10:54.962773Z"
    }
   },
   "outputs": [
    {
     "data": {
      "text/plain": [
       "1869882205488"
      ]
     },
     "execution_count": 16,
     "metadata": {},
     "output_type": "execute_result"
    }
   ],
   "source": [
    "id(a)"
   ]
  },
  {
   "cell_type": "markdown",
   "metadata": {},
   "source": [
    "```\n",
    "   \n",
    "   \n",
    "\n",
    "```\n",
    "## 常用的数组"
   ]
  },
  {
   "cell_type": "markdown",
   "metadata": {},
   "source": [
    "\n",
    "### np.arange()\n",
    "用来创建一个线性序列的数组，在给定间隔内返回均匀间隔的值。\n",
    "- arange([start,] stop[, step,], dtype=None)"
   ]
  },
  {
   "cell_type": "code",
   "execution_count": 18,
   "metadata": {
    "ExecuteTime": {
     "end_time": "2019-02-27T07:39:25.393952Z",
     "start_time": "2019-02-27T07:39:25.379960Z"
    }
   },
   "outputs": [
    {
     "data": {
      "text/plain": [
       "array([ 0,  1,  2,  3,  4,  5,  6,  7,  8,  9, 10, 11, 12, 13, 14, 15, 16,\n",
       "       17, 18, 19])"
      ]
     },
     "execution_count": 18,
     "metadata": {},
     "output_type": "execute_result"
    },
    {
     "data": {
      "text/plain": [
       "array([ 0,  1,  2,  3,  4,  5,  6,  7,  8,  9, 10, 11, 12, 13, 14, 15, 16,\n",
       "       17, 18, 19])"
      ]
     },
     "execution_count": 18,
     "metadata": {},
     "output_type": "execute_result"
    },
    {
     "data": {
      "text/plain": [
       "array([ 0,  5, 10, 15])"
      ]
     },
     "execution_count": 18,
     "metadata": {},
     "output_type": "execute_result"
    }
   ],
   "source": [
    "np.array(range(20))\n",
    "\n",
    "np.arange(20)   #不包括结束值20\n",
    "np.arange(0, 20,5)"
   ]
  },
  {
   "cell_type": "markdown",
   "metadata": {},
   "source": [
    "```\n",
    "\n",
    "   \n",
    "    \n",
    "```\n",
    "### np.linspace()\n",
    "np.linspace(start, stop, num=50, endpoint=True, retstep=False, dtype=None)\n",
    "- 在指定的间隔内返回均匀间隔的数字，用作相同间隔采样。\n",
    "- start：标量,序列的起始值。\n",
    "- stop：标量,除非\"endpoint\"设置为False，否则为序列的结束值。\n",
    "- num：int，可选。要生成的样本数。默认值为50.必须为非负数。\n",
    "- endpoint：bool，可选。如果为True，则“stop”是最后一个样本。否则，它不包括在内。默认为True。\n",
    "- retstep：bool，可选如果为True，则返回（\"samples\"，\"step\"），其中\"step\"是间距样本之间。\n",
    "- dtype：dtype，可选。输出数组的类型。如果没有给出\"dtype\"，推断数据从其他输入参数中键入。"
   ]
  },
  {
   "cell_type": "code",
   "execution_count": 19,
   "metadata": {},
   "outputs": [
    {
     "data": {
      "text/plain": [
       "array([ 0.        ,  0.40816327,  0.81632653,  1.2244898 ,  1.63265306,\n",
       "        2.04081633,  2.44897959,  2.85714286,  3.26530612,  3.67346939,\n",
       "        4.08163265,  4.48979592,  4.89795918,  5.30612245,  5.71428571,\n",
       "        6.12244898,  6.53061224,  6.93877551,  7.34693878,  7.75510204,\n",
       "        8.16326531,  8.57142857,  8.97959184,  9.3877551 ,  9.79591837,\n",
       "       10.20408163, 10.6122449 , 11.02040816, 11.42857143, 11.83673469,\n",
       "       12.24489796, 12.65306122, 13.06122449, 13.46938776, 13.87755102,\n",
       "       14.28571429, 14.69387755, 15.10204082, 15.51020408, 15.91836735,\n",
       "       16.32653061, 16.73469388, 17.14285714, 17.55102041, 17.95918367,\n",
       "       18.36734694, 18.7755102 , 19.18367347, 19.59183673, 20.        ])"
      ]
     },
     "execution_count": 19,
     "metadata": {},
     "output_type": "execute_result"
    }
   ],
   "source": [
    "np.linspace(0, 20)  #num默认值为50"
   ]
  },
  {
   "cell_type": "code",
   "execution_count": 28,
   "metadata": {
    "ExecuteTime": {
     "end_time": "2019-04-26T02:50:33.727518Z",
     "start_time": "2019-04-26T02:50:33.718524Z"
    }
   },
   "outputs": [
    {
     "data": {
      "text/plain": [
       "array([ 0., 20.])"
      ]
     },
     "execution_count": 28,
     "metadata": {},
     "output_type": "execute_result"
    },
    {
     "data": {
      "text/plain": [
       "array([ 0., 10.])"
      ]
     },
     "execution_count": 28,
     "metadata": {},
     "output_type": "execute_result"
    }
   ],
   "source": [
    "np.linspace(0, 20, 2, endpoint=True) \n",
    "np.linspace(0, 20, 2, endpoint=False) "
   ]
  },
  {
   "cell_type": "code",
   "execution_count": 34,
   "metadata": {
    "ExecuteTime": {
     "end_time": "2019-04-26T02:52:39.699353Z",
     "start_time": "2019-04-26T02:52:39.691359Z"
    }
   },
   "outputs": [
    {
     "data": {
      "text/plain": [
       "array([ 0.        , 10.66666667, 21.33333333, 32.        ])"
      ]
     },
     "execution_count": 34,
     "metadata": {},
     "output_type": "execute_result"
    },
    {
     "data": {
      "text/plain": [
       "array([ 0.,  8., 16., 24.])"
      ]
     },
     "execution_count": 34,
     "metadata": {},
     "output_type": "execute_result"
    }
   ],
   "source": [
    "np.linspace(0, 32, 4, endpoint=True) \n",
    "np.linspace(0, 32, 4, endpoint=False) "
   ]
  },
  {
   "cell_type": "markdown",
   "metadata": {},
   "source": [
    "```\n",
    "\n",
    "   \n",
    "    \n",
    "```\n",
    "### np.zeros()\n",
    "\n",
    "第一个参数输入数组的形状"
   ]
  },
  {
   "cell_type": "code",
   "execution_count": 39,
   "metadata": {},
   "outputs": [
    {
     "data": {
      "text/plain": [
       "array([0., 0., 0., 0., 0., 0., 0., 0., 0., 0.])"
      ]
     },
     "execution_count": 39,
     "metadata": {},
     "output_type": "execute_result"
    },
    {
     "data": {
      "text/plain": [
       "array([[0., 0.],\n",
       "       [0., 0.],\n",
       "       [0., 0.]])"
      ]
     },
     "execution_count": 39,
     "metadata": {},
     "output_type": "execute_result"
    }
   ],
   "source": [
    "np.zeros(10) # 默认float型\n",
    "np.zeros((3, 2))"
   ]
  },
  {
   "cell_type": "markdown",
   "metadata": {},
   "source": [
    "所谓的形状究竟是什么？"
   ]
  },
  {
   "cell_type": "code",
   "execution_count": 38,
   "metadata": {},
   "outputs": [
    {
     "data": {
      "text/plain": [
       "array([[[0., 0.],\n",
       "        [0., 0.],\n",
       "        [0., 0.]],\n",
       "\n",
       "       [[0., 0.],\n",
       "        [0., 0.],\n",
       "        [0., 0.]],\n",
       "\n",
       "       [[0., 0.],\n",
       "        [0., 0.],\n",
       "        [0., 0.]]])"
      ]
     },
     "execution_count": 38,
     "metadata": {},
     "output_type": "execute_result"
    }
   ],
   "source": [
    "np.zeros((3,3,2))"
   ]
  },
  {
   "cell_type": "markdown",
   "metadata": {},
   "source": [
    "注意区分这三种情况："
   ]
  },
  {
   "cell_type": "code",
   "execution_count": 41,
   "metadata": {},
   "outputs": [
    {
     "data": {
      "text/plain": [
       "array([[0.],\n",
       "       [0.],\n",
       "       [0.]])"
      ]
     },
     "execution_count": 41,
     "metadata": {},
     "output_type": "execute_result"
    }
   ],
   "source": [
    "np.zeros((3,1))"
   ]
  },
  {
   "cell_type": "code",
   "execution_count": 45,
   "metadata": {},
   "outputs": [
    {
     "data": {
      "text/plain": [
       "array([[0., 0., 0.]])"
      ]
     },
     "execution_count": 45,
     "metadata": {},
     "output_type": "execute_result"
    }
   ],
   "source": [
    "np.zeros((1,3)) "
   ]
  },
  {
   "cell_type": "markdown",
   "metadata": {},
   "source": [
    "思考，上面是几维数组？下面呢？"
   ]
  },
  {
   "cell_type": "code",
   "execution_count": 46,
   "metadata": {},
   "outputs": [
    {
     "data": {
      "text/plain": [
       "array([0., 0., 0.])"
      ]
     },
     "execution_count": 46,
     "metadata": {},
     "output_type": "execute_result"
    }
   ],
   "source": [
    "np.zeros((3,))  "
   ]
  },
  {
   "cell_type": "code",
   "execution_count": 56,
   "metadata": {},
   "outputs": [
    {
     "data": {
      "text/plain": [
       "array([0., 0., 0.])"
      ]
     },
     "execution_count": 56,
     "metadata": {},
     "output_type": "execute_result"
    }
   ],
   "source": [
    "np.zeros(3)  "
   ]
  },
  {
   "cell_type": "markdown",
   "metadata": {},
   "source": [
    "其实上面生成的是一维数组，和下面的写法生成的效果是一样的："
   ]
  },
  {
   "cell_type": "code",
   "execution_count": 47,
   "metadata": {},
   "outputs": [
    {
     "data": {
      "text/plain": [
       "array([0., 0., 0.])"
      ]
     },
     "execution_count": 47,
     "metadata": {},
     "output_type": "execute_result"
    }
   ],
   "source": [
    "np.array([0,0,0],dtype=\"float64\")"
   ]
  },
  {
   "cell_type": "markdown",
   "metadata": {},
   "source": [
    "```\n",
    "\n",
    "   \n",
    "    \n",
    "```\n",
    "### np.ones()"
   ]
  },
  {
   "cell_type": "code",
   "execution_count": 31,
   "metadata": {},
   "outputs": [
    {
     "data": {
      "text/plain": [
       "array([1., 1., 1., 1., 1., 1., 1., 1., 1., 1.])"
      ]
     },
     "execution_count": 31,
     "metadata": {},
     "output_type": "execute_result"
    },
    {
     "data": {
      "text/plain": [
       "array([1, 1, 1, 1, 1, 1, 1, 1, 1, 1])"
      ]
     },
     "execution_count": 31,
     "metadata": {},
     "output_type": "execute_result"
    },
    {
     "data": {
      "text/plain": [
       "array([[[1, 1, 1],\n",
       "        [1, 1, 1],\n",
       "        [1, 1, 1]],\n",
       "\n",
       "       [[1, 1, 1],\n",
       "        [1, 1, 1],\n",
       "        [1, 1, 1]],\n",
       "\n",
       "       [[1, 1, 1],\n",
       "        [1, 1, 1],\n",
       "        [1, 1, 1]]])"
      ]
     },
     "execution_count": 31,
     "metadata": {},
     "output_type": "execute_result"
    }
   ],
   "source": [
    "np.ones(10) # float型\n",
    "np.ones(10, dtype=\"int32\")\n",
    "np.ones((3, 3, 3), dtype=\"int32\")"
   ]
  },
  {
   "cell_type": "markdown",
   "metadata": {},
   "source": [
    "```\n",
    "\n",
    "   \n",
    "    \n",
    "```\n",
    "### np.eye()\n",
    "返回一个二维数组，其中对角线为1，零点为零的二维数组。（单位矩阵）"
   ]
  },
  {
   "cell_type": "code",
   "execution_count": 31,
   "metadata": {
    "ExecuteTime": {
     "end_time": "2019-04-25T08:44:57.273593Z",
     "start_time": "2019-04-25T08:44:57.265600Z"
    }
   },
   "outputs": [
    {
     "data": {
      "text/plain": [
       "array([[1., 0., 0.],\n",
       "       [0., 1., 0.],\n",
       "       [0., 0., 1.]])"
      ]
     },
     "execution_count": 31,
     "metadata": {},
     "output_type": "execute_result"
    }
   ],
   "source": [
    "np.eye(3)  "
   ]
  },
  {
   "cell_type": "code",
   "execution_count": 36,
   "metadata": {},
   "outputs": [
    {
     "data": {
      "text/plain": [
       "array([[1., 0., 0.],\n",
       "       [0., 1., 0.],\n",
       "       [0., 0., 1.]])"
      ]
     },
     "execution_count": 36,
     "metadata": {},
     "output_type": "execute_result"
    },
    {
     "data": {
      "text/plain": [
       "array([[1., 0.],\n",
       "       [0., 1.],\n",
       "       [0., 0.]])"
      ]
     },
     "execution_count": 36,
     "metadata": {},
     "output_type": "execute_result"
    }
   ],
   "source": [
    "np.eye(3,3)  \n",
    "np.eye(3,2)  "
   ]
  },
  {
   "cell_type": "code",
   "execution_count": 37,
   "metadata": {
    "ExecuteTime": {
     "end_time": "2019-04-25T08:16:29.647033Z",
     "start_time": "2019-04-25T08:16:29.638040Z"
    }
   },
   "outputs": [
    {
     "data": {
      "text/plain": [
       "array([[0, 1, 0],\n",
       "       [0, 0, 1],\n",
       "       [0, 0, 0]])"
      ]
     },
     "execution_count": 37,
     "metadata": {},
     "output_type": "execute_result"
    }
   ],
   "source": [
    "np.eye(3,k=1, dtype=int)  #k=1时，斜角线会右移一行 "
   ]
  },
  {
   "cell_type": "markdown",
   "metadata": {},
   "source": [
    "```\n",
    "\n",
    "   \n",
    "    \n",
    "```\n",
    "### np.empty()"
   ]
  },
  {
   "cell_type": "markdown",
   "metadata": {},
   "source": [
    "- empty(shape, dtype=float)\n",
    "- 返回给定形状和类型的新数组。\n",
    "- 数组的值是内存空间中的任意值。\n",
    "- np.empty()与np.zeros()不同，不会将数组值设置为零，因此可能会略微加快。"
   ]
  },
  {
   "cell_type": "code",
   "execution_count": 48,
   "metadata": {
    "ExecuteTime": {
     "end_time": "2019-04-25T08:43:37.473726Z",
     "start_time": "2019-04-25T08:43:37.466731Z"
    }
   },
   "outputs": [
    {
     "data": {
      "text/plain": [
       "array([], dtype=float64)"
      ]
     },
     "execution_count": 48,
     "metadata": {},
     "output_type": "execute_result"
    }
   ],
   "source": [
    "np.empty(0)"
   ]
  },
  {
   "cell_type": "code",
   "execution_count": 49,
   "metadata": {
    "ExecuteTime": {
     "end_time": "2019-04-26T01:35:37.024893Z",
     "start_time": "2019-04-26T01:35:37.018896Z"
    }
   },
   "outputs": [
    {
     "data": {
      "text/plain": [
       "array([2.12199579e-314, 2.12199579e-314, 2.12199579e-314, 2.12199579e-314,\n",
       "       2.12199579e-314])"
      ]
     },
     "execution_count": 49,
     "metadata": {},
     "output_type": "execute_result"
    }
   ],
   "source": [
    "np.empty(5)"
   ]
  },
  {
   "cell_type": "code",
   "execution_count": 50,
   "metadata": {
    "ExecuteTime": {
     "end_time": "2019-04-26T01:49:36.349388Z",
     "start_time": "2019-04-26T01:49:36.342395Z"
    }
   },
   "outputs": [
    {
     "data": {
      "text/plain": [
       "array([[0., 0., 0.],\n",
       "       [0., 0., 0.],\n",
       "       [0., 0., 0.]])"
      ]
     },
     "execution_count": 50,
     "metadata": {},
     "output_type": "execute_result"
    }
   ],
   "source": [
    "np.empty([3,3])"
   ]
  },
  {
   "cell_type": "markdown",
   "metadata": {},
   "source": [
    "```\n",
    "\n",
    "```\n",
    "```\n",
    "   \n",
    "     \n",
    "```\n",
    "### np.diag()\n",
    "- 提取对角线或构造对角线阵列。\n",
    "- np.diag(v，k = 0)\n",
    "    - v：array_like\n",
    "        - 如果'v'是二维数组，则返回其第k个对角线的副本。\n",
    "        - 如果'v'是一维数组，则在'k'-th上返回一个带有'v'的二维数组对角线。\n",
    "    - k：int，可选\n",
    "        - 对角线有问题。默认值为0.对角线使用“k> 0”\n",
    "        - 在主对角线上方，对于主要对角线下方的对角线，“k <0”对角线。"
   ]
  },
  {
   "cell_type": "markdown",
   "metadata": {},
   "source": [
    "如果操作对象是二维数组，则np.diag()操作将取出对角线数值，作为新数组返回："
   ]
  },
  {
   "cell_type": "code",
   "execution_count": 3,
   "metadata": {},
   "outputs": [
    {
     "data": {
      "text/plain": [
       "array([[7, 7, 9],\n",
       "       [5, 2, 3],\n",
       "       [3, 6, 1]])"
      ]
     },
     "execution_count": 3,
     "metadata": {},
     "output_type": "execute_result"
    },
    {
     "data": {
      "text/plain": [
       "array([7, 2, 1])"
      ]
     },
     "execution_count": 3,
     "metadata": {},
     "output_type": "execute_result"
    }
   ],
   "source": [
    "A=np.random.randint(1,10,(3,3))\n",
    "A\n",
    "\n",
    "np.diag(A)"
   ]
  },
  {
   "cell_type": "markdown",
   "metadata": {},
   "source": [
    "如果操作对象是一维数组，则np.diag()操作将会将其作为对角线，生成一个新二维数组（对角矩阵）："
   ]
  },
  {
   "cell_type": "code",
   "execution_count": 6,
   "metadata": {},
   "outputs": [
    {
     "data": {
      "text/plain": [
       "array([8, 4, 2])"
      ]
     },
     "execution_count": 6,
     "metadata": {},
     "output_type": "execute_result"
    },
    {
     "data": {
      "text/plain": [
       "array([[8, 0, 0],\n",
       "       [0, 4, 0],\n",
       "       [0, 0, 2]])"
      ]
     },
     "execution_count": 6,
     "metadata": {},
     "output_type": "execute_result"
    }
   ],
   "source": [
    "A=np.random.randint(1,10,3)\n",
    "A\n",
    "\n",
    "np.diag(A)"
   ]
  },
  {
   "cell_type": "markdown",
   "metadata": {},
   "source": [
    "```\n",
    "\n",
    "   \n",
    "    \n",
    "```\n",
    "\n",
    "### np.full()\n",
    "返回给定形状和类型的新数组，填充`fill_value`\n",
    "- np.full（shape，fill_value，dtype = None）\n",
    "    - shape：int或int的序列新数组的形状，例如`（2,3）`或`2`。\n",
    "    - fill_value：标量填充值。\n",
    "    - dtype：数据类型，可选数组所需的数据类型默认值为\"None\"。"
   ]
  },
  {
   "cell_type": "code",
   "execution_count": 51,
   "metadata": {
    "ExecuteTime": {
     "end_time": "2019-02-27T03:28:50.457490Z",
     "start_time": "2019-02-27T03:28:50.448499Z"
    }
   },
   "outputs": [
    {
     "data": {
      "text/plain": [
       "array([[3.14, 3.14, 3.14, 3.14, 3.14],\n",
       "       [3.14, 3.14, 3.14, 3.14, 3.14],\n",
       "       [3.14, 3.14, 3.14, 3.14, 3.14]])"
      ]
     },
     "execution_count": 51,
     "metadata": {},
     "output_type": "execute_result"
    }
   ],
   "source": [
    "np.full((3, 5),3.14)"
   ]
  },
  {
   "cell_type": "code",
   "execution_count": 52,
   "metadata": {},
   "outputs": [
    {
     "data": {
      "text/plain": [
       "array([[1, 2],\n",
       "       [3, 4]])"
      ]
     },
     "execution_count": 52,
     "metadata": {},
     "output_type": "execute_result"
    }
   ],
   "source": [
    "np.full((2, 2), [(1, 2), (3, 4)])  #第二个参数以指定嵌套兑现"
   ]
  },
  {
   "cell_type": "markdown",
   "metadata": {},
   "source": [
    "```\n",
    "\n",
    "   \n",
    "    \n",
    "```\n",
    "\n",
    "### 设置空值"
   ]
  },
  {
   "cell_type": "markdown",
   "metadata": {},
   "source": [
    "np中缺失值用np.nan表示，其他ndarry对象与之运算的结果都为缺失值，运算结果数组的形状与参与运算的数组的形状\n",
    "一致。"
   ]
  },
  {
   "cell_type": "code",
   "execution_count": 49,
   "metadata": {
    "ExecuteTime": {
     "end_time": "2019-04-25T09:10:31.606501Z",
     "start_time": "2019-04-25T09:10:31.601504Z"
    }
   },
   "outputs": [
    {
     "data": {
      "text/plain": [
       "nan"
      ]
     },
     "execution_count": 49,
     "metadata": {},
     "output_type": "execute_result"
    },
    {
     "data": {
      "text/plain": [
       "array([[nan, nan, nan, nan, nan],\n",
       "       [nan, nan, nan, nan, nan],\n",
       "       [nan, nan, nan, nan, nan]])"
      ]
     },
     "execution_count": 49,
     "metadata": {},
     "output_type": "execute_result"
    }
   ],
   "source": [
    "a=np.nan\n",
    "a\n",
    "\n",
    "a+np.full((3, 5),3.14)"
   ]
  },
  {
   "cell_type": "markdown",
   "metadata": {},
   "source": [
    "```\n",
    "\n",
    "   \n",
    "    \n",
    "```\n",
    "\n",
    "### 随机数组"
   ]
  },
  {
   "cell_type": "markdown",
   "metadata": {},
   "source": [
    "#### np.random.randint()\n",
    "将随机整数从“低”（包括）返回到“高”（不包括）\n",
    "- 语法：randint(low, high=None, size=None, dtype)\n",
    "    - 使用方法一：将随机整数从“低”（包括）返回到“高”（不包括）——左闭右开。\n",
    "    - 使用方法二：返回特定形状的随机整数。"
   ]
  },
  {
   "cell_type": "code",
   "execution_count": 50,
   "metadata": {
    "ExecuteTime": {
     "end_time": "2019-04-25T09:32:00.673789Z",
     "start_time": "2019-04-25T09:32:00.608832Z"
    }
   },
   "outputs": [
    {
     "data": {
      "text/plain": [
       "1"
      ]
     },
     "execution_count": 50,
     "metadata": {},
     "output_type": "execute_result"
    },
    {
     "data": {
      "text/plain": [
       "array([[1, 1, 1, 1, 1],\n",
       "       [1, 1, 1, 1, 1],\n",
       "       [1, 1, 1, 1, 1],\n",
       "       [1, 1, 1, 1, 1],\n",
       "       [1, 1, 1, 1, 1]])"
      ]
     },
     "execution_count": 50,
     "metadata": {},
     "output_type": "execute_result"
    }
   ],
   "source": [
    "np.random.randint(1,2)   #随机数包含1，不包括2\n",
    "\n",
    "np.random.randint(1,2,(5,5))    #随机数包含1，不包含2"
   ]
  },
  {
   "cell_type": "markdown",
   "metadata": {},
   "source": [
    "注意，random库中的randint方法，生成随机数范围是是左闭右闭"
   ]
  },
  {
   "cell_type": "code",
   "execution_count": 51,
   "metadata": {},
   "outputs": [
    {
     "data": {
      "text/plain": [
       "1"
      ]
     },
     "execution_count": 51,
     "metadata": {},
     "output_type": "execute_result"
    }
   ],
   "source": [
    "import random\n",
    "random.randint(1,2)   #随机数包含1，也包含2"
   ]
  },
  {
   "cell_type": "markdown",
   "metadata": {},
   "source": [
    "**注意区分以下现象：**"
   ]
  },
  {
   "cell_type": "code",
   "execution_count": 54,
   "metadata": {},
   "outputs": [
    {
     "data": {
      "text/plain": [
       "array([5, 1, 2])"
      ]
     },
     "execution_count": 54,
     "metadata": {},
     "output_type": "execute_result"
    },
    {
     "data": {
      "text/plain": [
       "array([1, 2, 9])"
      ]
     },
     "execution_count": 54,
     "metadata": {},
     "output_type": "execute_result"
    },
    {
     "data": {
      "text/plain": [
       "array([[1],\n",
       "       [9],\n",
       "       [7]])"
      ]
     },
     "execution_count": 54,
     "metadata": {},
     "output_type": "execute_result"
    },
    {
     "data": {
      "text/plain": [
       "array([[5, 4, 1]])"
      ]
     },
     "execution_count": 54,
     "metadata": {},
     "output_type": "execute_result"
    }
   ],
   "source": [
    "np.random.seed(10)\n",
    "np.random.randint(1,10,3)\n",
    "np.random.randint(1,10,(3,))\n",
    "np.random.randint(1,10,(3,1))\n",
    "np.random.randint(1,10,(1,3))"
   ]
  },
  {
   "cell_type": "markdown",
   "metadata": {},
   "source": [
    "```\n",
    "\n",
    "   \n",
    "    \n",
    "```    \n",
    "#### np.random.random()\n",
    "- 语法：np.random.random(size=None)\n",
    "- 返回随机浮点数，在半开区间[0.0,1.0)中。"
   ]
  },
  {
   "cell_type": "code",
   "execution_count": 52,
   "metadata": {
    "ExecuteTime": {
     "end_time": "2019-02-27T03:51:25.105068Z",
     "start_time": "2019-02-27T03:51:25.097076Z"
    }
   },
   "outputs": [
    {
     "data": {
      "text/plain": [
       "array([[0.12345372, 0.5496263 , 0.70925739],\n",
       "       [0.24490213, 0.93514463, 0.25110996]])"
      ]
     },
     "execution_count": 52,
     "metadata": {},
     "output_type": "execute_result"
    }
   ],
   "source": [
    "np.random.random((2,3))    # uniform in [0.0, 1）"
   ]
  },
  {
   "cell_type": "code",
   "execution_count": 53,
   "metadata": {},
   "outputs": [
    {
     "data": {
      "text/plain": [
       "array([0.8088932 , 0.96961363])"
      ]
     },
     "execution_count": 53,
     "metadata": {},
     "output_type": "execute_result"
    }
   ],
   "source": [
    "np.random.random((2))"
   ]
  },
  {
   "cell_type": "markdown",
   "metadata": {},
   "source": [
    "```\n",
    "\n",
    "   \n",
    "    \n",
    "   \n",
    "   \n",
    "```\n",
    "\n",
    "#### np.random.randn()\n",
    "- 语法：np.random.randn(形状)\n",
    "- 从“标准正态”分布中返回一个样本（或样本）。"
   ]
  },
  {
   "cell_type": "code",
   "execution_count": 54,
   "metadata": {
    "ExecuteTime": {
     "end_time": "2019-04-25T09:41:36.991609Z",
     "start_time": "2019-04-25T09:41:36.983620Z"
    }
   },
   "outputs": [
    {
     "data": {
      "text/plain": [
       "array([[ 0.60266728,  2.09186513],\n",
       "       [ 0.793269  , -2.96117602]])"
      ]
     },
     "execution_count": 54,
     "metadata": {},
     "output_type": "execute_result"
    }
   ],
   "source": [
    "np.random.randn(2,2)   #均值为0，方差为1的标准正态分布"
   ]
  },
  {
   "cell_type": "markdown",
   "metadata": {},
   "source": [
    "```\n",
    "\n",
    "   \n",
    "    \n",
    "   \n",
    "   \n",
    "```\n",
    "#### np.random.normal()\n",
    "- 语法：normal（平均值，标准偏差，形状）\n",
    "- 作用：从正态分布中抽取随机样本。\n",
    "- 如果平均值和标准差为0和1，或者不写这两个参数，就等同于np.random.randn()"
   ]
  },
  {
   "cell_type": "code",
   "execution_count": 56,
   "metadata": {
    "ExecuteTime": {
     "end_time": "2019-04-26T01:34:18.477414Z",
     "start_time": "2019-04-26T01:34:18.468423Z"
    }
   },
   "outputs": [
    {
     "data": {
      "text/plain": [
       "array([[ 0.66570007,  0.85546326,  0.78599728,  0.12516354,  0.50456543],\n",
       "       [-0.0474935 ,  1.116325  ,  1.21881036, -1.72530634,  0.74229336],\n",
       "       [ 0.57693705,  0.69629254,  0.69727795,  0.2397621 , -0.13664166],\n",
       "       [ 0.33552219,  0.25786482, -0.84018127, -0.91523743, -0.01437391]])"
      ]
     },
     "execution_count": 56,
     "metadata": {},
     "output_type": "execute_result"
    }
   ],
   "source": [
    "array = np.random.normal(0, 1, (4, 5))  # 均值, 标准差, 形状\n",
    "array"
   ]
  },
  {
   "cell_type": "code",
   "execution_count": 60,
   "metadata": {
    "ExecuteTime": {
     "end_time": "2019-04-25T09:46:56.782908Z",
     "start_time": "2019-04-25T09:46:56.772913Z"
    }
   },
   "outputs": [
    {
     "data": {
      "text/plain": [
       "array([[-0.13623575,  0.17637307,  0.31085074,  1.72937588, -0.24066194],\n",
       "       [-1.02735202,  0.42401507,  1.40862087,  0.43999202, -0.42823439],\n",
       "       [-0.31201268, -0.56888339, -1.58494101,  1.05535316, -1.92657911],\n",
       "       [ 0.69858388, -0.74620143, -0.15662666, -0.19363594,  1.13912535]])"
      ]
     },
     "execution_count": 60,
     "metadata": {},
     "output_type": "execute_result"
    }
   ],
   "source": [
    "array = np.random.randn(4, 5)   #标准正态分布，作用和上面的一样\n",
    "array"
   ]
  },
  {
   "cell_type": "markdown",
   "metadata": {},
   "source": [
    "```\n",
    "\n",
    "   \n",
    "    \n",
    "   \n",
    "   \n",
    "```\n",
    "#### np.random.choice()\n",
    "从给定的1-D阵列生成随机样本\n",
    "- choice(a, size=None, replace=True, p=None)\n",
    "    - a：1-D数组或int\n",
    "        - 如果是ndarray，则从其元素生成随机样本。\n",
    "        - 如果是int，则生成随机样本，就像a是np.arange（a）\n",
    "    - size：int或int的元组，可选\n",
    "        - 输出形状。如果给定的形状是例如“（m，n，k）”，那么绘制了`m * n * k`样本。默认值为None，在这种情况下为a返回单个值。\n",
    "    - replace：布尔值，可选样品是否有替代品\n",
    "    - p：1-D数组，可选与a中每个条目相关的概率。如果没有给出样品，则假定均匀分布一个条目。"
   ]
  },
  {
   "cell_type": "code",
   "execution_count": 58,
   "metadata": {
    "ExecuteTime": {
     "end_time": "2019-02-27T05:52:12.176058Z",
     "start_time": "2019-02-27T05:52:12.131088Z"
    }
   },
   "outputs": [
    {
     "data": {
      "text/plain": [
       "5"
      ]
     },
     "execution_count": 58,
     "metadata": {},
     "output_type": "execute_result"
    },
    {
     "data": {
      "text/plain": [
       "array([[5, 8, 8],\n",
       "       [8, 2, 8],\n",
       "       [5, 4, 2]])"
      ]
     },
     "execution_count": 58,
     "metadata": {},
     "output_type": "execute_result"
    }
   ],
   "source": [
    "np.random.choice((2,3,5,8,4,5))\n",
    "np.random.choice((2,3,5,8,4,5),(3,3))  #随机选取数，放在特定形状的矩阵"
   ]
  },
  {
   "cell_type": "code",
   "execution_count": 62,
   "metadata": {},
   "outputs": [
    {
     "data": {
      "text/plain": [
       "array([[2, 4, 6],\n",
       "       [2, 0, 7],\n",
       "       [5, 0, 7]])"
      ]
     },
     "execution_count": 62,
     "metadata": {},
     "output_type": "execute_result"
    }
   ],
   "source": [
    "np.random.choice(range(8),(3,3))  "
   ]
  },
  {
   "cell_type": "code",
   "execution_count": 65,
   "metadata": {},
   "outputs": [
    {
     "ename": "ValueError",
     "evalue": "Cannot take a larger sample than population when 'replace=False'",
     "output_type": "error",
     "traceback": [
      "\u001b[1;31m---------------------------------------------------------------------------\u001b[0m",
      "\u001b[1;31mValueError\u001b[0m                                Traceback (most recent call last)",
      "\u001b[1;32m<ipython-input-65-b1a972a8ef1a>\u001b[0m in \u001b[0;36m<module>\u001b[1;34m\u001b[0m\n\u001b[1;32m----> 1\u001b[1;33m \u001b[0mnp\u001b[0m\u001b[1;33m.\u001b[0m\u001b[0mrandom\u001b[0m\u001b[1;33m.\u001b[0m\u001b[0mchoice\u001b[0m\u001b[1;33m(\u001b[0m\u001b[0mrange\u001b[0m\u001b[1;33m(\u001b[0m\u001b[1;36m8\u001b[0m\u001b[1;33m)\u001b[0m\u001b[1;33m,\u001b[0m\u001b[1;33m(\u001b[0m\u001b[1;36m3\u001b[0m\u001b[1;33m,\u001b[0m\u001b[1;36m3\u001b[0m\u001b[1;33m)\u001b[0m\u001b[1;33m,\u001b[0m\u001b[0mreplace\u001b[0m\u001b[1;33m=\u001b[0m\u001b[1;32mFalse\u001b[0m\u001b[1;33m)\u001b[0m\u001b[1;33m\u001b[0m\u001b[1;33m\u001b[0m\u001b[0m\n\u001b[0m",
      "\u001b[1;32mmtrand.pyx\u001b[0m in \u001b[0;36mmtrand.RandomState.choice\u001b[1;34m()\u001b[0m\n",
      "\u001b[1;31mValueError\u001b[0m: Cannot take a larger sample than population when 'replace=False'"
     ]
    }
   ],
   "source": [
    "np.random.choice(range(8),(3,3),replace=False)  "
   ]
  },
  {
   "cell_type": "markdown",
   "metadata": {},
   "source": [
    "上面为什么报错？"
   ]
  },
  {
   "cell_type": "code",
   "execution_count": 61,
   "metadata": {},
   "outputs": [
    {
     "data": {
      "text/plain": [
       "array([[5, 4, 4],\n",
       "       [3, 4, 3],\n",
       "       [8, 4, 3]])"
      ]
     },
     "execution_count": 61,
     "metadata": {},
     "output_type": "execute_result"
    }
   ],
   "source": [
    "np.random.choice((2,3,5,8,4,5),(3,3),replace=True,p=(0.1,0.1,0.1,0.1,0.5,0.1)) #p数组的值和为1"
   ]
  },
  {
   "cell_type": "markdown",
   "metadata": {},
   "source": [
    "```\n",
    "\n",
    "   \n",
    "    \n",
    "   \n",
    "   \n",
    "```\n",
    "#### np.random.shuffle()\n",
    "通过混洗其内容来就地修改序列。此功能仅沿a的第一轴洗牌。\n",
    "- np.random.shuffle(x)\n",
    "    - x：array_like（要洗牌的数组或列表）。"
   ]
  },
  {
   "cell_type": "code",
   "execution_count": 62,
   "metadata": {
    "ExecuteTime": {
     "end_time": "2019-02-27T05:55:42.569550Z",
     "start_time": "2019-02-27T05:55:42.561554Z"
    }
   },
   "outputs": [
    {
     "data": {
      "text/plain": [
       "[5, 3, 1, 7, 2]"
      ]
     },
     "execution_count": 62,
     "metadata": {},
     "output_type": "execute_result"
    }
   ],
   "source": [
    "a=[7,2,3,1,5]\n",
    "np.random.shuffle(a)   #shuffle有洗牌的意思\n",
    "a"
   ]
  },
  {
   "cell_type": "code",
   "execution_count": 63,
   "metadata": {},
   "outputs": [
    {
     "data": {
      "text/plain": [
       "array([[0, 1, 2],\n",
       "       [3, 4, 5],\n",
       "       [6, 7, 8]])"
      ]
     },
     "execution_count": 63,
     "metadata": {},
     "output_type": "execute_result"
    },
    {
     "data": {
      "text/plain": [
       "array([[6, 7, 8],\n",
       "       [3, 4, 5],\n",
       "       [0, 1, 2]])"
      ]
     },
     "execution_count": 63,
     "metadata": {},
     "output_type": "execute_result"
    }
   ],
   "source": [
    "arr = np.arange(9).reshape((3,3))\n",
    "arr\n",
    "\n",
    "np.random.shuffle(arr)\n",
    "arr"
   ]
  },
  {
   "cell_type": "markdown",
   "metadata": {},
   "source": [
    "```\n",
    "\n",
    "```\n",
    "\n",
    "#### 其他分布随机数"
   ]
  },
  {
   "cell_type": "code",
   "execution_count": 64,
   "metadata": {
    "ExecuteTime": {
     "end_time": "2019-02-27T05:50:08.058262Z",
     "start_time": "2019-02-27T05:50:08.038277Z"
    }
   },
   "outputs": [
    {
     "data": {
      "text/plain": [
       "array([[-2.06272318, -0.59788335, -0.97566785],\n",
       "       [-0.21467088,  0.59084742,  0.32336346],\n",
       "       [ 0.53094261,  0.3051783 ,  0.66767663]])"
      ]
     },
     "execution_count": 64,
     "metadata": {},
     "output_type": "execute_result"
    },
    {
     "data": {
      "text/plain": [
       "array([[1.01208669, 0.13298307, 0.81808134],\n",
       "       [5.50100056, 1.85738841, 2.00693025],\n",
       "       [0.50933914, 0.32513772, 1.11475583]])"
      ]
     },
     "execution_count": 64,
     "metadata": {},
     "output_type": "execute_result"
    },
    {
     "data": {
      "text/plain": [
       "array([[10,  8,  7,  7,  9,  9,  9,  9,  8,  9],\n",
       "       [10, 10,  8,  8, 10, 10, 10, 10, 10,  9],\n",
       "       [10,  9,  8,  9, 10, 10,  9,  8, 10, 10],\n",
       "       [ 9,  8, 10,  9,  9,  7,  9,  9,  9,  7],\n",
       "       [10,  9, 10, 10,  8, 10,  9, 10,  7, 10],\n",
       "       [ 9,  9, 10,  9,  9, 10, 10,  9, 10,  9],\n",
       "       [ 9, 10,  9,  9, 10, 10, 10,  8,  7,  7],\n",
       "       [ 8,  8,  9, 10, 10,  9,  9,  8, 10,  9],\n",
       "       [10, 10,  8,  9,  9,  9,  9,  9, 10,  9],\n",
       "       [10, 10, 10, 10,  9,  8, 10,  9, 10, 10]])"
      ]
     },
     "execution_count": 64,
     "metadata": {},
     "output_type": "execute_result"
    }
   ],
   "source": [
    "np.random.standard_t(10,(3,3))  #t分布（自由度，形状）\n",
    "np.random.chisquare(2,(3,3))       #卡方分布(自由度，形状)\n",
    "np.random.binomial(10,0.9,(10,10))  #伯努利分布（实验次数，概率，形状）,生成数组中数字代表单轮10次实验中出现为真的次数"
   ]
  },
  {
   "cell_type": "markdown",
   "metadata": {},
   "source": [
    "\n",
    "```\n",
    "\n",
    "```\n",
    "## 习题"
   ]
  },
  {
   "cell_type": "markdown",
   "metadata": {},
   "source": [
    "创建一个5个元素的数组, 5个数均匀的分配到0到50之间，包括50："
   ]
  },
  {
   "cell_type": "code",
   "execution_count": 100,
   "metadata": {
    "ExecuteTime": {
     "end_time": "2019-02-27T08:00:43.046548Z",
     "start_time": "2019-02-27T08:00:43.034563Z"
    }
   },
   "outputs": [
    {
     "data": {
      "text/plain": [
       "array([ 0, 12, 25, 37, 50])"
      ]
     },
     "execution_count": 100,
     "metadata": {},
     "output_type": "execute_result"
    },
    {
     "data": {
      "text/plain": [
       "array([ 0. , 12.5, 25. , 37.5, 50. ])"
      ]
     },
     "execution_count": 100,
     "metadata": {},
     "output_type": "execute_result"
    }
   ],
   "source": []
  }
 ],
 "metadata": {
  "kernelspec": {
   "display_name": "Python 3",
   "language": "python",
   "name": "python3"
  },
  "language_info": {
   "codemirror_mode": {
    "name": "ipython",
    "version": 3
   },
   "file_extension": ".py",
   "mimetype": "text/x-python",
   "name": "python",
   "nbconvert_exporter": "python",
   "pygments_lexer": "ipython3",
   "version": "3.7.1"
  },
  "nbTranslate": {
   "displayLangs": [
    "*"
   ],
   "hotkey": "alt-t",
   "langInMainMenu": true,
   "sourceLang": "en",
   "targetLang": "fr",
   "useGoogleTranslate": true
  },
  "toc": {
   "base_numbering": 1,
   "nav_menu": {},
   "number_sections": true,
   "sideBar": true,
   "skip_h1_title": false,
   "title_cell": "Table of Contents",
   "title_sidebar": "Contents",
   "toc_cell": true,
   "toc_position": {
    "height": "46.6667px",
    "left": "31px",
    "top": "110.333px",
    "width": "255.646px"
   },
   "toc_section_display": true,
   "toc_window_display": true
  },
  "varInspector": {
   "cols": {
    "lenName": 16,
    "lenType": 16,
    "lenVar": 40
   },
   "kernels_config": {
    "python": {
     "delete_cmd_postfix": "",
     "delete_cmd_prefix": "del ",
     "library": "var_list.py",
     "varRefreshCmd": "print(var_dic_list())"
    },
    "r": {
     "delete_cmd_postfix": ") ",
     "delete_cmd_prefix": "rm(",
     "library": "var_list.r",
     "varRefreshCmd": "cat(var_dic_list()) "
    }
   },
   "types_to_exclude": [
    "module",
    "function",
    "builtin_function_or_method",
    "instance",
    "_Feature"
   ],
   "window_display": false
  }
 },
 "nbformat": 4,
 "nbformat_minor": 2
}
