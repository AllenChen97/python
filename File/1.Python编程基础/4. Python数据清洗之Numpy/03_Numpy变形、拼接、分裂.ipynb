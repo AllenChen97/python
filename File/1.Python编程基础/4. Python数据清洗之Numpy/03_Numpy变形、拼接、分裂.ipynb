{
 "cells": [
  {
   "cell_type": "markdown",
   "metadata": {
    "toc": true
   },
   "source": [
    "<h1>Table of Contents<span class=\"tocSkip\"></span></h1>\n",
    "<div class=\"toc\"><ul class=\"toc-item\"><li><span><a href=\"#数组的变形\" data-toc-modified-id=\"数组的变形-1\"><span class=\"toc-item-num\">1&nbsp;&nbsp;</span>数组的变形</a></span><ul class=\"toc-item\"><li><span><a href=\"#ndarray.reshape()\" data-toc-modified-id=\"ndarray.reshape()-1.1\"><span class=\"toc-item-num\">1.1&nbsp;&nbsp;</span>ndarray.reshape()</a></span></li><li><span><a href=\"#小技巧\" data-toc-modified-id=\"小技巧-1.2\"><span class=\"toc-item-num\">1.2&nbsp;&nbsp;</span>小技巧</a></span></li><li><span><a href=\"#ndarray.shape\" data-toc-modified-id=\"ndarray.shape-1.3\"><span class=\"toc-item-num\">1.3&nbsp;&nbsp;</span>ndarray.shape</a></span></li><li><span><a href=\"#ndarray.resize()\" data-toc-modified-id=\"ndarray.resize()-1.4\"><span class=\"toc-item-num\">1.4&nbsp;&nbsp;</span>ndarray.resize()</a></span></li><li><span><a href=\"#ndarray.ravel()\" data-toc-modified-id=\"ndarray.ravel()-1.5\"><span class=\"toc-item-num\">1.5&nbsp;&nbsp;</span>ndarray.ravel()</a></span></li><li><span><a href=\"#ndarry.T\" data-toc-modified-id=\"ndarry.T-1.6\"><span class=\"toc-item-num\">1.6&nbsp;&nbsp;</span>ndarry.T</a></span></li></ul></li><li><span><a href=\"#数组的拼接\" data-toc-modified-id=\"数组的拼接-2\"><span class=\"toc-item-num\">2&nbsp;&nbsp;</span>数组的拼接</a></span><ul class=\"toc-item\"><li><span><a href=\"#np.concatenate()\" data-toc-modified-id=\"np.concatenate()-2.1\"><span class=\"toc-item-num\">2.1&nbsp;&nbsp;</span>np.concatenate()</a></span></li><li><span><a href=\"#np.vstack()\" data-toc-modified-id=\"np.vstack()-2.2\"><span class=\"toc-item-num\">2.2&nbsp;&nbsp;</span>np.vstack()</a></span></li><li><span><a href=\"#np.hstack()\" data-toc-modified-id=\"np.hstack()-2.3\"><span class=\"toc-item-num\">2.3&nbsp;&nbsp;</span>np.hstack()</a></span></li><li><span><a href=\"#np.dstack()\" data-toc-modified-id=\"np.dstack()-2.4\"><span class=\"toc-item-num\">2.4&nbsp;&nbsp;</span>np.dstack()</a></span></li></ul></li><li><span><a href=\"#数据的分裂\" data-toc-modified-id=\"数据的分裂-3\"><span class=\"toc-item-num\">3&nbsp;&nbsp;</span>数据的分裂</a></span><ul class=\"toc-item\"><li><span><a href=\"#np.split()\" data-toc-modified-id=\"np.split()-3.1\"><span class=\"toc-item-num\">3.1&nbsp;&nbsp;</span>np.split()</a></span></li><li><span><a href=\"#np.vsplit()\" data-toc-modified-id=\"np.vsplit()-3.2\"><span class=\"toc-item-num\">3.2&nbsp;&nbsp;</span>np.vsplit()</a></span></li><li><span><a href=\"#np.hsplit()\" data-toc-modified-id=\"np.hsplit()-3.3\"><span class=\"toc-item-num\">3.3&nbsp;&nbsp;</span>np.hsplit()</a></span></li><li><span><a href=\"#练习\" data-toc-modified-id=\"练习-3.4\"><span class=\"toc-item-num\">3.4&nbsp;&nbsp;</span>练习</a></span></li></ul></li></ul></div>"
   ]
  },
  {
   "cell_type": "code",
   "execution_count": 1,
   "metadata": {},
   "outputs": [],
   "source": [
    "#全部行都能输出\n",
    "from IPython.core.interactiveshell import InteractiveShell\n",
    "InteractiveShell.ast_node_interactivity = \"all\"\n",
    "\n",
    "import numpy as np"
   ]
  },
  {
   "cell_type": "markdown",
   "metadata": {},
   "source": [
    "Numpy官网：http://www.numpy.org/"
   ]
  },
  {
   "cell_type": "markdown",
   "metadata": {},
   "source": [
    "```\n",
    "   \n",
    "   \n",
    "```\n",
    "```\n",
    "   \n",
    "   \n",
    "```\n",
    "## 数组的变形\n",
    "\n",
    "数组变形最灵活的实现方式是通\n",
    "过 reshape() 函数来实现。例如，如果你希望将数字 1~9 放入一个\n",
    "3×3 的矩阵中，可以采用如下方法："
   ]
  },
  {
   "cell_type": "code",
   "execution_count": 2,
   "metadata": {
    "ExecuteTime": {
     "end_time": "2019-03-19T02:47:39.929848Z",
     "start_time": "2019-03-19T02:47:38.336274Z"
    }
   },
   "outputs": [
    {
     "data": {
      "text/plain": [
       "array([[1, 2, 3],\n",
       "       [4, 5, 6],\n",
       "       [7, 8, 9]])"
      ]
     },
     "execution_count": 2,
     "metadata": {},
     "output_type": "execute_result"
    }
   ],
   "source": [
    "a=np.arange(1,10)\n",
    "a.reshape(3,3)"
   ]
  },
  {
   "cell_type": "markdown",
   "metadata": {},
   "source": [
    "```\n",
    "   \n",
    "```\n",
    "### ndarray.reshape()"
   ]
  },
  {
   "cell_type": "code",
   "execution_count": 3,
   "metadata": {
    "ExecuteTime": {
     "end_time": "2019-04-26T09:53:25.202727Z",
     "start_time": "2019-04-26T09:53:25.179743Z"
    }
   },
   "outputs": [
    {
     "data": {
      "text/plain": [
       "array([8, 8, 3, 7, 7, 0])"
      ]
     },
     "execution_count": 3,
     "metadata": {},
     "output_type": "execute_result"
    },
    {
     "data": {
      "text/plain": [
       "array([[4, 2, 5, 2],\n",
       "       [2, 2, 1, 0],\n",
       "       [8, 4, 0, 9]])"
      ]
     },
     "execution_count": 3,
     "metadata": {},
     "output_type": "execute_result"
    },
    {
     "data": {
      "text/plain": [
       "array([[[6, 2, 4, 1, 5],\n",
       "        [3, 4, 4, 3, 7],\n",
       "        [1, 1, 7, 7, 0],\n",
       "        [2, 9, 9, 3, 2]],\n",
       "\n",
       "       [[5, 8, 1, 0, 7],\n",
       "        [6, 2, 0, 8, 2],\n",
       "        [5, 1, 8, 1, 5],\n",
       "        [4, 2, 8, 3, 5]],\n",
       "\n",
       "       [[0, 9, 3, 6, 3],\n",
       "        [4, 7, 6, 3, 9],\n",
       "        [0, 4, 4, 5, 7],\n",
       "        [6, 6, 2, 4, 2]]])"
      ]
     },
     "execution_count": 3,
     "metadata": {},
     "output_type": "execute_result"
    }
   ],
   "source": [
    "# 为了确保大家都能生成一样的数组, 我们先设置随机数种子\n",
    "np.random.seed(100)\n",
    "x1 = np.random.randint(10, size=6) # 一维数组\n",
    "x2 = np.random.randint(10, size=(3, 4)) # 二维数组\n",
    "x3 = np.random.randint(10, size=(3, 4, 5)) # 三维数组\n",
    "\n",
    "x1\n",
    "x2\n",
    "x3"
   ]
  },
  {
   "cell_type": "markdown",
   "metadata": {},
   "source": [
    "注意：使用ndarray.reshape()变形不会改变x1原有的数组形状，而是生成一个新的对象："
   ]
  },
  {
   "cell_type": "code",
   "execution_count": 4,
   "metadata": {},
   "outputs": [
    {
     "data": {
      "text/plain": [
       "array([[8, 8],\n",
       "       [3, 7],\n",
       "       [7, 0]])"
      ]
     },
     "execution_count": 4,
     "metadata": {},
     "output_type": "execute_result"
    }
   ],
   "source": [
    "x1.reshape((3, 2))   "
   ]
  },
  {
   "cell_type": "code",
   "execution_count": 5,
   "metadata": {},
   "outputs": [
    {
     "data": {
      "text/plain": [
       "array([8, 8, 3, 7, 7, 0])"
      ]
     },
     "execution_count": 5,
     "metadata": {},
     "output_type": "execute_result"
    }
   ],
   "source": [
    "x1"
   ]
  },
  {
   "cell_type": "markdown",
   "metadata": {},
   "source": [
    "同样地，可以对3维数组进行变形，此时注意数组中元素的总和即可："
   ]
  },
  {
   "cell_type": "code",
   "execution_count": 6,
   "metadata": {
    "ExecuteTime": {
     "end_time": "2019-04-26T10:05:41.736321Z",
     "start_time": "2019-04-26T10:05:41.720334Z"
    }
   },
   "outputs": [
    {
     "data": {
      "text/plain": [
       "60"
      ]
     },
     "execution_count": 6,
     "metadata": {},
     "output_type": "execute_result"
    }
   ],
   "source": [
    "x3=np.array([[[6, 2, 4, 1, 5],\n",
    "              [3, 4, 4, 3, 7],\n",
    "              [1, 1, 7, 7, 0],\n",
    "              [2, 9, 9, 3, 2]],\n",
    "\n",
    "             [[5, 8, 1, 0, 7],\n",
    "              [6, 2, 0, 8, 2],\n",
    "              [5, 1, 8, 1, 5],\n",
    "              [4, 2, 8, 3, 5]],\n",
    "\n",
    "             [[0, 9, 3, 6, 3],\n",
    "              [4, 7, 6, 3, 9],\n",
    "              [0, 4, 4, 5, 7],\n",
    "              [6, 6, 2, 4, 2]]])\n",
    "x3.size"
   ]
  },
  {
   "cell_type": "code",
   "execution_count": 7,
   "metadata": {
    "ExecuteTime": {
     "end_time": "2019-04-26T10:05:45.177007Z",
     "start_time": "2019-04-26T10:05:45.169013Z"
    }
   },
   "outputs": [
    {
     "data": {
      "text/plain": [
       "array([[[6, 2, 4, 1, 5, 3, 4, 4, 3, 7],\n",
       "        [1, 1, 7, 7, 0, 2, 9, 9, 3, 2],\n",
       "        [5, 8, 1, 0, 7, 6, 2, 0, 8, 2]],\n",
       "\n",
       "       [[5, 1, 8, 1, 5, 4, 2, 8, 3, 5],\n",
       "        [0, 9, 3, 6, 3, 4, 7, 6, 3, 9],\n",
       "        [0, 4, 4, 5, 7, 6, 6, 2, 4, 2]]])"
      ]
     },
     "execution_count": 7,
     "metadata": {},
     "output_type": "execute_result"
    }
   ],
   "source": [
    "#既然x3的元素个数是60，三维的三个数字相乘等于60即可\n",
    "x3.reshape(2,3,10)"
   ]
  },
  {
   "cell_type": "markdown",
   "metadata": {},
   "source": [
    "```\n",
    "   \n",
    "   \n",
    "```\n",
    "### 小技巧\n",
    "\n",
    "技巧：在使用 reshape 时，可以将其中的一个维度指定为 -1，Numpy 会自动计算出它的真实值"
   ]
  },
  {
   "cell_type": "code",
   "execution_count": 8,
   "metadata": {},
   "outputs": [
    {
     "data": {
      "text/plain": [
       "array([[[6, 2, 4, 1, 5],\n",
       "        [3, 4, 4, 3, 7],\n",
       "        [1, 1, 7, 7, 0],\n",
       "        [2, 9, 9, 3, 2]],\n",
       "\n",
       "       [[5, 8, 1, 0, 7],\n",
       "        [6, 2, 0, 8, 2],\n",
       "        [5, 1, 8, 1, 5],\n",
       "        [4, 2, 8, 3, 5]],\n",
       "\n",
       "       [[0, 9, 3, 6, 3],\n",
       "        [4, 7, 6, 3, 9],\n",
       "        [0, 4, 4, 5, 7],\n",
       "        [6, 6, 2, 4, 2]]])"
      ]
     },
     "execution_count": 8,
     "metadata": {},
     "output_type": "execute_result"
    }
   ],
   "source": [
    "x3"
   ]
  },
  {
   "cell_type": "code",
   "execution_count": 10,
   "metadata": {},
   "outputs": [
    {
     "data": {
      "text/plain": [
       "array([[[6, 2, 4, 1, 5, 3, 4, 4, 3, 7],\n",
       "        [1, 1, 7, 7, 0, 2, 9, 9, 3, 2],\n",
       "        [5, 8, 1, 0, 7, 6, 2, 0, 8, 2]],\n",
       "\n",
       "       [[5, 1, 8, 1, 5, 4, 2, 8, 3, 5],\n",
       "        [0, 9, 3, 6, 3, 4, 7, 6, 3, 9],\n",
       "        [0, 4, 4, 5, 7, 6, 6, 2, 4, 2]]])"
      ]
     },
     "execution_count": 10,
     "metadata": {},
     "output_type": "execute_result"
    }
   ],
   "source": [
    "x3.reshape((2, 3,-1))   #当其中一个维度你不知道是多少时，可以用-1来代替"
   ]
  },
  {
   "cell_type": "code",
   "execution_count": 14,
   "metadata": {
    "scrolled": false
   },
   "outputs": [
    {
     "data": {
      "text/plain": [
       "array([[[6, 2, 4, 1, 5, 3, 4, 4, 3, 7],\n",
       "        [1, 1, 7, 7, 0, 2, 9, 9, 3, 2]],\n",
       "\n",
       "       [[5, 8, 1, 0, 7, 6, 2, 0, 8, 2],\n",
       "        [5, 1, 8, 1, 5, 4, 2, 8, 3, 5]],\n",
       "\n",
       "       [[0, 9, 3, 6, 3, 4, 7, 6, 3, 9],\n",
       "        [0, 4, 4, 5, 7, 6, 6, 2, 4, 2]]])"
      ]
     },
     "execution_count": 14,
     "metadata": {},
     "output_type": "execute_result"
    }
   ],
   "source": [
    "x3.reshape((-1, 2,10))   #当其中一个维度你不知道是多少时，可以用-1来代替"
   ]
  },
  {
   "cell_type": "markdown",
   "metadata": {},
   "source": [
    "```\n",
    "\n",
    "\n",
    "   \n",
    "   \n",
    "```\n",
    "### ndarray.shape"
   ]
  },
  {
   "cell_type": "markdown",
   "metadata": {},
   "source": [
    "ndarray.shape有两种功能：\n",
    "- 第一种是查看数组形状："
   ]
  },
  {
   "cell_type": "code",
   "execution_count": 15,
   "metadata": {
    "ExecuteTime": {
     "end_time": "2019-04-26T10:06:47.859107Z",
     "start_time": "2019-04-26T10:06:47.847116Z"
    }
   },
   "outputs": [
    {
     "data": {
      "text/plain": [
       "(6,)"
      ]
     },
     "execution_count": 15,
     "metadata": {},
     "output_type": "execute_result"
    }
   ],
   "source": [
    "x_01=np.array([8, 8, 3, 7, 7, 0])\n",
    "x_01.shape  "
   ]
  },
  {
   "cell_type": "markdown",
   "metadata": {},
   "source": [
    "第二种是改变数组形状："
   ]
  },
  {
   "cell_type": "code",
   "execution_count": 16,
   "metadata": {},
   "outputs": [
    {
     "data": {
      "text/plain": [
       "array([8, 8, 3, 7, 7, 0])"
      ]
     },
     "execution_count": 16,
     "metadata": {},
     "output_type": "execute_result"
    },
    {
     "data": {
      "text/plain": [
       "array([[8, 8],\n",
       "       [3, 7],\n",
       "       [7, 0]])"
      ]
     },
     "execution_count": 16,
     "metadata": {},
     "output_type": "execute_result"
    }
   ],
   "source": [
    "x_01\n",
    "\n",
    "x_01.shape=(3,2)\n",
    "x_01"
   ]
  },
  {
   "cell_type": "markdown",
   "metadata": {},
   "source": [
    "```\n",
    "   \n",
    "   \n",
    "```\n",
    "### ndarray.resize()\n",
    "\n",
    "- 使用 resize 方法可以直接修改数组本身\n",
    "- 作用和shape改变数组形状是一样的，即改变数组本身。"
   ]
  },
  {
   "cell_type": "code",
   "execution_count": 17,
   "metadata": {},
   "outputs": [
    {
     "data": {
      "text/plain": [
       "array([[3, 5, 2, 4, 7, 6],\n",
       "       [8, 8, 1, 6, 7, 7]])"
      ]
     },
     "execution_count": 17,
     "metadata": {},
     "output_type": "execute_result"
    }
   ],
   "source": [
    "x2=np.array([[3, 5, 2, 4],\n",
    "             [7, 6, 8, 8],\n",
    "             [1, 6, 7, 7]])\n",
    "\n",
    "x2.resize((2, 6))\n",
    "x2"
   ]
  },
  {
   "cell_type": "markdown",
   "metadata": {},
   "source": [
    "```\n",
    "   \n",
    "   \n",
    "```\n",
    "### ndarray.ravel()\n",
    "- 数组的平铺。\n",
    "- 不管多少维，全部铺开变成一维。"
   ]
  },
  {
   "cell_type": "code",
   "execution_count": 18,
   "metadata": {},
   "outputs": [
    {
     "data": {
      "text/plain": [
       "array([3, 5, 2, 4, 7, 6, 8, 8, 1, 6, 7, 7])"
      ]
     },
     "execution_count": 18,
     "metadata": {},
     "output_type": "execute_result"
    }
   ],
   "source": [
    "x2=np.array([[3, 5, 2, 4],\n",
    "             [7, 6, 8, 8],\n",
    "             [1, 6, 7, 7]])\n",
    "\n",
    "x2.ravel()"
   ]
  },
  {
   "cell_type": "code",
   "execution_count": 19,
   "metadata": {},
   "outputs": [
    {
     "data": {
      "text/plain": [
       "array([6, 2, 4, 1, 5, 3, 4, 4, 3, 7, 1, 1, 7, 7, 0, 2, 9, 9, 3, 2, 5, 8,\n",
       "       1, 0, 7, 6, 2, 0, 8, 2, 5, 1, 8, 1, 5, 4, 2, 8, 3, 5, 0, 9, 3, 6,\n",
       "       3, 4, 7, 6, 3, 9, 0, 4, 4, 5, 7, 6, 6, 2, 4, 2])"
      ]
     },
     "execution_count": 19,
     "metadata": {},
     "output_type": "execute_result"
    }
   ],
   "source": [
    "x3=np.array([[[6, 2, 4, 1, 5],\n",
    "              [3, 4, 4, 3, 7],\n",
    "              [1, 1, 7, 7, 0],\n",
    "              [2, 9, 9, 3, 2]],\n",
    "\n",
    "             [[5, 8, 1, 0, 7],\n",
    "              [6, 2, 0, 8, 2],\n",
    "              [5, 1, 8, 1, 5],\n",
    "              [4, 2, 8, 3, 5]],\n",
    "\n",
    "             [[0, 9, 3, 6, 3],\n",
    "              [4, 7, 6, 3, 9],\n",
    "              [0, 4, 4, 5, 7],\n",
    "              [6, 6, 2, 4, 2]]])\n",
    "\n",
    "\n",
    "x3.ravel()"
   ]
  },
  {
   "cell_type": "markdown",
   "metadata": {},
   "source": [
    "```\n",
    "   \n",
    "   \n",
    "```\n",
    "### ndarry.T"
   ]
  },
  {
   "cell_type": "code",
   "execution_count": 20,
   "metadata": {},
   "outputs": [
    {
     "data": {
      "text/plain": [
       "array([[3, 7, 1],\n",
       "       [5, 6, 6],\n",
       "       [2, 8, 7],\n",
       "       [4, 8, 7]])"
      ]
     },
     "execution_count": 20,
     "metadata": {},
     "output_type": "execute_result"
    }
   ],
   "source": [
    "x2=np.array([[3, 5, 2, 4],\n",
    "             [7, 6, 8, 8],\n",
    "             [1, 6, 7, 7]])\n",
    "\n",
    "x2.T"
   ]
  },
  {
   "cell_type": "code",
   "execution_count": 21,
   "metadata": {},
   "outputs": [
    {
     "data": {
      "text/plain": [
       "(3, 4)"
      ]
     },
     "execution_count": 21,
     "metadata": {},
     "output_type": "execute_result"
    },
    {
     "data": {
      "text/plain": [
       "(4, 3)"
      ]
     },
     "execution_count": 21,
     "metadata": {},
     "output_type": "execute_result"
    }
   ],
   "source": [
    "x2.shape\n",
    "x2.T.shape"
   ]
  },
  {
   "cell_type": "markdown",
   "metadata": {},
   "source": [
    "无论是ravel、reshape、T，它们都不会更改原有的数组形状，都是返回一个新的数组。"
   ]
  },
  {
   "cell_type": "code",
   "execution_count": null,
   "metadata": {},
   "outputs": [],
   "source": []
  },
  {
   "cell_type": "markdown",
   "metadata": {},
   "source": [
    "```\n",
    "   \n",
    "   \n",
    "```\n",
    "```\n",
    "\n",
    "   \n",
    "    \n",
    "   \n",
    "   \n",
    "```\n",
    "## 数组的拼接\n",
    "\n",
    "拼接或连接 NumPy 中的两个数组主要由np.concatenate、np.vstack 和 np.hstack 实现,此外还有dstack()"
   ]
  },
  {
   "cell_type": "markdown",
   "metadata": {},
   "source": [
    "### np.concatenate()"
   ]
  },
  {
   "cell_type": "markdown",
   "metadata": {},
   "source": [
    "concatenate((a1, a2, ...), axis=0, out=None)\n",
    "沿现有轴加入一系列数组。\n",
    "- a1，a2，...：array_like的序列\n",
    "    - 除尺寸外，阵列必须具有相同的形状\n",
    "- axis：int，可选\n",
    "    - 数组将连接的轴。如果axis为None，数组在使用前是扁平的。默认值为0。\n",
    "- out：ndarray，可选\n",
    "    - 如果提供，则放置结果的目的地。形状必须是正确，匹配连接将返回的。"
   ]
  },
  {
   "cell_type": "code",
   "execution_count": 25,
   "metadata": {},
   "outputs": [
    {
     "data": {
      "text/plain": [
       "array([ 34,  43,  12, 343,  34, 676])"
      ]
     },
     "execution_count": 25,
     "metadata": {},
     "output_type": "execute_result"
    }
   ],
   "source": [
    "x = np.array([34, 43, 12])\n",
    "y = np.array([343, 34, 676])\n",
    "\n",
    "np.concatenate((x, y))"
   ]
  },
  {
   "cell_type": "code",
   "execution_count": 26,
   "metadata": {},
   "outputs": [
    {
     "data": {
      "text/plain": [
       "array([[ 1,  2,  3],\n",
       "       [ 4,  5,  6],\n",
       "       [11, 22, 33],\n",
       "       [44, 55, 66]])"
      ]
     },
     "execution_count": 26,
     "metadata": {},
     "output_type": "execute_result"
    }
   ],
   "source": [
    "x = np.array([[1, 2, 3],[4,5,6]])\n",
    "y = np.array([[11,22,33],[44,55,66]])\n",
    "\n",
    "np.concatenate((x, y))  #默认按照第一个轴合并，即axis=0\n",
    "# np.concatenate((x, y),axis=0) "
   ]
  },
  {
   "cell_type": "code",
   "execution_count": 30,
   "metadata": {},
   "outputs": [
    {
     "data": {
      "text/plain": [
       "array([[ 1,  2,  3],\n",
       "       [ 4,  5,  6],\n",
       "       [11, 22, 33],\n",
       "       [44, 55, 66]])"
      ]
     },
     "execution_count": 30,
     "metadata": {},
     "output_type": "execute_result"
    }
   ],
   "source": [
    "np.concatenate([x, y], axis=0)  "
   ]
  },
  {
   "cell_type": "markdown",
   "metadata": {},
   "source": [
    "```\n",
    "   \n",
    "   \n",
    "```\n",
    "同样地,我们观察一下三维数组合并规律:"
   ]
  },
  {
   "cell_type": "code",
   "execution_count": 3,
   "metadata": {
    "scrolled": true
   },
   "outputs": [
    {
     "data": {
      "text/plain": [
       "array([[[1, 1],\n",
       "        [1, 1]],\n",
       "\n",
       "       [[1, 1],\n",
       "        [1, 1]]])"
      ]
     },
     "execution_count": 3,
     "metadata": {},
     "output_type": "execute_result"
    },
    {
     "data": {
      "text/plain": [
       "array([[[0, 0],\n",
       "        [0, 0]],\n",
       "\n",
       "       [[0, 0],\n",
       "        [0, 0]]])"
      ]
     },
     "execution_count": 3,
     "metadata": {},
     "output_type": "execute_result"
    }
   ],
   "source": [
    "a1=np.ones((2,2,2),dtype='int')\n",
    "a2=np.zeros((2,2,2),dtype='int')\n",
    "a1\n",
    "a2"
   ]
  },
  {
   "cell_type": "code",
   "execution_count": 12,
   "metadata": {},
   "outputs": [
    {
     "data": {
      "text/plain": [
       "array([[[1, 1],\n",
       "        [1, 1],\n",
       "        [0, 0],\n",
       "        [0, 0]],\n",
       "\n",
       "       [[1, 1],\n",
       "        [1, 1],\n",
       "        [0, 0],\n",
       "        [0, 0]]])"
      ]
     },
     "execution_count": 12,
     "metadata": {},
     "output_type": "execute_result"
    }
   ],
   "source": [
    "np.concatenate([a1,a2],axis=1)  #axis=1、2有什么区别？"
   ]
  },
  {
   "cell_type": "markdown",
   "metadata": {},
   "source": [
    "```\n",
    "\n",
    "   \n",
    "    \n",
    "   \n",
    "   \n",
    "```\n",
    "### np.vstack()\n",
    "- 垂直堆叠数组。\n",
    "- 这相当于1-D数组后沿第一轴的连接。\n",
    "- 对于最多3维的数组，此函数最有意义。\n",
    "- np.vstack（tup）\n",
    "    - tup：ndarrays的序列\n",
    "    - 除了第一个轴之外，阵列必须具有相同的形状。\n",
    "    - 1-D阵列必须具有相同的长度。"
   ]
  },
  {
   "cell_type": "code",
   "execution_count": 39,
   "metadata": {},
   "outputs": [
    {
     "data": {
      "text/plain": [
       "array([[ 1,  2,  3],\n",
       "       [ 4,  5,  6],\n",
       "       [11, 22, 33],\n",
       "       [44, 55, 66],\n",
       "       [44, 55, 66]])"
      ]
     },
     "execution_count": 39,
     "metadata": {},
     "output_type": "execute_result"
    }
   ],
   "source": [
    "x = np.array([[1, 2, 3],[4,5,6]])\n",
    "y = np.array([[11,22,33],[44,55,66],[44,55,66]])\n",
    "\n",
    "np.vstack((x, y))"
   ]
  },
  {
   "cell_type": "code",
   "execution_count": 40,
   "metadata": {},
   "outputs": [
    {
     "data": {
      "text/plain": [
       "array([[ 1,  2,  3],\n",
       "       [ 4,  5,  6],\n",
       "       [11, 22, 33],\n",
       "       [44, 55, 66],\n",
       "       [44, 55, 66]])"
      ]
     },
     "execution_count": 40,
     "metadata": {},
     "output_type": "execute_result"
    }
   ],
   "source": [
    "#作用和concatenate((...),axis=0)一样\n",
    "np.concatenate([x,y],axis=0)"
   ]
  },
  {
   "cell_type": "markdown",
   "metadata": {},
   "source": [
    "```\n",
    "\n",
    "   \n",
    "    \n",
    "   \n",
    "   \n",
    "```\n",
    "### np.hstack()\n",
    "- 水平堆叠数组。\n",
    "- 这相当于1-D数组后沿第二轴的连接。\n",
    "- 对于最多3维的数组，此函数最有意义。\n",
    "- np.hstack（tup）\n",
    "    - tup：ndarrays的序列\n",
    "    - 除了第二个轴之外，阵列必须具有相同的形状。\n",
    "    - 1-D阵列必须具有相同的长度。"
   ]
  },
  {
   "cell_type": "code",
   "execution_count": 41,
   "metadata": {},
   "outputs": [
    {
     "data": {
      "text/plain": [
       "array([[ 1,  2,  3, 66, 11, 22, 33],\n",
       "       [ 4,  5,  6, 66, 44, 55, 66]])"
      ]
     },
     "execution_count": 41,
     "metadata": {},
     "output_type": "execute_result"
    }
   ],
   "source": [
    "x = np.array([[1, 2, 3,66],[4,5,6,66]])\n",
    "y = np.array([[11,22,33],[44,55,66]])\n",
    "\n",
    "np.hstack((x, y))"
   ]
  },
  {
   "cell_type": "code",
   "execution_count": 42,
   "metadata": {},
   "outputs": [
    {
     "data": {
      "text/plain": [
       "array([[ 1,  2,  3, 66, 11, 22, 33],\n",
       "       [ 4,  5,  6, 66, 44, 55, 66]])"
      ]
     },
     "execution_count": 42,
     "metadata": {},
     "output_type": "execute_result"
    }
   ],
   "source": [
    "#作用和concatenate((...),axis=1)一样\n",
    "np.concatenate([x,y],axis=1)"
   ]
  },
  {
   "cell_type": "markdown",
   "metadata": {},
   "source": [
    "```\n",
    "\n",
    "   \n",
    "    \n",
    "   \n",
    "   \n",
    "```\n",
    "### np.dstack()\n",
    "- np.dstack(tup)\n",
    "    - 按顺序深度（沿第三轴）堆叠阵列。\n",
    "    - 对于最多3维的数组，此函数最有意义。\n",
    "    - tup：数组序列\n",
    "        - 除了第三个轴之外，阵列必须具有相同的形状。\n",
    "        - 1-D或2-D阵列必须具有相同的形状。"
   ]
  },
  {
   "cell_type": "code",
   "execution_count": 43,
   "metadata": {},
   "outputs": [
    {
     "data": {
      "text/plain": [
       "array([[1, 2, 3],\n",
       "       [4, 5, 6]])"
      ]
     },
     "execution_count": 43,
     "metadata": {},
     "output_type": "execute_result"
    },
    {
     "data": {
      "text/plain": [
       "array([[11, 22, 33],\n",
       "       [44, 55, 66]])"
      ]
     },
     "execution_count": 43,
     "metadata": {},
     "output_type": "execute_result"
    },
    {
     "data": {
      "text/plain": [
       "array([[[ 1, 11],\n",
       "        [ 2, 22],\n",
       "        [ 3, 33]],\n",
       "\n",
       "       [[ 4, 44],\n",
       "        [ 5, 55],\n",
       "        [ 6, 66]]])"
      ]
     },
     "execution_count": 43,
     "metadata": {},
     "output_type": "execute_result"
    }
   ],
   "source": [
    "x = np.array([[1, 2, 3],[4,5,6]])\n",
    "y = np.array([[11,22,33],[44,55,66]])\n",
    "\n",
    "x\n",
    "y\n",
    "\n",
    "np.dstack((x, y))"
   ]
  },
  {
   "cell_type": "markdown",
   "metadata": {},
   "source": [
    "```\n",
    "   \n",
    "   \n",
    "```\n",
    "## 数据的分裂"
   ]
  },
  {
   "cell_type": "markdown",
   "metadata": {},
   "source": [
    "- 将一个数组分成几个较小的数组\n",
    "- 既然可以将多个数组进行对堆叠，自然也可以将一个数组拆分成多个小数组。\n",
    "- 和拼接有以下对应关系：\n",
    "    - split --->concatenate\n",
    "    - hsplit--->hstack\n",
    "    - vsplit--->vstack\n",
    "- 使用hsplit，可以沿其水平轴拆分数组，通过指定要返回的均匀划分的数组数量，或通过指定要在其后进行划分的列："
   ]
  },
  {
   "cell_type": "markdown",
   "metadata": {},
   "source": [
    "### np.split()\n",
    "- 语法：np.split（ary，indices_or_sections，axis = 0）\n",
    "- 作用：将数组拆分为多个子数组。\n",
    "        - ary：ndarray。\n",
    "        - indices_or_sections：int或1-D数组。\n",
    "            - 如果indices_or_sections是一个整数N，则数组将被分割沿着'轴'进入N个相等的数组。\n",
    "            - 如果indices_or_sections是排序整数的1-D数组，则为条目指示数组被分割的“轴”的位置。\n",
    "            - 如果索引超过沿“轴”的数组维度，相应地返回一个空的子数组。\n",
    "- axis：int，可选。要拆分的轴，默认为0。"
   ]
  },
  {
   "cell_type": "markdown",
   "metadata": {},
   "source": [
    "**如果indices_or_sections是一个整数N，则数组将被分割沿着'轴'进入N个相等的数组。**"
   ]
  },
  {
   "cell_type": "code",
   "execution_count": 49,
   "metadata": {},
   "outputs": [
    {
     "data": {
      "text/plain": [
       "array([[1, 1],\n",
       "       [1, 1]])"
      ]
     },
     "execution_count": 49,
     "metadata": {},
     "output_type": "execute_result"
    },
    {
     "data": {
      "text/plain": [
       "array([[0, 0],\n",
       "       [0, 0]])"
      ]
     },
     "execution_count": 49,
     "metadata": {},
     "output_type": "execute_result"
    }
   ],
   "source": [
    "a=np.ones((2,2),dtype='int')\n",
    "b=np.zeros((2,2),dtype='int')\n",
    "\n",
    "a\n",
    "b"
   ]
  },
  {
   "cell_type": "markdown",
   "metadata": {},
   "source": [
    "首先，我们用np.concatenate()按照第一个轴进行合并："
   ]
  },
  {
   "cell_type": "code",
   "execution_count": 50,
   "metadata": {},
   "outputs": [
    {
     "data": {
      "text/plain": [
       "array([[1, 1],\n",
       "       [1, 1],\n",
       "       [0, 0],\n",
       "       [0, 0]])"
      ]
     },
     "execution_count": 50,
     "metadata": {},
     "output_type": "execute_result"
    }
   ],
   "source": [
    "c=np.concatenate([a,b],axis=0)\n",
    "c"
   ]
  },
  {
   "cell_type": "markdown",
   "metadata": {},
   "source": [
    "然后我们用np.split()按照相同的第一个轴进行拆分:"
   ]
  },
  {
   "cell_type": "code",
   "execution_count": 55,
   "metadata": {},
   "outputs": [
    {
     "data": {
      "text/plain": [
       "[array([[1, 1],\n",
       "        [1, 1]]), array([[0, 0],\n",
       "        [0, 0]])]"
      ]
     },
     "execution_count": 55,
     "metadata": {},
     "output_type": "execute_result"
    }
   ],
   "source": [
    "np.split(c,2,axis=0)  #返回的对象其实是子阵列表"
   ]
  },
  {
   "cell_type": "markdown",
   "metadata": {},
   "source": [
    "返回的对象其实是子阵列表,因此是可以进行索引操作的："
   ]
  },
  {
   "cell_type": "code",
   "execution_count": 56,
   "metadata": {},
   "outputs": [
    {
     "data": {
      "text/plain": [
       "array([[1, 1],\n",
       "       [1, 1]])"
      ]
     },
     "execution_count": 56,
     "metadata": {},
     "output_type": "execute_result"
    }
   ],
   "source": [
    "np.split(c,2,axis=0)[0]"
   ]
  },
  {
   "cell_type": "markdown",
   "metadata": {},
   "source": [
    "\n",
    "```\n",
    "   \n",
    "   \n",
    "```\n",
    "**如果indices_or_sections是排序整数的1-D数组，则为条目指示数组被分割的“轴”的位置。**"
   ]
  },
  {
   "cell_type": "code",
   "execution_count": 31,
   "metadata": {},
   "outputs": [],
   "source": [
    "d=np.array([[1, 1],\n",
    "            [1, 1],\n",
    "            [2, 2],\n",
    "            [2, 2],\n",
    "            [3, 3],\n",
    "            [3, 3],\n",
    "            [4, 4],\n",
    "            [4, 4]])  "
   ]
  },
  {
   "cell_type": "code",
   "execution_count": 32,
   "metadata": {},
   "outputs": [
    {
     "data": {
      "text/plain": [
       "[array([[1, 1],\n",
       "        [1, 1],\n",
       "        [2, 2],\n",
       "        [2, 2],\n",
       "        [3, 3]]), array([[3, 3],\n",
       "        [4, 4],\n",
       "        [4, 4]])]"
      ]
     },
     "execution_count": 32,
     "metadata": {},
     "output_type": "execute_result"
    }
   ],
   "source": [
    "np.split(d,[5],axis=0)"
   ]
  },
  {
   "cell_type": "markdown",
   "metadata": {},
   "source": [
    "如果要将数组切分成三份呢？"
   ]
  },
  {
   "cell_type": "code",
   "execution_count": 33,
   "metadata": {},
   "outputs": [
    {
     "data": {
      "text/plain": [
       "[array([[1, 1],\n",
       "        [1, 1],\n",
       "        [2, 2]]), array([[2, 2],\n",
       "        [3, 3],\n",
       "        [3, 3]]), array([[4, 4],\n",
       "        [4, 4]])]"
      ]
     },
     "execution_count": 33,
     "metadata": {},
     "output_type": "execute_result"
    }
   ],
   "source": [
    "np.split(d,[3,6],axis=0)  #注意这里不要写切片的冒号"
   ]
  },
  {
   "cell_type": "markdown",
   "metadata": {},
   "source": [
    "如果要将数组切分成四份呢？"
   ]
  },
  {
   "cell_type": "code",
   "execution_count": 34,
   "metadata": {},
   "outputs": [
    {
     "data": {
      "text/plain": [
       "[array([[1, 1],\n",
       "        [1, 1]]), array([[2, 2],\n",
       "        [2, 2]]), array([[3, 3],\n",
       "        [3, 3]]), array([[4, 4],\n",
       "        [4, 4]])]"
      ]
     },
     "execution_count": 34,
     "metadata": {},
     "output_type": "execute_result"
    }
   ],
   "source": [
    "np.split(d,[2,4,6],axis=0)  "
   ]
  },
  {
   "cell_type": "markdown",
   "metadata": {},
   "source": [
    "如果按照axis=1来划分呢？会有什么现象？"
   ]
  },
  {
   "cell_type": "code",
   "execution_count": 35,
   "metadata": {},
   "outputs": [
    {
     "data": {
      "text/plain": [
       "array([[1, 1],\n",
       "       [1, 1],\n",
       "       [2, 2],\n",
       "       [2, 2],\n",
       "       [3, 3],\n",
       "       [3, 3],\n",
       "       [4, 4],\n",
       "       [4, 4]])"
      ]
     },
     "execution_count": 35,
     "metadata": {},
     "output_type": "execute_result"
    },
    {
     "data": {
      "text/plain": [
       "[array([[1],\n",
       "        [1],\n",
       "        [2],\n",
       "        [2],\n",
       "        [3],\n",
       "        [3],\n",
       "        [4],\n",
       "        [4]]), array([[1],\n",
       "        [1],\n",
       "        [2],\n",
       "        [2],\n",
       "        [3],\n",
       "        [3],\n",
       "        [4],\n",
       "        [4]])]"
      ]
     },
     "execution_count": 35,
     "metadata": {},
     "output_type": "execute_result"
    }
   ],
   "source": [
    "d\n",
    "np.split(d,2,axis=1) "
   ]
  },
  {
   "cell_type": "markdown",
   "metadata": {},
   "source": [
    "```\n",
    "   \n",
    "   \n",
    "```\n",
    "### np.vsplit()\n",
    "- 语法：np.vsplit（ary，indices_or_sections）\n",
    "- 作用：将数组垂直拆分为多个子数组（按行）。\n",
    "- 'vsplit'相当于'split'用'axis = 0'来'拆分'，数组总是沿着第一个轴分开,无论数组尺寸如何。"
   ]
  },
  {
   "cell_type": "code",
   "execution_count": 73,
   "metadata": {},
   "outputs": [
    {
     "data": {
      "text/plain": [
       "array([[1, 1],\n",
       "       [1, 1],\n",
       "       [0, 0],\n",
       "       [0, 0]])"
      ]
     },
     "execution_count": 73,
     "metadata": {},
     "output_type": "execute_result"
    },
    {
     "data": {
      "text/plain": [
       "[array([[1, 1],\n",
       "        [1, 1]]), array([[0, 0],\n",
       "        [0, 0]])]"
      ]
     },
     "execution_count": 73,
     "metadata": {},
     "output_type": "execute_result"
    },
    {
     "data": {
      "text/plain": [
       "[array([[1, 1],\n",
       "        [1, 1]]), array([[0, 0],\n",
       "        [0, 0]])]"
      ]
     },
     "execution_count": 73,
     "metadata": {},
     "output_type": "execute_result"
    }
   ],
   "source": [
    "c\n",
    "\n",
    "np.vsplit(c,2)\n",
    "np.split(c,2,axis=0)"
   ]
  },
  {
   "cell_type": "markdown",
   "metadata": {},
   "source": [
    "```\n",
    "\n",
    "   \n",
    "    \n",
    "   \n",
    "   \n",
    "```\n",
    "### np.hsplit()"
   ]
  },
  {
   "cell_type": "markdown",
   "metadata": {},
   "source": [
    "- 语法：np.hsplit（ary，indices_or_sections）\n",
    "- 作用：将数组水平拆分为多个子数组（按列）。\n",
    "- 'hsplit'相当于'split'用'axis = 1'来'拆分'，数组总是沿着第二个分开,轴与阵列尺寸无关。"
   ]
  },
  {
   "cell_type": "code",
   "execution_count": 76,
   "metadata": {},
   "outputs": [
    {
     "data": {
      "text/plain": [
       "array([[1, 1],\n",
       "       [1, 1],\n",
       "       [0, 0],\n",
       "       [0, 0]])"
      ]
     },
     "execution_count": 76,
     "metadata": {},
     "output_type": "execute_result"
    },
    {
     "data": {
      "text/plain": [
       "[array([[1],\n",
       "        [1],\n",
       "        [0],\n",
       "        [0]]), array([[1],\n",
       "        [1],\n",
       "        [0],\n",
       "        [0]])]"
      ]
     },
     "execution_count": 76,
     "metadata": {},
     "output_type": "execute_result"
    },
    {
     "data": {
      "text/plain": [
       "[array([[1],\n",
       "        [1],\n",
       "        [0],\n",
       "        [0]]), array([[1],\n",
       "        [1],\n",
       "        [0],\n",
       "        [0]])]"
      ]
     },
     "execution_count": 76,
     "metadata": {},
     "output_type": "execute_result"
    }
   ],
   "source": [
    "c\n",
    "np.hsplit(c,2)  #返回的对象其实是子阵列表\n",
    "np.split(c,2,axis=1)"
   ]
  },
  {
   "cell_type": "markdown",
   "metadata": {
    "collapsed": true
   },
   "source": [
    "```\n",
    "\n",
    "   \n",
    "\n",
    "```\n",
    "### 练习"
   ]
  },
  {
   "cell_type": "code",
   "execution_count": 13,
   "metadata": {},
   "outputs": [
    {
     "data": {
      "text/plain": [
       "array([[13, 16, 22,  1,  4, 28,  4],\n",
       "       [ 8, 10, 20, 22, 19,  5, 24],\n",
       "       [ 7, 25, 25, 13, 27,  2,  7],\n",
       "       [ 8, 24, 15, 25, 18,  6, 26],\n",
       "       [14,  9, 10, 21, 20, 17, 20],\n",
       "       [ 6, 16, 16,  1, 19,  4, 25],\n",
       "       [18, 20, 20, 20, 15,  8,  1]])"
      ]
     },
     "execution_count": 13,
     "metadata": {},
     "output_type": "execute_result"
    }
   ],
   "source": [
    "np.random.seed(0)\n",
    "ss=np.random.randint(1,30,(7,7))\n",
    "ss"
   ]
  },
  {
   "cell_type": "markdown",
   "metadata": {},
   "source": [
    "将上面的数组按照以下规则切割：\n",
    "- 横向切，切割成三部分，比例：2：2：3\n",
    "- 纵向切，切割成两部分，比例：3：4"
   ]
  },
  {
   "cell_type": "code",
   "execution_count": 18,
   "metadata": {},
   "outputs": [
    {
     "data": {
      "text/plain": [
       "[array([[13, 16, 22,  1,  4, 28,  4],\n",
       "        [ 8, 10, 20, 22, 19,  5, 24]]), array([[ 7, 25, 25, 13, 27,  2,  7],\n",
       "        [ 8, 24, 15, 25, 18,  6, 26]]), array([[14,  9, 10, 21, 20, 17, 20],\n",
       "        [ 6, 16, 16,  1, 19,  4, 25],\n",
       "        [18, 20, 20, 20, 15,  8,  1]])]"
      ]
     },
     "execution_count": 18,
     "metadata": {},
     "output_type": "execute_result"
    },
    {
     "data": {
      "text/plain": [
       "[array([[13, 16, 22,  1,  4, 28,  4],\n",
       "        [ 8, 10, 20, 22, 19,  5, 24]]), array([[ 7, 25, 25, 13, 27,  2,  7],\n",
       "        [ 8, 24, 15, 25, 18,  6, 26]]), array([[14,  9, 10, 21, 20, 17, 20],\n",
       "        [ 6, 16, 16,  1, 19,  4, 25],\n",
       "        [18, 20, 20, 20, 15,  8,  1]])]"
      ]
     },
     "execution_count": 18,
     "metadata": {},
     "output_type": "execute_result"
    },
    {
     "data": {
      "text/plain": [
       "[array([[13, 16, 22],\n",
       "        [ 8, 10, 20],\n",
       "        [ 7, 25, 25],\n",
       "        [ 8, 24, 15],\n",
       "        [14,  9, 10],\n",
       "        [ 6, 16, 16],\n",
       "        [18, 20, 20]]), array([[ 1,  4, 28,  4],\n",
       "        [22, 19,  5, 24],\n",
       "        [13, 27,  2,  7],\n",
       "        [25, 18,  6, 26],\n",
       "        [21, 20, 17, 20],\n",
       "        [ 1, 19,  4, 25],\n",
       "        [20, 15,  8,  1]])]"
      ]
     },
     "execution_count": 18,
     "metadata": {},
     "output_type": "execute_result"
    },
    {
     "data": {
      "text/plain": [
       "[array([[13, 16, 22],\n",
       "        [ 8, 10, 20],\n",
       "        [ 7, 25, 25],\n",
       "        [ 8, 24, 15],\n",
       "        [14,  9, 10],\n",
       "        [ 6, 16, 16],\n",
       "        [18, 20, 20]]), array([[ 1,  4, 28,  4],\n",
       "        [22, 19,  5, 24],\n",
       "        [13, 27,  2,  7],\n",
       "        [25, 18,  6, 26],\n",
       "        [21, 20, 17, 20],\n",
       "        [ 1, 19,  4, 25],\n",
       "        [20, 15,  8,  1]])]"
      ]
     },
     "execution_count": 18,
     "metadata": {},
     "output_type": "execute_result"
    }
   ],
   "source": [
    "np.split(ss,[2,4],axis=0)\n",
    "np.vsplit(ss,[2,4])\n",
    "np.split(ss,[3],axis=1)\n",
    "np.hsplit(ss,[3])"
   ]
  }
 ],
 "metadata": {
  "kernelspec": {
   "display_name": "Python 3",
   "language": "python",
   "name": "python3"
  },
  "language_info": {
   "codemirror_mode": {
    "name": "ipython",
    "version": 3
   },
   "file_extension": ".py",
   "mimetype": "text/x-python",
   "name": "python",
   "nbconvert_exporter": "python",
   "pygments_lexer": "ipython3",
   "version": "3.7.1"
  },
  "nbTranslate": {
   "displayLangs": [
    "*"
   ],
   "hotkey": "alt-t",
   "langInMainMenu": true,
   "sourceLang": "en",
   "targetLang": "fr",
   "useGoogleTranslate": true
  },
  "toc": {
   "base_numbering": 1,
   "nav_menu": {},
   "number_sections": true,
   "sideBar": true,
   "skip_h1_title": false,
   "title_cell": "Table of Contents",
   "title_sidebar": "Contents",
   "toc_cell": true,
   "toc_position": {
    "height": "calc(100% - 180px)",
    "left": "10px",
    "top": "150px",
    "width": "245px"
   },
   "toc_section_display": true,
   "toc_window_display": true
  },
  "varInspector": {
   "cols": {
    "lenName": 16,
    "lenType": 16,
    "lenVar": 40
   },
   "kernels_config": {
    "python": {
     "delete_cmd_postfix": "",
     "delete_cmd_prefix": "del ",
     "library": "var_list.py",
     "varRefreshCmd": "print(var_dic_list())"
    },
    "r": {
     "delete_cmd_postfix": ") ",
     "delete_cmd_prefix": "rm(",
     "library": "var_list.r",
     "varRefreshCmd": "cat(var_dic_list()) "
    }
   },
   "types_to_exclude": [
    "module",
    "function",
    "builtin_function_or_method",
    "instance",
    "_Feature"
   ],
   "window_display": false
  }
 },
 "nbformat": 4,
 "nbformat_minor": 2
}
