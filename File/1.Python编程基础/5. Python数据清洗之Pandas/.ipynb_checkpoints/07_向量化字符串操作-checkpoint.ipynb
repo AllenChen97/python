{
 "cells": [
  {
   "cell_type": "markdown",
   "metadata": {},
   "source": [
    "从网络采集来的数据集往往是杂乱无章，而使用Python处理字符串往往是比较容易的，Pandas同样提供一系列向量化字符串操作。"
   ]
  },
  {
   "cell_type": "markdown",
   "metadata": {},
   "source": [
    "# Pandas字符串操作"
   ]
  },
  {
   "cell_type": "markdown",
   "metadata": {},
   "source": [
    "假设我们有以下的Series实例："
   ]
  },
  {
   "cell_type": "code",
   "execution_count": 2,
   "metadata": {},
   "outputs": [],
   "source": [
    "import  numpy as np\n",
    "import pandas as pd\n",
    "\n",
    "a=pd.Series([\"make\",\"join\",np.nan,np.nan,\"mary\"])"
   ]
  },
  {
   "cell_type": "markdown",
   "metadata": {},
   "source": [
    "如果我们用函数向量化的方法，对上面的Series中的字符串进行处理，比如所有单词的首写字母都转化为大写，是可行的。    \n",
    "但是如果Series中的字符串包含缺失值，就需要进一步修改向量化的函数，比较繁琐。  \n",
    "对字符串进行处理，最快速的是使用Pandas字符串操作方法。   "
   ]
  },
  {
   "cell_type": "code",
   "execution_count": 4,
   "metadata": {},
   "outputs": [
    {
     "data": {
      "text/plain": [
       "0    Make\n",
       "1    Join\n",
       "2     NaN\n",
       "3     NaN\n",
       "4    Mary\n",
       "dtype: object"
      ]
     },
     "execution_count": 4,
     "metadata": {},
     "output_type": "execute_result"
    }
   ],
   "source": [
    "a=pd.Series([\"make\",\"join\",np.nan,np.nan,\"mary\"])\n",
    "a.str.capitalize()"
   ]
  },
  {
   "cell_type": "markdown",
   "metadata": {},
   "source": [
    "# Pandas字符串方法列表"
   ]
  },
  {
   "cell_type": "markdown",
   "metadata": {},
   "source": [
    "Pandas绝大多数字符串方法都跟Python字符串方法很相似："
   ]
  },
  {
   "cell_type": "markdown",
   "metadata": {},
   "source": [
    "- len()\n",
    "  \n",
    "----------------------------------------------------------------\n",
    "- 字符检索\n",
    "    - find()\n",
    "    - rfind()\n",
    "  \n",
    "----------------------------------------------------------------\n",
    "- 字符转换\n",
    "    - lower()\n",
    "    - upper()：\n",
    "    - title：将每个单词的第一个字符转换为大写和保持小写。\n",
    "    - capitalize()：将第一个字符转换为大写字母保持小写。\n",
    "    - swapcase() ：将大写转换为小写，小写转换为大写。\n",
    "    - translate()\n",
    "  \n",
    "----------------------------------------------------------------\n",
    "- 字符类型判断\n",
    "    - islower()\n",
    "    - isupper()\n",
    "    - isnumeric()\n",
    "    - isalnum()\n",
    "    - isdecimal()\n",
    "    - isalpha()\n",
    "    - isdigit()\n",
    "    - isspace()\n",
    "    - istitle()\n",
    "  \n",
    "----------------------------------------------------------------\n",
    "- 字符调整\n",
    "    - ljust()\n",
    "    - rjust()\n",
    "  \n",
    "----------------------------------------------------------------\n",
    "- 字符对齐与填充\n",
    "    - startswith()\n",
    "    - endswith()\n",
    "    - center()\n",
    "    - zfill()\n",
    "  \n",
    "--------------------------------------------------------------------------------------\n",
    "- 字符检索\n",
    "    - index()\n",
    "    - rindex()\n",
    "    - find()\n",
    "  \n",
    "----------------------------------------------------------------\n",
    "- 字符切割\n",
    "    - split()\n",
    "    - rsplit()\n",
    "    - partition()\n",
    "    - rpartition()\n",
    "  \n",
    "----------------------------------------------------------------\n",
    "- 字符整理\n",
    "    - strip()\n",
    "    - rstrip()\n",
    "    - lstrip()"
   ]
  },
  {
   "cell_type": "markdown",
   "metadata": {},
   "source": [
    "上面有一些方法，我们在Python字符串方法中没有学过，接下来演示一下："
   ]
  },
  {
   "cell_type": "markdown",
   "metadata": {},
   "source": [
    "## 字符转化\n",
    "- .str.translate"
   ]
  },
  {
   "cell_type": "markdown",
   "metadata": {},
   "source": [
    "补：\n",
    "ord()函数主要用来返回对应字符的ascii码，chr()主要用来表示ascii码对应的字符他的输入时数字，可以用十进制，也可以用十六进制。"
   ]
  },
  {
   "cell_type": "code",
   "execution_count": 16,
   "metadata": {},
   "outputs": [
    {
     "data": {
      "text/plain": [
       "0    make\n",
       "1    join\n",
       "2     NaN\n",
       "3     NaN\n",
       "4    mary\n",
       "dtype: object"
      ]
     },
     "execution_count": 16,
     "metadata": {},
     "output_type": "execute_result"
    },
    {
     "data": {
      "text/plain": [
       "0    Make\n",
       "1     Jin\n",
       "2     NaN\n",
       "3     NaN\n",
       "4    Mary\n",
       "dtype: object"
      ]
     },
     "execution_count": 16,
     "metadata": {},
     "output_type": "execute_result"
    }
   ],
   "source": [
    "dic={ord(\"m\"):ord(\"M\"),ord(\"j\"):ord(\"J\"),ord(\"o\"):None}  #如果要删除某个字符，映射到None即可\n",
    "\n",
    "a\n",
    "a.str.translate(dic)"
   ]
  },
  {
   "cell_type": "markdown",
   "metadata": {},
   "source": [
    "## 字符调整\n",
    "-  .str.ljust()\n",
    "-  .str.rjust()"
   ]
  },
  {
   "cell_type": "code",
   "execution_count": 20,
   "metadata": {},
   "outputs": [
    {
     "data": {
      "text/plain": [
       "0    make*\n",
       "1    join*\n",
       "2      NaN\n",
       "3      NaN\n",
       "4    mary*\n",
       "dtype: object"
      ]
     },
     "execution_count": 20,
     "metadata": {},
     "output_type": "execute_result"
    }
   ],
   "source": [
    "a.str.ljust(5,\"*\")"
   ]
  },
  {
   "cell_type": "code",
   "execution_count": 21,
   "metadata": {},
   "outputs": [
    {
     "data": {
      "text/plain": [
       "0    *make\n",
       "1    *join\n",
       "2      NaN\n",
       "3      NaN\n",
       "4    *mary\n",
       "dtype: object"
      ]
     },
     "execution_count": 21,
     "metadata": {},
     "output_type": "execute_result"
    }
   ],
   "source": [
    "a.str.rjust(5,\"*\")"
   ]
  },
  {
   "cell_type": "markdown",
   "metadata": {},
   "source": [
    "## 字符对齐与填充"
   ]
  },
  {
   "cell_type": "code",
   "execution_count": 23,
   "metadata": {},
   "outputs": [
    {
     "data": {
      "text/plain": [
       "0     True\n",
       "1    False\n",
       "2      NaN\n",
       "3      NaN\n",
       "4     True\n",
       "dtype: object"
      ]
     },
     "execution_count": 23,
     "metadata": {},
     "output_type": "execute_result"
    }
   ],
   "source": [
    "a.str.startswith(\"m\")"
   ]
  },
  {
   "cell_type": "code",
   "execution_count": 29,
   "metadata": {},
   "outputs": [
    {
     "data": {
      "text/plain": [
       "0    *make*\n",
       "1    *join*\n",
       "2       NaN\n",
       "3       NaN\n",
       "4    *mary*\n",
       "dtype: object"
      ]
     },
     "execution_count": 29,
     "metadata": {},
     "output_type": "execute_result"
    }
   ],
   "source": [
    "a.str.center(6,\"*\")"
   ]
  },
  {
   "cell_type": "code",
   "execution_count": 33,
   "metadata": {},
   "outputs": [
    {
     "data": {
      "text/plain": [
       "0    00make\n",
       "1    00join\n",
       "2       NaN\n",
       "3       NaN\n",
       "4    00mary\n",
       "dtype: object"
      ]
     },
     "execution_count": 33,
     "metadata": {},
     "output_type": "execute_result"
    }
   ],
   "source": [
    "a.str.zfill(6)"
   ]
  },
  {
   "cell_type": "markdown",
   "metadata": {},
   "source": [
    "## 字符检索"
   ]
  },
  {
   "cell_type": "code",
   "execution_count": 50,
   "metadata": {},
   "outputs": [
    {
     "data": {
      "text/plain": [
       "0    0\n",
       "1    0\n",
       "2    2\n",
       "dtype: int64"
      ]
     },
     "execution_count": 50,
     "metadata": {},
     "output_type": "execute_result"
    }
   ],
   "source": [
    "a=pd.Series([\"make\",\"mary\",\"james\"])\n",
    "\n",
    "a.str.index(\"m\")"
   ]
  },
  {
   "cell_type": "code",
   "execution_count": 53,
   "metadata": {},
   "outputs": [
    {
     "data": {
      "text/plain": [
       "0    0\n",
       "1    0\n",
       "2    2\n",
       "3    6\n",
       "dtype: int64"
      ]
     },
     "execution_count": 53,
     "metadata": {},
     "output_type": "execute_result"
    }
   ],
   "source": [
    "a=pd.Series([\"make\",\"mary\",\"james\",\"jamesom\"])\n",
    "\n",
    "a.str.rindex(\"m\")"
   ]
  },
  {
   "cell_type": "markdown",
   "metadata": {},
   "source": [
    "注意，如果.str.index()方法无法在series中找到包含字符的字符串或者出现缺失值，就会报错。"
   ]
  },
  {
   "cell_type": "markdown",
   "metadata": {},
   "source": [
    "如果用.str.find()的话，找不到检索字符的话，将会返回-1。"
   ]
  },
  {
   "cell_type": "code",
   "execution_count": 57,
   "metadata": {},
   "outputs": [
    {
     "data": {
      "text/plain": [
       "0    0.0\n",
       "1    0.0\n",
       "2    2.0\n",
       "3    2.0\n",
       "4   -1.0\n",
       "5    NaN\n",
       "dtype: float64"
      ]
     },
     "execution_count": 57,
     "metadata": {},
     "output_type": "execute_result"
    }
   ],
   "source": [
    "a=pd.Series([\"make\",\"mary\",\"james\",\"jamesom\",\"jack\",None])\n",
    "\n",
    "a.str.find(\"m\")"
   ]
  },
  {
   "cell_type": "code",
   "execution_count": null,
   "metadata": {},
   "outputs": [],
   "source": []
  }
 ],
 "metadata": {
  "kernelspec": {
   "display_name": "Python 3",
   "language": "python",
   "name": "python3"
  },
  "language_info": {
   "codemirror_mode": {
    "name": "ipython",
    "version": 3
   },
   "file_extension": ".py",
   "mimetype": "text/x-python",
   "name": "python",
   "nbconvert_exporter": "python",
   "pygments_lexer": "ipython3",
   "version": "3.7.0"
  },
  "toc": {
   "base_numbering": 1,
   "nav_menu": {},
   "number_sections": true,
   "sideBar": true,
   "skip_h1_title": false,
   "title_cell": "Table of Contents",
   "title_sidebar": "Contents",
   "toc_cell": false,
   "toc_position": {},
   "toc_section_display": true,
   "toc_window_display": true
  }
 },
 "nbformat": 4,
 "nbformat_minor": 2
}
