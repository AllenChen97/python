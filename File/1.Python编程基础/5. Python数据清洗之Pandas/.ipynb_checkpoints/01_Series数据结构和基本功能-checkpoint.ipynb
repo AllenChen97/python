{
 "cells": [
  {
   "cell_type": "markdown",
   "metadata": {
    "toc": true
   },
   "source": [
    "<h1>Table of Contents<span class=\"tocSkip\"></span></h1>\n",
    "<div class=\"toc\"><ul class=\"toc-item\"><li><span><a href=\"#Series的定义与使用\" data-toc-modified-id=\"Series的定义与使用-1\"><span class=\"toc-item-num\">1&nbsp;&nbsp;</span>Series的定义与使用</a></span><ul class=\"toc-item\"><li><span><a href=\"#Series索引标签的添加\" data-toc-modified-id=\"Series索引标签的添加-1.1\"><span class=\"toc-item-num\">1.1&nbsp;&nbsp;</span>Series索引标签的添加</a></span><ul class=\"toc-item\"><li><span><a href=\"#方法一\" data-toc-modified-id=\"方法一-1.1.1\"><span class=\"toc-item-num\">1.1.1&nbsp;&nbsp;</span>方法一</a></span></li><li><span><a href=\"#方法二\" data-toc-modified-id=\"方法二-1.1.2\"><span class=\"toc-item-num\">1.1.2&nbsp;&nbsp;</span>方法二</a></span></li></ul></li><li><span><a href=\"#Series及其索引名字的添加\" data-toc-modified-id=\"Series及其索引名字的添加-1.2\"><span class=\"toc-item-num\">1.2&nbsp;&nbsp;</span>Series及其索引名字的添加</a></span><ul class=\"toc-item\"><li><span><a href=\"#Series名字的添加\" data-toc-modified-id=\"Series名字的添加-1.2.1\"><span class=\"toc-item-num\">1.2.1&nbsp;&nbsp;</span>Series名字的添加</a></span></li><li><span><a href=\"#索引名字的添加\" data-toc-modified-id=\"索引名字的添加-1.2.2\"><span class=\"toc-item-num\">1.2.2&nbsp;&nbsp;</span>索引名字的添加</a></span></li></ul></li><li><span><a href=\"#Pandas的Index对象\" data-toc-modified-id=\"Pandas的Index对象-1.3\"><span class=\"toc-item-num\">1.3&nbsp;&nbsp;</span>Pandas的Index对象</a></span></li><li><span><a href=\"#练习\" data-toc-modified-id=\"练习-1.4\"><span class=\"toc-item-num\">1.4&nbsp;&nbsp;</span>练习</a></span></li><li><span><a href=\"#Series的索引和切片\" data-toc-modified-id=\"Series的索引和切片-1.5\"><span class=\"toc-item-num\">1.5&nbsp;&nbsp;</span>Series的索引和切片</a></span></li></ul></li><li><span><a href=\"#Series掩码提取\" data-toc-modified-id=\"Series掩码提取-2\"><span class=\"toc-item-num\">2&nbsp;&nbsp;</span>Series掩码提取</a></span><ul class=\"toc-item\"><li><span><a href=\"#练习\" data-toc-modified-id=\"练习-2.1\"><span class=\"toc-item-num\">2.1&nbsp;&nbsp;</span>练习</a></span></li></ul></li><li><span><a href=\"#Series运算符和广播方法\" data-toc-modified-id=\"Series运算符和广播方法-3\"><span class=\"toc-item-num\">3&nbsp;&nbsp;</span>Series运算符和广播方法</a></span></li></ul></div>"
   ]
  },
  {
   "cell_type": "code",
   "execution_count": 13,
   "metadata": {
    "ExecuteTime": {
     "end_time": "2019-03-26T07:46:39.793318Z",
     "start_time": "2019-03-26T07:46:39.788322Z"
    }
   },
   "outputs": [],
   "source": [
    "#全部行都能输出\n",
    "from IPython.core.interactiveshell import InteractiveShell\n",
    "InteractiveShell.ast_node_interactivity = \"all\""
   ]
  },
  {
   "cell_type": "markdown",
   "metadata": {},
   "source": [
    "## Series的定义与使用"
   ]
  },
  {
   "cell_type": "markdown",
   "metadata": {},
   "source": [
    "- Series 是一个带有 名称 和 索引 的**一维数组**。\n",
    "- Series 中包含的数据类型可以是整数、浮点、字符串、列表、元组、ndarray等。\n",
    "- 假定有一个场景是：存储一些用户的信息，暂时只包括年龄信息。\n",
    "- 我们可以通过 Series 来存储，这里我们通过 Series 存储了四个年龄：18/30/25/40，只需将要存储的数据构建成一个数组，然后赋值给data参数即可。"
   ]
  },
  {
   "cell_type": "markdown",
   "metadata": {},
   "source": [
    "pd.Series(['data=None', 'index=None', 'dtype=None', 'name=None'],)"
   ]
  },
  {
   "cell_type": "code",
   "execution_count": 14,
   "metadata": {
    "ExecuteTime": {
     "end_time": "2019-03-26T08:30:15.840081Z",
     "start_time": "2019-03-26T08:30:06.586810Z"
    }
   },
   "outputs": [],
   "source": [
    "# 导入相关库（一般一起导入两个包）\n",
    "import numpy as np\n",
    "import pandas as pd"
   ]
  },
  {
   "cell_type": "code",
   "execution_count": 3,
   "metadata": {
    "ExecuteTime": {
     "end_time": "2019-03-26T09:05:03.063226Z",
     "start_time": "2019-03-26T09:05:03.053235Z"
    }
   },
   "outputs": [
    {
     "data": {
      "text/plain": [
       "0    10\n",
       "1    11\n",
       "2    12\n",
       "3    13\n",
       "4    14\n",
       "5    15\n",
       "6    16\n",
       "7    17\n",
       "8    18\n",
       "9    19\n",
       "dtype: int64"
      ]
     },
     "execution_count": 3,
     "metadata": {},
     "output_type": "execute_result"
    }
   ],
   "source": [
    "sr=pd.Series(range(10,20))\n",
    "sr"
   ]
  },
  {
   "cell_type": "markdown",
   "metadata": {},
   "source": [
    "从上面显示的dtype可以看出，和ndarray一样，Series中只能保存一种数据类型，如果数据类型不一致的话，也会自动转化为一致，转化的规则和ndarray类似："
   ]
  },
  {
   "cell_type": "code",
   "execution_count": 20,
   "metadata": {},
   "outputs": [
    {
     "data": {
      "text/plain": [
       "0    1.0\n",
       "1    2.1\n",
       "2    3.0\n",
       "3    4.0\n",
       "dtype: float64"
      ]
     },
     "execution_count": 20,
     "metadata": {},
     "output_type": "execute_result"
    },
    {
     "data": {
      "text/plain": [
       "0    1\n",
       "1    2\n",
       "2    3\n",
       "3    4\n",
       "dtype: object"
      ]
     },
     "execution_count": 20,
     "metadata": {},
     "output_type": "execute_result"
    }
   ],
   "source": [
    "pd.Series([1,2.1,3,4])\n",
    "pd.Series([1,\"2\",3,4])"
   ]
  },
  {
   "cell_type": "markdown",
   "metadata": {},
   "source": [
    "Series只能用来定义一维数组（及其索引），如果将多维数组强制转换为Series的话："
   ]
  },
  {
   "cell_type": "code",
   "execution_count": 26,
   "metadata": {
    "collapsed": true
   },
   "outputs": [
    {
     "ename": "Exception",
     "evalue": "Data must be 1-dimensional",
     "output_type": "error",
     "traceback": [
      "\u001b[1;31m---------------------------------------------------------------------------\u001b[0m",
      "\u001b[1;31mException\u001b[0m                                 Traceback (most recent call last)",
      "\u001b[1;32m<ipython-input-26-06fbfbf20a12>\u001b[0m in \u001b[0;36m<module>\u001b[1;34m\u001b[0m\n\u001b[0;32m      1\u001b[0m \u001b[0ma\u001b[0m\u001b[1;33m=\u001b[0m\u001b[0mnp\u001b[0m\u001b[1;33m.\u001b[0m\u001b[0mrandom\u001b[0m\u001b[1;33m.\u001b[0m\u001b[0mrandint\u001b[0m\u001b[1;33m(\u001b[0m\u001b[1;36m1\u001b[0m\u001b[1;33m,\u001b[0m\u001b[1;36m10\u001b[0m\u001b[1;33m,\u001b[0m\u001b[1;33m(\u001b[0m\u001b[1;36m2\u001b[0m\u001b[1;33m,\u001b[0m\u001b[1;36m2\u001b[0m\u001b[1;33m)\u001b[0m\u001b[1;33m)\u001b[0m\u001b[1;33m\u001b[0m\u001b[1;33m\u001b[0m\u001b[0m\n\u001b[0;32m      2\u001b[0m \u001b[1;33m\u001b[0m\u001b[0m\n\u001b[1;32m----> 3\u001b[1;33m \u001b[0mpd\u001b[0m\u001b[1;33m.\u001b[0m\u001b[0mSeries\u001b[0m\u001b[1;33m(\u001b[0m\u001b[0ma\u001b[0m\u001b[1;33m)\u001b[0m\u001b[1;33m\u001b[0m\u001b[1;33m\u001b[0m\u001b[0m\n\u001b[0m",
      "\u001b[1;32mC:\\ProgramData\\Anaconda3\\lib\\site-packages\\pandas\\core\\series.py\u001b[0m in \u001b[0;36m__init__\u001b[1;34m(self, data, index, dtype, name, copy, fastpath)\u001b[0m\n\u001b[0;32m    273\u001b[0m             \u001b[1;32melse\u001b[0m\u001b[1;33m:\u001b[0m\u001b[1;33m\u001b[0m\u001b[1;33m\u001b[0m\u001b[0m\n\u001b[0;32m    274\u001b[0m                 data = _sanitize_array(data, index, dtype, copy,\n\u001b[1;32m--> 275\u001b[1;33m                                        raise_cast_failure=True)\n\u001b[0m\u001b[0;32m    276\u001b[0m \u001b[1;33m\u001b[0m\u001b[0m\n\u001b[0;32m    277\u001b[0m                 \u001b[0mdata\u001b[0m \u001b[1;33m=\u001b[0m \u001b[0mSingleBlockManager\u001b[0m\u001b[1;33m(\u001b[0m\u001b[0mdata\u001b[0m\u001b[1;33m,\u001b[0m \u001b[0mindex\u001b[0m\u001b[1;33m,\u001b[0m \u001b[0mfastpath\u001b[0m\u001b[1;33m=\u001b[0m\u001b[1;32mTrue\u001b[0m\u001b[1;33m)\u001b[0m\u001b[1;33m\u001b[0m\u001b[1;33m\u001b[0m\u001b[0m\n",
      "\u001b[1;32mC:\\ProgramData\\Anaconda3\\lib\\site-packages\\pandas\\core\\series.py\u001b[0m in \u001b[0;36m_sanitize_array\u001b[1;34m(data, index, dtype, copy, raise_cast_failure)\u001b[0m\n\u001b[0;32m   4163\u001b[0m     \u001b[1;32melif\u001b[0m \u001b[0msubarr\u001b[0m\u001b[1;33m.\u001b[0m\u001b[0mndim\u001b[0m \u001b[1;33m>\u001b[0m \u001b[1;36m1\u001b[0m\u001b[1;33m:\u001b[0m\u001b[1;33m\u001b[0m\u001b[1;33m\u001b[0m\u001b[0m\n\u001b[0;32m   4164\u001b[0m         \u001b[1;32mif\u001b[0m \u001b[0misinstance\u001b[0m\u001b[1;33m(\u001b[0m\u001b[0mdata\u001b[0m\u001b[1;33m,\u001b[0m \u001b[0mnp\u001b[0m\u001b[1;33m.\u001b[0m\u001b[0mndarray\u001b[0m\u001b[1;33m)\u001b[0m\u001b[1;33m:\u001b[0m\u001b[1;33m\u001b[0m\u001b[1;33m\u001b[0m\u001b[0m\n\u001b[1;32m-> 4165\u001b[1;33m             \u001b[1;32mraise\u001b[0m \u001b[0mException\u001b[0m\u001b[1;33m(\u001b[0m\u001b[1;34m'Data must be 1-dimensional'\u001b[0m\u001b[1;33m)\u001b[0m\u001b[1;33m\u001b[0m\u001b[1;33m\u001b[0m\u001b[0m\n\u001b[0m\u001b[0;32m   4166\u001b[0m         \u001b[1;32melse\u001b[0m\u001b[1;33m:\u001b[0m\u001b[1;33m\u001b[0m\u001b[1;33m\u001b[0m\u001b[0m\n\u001b[0;32m   4167\u001b[0m             \u001b[0msubarr\u001b[0m \u001b[1;33m=\u001b[0m \u001b[0mcom\u001b[0m\u001b[1;33m.\u001b[0m\u001b[0m_asarray_tuplesafe\u001b[0m\u001b[1;33m(\u001b[0m\u001b[0mdata\u001b[0m\u001b[1;33m,\u001b[0m \u001b[0mdtype\u001b[0m\u001b[1;33m=\u001b[0m\u001b[0mdtype\u001b[0m\u001b[1;33m)\u001b[0m\u001b[1;33m\u001b[0m\u001b[1;33m\u001b[0m\u001b[0m\n",
      "\u001b[1;31mException\u001b[0m: Data must be 1-dimensional"
     ]
    }
   ],
   "source": [
    "a=np.random.randint(1,10,(2,2))\n",
    "\n",
    "pd.Series(a)"
   ]
  },
  {
   "cell_type": "code",
   "execution_count": 5,
   "metadata": {},
   "outputs": [
    {
     "data": {
      "text/plain": [
       "0    [[1], [2]]\n",
       "1    [[2], [3]]\n",
       "dtype: object"
      ]
     },
     "execution_count": 5,
     "metadata": {},
     "output_type": "execute_result"
    }
   ],
   "source": [
    "a=[[[1],[2]],[[2],[3]]]\n",
    "pd.Series(a)"
   ]
  },
  {
   "cell_type": "markdown",
   "metadata": {},
   "source": [
    "```\n",
    "\n",
    "   \n",
    "    \n",
    "   \n",
    "   \n",
    "```\n",
    "### Series索引标签的添加"
   ]
  },
  {
   "cell_type": "markdown",
   "metadata": {
    "ExecuteTime": {
     "end_time": "2019-03-26T09:08:18.180619Z",
     "start_time": "2019-03-26T09:08:18.177619Z"
    }
   },
   "source": [
    "#### 方法一"
   ]
  },
  {
   "cell_type": "code",
   "execution_count": 5,
   "metadata": {
    "ExecuteTime": {
     "end_time": "2019-03-26T09:15:54.529205Z",
     "start_time": "2019-03-26T09:15:54.514213Z"
    }
   },
   "outputs": [
    {
     "data": {
      "text/plain": [
       "蜘蛛侠       22\n",
       "灭霸      3000\n",
       "奇异博士      33\n",
       "钢铁侠       37\n",
       "蝙蝠侠       40\n",
       "索尔      1500\n",
       "dtype: int64"
      ]
     },
     "execution_count": 5,
     "metadata": {},
     "output_type": "execute_result"
    }
   ],
   "source": [
    "name = ['蜘蛛侠', '灭霸', '奇异博士', '钢铁侠', '蝙蝠侠', '索尔']\n",
    "age = [22, 3000, 33, 37, 40, 1500]\n",
    "\n",
    "heroes_age = pd.Series(age,index=name)   #索引index作为pd.Series()中的参数来为heroes_age指定索引\n",
    "heroes_age "
   ]
  },
  {
   "cell_type": "markdown",
   "metadata": {},
   "source": [
    "定义之后就可以查看Series的索引标签："
   ]
  },
  {
   "cell_type": "code",
   "execution_count": 6,
   "metadata": {},
   "outputs": [
    {
     "data": {
      "text/plain": [
       "Index(['蜘蛛侠', '灭霸', '奇异博士', '钢铁侠', '蝙蝠侠', '索尔'], dtype='object')"
      ]
     },
     "execution_count": 6,
     "metadata": {},
     "output_type": "execute_result"
    }
   ],
   "source": [
    "heroes_age.index"
   ]
  },
  {
   "cell_type": "markdown",
   "metadata": {
    "ExecuteTime": {
     "end_time": "2019-03-26T09:08:37.571816Z",
     "start_time": "2019-03-26T09:08:37.564822Z"
    }
   },
   "source": [
    "```\n",
    "\n",
    "\n",
    "```\n",
    "#### 方法二"
   ]
  },
  {
   "cell_type": "markdown",
   "metadata": {},
   "source": [
    "建立好Series之后，用一个新的列表（或者其他有序序列）赋值到该Series的索引对象Index中。"
   ]
  },
  {
   "cell_type": "code",
   "execution_count": 7,
   "metadata": {
    "ExecuteTime": {
     "end_time": "2019-03-26T09:05:38.176140Z",
     "start_time": "2019-03-26T09:05:38.133168Z"
    }
   },
   "outputs": [
    {
     "data": {
      "text/plain": [
       "蜘蛛侠       22\n",
       "灭霸      3000\n",
       "奇异博士      33\n",
       "钢铁侠       37\n",
       "蝙蝠侠       40\n",
       "索尔      1500\n",
       "dtype: int64"
      ]
     },
     "execution_count": 7,
     "metadata": {},
     "output_type": "execute_result"
    }
   ],
   "source": [
    "user_age = pd.Series([22, 3000, 33, 37, 40, 1500])   \n",
    "\n",
    "user_age.index = ['蜘蛛侠', '灭霸', '奇异博士', '钢铁侠', '蝙蝠侠', '索尔']\n",
    "\n",
    "user_age"
   ]
  },
  {
   "cell_type": "markdown",
   "metadata": {
    "ExecuteTime": {
     "end_time": "2019-03-26T10:00:03.560566Z",
     "start_time": "2019-03-26T10:00:03.556568Z"
    }
   },
   "source": [
    "```\n",
    "\n",
    "\n",
    "```\n",
    "### Series及其索引名字的添加"
   ]
  },
  {
   "cell_type": "markdown",
   "metadata": {},
   "source": [
    "\n",
    "#### Series名字的添加"
   ]
  },
  {
   "cell_type": "markdown",
   "metadata": {},
   "source": [
    "**方法一：**"
   ]
  },
  {
   "cell_type": "code",
   "execution_count": 28,
   "metadata": {
    "ExecuteTime": {
     "end_time": "2019-03-26T09:19:59.849624Z",
     "start_time": "2019-03-26T09:19:59.837633Z"
    }
   },
   "outputs": [
    {
     "data": {
      "text/plain": [
       "蜘蛛侠       22\n",
       "灭霸      3000\n",
       "奇异博士      33\n",
       "钢铁侠       37\n",
       "蝙蝠侠       40\n",
       "索尔      1500\n",
       "Name: 英雄年龄, dtype: int64"
      ]
     },
     "execution_count": 28,
     "metadata": {},
     "output_type": "execute_result"
    },
    {
     "data": {
      "text/plain": [
       "'英雄年龄'"
      ]
     },
     "execution_count": 28,
     "metadata": {},
     "output_type": "execute_result"
    }
   ],
   "source": [
    "#直接用pd.Series()中的name参数来设置\n",
    "name = ['蜘蛛侠', '灭霸', '奇异博士', '钢铁侠', '蝙蝠侠', '索尔']\n",
    "age = [22, 3000, 33, 37, 40, 1500]\n",
    "heroes_age = pd.Series(age,index=name,name='英雄年龄')\n",
    "\n",
    "heroes_age\n",
    "heroes_age.name"
   ]
  },
  {
   "cell_type": "markdown",
   "metadata": {},
   "source": [
    "\n",
    "   \n",
    "   \n",
    "```\n",
    "\n",
    "\n",
    "```\n",
    "\n",
    "**方法二：**"
   ]
  },
  {
   "cell_type": "code",
   "execution_count": 29,
   "metadata": {
    "ExecuteTime": {
     "end_time": "2019-03-26T09:47:26.554660Z",
     "start_time": "2019-03-26T09:47:26.544667Z"
    }
   },
   "outputs": [
    {
     "data": {
      "text/plain": [
       "蜘蛛侠       22\n",
       "灭霸      3000\n",
       "奇异博士      33\n",
       "钢铁侠       37\n",
       "蝙蝠侠       40\n",
       "索尔      1500\n",
       "Name: 英雄年龄, dtype: int64"
      ]
     },
     "execution_count": 29,
     "metadata": {},
     "output_type": "execute_result"
    },
    {
     "data": {
      "text/plain": [
       "'英雄年龄'"
      ]
     },
     "execution_count": 29,
     "metadata": {},
     "output_type": "execute_result"
    }
   ],
   "source": [
    "#赋值到该Series的索引对象中\n",
    "name = ['蜘蛛侠', '灭霸', '奇异博士', '钢铁侠', '蝙蝠侠', '索尔']\n",
    "age = [22, 3000, 33, 37, 40, 1500]\n",
    "heroes_age = pd.Series(age,index=name)\n",
    "\n",
    "heroes_age.name=\"英雄年龄\"\n",
    "\n",
    "heroes_age\n",
    "heroes_age.name"
   ]
  },
  {
   "cell_type": "markdown",
   "metadata": {
    "ExecuteTime": {
     "end_time": "2019-03-26T09:40:07.071431Z",
     "start_time": "2019-03-26T09:40:07.067433Z"
    }
   },
   "source": [
    "```\n",
    "\n",
    "   \n",
    "   \n",
    "```\n",
    "#### 索引名字的添加"
   ]
  },
  {
   "cell_type": "code",
   "execution_count": 8,
   "metadata": {
    "ExecuteTime": {
     "end_time": "2019-03-26T09:48:20.469299Z",
     "start_time": "2019-03-26T09:48:20.460304Z"
    }
   },
   "outputs": [
    {
     "data": {
      "text/plain": [
       "英雄姓名\n",
       "蜘蛛侠       22\n",
       "灭霸      3000\n",
       "奇异博士      33\n",
       "钢铁侠       37\n",
       "蝙蝠侠       40\n",
       "索尔      1500\n",
       "dtype: int64"
      ]
     },
     "execution_count": 8,
     "metadata": {},
     "output_type": "execute_result"
    }
   ],
   "source": [
    "user_age.index = ['蜘蛛侠', '灭霸', '奇异博士', '钢铁侠', '蝙蝠侠', '索尔']\n",
    "user_age.index.name = '英雄姓名'\n",
    "user_age"
   ]
  },
  {
   "cell_type": "code",
   "execution_count": 9,
   "metadata": {
    "ExecuteTime": {
     "end_time": "2019-03-26T09:48:24.668185Z",
     "start_time": "2019-03-26T09:48:24.661190Z"
    }
   },
   "outputs": [
    {
     "data": {
      "text/plain": [
       "'英雄姓名'"
      ]
     },
     "execution_count": 9,
     "metadata": {},
     "output_type": "execute_result"
    }
   ],
   "source": [
    "user_age.index.name"
   ]
  },
  {
   "cell_type": "markdown",
   "metadata": {},
   "source": [
    "```\n",
    "\n",
    "   \n",
    "    \n",
    "   \n",
    "   \n",
    "```\n",
    "### Pandas的Index对象"
   ]
  },
  {
   "cell_type": "markdown",
   "metadata": {
    "collapsed": true
   },
   "source": [
    "综上所述,  一个Series包括了data, index以及name\n",
    "\n",
    "但是按照上面的方法，定义一个完整元素的Series的索引，需要先定义索引标签，再定义索引的名字，未免太繁琐。   \n",
    "可以通过定义Index对象，再将其赋值到Series中的index参数，这样可以一次性定义一个有完整元素的Series索引。"
   ]
  },
  {
   "cell_type": "code",
   "execution_count": 30,
   "metadata": {
    "ExecuteTime": {
     "end_time": "2019-03-26T08:30:18.894405Z",
     "start_time": "2019-03-26T08:30:18.807458Z"
    }
   },
   "outputs": [
    {
     "data": {
      "text/plain": [
       "英雄姓名\n",
       "蜘蛛侠       22\n",
       "灭霸      3000\n",
       "奇异博士      33\n",
       "钢铁侠       37\n",
       "蝙蝠侠       40\n",
       "索尔      1500\n",
       "Name: 英雄年龄, dtype: int64"
      ]
     },
     "execution_count": 30,
     "metadata": {},
     "output_type": "execute_result"
    }
   ],
   "source": [
    "#通过pd.Index方法先创建一个索引，再将索引添加到series中去 \n",
    "data=[22, 3000, 33, 37, 40, 1500]\n",
    "index = pd.Index(['蜘蛛侠', '灭霸', '奇异博士', '钢铁侠','蝙蝠侠', '索尔' ], name=\"英雄姓名\")  #注意这里的Index中的\"i\"是大写\n",
    "# index=['蜘蛛侠', '灭霸', '奇异博士', '钢铁侠','蝙蝠侠', '索尔' ]\n",
    "\n",
    "user_age = pd.Series(data=data, index=index, name=\"英雄年龄\")\n",
    "\n",
    "user_age"
   ]
  },
  {
   "cell_type": "markdown",
   "metadata": {},
   "source": [
    "### 练习"
   ]
  },
  {
   "cell_type": "markdown",
   "metadata": {},
   "source": [
    "自由构建几个Series。"
   ]
  },
  {
   "cell_type": "code",
   "execution_count": null,
   "metadata": {},
   "outputs": [],
   "source": []
  },
  {
   "cell_type": "markdown",
   "metadata": {},
   "source": [
    "```\n",
    "\n",
    "\n",
    "```\n",
    "### Series的索引和切片"
   ]
  },
  {
   "cell_type": "code",
   "execution_count": 32,
   "metadata": {
    "ExecuteTime": {
     "end_time": "2019-03-26T10:13:52.554342Z",
     "start_time": "2019-03-26T10:13:52.533355Z"
    }
   },
   "outputs": [
    {
     "data": {
      "text/plain": [
       "蜘蛛侠       22\n",
       "灭霸      3000\n",
       "奇异博士      33\n",
       "钢铁侠       37\n",
       "蝙蝠侠       40\n",
       "索尔      1500\n",
       "dtype: int64"
      ]
     },
     "execution_count": 32,
     "metadata": {},
     "output_type": "execute_result"
    }
   ],
   "source": [
    "name = ['蜘蛛侠', '灭霸', '奇异博士', '钢铁侠', '蝙蝠侠', '索尔']\n",
    "age = [22, 3000, 33, 37, 40, 1500]\n",
    "heroes_age = pd.Series(age,index=name)\n",
    "heroes_age "
   ]
  },
  {
   "cell_type": "code",
   "execution_count": 15,
   "metadata": {
    "ExecuteTime": {
     "end_time": "2019-03-26T10:16:35.328917Z",
     "start_time": "2019-03-26T10:16:35.318922Z"
    }
   },
   "outputs": [
    {
     "data": {
      "text/plain": [
       "22"
      ]
     },
     "execution_count": 15,
     "metadata": {},
     "output_type": "execute_result"
    },
    {
     "data": {
      "text/plain": [
       "22"
      ]
     },
     "execution_count": 15,
     "metadata": {},
     "output_type": "execute_result"
    }
   ],
   "source": [
    "heroes_age[0]\n",
    "heroes_age['蜘蛛侠']"
   ]
  },
  {
   "cell_type": "code",
   "execution_count": 16,
   "metadata": {
    "ExecuteTime": {
     "end_time": "2019-03-26T10:16:55.211946Z",
     "start_time": "2019-03-26T10:16:55.199954Z"
    }
   },
   "outputs": [
    {
     "data": {
      "text/plain": [
       "蜘蛛侠     22\n",
       "奇异博士    33\n",
       "蝙蝠侠     40\n",
       "dtype: int64"
      ]
     },
     "execution_count": 16,
     "metadata": {},
     "output_type": "execute_result"
    },
    {
     "data": {
      "text/plain": [
       "蜘蛛侠     22\n",
       "奇异博士    33\n",
       "蝙蝠侠     40\n",
       "dtype: int64"
      ]
     },
     "execution_count": 16,
     "metadata": {},
     "output_type": "execute_result"
    }
   ],
   "source": [
    "heroes_age[0::2]\n",
    "heroes_age['蜘蛛侠':'索尔':2]"
   ]
  },
  {
   "cell_type": "code",
   "execution_count": 17,
   "metadata": {
    "ExecuteTime": {
     "end_time": "2019-03-26T10:36:31.326313Z",
     "start_time": "2019-03-26T10:36:31.190397Z"
    }
   },
   "outputs": [
    {
     "data": {
      "text/plain": [
       "灭霸      3000\n",
       "奇异博士      33\n",
       "蝙蝠侠       40\n",
       "dtype: int64"
      ]
     },
     "execution_count": 17,
     "metadata": {},
     "output_type": "execute_result"
    },
    {
     "data": {
      "text/plain": [
       "灭霸      3000\n",
       "奇异博士      33\n",
       "蝙蝠侠       40\n",
       "dtype: int64"
      ]
     },
     "execution_count": 17,
     "metadata": {},
     "output_type": "execute_result"
    }
   ],
   "source": [
    "#单独抽取某些数据\n",
    "heroes_age[[1,2,4]]\n",
    "heroes_age[['灭霸','奇异博士','蝙蝠侠']]"
   ]
  },
  {
   "cell_type": "markdown",
   "metadata": {
    "collapsed": true
   },
   "source": [
    "Series 和字典非常类似, 我们可以将index和其标签看成是key, 对应的值看成是value。\n",
    "\n",
    "两个有很多类似的操作,比如Series同样可以使用.get()方法，且如果在Series中无法找到要找的值，可以设定返回默认值："
   ]
  },
  {
   "cell_type": "code",
   "execution_count": 18,
   "metadata": {},
   "outputs": [
    {
     "data": {
      "text/plain": [
       "22"
      ]
     },
     "execution_count": 18,
     "metadata": {},
     "output_type": "execute_result"
    },
    {
     "data": {
      "text/plain": [
       "22"
      ]
     },
     "execution_count": 18,
     "metadata": {},
     "output_type": "execute_result"
    }
   ],
   "source": [
    "user_age[\"蜘蛛侠\"]\n",
    "user_age.get(\"蜘蛛侠\")"
   ]
  },
  {
   "cell_type": "code",
   "execution_count": 19,
   "metadata": {
    "scrolled": true
   },
   "outputs": [
    {
     "data": {
      "text/plain": [
       "'不存在'"
      ]
     },
     "execution_count": 19,
     "metadata": {},
     "output_type": "execute_result"
    }
   ],
   "source": [
    "user_age.get(\"闪电侠\", '不存在')"
   ]
  },
  {
   "cell_type": "markdown",
   "metadata": {
    "ExecuteTime": {
     "end_time": "2019-03-26T10:42:35.271894Z",
     "start_time": "2019-03-26T10:42:35.267897Z"
    }
   },
   "source": [
    "```\n",
    "\n",
    "   \n",
    "    \n",
    "   \n",
    "   \n",
    "```\n",
    "## Series掩码提取"
   ]
  },
  {
   "cell_type": "markdown",
   "metadata": {},
   "source": [
    "Series值筛选与提取的方法和ndarray基本一致："
   ]
  },
  {
   "cell_type": "code",
   "execution_count": 34,
   "metadata": {},
   "outputs": [
    {
     "data": {
      "text/plain": [
       "蜘蛛侠       22\n",
       "灭霸      3000\n",
       "奇异博士      33\n",
       "钢铁侠       37\n",
       "蝙蝠侠       40\n",
       "索尔      1500\n",
       "dtype: int64"
      ]
     },
     "execution_count": 34,
     "metadata": {},
     "output_type": "execute_result"
    }
   ],
   "source": [
    "name = ['蜘蛛侠', '灭霸', '奇异博士', '钢铁侠', '蝙蝠侠', '索尔']\n",
    "age = [22, 3000, 33, 37, 40, 1500]\n",
    "heroes_age = pd.Series(age,index=name)\n",
    "heroes_age "
   ]
  },
  {
   "cell_type": "code",
   "execution_count": 35,
   "metadata": {
    "ExecuteTime": {
     "end_time": "2019-03-26T11:01:22.658843Z",
     "start_time": "2019-03-26T11:01:22.634857Z"
    }
   },
   "outputs": [
    {
     "data": {
      "text/plain": [
       "索尔    1500\n",
       "dtype: int64"
      ]
     },
     "execution_count": 35,
     "metadata": {},
     "output_type": "execute_result"
    }
   ],
   "source": [
    "# heroes_age[heroes_age>100]\n",
    "\n",
    "heroes_age[(heroes_age>1000)*(heroes_age<2000)]"
   ]
  },
  {
   "cell_type": "code",
   "execution_count": 42,
   "metadata": {
    "ExecuteTime": {
     "end_time": "2019-03-26T11:08:10.765762Z",
     "start_time": "2019-03-26T11:08:10.743776Z"
    }
   },
   "outputs": [
    {
     "data": {
      "text/plain": [
       "蜘蛛侠      22\n",
       "灭霸     3000\n",
       "蝙蝠侠      40\n",
       "索尔     1500\n",
       "dtype: int64"
      ]
     },
     "execution_count": 42,
     "metadata": {},
     "output_type": "execute_result"
    },
    {
     "data": {
      "text/plain": [
       "蜘蛛侠     22\n",
       "奇异博士    33\n",
       "钢铁侠     37\n",
       "蝙蝠侠     40\n",
       "dtype: int64"
      ]
     },
     "execution_count": 42,
     "metadata": {},
     "output_type": "execute_result"
    },
    {
     "data": {
      "text/plain": [
       "蜘蛛侠    22\n",
       "蝙蝠侠    40\n",
       "dtype: int64"
      ]
     },
     "execution_count": 42,
     "metadata": {},
     "output_type": "execute_result"
    }
   ],
   "source": [
    "# 提取年龄为偶数的数据\n",
    "#提取年龄为偶数，且年龄小于100的英雄年龄\n",
    "heroes_age[heroes_age%2==0]\n",
    "\n",
    "heroes_age[(heroes_age<100)]\n",
    "\n",
    "heroes_age[(heroes_age%2==0)&(heroes_age<100)]   # 在多个逻辑条件下，用&(交集) 或者|（并集）"
   ]
  },
  {
   "cell_type": "code",
   "execution_count": 49,
   "metadata": {},
   "outputs": [
    {
     "data": {
      "text/plain": [
       "蜘蛛侠       22\n",
       "灭霸      3000\n",
       "奇异博士      33\n",
       "钢铁侠       37\n",
       "蝙蝠侠       40\n",
       "索尔      1500\n",
       "dtype: int64"
      ]
     },
     "execution_count": 49,
     "metadata": {},
     "output_type": "execute_result"
    }
   ],
   "source": [
    "heroes_age[(heroes_age%2==0)|(heroes_age<100)]    #换成“+”号也可以得到一致的结果"
   ]
  },
  {
   "cell_type": "markdown",
   "metadata": {},
   "source": [
    "因为Series底层封装的也ndarray数组结构, 因此同样支持向量化操作, 可以利用"
   ]
  },
  {
   "cell_type": "markdown",
   "metadata": {},
   "source": [
    "### 练习"
   ]
  },
  {
   "cell_type": "markdown",
   "metadata": {},
   "source": [
    "如何提取下面数组中20-80的数据(包括20和80)：   \n",
    "np.array([99, 78, 43, 85, 53, 70, 49, 71, 63, 42, 57, 96, 66, 34, 87, 72, 52,\n",
    "       77, 31, 58])"
   ]
  },
  {
   "cell_type": "code",
   "execution_count": 4,
   "metadata": {},
   "outputs": [],
   "source": [
    "a=np.array([99, 78, 43, 85, 53, 70, 49, 71, 63, 42, 57, 96, 66, 34, 87, 72, 52, 77, 31, 58])"
   ]
  },
  {
   "cell_type": "code",
   "execution_count": null,
   "metadata": {},
   "outputs": [],
   "source": []
  },
  {
   "cell_type": "markdown",
   "metadata": {},
   "source": [
    "\n",
    "\n",
    "```\n",
    "\n",
    "   \n",
    "    \n",
    "   \n",
    "   \n",
    "```\n",
    "## Series运算符和广播方法"
   ]
  },
  {
   "cell_type": "markdown",
   "metadata": {},
   "source": [
    "Series支持ndarray的运算符和广播方法，包括numpy中的各种运算函数、聚合函数等。"
   ]
  },
  {
   "cell_type": "code",
   "execution_count": 53,
   "metadata": {},
   "outputs": [
    {
     "data": {
      "text/plain": [
       "英雄姓名\n",
       "蜘蛛侠       22\n",
       "灭霸      3000\n",
       "奇异博士      33\n",
       "钢铁侠       37\n",
       "蝙蝠侠       40\n",
       "索尔      1500\n",
       "Name: 英雄年龄, dtype: int64"
      ]
     },
     "execution_count": 53,
     "metadata": {},
     "output_type": "execute_result"
    }
   ],
   "source": [
    "user_age"
   ]
  },
  {
   "cell_type": "code",
   "execution_count": 54,
   "metadata": {},
   "outputs": [
    {
     "data": {
      "text/plain": [
       "英雄姓名\n",
       "蜘蛛侠       22\n",
       "灭霸      3001\n",
       "奇异博士      35\n",
       "钢铁侠       40\n",
       "蝙蝠侠       44\n",
       "索尔      1505\n",
       "Name: 英雄年龄, dtype: int64"
      ]
     },
     "execution_count": 54,
     "metadata": {},
     "output_type": "execute_result"
    }
   ],
   "source": [
    "user_age + range(6)"
   ]
  },
  {
   "cell_type": "code",
   "execution_count": 50,
   "metadata": {},
   "outputs": [
    {
     "data": {
      "text/plain": [
       "英雄姓名\n",
       "蜘蛛侠       23\n",
       "灭霸      3001\n",
       "奇异博士      34\n",
       "钢铁侠       38\n",
       "蝙蝠侠       41\n",
       "索尔      1501\n",
       "Name: 英雄年龄, dtype: int64"
      ]
     },
     "execution_count": 50,
     "metadata": {},
     "output_type": "execute_result"
    }
   ],
   "source": [
    "user_age + 1"
   ]
  },
  {
   "cell_type": "code",
   "execution_count": 23,
   "metadata": {},
   "outputs": [
    {
     "data": {
      "text/plain": [
       "蜘蛛侠         484\n",
       "灭霸      9000000\n",
       "奇异博士       1089\n",
       "钢铁侠        1369\n",
       "蝙蝠侠        1600\n",
       "索尔      2250000\n",
       "Name: 英雄年龄, dtype: int64"
      ]
     },
     "execution_count": 23,
     "metadata": {},
     "output_type": "execute_result"
    }
   ],
   "source": [
    "user_age ** 2"
   ]
  },
  {
   "cell_type": "code",
   "execution_count": 24,
   "metadata": {},
   "outputs": [
    {
     "data": {
      "text/plain": [
       "蜘蛛侠     3.091042\n",
       "灭霸      8.006368\n",
       "奇异博士    3.496508\n",
       "钢铁侠     3.610918\n",
       "蝙蝠侠     3.688879\n",
       "索尔      7.313220\n",
       "Name: 英雄年龄, dtype: float64"
      ]
     },
     "execution_count": 24,
     "metadata": {},
     "output_type": "execute_result"
    }
   ],
   "source": [
    "np.log(user_age)"
   ]
  },
  {
   "cell_type": "code",
   "execution_count": 25,
   "metadata": {},
   "outputs": [
    {
     "data": {
      "text/plain": [
       "蜘蛛侠     3.584913e+09\n",
       "灭霸               inf\n",
       "奇异博士    2.146436e+14\n",
       "钢铁侠     1.171914e+16\n",
       "蝙蝠侠     2.353853e+17\n",
       "索尔               inf\n",
       "Name: 英雄年龄, dtype: float64"
      ]
     },
     "execution_count": 25,
     "metadata": {},
     "output_type": "execute_result"
    }
   ],
   "source": [
    "np.exp(user_age)"
   ]
  },
  {
   "cell_type": "code",
   "execution_count": 26,
   "metadata": {},
   "outputs": [
    {
     "data": {
      "text/plain": [
       "772.0"
      ]
     },
     "execution_count": 26,
     "metadata": {},
     "output_type": "execute_result"
    },
    {
     "data": {
      "text/plain": [
       "3000"
      ]
     },
     "execution_count": 26,
     "metadata": {},
     "output_type": "execute_result"
    },
    {
     "data": {
      "text/plain": [
       "1131.2705246756852"
      ]
     },
     "execution_count": 26,
     "metadata": {},
     "output_type": "execute_result"
    }
   ],
   "source": [
    "np.mean(user_age)\n",
    "\n",
    "np.max(user_age)\n",
    "\n",
    "np.std(user_age)"
   ]
  },
  {
   "cell_type": "code",
   "execution_count": 27,
   "metadata": {},
   "outputs": [
    {
     "data": {
      "text/plain": [
       "蜘蛛侠       22\n",
       "灭霸      3000\n",
       "奇异博士      33\n",
       "钢铁侠       37\n",
       "蝙蝠侠       40\n",
       "索尔      1500\n",
       "Name: 英雄年龄, dtype: int64"
      ]
     },
     "execution_count": 27,
     "metadata": {},
     "output_type": "execute_result"
    }
   ],
   "source": [
    "# 我们注意到原来的user_age并没有发生变化\n",
    "user_age"
   ]
  }
 ],
 "metadata": {
  "kernelspec": {
   "display_name": "Python 3",
   "language": "python",
   "name": "python3"
  },
  "language_info": {
   "codemirror_mode": {
    "name": "ipython",
    "version": 3
   },
   "file_extension": ".py",
   "mimetype": "text/x-python",
   "name": "python",
   "nbconvert_exporter": "python",
   "pygments_lexer": "ipython3",
   "version": "3.7.1"
  },
  "nbTranslate": {
   "displayLangs": [
    "*"
   ],
   "hotkey": "alt-t",
   "langInMainMenu": true,
   "sourceLang": "en",
   "targetLang": "fr",
   "useGoogleTranslate": true
  },
  "toc": {
   "base_numbering": 1,
   "nav_menu": {
    "height": "378px",
    "width": "270px"
   },
   "number_sections": true,
   "sideBar": true,
   "skip_h1_title": false,
   "title_cell": "Table of Contents",
   "title_sidebar": "Contents",
   "toc_cell": true,
   "toc_position": {
    "height": "calc(100% - 180px)",
    "left": "10px",
    "top": "150px",
    "width": "227.583px"
   },
   "toc_section_display": true,
   "toc_window_display": true
  },
  "varInspector": {
   "cols": {
    "lenName": 16,
    "lenType": 16,
    "lenVar": 40
   },
   "kernels_config": {
    "python": {
     "delete_cmd_postfix": "",
     "delete_cmd_prefix": "del ",
     "library": "var_list.py",
     "varRefreshCmd": "print(var_dic_list())"
    },
    "r": {
     "delete_cmd_postfix": ") ",
     "delete_cmd_prefix": "rm(",
     "library": "var_list.r",
     "varRefreshCmd": "cat(var_dic_list()) "
    }
   },
   "types_to_exclude": [
    "module",
    "function",
    "builtin_function_or_method",
    "instance",
    "_Feature"
   ],
   "window_display": false
  },
  "widgets": {
   "application/vnd.jupyter.widget-state+json": {
    "state": {},
    "version_major": 2,
    "version_minor": 0
   }
  }
 },
 "nbformat": 4,
 "nbformat_minor": 2
}
