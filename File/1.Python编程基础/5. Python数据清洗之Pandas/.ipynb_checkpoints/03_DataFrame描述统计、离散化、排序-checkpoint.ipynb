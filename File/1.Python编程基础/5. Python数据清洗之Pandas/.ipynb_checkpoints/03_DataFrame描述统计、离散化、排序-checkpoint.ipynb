{
 "cells": [
  {
   "cell_type": "markdown",
   "metadata": {
    "toc": true
   },
   "source": [
    "<h1>Table of Contents<span class=\"tocSkip\"></span></h1>\n",
    "<div class=\"toc\"><ul class=\"toc-item\"><li><span><a href=\"#查看基本信息\" data-toc-modified-id=\"查看基本信息-1\"><span class=\"toc-item-num\">1&nbsp;&nbsp;</span>查看基本信息</a></span><ul class=\"toc-item\"><li><span><a href=\"#df.info()\" data-toc-modified-id=\"df.info()-1.1\"><span class=\"toc-item-num\">1.1&nbsp;&nbsp;</span>df.info()</a></span></li><li><span><a href=\"#df.head(num)\" data-toc-modified-id=\"df.head(num)-1.2\"><span class=\"toc-item-num\">1.2&nbsp;&nbsp;</span>df.head(num)</a></span></li><li><span><a href=\"#df.shape\" data-toc-modified-id=\"df.shape-1.3\"><span class=\"toc-item-num\">1.3&nbsp;&nbsp;</span>df.shape</a></span></li><li><span><a href=\"#df.T\" data-toc-modified-id=\"df.T-1.4\"><span class=\"toc-item-num\">1.4&nbsp;&nbsp;</span>df.T</a></span></li><li><span><a href=\"#df.values\" data-toc-modified-id=\"df.values-1.5\"><span class=\"toc-item-num\">1.5&nbsp;&nbsp;</span>df.values</a></span></li></ul></li><li><span><a href=\"#描述与统计\" data-toc-modified-id=\"描述与统计-2\"><span class=\"toc-item-num\">2&nbsp;&nbsp;</span>描述与统计</a></span><ul class=\"toc-item\"><li><span><a href=\"#常用描述性统计指标\" data-toc-modified-id=\"常用描述性统计指标-2.1\"><span class=\"toc-item-num\">2.1&nbsp;&nbsp;</span>常用描述性统计指标</a></span></li><li><span><a href=\"#练习\" data-toc-modified-id=\"练习-2.2\"><span class=\"toc-item-num\">2.2&nbsp;&nbsp;</span>练习</a></span></li><li><span><a href=\"#df.describe()\" data-toc-modified-id=\"df.describe()-2.3\"><span class=\"toc-item-num\">2.3&nbsp;&nbsp;</span>df.describe()</a></span></li><li><span><a href=\"#Series.value_counts\" data-toc-modified-id=\"Series.value_counts-2.4\"><span class=\"toc-item-num\">2.4&nbsp;&nbsp;</span>Series.value_counts</a></span></li></ul></li><li><span><a href=\"#离散化\" data-toc-modified-id=\"离散化-3\"><span class=\"toc-item-num\">3&nbsp;&nbsp;</span>离散化</a></span><ul class=\"toc-item\"><li><span><a href=\"#pd.cut()\" data-toc-modified-id=\"pd.cut()-3.1\"><span class=\"toc-item-num\">3.1&nbsp;&nbsp;</span>pd.cut()</a></span></li><li><span><a href=\"#pd.qcut()\" data-toc-modified-id=\"pd.qcut()-3.2\"><span class=\"toc-item-num\">3.2&nbsp;&nbsp;</span>pd.qcut()</a></span></li><li><span><a href=\"#练习\" data-toc-modified-id=\"练习-3.3\"><span class=\"toc-item-num\">3.3&nbsp;&nbsp;</span>练习</a></span></li></ul></li><li><span><a href=\"#排序功能\" data-toc-modified-id=\"排序功能-4\"><span class=\"toc-item-num\">4&nbsp;&nbsp;</span>排序功能</a></span><ul class=\"toc-item\"><li><span><a href=\"#df.sort_index()\" data-toc-modified-id=\"df.sort_index()-4.1\"><span class=\"toc-item-num\">4.1&nbsp;&nbsp;</span>df.sort_index()</a></span></li><li><span><a href=\"#df.sort_values()\" data-toc-modified-id=\"df.sort_values()-4.2\"><span class=\"toc-item-num\">4.2&nbsp;&nbsp;</span>df.sort_values()</a></span></li><li><span><a href=\"#series.nlargest()\" data-toc-modified-id=\"series.nlargest()-4.3\"><span class=\"toc-item-num\">4.3&nbsp;&nbsp;</span>series.nlargest()</a></span></li></ul></li><li><span><a href=\"#函数应用及映射方法\" data-toc-modified-id=\"函数应用及映射方法-5\"><span class=\"toc-item-num\">5&nbsp;&nbsp;</span>函数应用及映射方法</a></span><ul class=\"toc-item\"><li><span><a href=\"#Series.map()\" data-toc-modified-id=\"Series.map()-5.1\"><span class=\"toc-item-num\">5.1&nbsp;&nbsp;</span>Series.map()</a></span></li><li><span><a href=\"#Series.apply()\" data-toc-modified-id=\"Series.apply()-5.2\"><span class=\"toc-item-num\">5.2&nbsp;&nbsp;</span>Series.apply()</a></span></li><li><span><a href=\"#df.applymap()\" data-toc-modified-id=\"df.applymap()-5.3\"><span class=\"toc-item-num\">5.3&nbsp;&nbsp;</span>df.applymap()</a></span></li></ul></li></ul></div>"
   ]
  },
  {
   "cell_type": "code",
   "execution_count": 1,
   "metadata": {
    "ExecuteTime": {
     "end_time": "2019-06-24T01:47:53.485379Z",
     "start_time": "2019-06-24T01:47:52.760830Z"
    }
   },
   "outputs": [],
   "source": [
    "#全部行都能输出\n",
    "from IPython.core.interactiveshell import InteractiveShell\n",
    "InteractiveShell.ast_node_interactivity = \"all\"\n",
    "import matplotlib as plt\n",
    "\n",
    "# 解决坐标轴刻度负号乱码\n",
    "plt.rcParams['axes.unicode_minus'] = False\n",
    "\n",
    "# 解决中文乱码问题\n",
    "plt.rcParams['font.sans-serif'] = ['Simhei']"
   ]
  },
  {
   "cell_type": "markdown",
   "metadata": {},
   "source": [
    "# 查看基本信息"
   ]
  },
  {
   "cell_type": "markdown",
   "metadata": {},
   "source": [
    "一般拿到数据，我们第一步需要做的是了解下数据的整体情况，可以使用 info 方法来查看。"
   ]
  },
  {
   "cell_type": "markdown",
   "metadata": {},
   "source": [
    "## df.info()"
   ]
  },
  {
   "cell_type": "code",
   "execution_count": 3,
   "metadata": {
    "ExecuteTime": {
     "end_time": "2019-06-24T01:48:07.718230Z",
     "start_time": "2019-06-24T01:48:00.267072Z"
    },
    "scrolled": false
   },
   "outputs": [
    {
     "name": "stdout",
     "output_type": "stream",
     "text": [
      "<class 'pandas.core.frame.DataFrame'>\n",
      "Int64Index: 8 entries, 0 to 7\n",
      "Data columns (total 5 columns):\n",
      "Hero Name     8 non-null object\n",
      "Age           8 non-null int64\n",
      "Sex           8 non-null object\n",
      "Birthplace    8 non-null object\n",
      "weapon        8 non-null object\n",
      "dtypes: int64(1), object(4)\n",
      "memory usage: 384.0+ bytes\n"
     ]
    }
   ],
   "source": [
    "import pandas as pd,numpy as np\n",
    "user_infor=pd.read_csv(\"new_infor.csv\",index_col=\"索引\")\n",
    "\n",
    "user_infor.info()"
   ]
  },
  {
   "cell_type": "markdown",
   "metadata": {
    "collapsed": true
   },
   "source": [
    "## df.head(num)\n",
    "如果我们的数据量非常大，我想看看数据长啥样，我当然不希望查看所有的数据了，这时候我们可以采用只看头部的 n 条或者尾部的 n 条。\n",
    "\n",
    "查看头部的n 条数据可以使用 head 方法，查看尾部的 n 条数据可以使用 tail 方法。"
   ]
  },
  {
   "cell_type": "code",
   "execution_count": 4,
   "metadata": {
    "ExecuteTime": {
     "end_time": "2019-06-24T01:48:13.598686Z",
     "start_time": "2019-06-24T01:48:13.495752Z"
    }
   },
   "outputs": [
    {
     "data": {
      "text/html": [
       "<div>\n",
       "<style scoped>\n",
       "    .dataframe tbody tr th:only-of-type {\n",
       "        vertical-align: middle;\n",
       "    }\n",
       "\n",
       "    .dataframe tbody tr th {\n",
       "        vertical-align: top;\n",
       "    }\n",
       "\n",
       "    .dataframe thead th {\n",
       "        text-align: right;\n",
       "    }\n",
       "</style>\n",
       "<table border=\"1\" class=\"dataframe\">\n",
       "  <thead>\n",
       "    <tr style=\"text-align: right;\">\n",
       "      <th></th>\n",
       "      <th>Hero Name</th>\n",
       "      <th>Age</th>\n",
       "      <th>Sex</th>\n",
       "      <th>Birthplace</th>\n",
       "      <th>weapon</th>\n",
       "    </tr>\n",
       "    <tr>\n",
       "      <th>索引</th>\n",
       "      <th></th>\n",
       "      <th></th>\n",
       "      <th></th>\n",
       "      <th></th>\n",
       "      <th></th>\n",
       "    </tr>\n",
       "  </thead>\n",
       "  <tbody>\n",
       "    <tr>\n",
       "      <th>0</th>\n",
       "      <td>蜘蛛侠</td>\n",
       "      <td>19</td>\n",
       "      <td>男</td>\n",
       "      <td>纽约</td>\n",
       "      <td>蜘蛛感应</td>\n",
       "    </tr>\n",
       "    <tr>\n",
       "      <th>1</th>\n",
       "      <td>灭霸</td>\n",
       "      <td>3000</td>\n",
       "      <td>男</td>\n",
       "      <td>泰坦星球</td>\n",
       "      <td>暴君屠刀</td>\n",
       "    </tr>\n",
       "    <tr>\n",
       "      <th>2</th>\n",
       "      <td>奇异博士</td>\n",
       "      <td>36</td>\n",
       "      <td>男</td>\n",
       "      <td>费城</td>\n",
       "      <td>魔法</td>\n",
       "    </tr>\n",
       "  </tbody>\n",
       "</table>\n",
       "</div>"
      ],
      "text/plain": [
       "   Hero Name   Age Sex Birthplace weapon\n",
       "索引                                      \n",
       "0        蜘蛛侠    19   男         纽约   蜘蛛感应\n",
       "1         灭霸  3000   男       泰坦星球   暴君屠刀\n",
       "2       奇异博士    36   男         费城     魔法"
      ]
     },
     "execution_count": 4,
     "metadata": {},
     "output_type": "execute_result"
    }
   ],
   "source": [
    "user_infor.head(3)"
   ]
  },
  {
   "cell_type": "code",
   "execution_count": 5,
   "metadata": {
    "ExecuteTime": {
     "end_time": "2019-06-24T01:49:17.417748Z",
     "start_time": "2019-06-24T01:49:17.402758Z"
    }
   },
   "outputs": [
    {
     "data": {
      "text/html": [
       "<div>\n",
       "<style scoped>\n",
       "    .dataframe tbody tr th:only-of-type {\n",
       "        vertical-align: middle;\n",
       "    }\n",
       "\n",
       "    .dataframe tbody tr th {\n",
       "        vertical-align: top;\n",
       "    }\n",
       "\n",
       "    .dataframe thead th {\n",
       "        text-align: right;\n",
       "    }\n",
       "</style>\n",
       "<table border=\"1\" class=\"dataframe\">\n",
       "  <thead>\n",
       "    <tr style=\"text-align: right;\">\n",
       "      <th></th>\n",
       "      <th>Hero Name</th>\n",
       "      <th>Age</th>\n",
       "      <th>Sex</th>\n",
       "      <th>Birthplace</th>\n",
       "      <th>weapon</th>\n",
       "    </tr>\n",
       "    <tr>\n",
       "      <th>索引</th>\n",
       "      <th></th>\n",
       "      <th></th>\n",
       "      <th></th>\n",
       "      <th></th>\n",
       "      <th></th>\n",
       "    </tr>\n",
       "  </thead>\n",
       "  <tbody>\n",
       "    <tr>\n",
       "      <th>5</th>\n",
       "      <td>索尔</td>\n",
       "      <td>1505</td>\n",
       "      <td>男</td>\n",
       "      <td>阿斯加德</td>\n",
       "      <td>暴风战斧</td>\n",
       "    </tr>\n",
       "    <tr>\n",
       "      <th>6</th>\n",
       "      <td>神奇女侠</td>\n",
       "      <td>2000</td>\n",
       "      <td>女</td>\n",
       "      <td>天堂岛</td>\n",
       "      <td>弑神者</td>\n",
       "    </tr>\n",
       "    <tr>\n",
       "      <th>7</th>\n",
       "      <td>黑寡妇</td>\n",
       "      <td>35</td>\n",
       "      <td>女</td>\n",
       "      <td>斯大林格勒</td>\n",
       "      <td>枪械</td>\n",
       "    </tr>\n",
       "  </tbody>\n",
       "</table>\n",
       "</div>"
      ],
      "text/plain": [
       "   Hero Name   Age Sex Birthplace weapon\n",
       "索引                                      \n",
       "5         索尔  1505   男       阿斯加德   暴风战斧\n",
       "6       神奇女侠  2000   女        天堂岛    弑神者\n",
       "7        黑寡妇    35   女      斯大林格勒     枪械"
      ]
     },
     "execution_count": 5,
     "metadata": {},
     "output_type": "execute_result"
    }
   ],
   "source": [
    "user_infor.tail(3)"
   ]
  },
  {
   "cell_type": "markdown",
   "metadata": {
    "collapsed": true
   },
   "source": [
    "## df.shape\n",
    "\n",
    "此外，Pandas 中的数据结构都有 ndarray 中的常用方法和属性，如通过 .shape 获取数据的形状，通过 .T 获取数据的转置。"
   ]
  },
  {
   "cell_type": "code",
   "execution_count": 6,
   "metadata": {
    "ExecuteTime": {
     "end_time": "2019-06-24T01:49:21.409271Z",
     "start_time": "2019-06-24T01:49:21.402276Z"
    }
   },
   "outputs": [
    {
     "data": {
      "text/plain": [
       "(8, 5)"
      ]
     },
     "execution_count": 6,
     "metadata": {},
     "output_type": "execute_result"
    }
   ],
   "source": [
    "user_infor.shape"
   ]
  },
  {
   "cell_type": "markdown",
   "metadata": {},
   "source": [
    "## df.T"
   ]
  },
  {
   "cell_type": "code",
   "execution_count": 7,
   "metadata": {
    "ExecuteTime": {
     "end_time": "2019-06-24T01:51:26.897528Z",
     "start_time": "2019-06-24T01:51:26.824572Z"
    }
   },
   "outputs": [
    {
     "data": {
      "text/html": [
       "<div>\n",
       "<style scoped>\n",
       "    .dataframe tbody tr th:only-of-type {\n",
       "        vertical-align: middle;\n",
       "    }\n",
       "\n",
       "    .dataframe tbody tr th {\n",
       "        vertical-align: top;\n",
       "    }\n",
       "\n",
       "    .dataframe thead th {\n",
       "        text-align: right;\n",
       "    }\n",
       "</style>\n",
       "<table border=\"1\" class=\"dataframe\">\n",
       "  <thead>\n",
       "    <tr style=\"text-align: right;\">\n",
       "      <th>索引</th>\n",
       "      <th>0</th>\n",
       "      <th>1</th>\n",
       "      <th>2</th>\n",
       "      <th>3</th>\n",
       "      <th>4</th>\n",
       "      <th>5</th>\n",
       "      <th>6</th>\n",
       "      <th>7</th>\n",
       "    </tr>\n",
       "  </thead>\n",
       "  <tbody>\n",
       "    <tr>\n",
       "      <th>Hero Name</th>\n",
       "      <td>蜘蛛侠</td>\n",
       "      <td>灭霸</td>\n",
       "      <td>奇异博士</td>\n",
       "      <td>钢铁侠</td>\n",
       "      <td>蝙蝠侠</td>\n",
       "      <td>索尔</td>\n",
       "      <td>神奇女侠</td>\n",
       "      <td>黑寡妇</td>\n",
       "    </tr>\n",
       "    <tr>\n",
       "      <th>Age</th>\n",
       "      <td>19</td>\n",
       "      <td>3000</td>\n",
       "      <td>36</td>\n",
       "      <td>42</td>\n",
       "      <td>40</td>\n",
       "      <td>1505</td>\n",
       "      <td>2000</td>\n",
       "      <td>35</td>\n",
       "    </tr>\n",
       "    <tr>\n",
       "      <th>Sex</th>\n",
       "      <td>男</td>\n",
       "      <td>男</td>\n",
       "      <td>男</td>\n",
       "      <td>男</td>\n",
       "      <td>男</td>\n",
       "      <td>男</td>\n",
       "      <td>女</td>\n",
       "      <td>女</td>\n",
       "    </tr>\n",
       "    <tr>\n",
       "      <th>Birthplace</th>\n",
       "      <td>纽约</td>\n",
       "      <td>泰坦星球</td>\n",
       "      <td>费城</td>\n",
       "      <td>纽约</td>\n",
       "      <td>哥谭</td>\n",
       "      <td>阿斯加德</td>\n",
       "      <td>天堂岛</td>\n",
       "      <td>斯大林格勒</td>\n",
       "    </tr>\n",
       "    <tr>\n",
       "      <th>weapon</th>\n",
       "      <td>蜘蛛感应</td>\n",
       "      <td>暴君屠刀</td>\n",
       "      <td>魔法</td>\n",
       "      <td>纳米战甲</td>\n",
       "      <td>有钱</td>\n",
       "      <td>暴风战斧</td>\n",
       "      <td>弑神者</td>\n",
       "      <td>枪械</td>\n",
       "    </tr>\n",
       "  </tbody>\n",
       "</table>\n",
       "</div>"
      ],
      "text/plain": [
       "索引             0     1     2     3    4     5     6      7\n",
       "Hero Name    蜘蛛侠    灭霸  奇异博士   钢铁侠  蝙蝠侠    索尔  神奇女侠    黑寡妇\n",
       "Age           19  3000    36    42   40  1505  2000     35\n",
       "Sex            男     男     男     男    男     男     女      女\n",
       "Birthplace    纽约  泰坦星球    费城    纽约   哥谭  阿斯加德   天堂岛  斯大林格勒\n",
       "weapon      蜘蛛感应  暴君屠刀    魔法  纳米战甲   有钱  暴风战斧   弑神者     枪械"
      ]
     },
     "execution_count": 7,
     "metadata": {},
     "output_type": "execute_result"
    }
   ],
   "source": [
    "user_infor.T   #返回新的DataFrame，不会修改原对象\n",
    "#或者用user_info2.tansform()"
   ]
  },
  {
   "cell_type": "markdown",
   "metadata": {},
   "source": [
    "## df.values"
   ]
  },
  {
   "cell_type": "markdown",
   "metadata": {},
   "source": [
    "如果我们想要通过 DataFrame 来获取它包含的原有数据，可以通过 .values 来获取，获取后的数据类型其实是一个 ndarray。"
   ]
  },
  {
   "cell_type": "code",
   "execution_count": 8,
   "metadata": {
    "ExecuteTime": {
     "end_time": "2019-06-24T01:51:32.899063Z",
     "start_time": "2019-06-24T01:51:32.891071Z"
    }
   },
   "outputs": [
    {
     "data": {
      "text/plain": [
       "array([['蜘蛛侠', 19, '男', '纽约', '蜘蛛感应'],\n",
       "       ['灭霸', 3000, '男', '泰坦星球', '暴君屠刀'],\n",
       "       ['奇异博士', 36, '男', '费城', '魔法'],\n",
       "       ['钢铁侠', 42, '男', '纽约', '纳米战甲'],\n",
       "       ['蝙蝠侠', 40, '男', '哥谭', '有钱'],\n",
       "       ['索尔', 1505, '男', '阿斯加德', '暴风战斧'],\n",
       "       ['神奇女侠', 2000, '女', '天堂岛', '弑神者'],\n",
       "       ['黑寡妇', 35, '女', '斯大林格勒', '枪械']], dtype=object)"
      ]
     },
     "execution_count": 8,
     "metadata": {},
     "output_type": "execute_result"
    }
   ],
   "source": [
    "user_infor.values"
   ]
  },
  {
   "cell_type": "code",
   "execution_count": 9,
   "metadata": {
    "ExecuteTime": {
     "end_time": "2019-06-22T08:12:52.390630Z",
     "start_time": "2019-06-22T08:12:52.383635Z"
    }
   },
   "outputs": [
    {
     "data": {
      "text/plain": [
       "numpy.ndarray"
      ]
     },
     "execution_count": 9,
     "metadata": {},
     "output_type": "execute_result"
    }
   ],
   "source": [
    "type(user_infor.values)"
   ]
  },
  {
   "cell_type": "markdown",
   "metadata": {},
   "source": [
    "```\n",
    "\n",
    "   \n",
    "    \n",
    "   \n",
    "   \n",
    "```\n",
    "# 描述与统计"
   ]
  },
  {
   "cell_type": "markdown",
   "metadata": {},
   "source": [
    "## 常用描述性统计指标"
   ]
  },
  {
   "cell_type": "markdown",
   "metadata": {},
   "source": [
    "有时候我们获取到数据之后，想要查看下数据的简单统计指标（最大值、最小值、平均值、中位数等），比如想要查看年龄的最大值，如何实现呢？\n",
    "\n",
    "DataFrame中有两种方法可以实现：\n",
    "- 方法一：直接通过DataFrame抽取出来的单列series使用series的相应统计方法或函数。\n",
    "- 方法二：通过使用numpy对应的方法或函数，处理目标就是DataFrame抽出来的series。"
   ]
  },
  {
   "cell_type": "markdown",
   "metadata": {},
   "source": [
    "DataFrame和Series均支持以下方法："
   ]
  },
  {
   "cell_type": "markdown",
   "metadata": {},
   "source": [
    "|指标|描述|\n",
    "| --------   | -----:  |\n",
    "| count()        |  计数项     |  \n",
    "|    first()、last()     |   第一项和最后一项    | \n",
    "| mean()、median()        |  均值与中位数    |  \n",
    "| min()、max()        | 最大值与最小值      |   \n",
    "| std()、var()        |  标准差与方差     |  \n",
    "| mad()        |   均值绝对偏差    |  \n",
    "| prod()        |  所有项乘积     | \n",
    "| sum()        |   所有项求和    |   "
   ]
  },
  {
   "cell_type": "code",
   "execution_count": 10,
   "metadata": {
    "ExecuteTime": {
     "end_time": "2019-06-24T01:51:50.187043Z",
     "start_time": "2019-06-24T01:51:50.174050Z"
    }
   },
   "outputs": [
    {
     "data": {
      "text/html": [
       "<div>\n",
       "<style scoped>\n",
       "    .dataframe tbody tr th:only-of-type {\n",
       "        vertical-align: middle;\n",
       "    }\n",
       "\n",
       "    .dataframe tbody tr th {\n",
       "        vertical-align: top;\n",
       "    }\n",
       "\n",
       "    .dataframe thead th {\n",
       "        text-align: right;\n",
       "    }\n",
       "</style>\n",
       "<table border=\"1\" class=\"dataframe\">\n",
       "  <thead>\n",
       "    <tr style=\"text-align: right;\">\n",
       "      <th></th>\n",
       "      <th>Hero Name</th>\n",
       "      <th>Age</th>\n",
       "      <th>Sex</th>\n",
       "      <th>Birthplace</th>\n",
       "      <th>weapon</th>\n",
       "    </tr>\n",
       "    <tr>\n",
       "      <th>索引</th>\n",
       "      <th></th>\n",
       "      <th></th>\n",
       "      <th></th>\n",
       "      <th></th>\n",
       "      <th></th>\n",
       "    </tr>\n",
       "  </thead>\n",
       "  <tbody>\n",
       "    <tr>\n",
       "      <th>0</th>\n",
       "      <td>蜘蛛侠</td>\n",
       "      <td>19</td>\n",
       "      <td>男</td>\n",
       "      <td>纽约</td>\n",
       "      <td>蜘蛛感应</td>\n",
       "    </tr>\n",
       "    <tr>\n",
       "      <th>1</th>\n",
       "      <td>灭霸</td>\n",
       "      <td>3000</td>\n",
       "      <td>男</td>\n",
       "      <td>泰坦星球</td>\n",
       "      <td>暴君屠刀</td>\n",
       "    </tr>\n",
       "    <tr>\n",
       "      <th>2</th>\n",
       "      <td>奇异博士</td>\n",
       "      <td>36</td>\n",
       "      <td>男</td>\n",
       "      <td>费城</td>\n",
       "      <td>魔法</td>\n",
       "    </tr>\n",
       "    <tr>\n",
       "      <th>3</th>\n",
       "      <td>钢铁侠</td>\n",
       "      <td>42</td>\n",
       "      <td>男</td>\n",
       "      <td>纽约</td>\n",
       "      <td>纳米战甲</td>\n",
       "    </tr>\n",
       "    <tr>\n",
       "      <th>4</th>\n",
       "      <td>蝙蝠侠</td>\n",
       "      <td>40</td>\n",
       "      <td>男</td>\n",
       "      <td>哥谭</td>\n",
       "      <td>有钱</td>\n",
       "    </tr>\n",
       "    <tr>\n",
       "      <th>5</th>\n",
       "      <td>索尔</td>\n",
       "      <td>1505</td>\n",
       "      <td>男</td>\n",
       "      <td>阿斯加德</td>\n",
       "      <td>暴风战斧</td>\n",
       "    </tr>\n",
       "    <tr>\n",
       "      <th>6</th>\n",
       "      <td>神奇女侠</td>\n",
       "      <td>2000</td>\n",
       "      <td>女</td>\n",
       "      <td>天堂岛</td>\n",
       "      <td>弑神者</td>\n",
       "    </tr>\n",
       "    <tr>\n",
       "      <th>7</th>\n",
       "      <td>黑寡妇</td>\n",
       "      <td>35</td>\n",
       "      <td>女</td>\n",
       "      <td>斯大林格勒</td>\n",
       "      <td>枪械</td>\n",
       "    </tr>\n",
       "  </tbody>\n",
       "</table>\n",
       "</div>"
      ],
      "text/plain": [
       "   Hero Name   Age Sex Birthplace weapon\n",
       "索引                                      \n",
       "0        蜘蛛侠    19   男         纽约   蜘蛛感应\n",
       "1         灭霸  3000   男       泰坦星球   暴君屠刀\n",
       "2       奇异博士    36   男         费城     魔法\n",
       "3        钢铁侠    42   男         纽约   纳米战甲\n",
       "4        蝙蝠侠    40   男         哥谭     有钱\n",
       "5         索尔  1505   男       阿斯加德   暴风战斧\n",
       "6       神奇女侠  2000   女        天堂岛    弑神者\n",
       "7        黑寡妇    35   女      斯大林格勒     枪械"
      ]
     },
     "execution_count": 10,
     "metadata": {},
     "output_type": "execute_result"
    }
   ],
   "source": [
    "user_infor"
   ]
  },
  {
   "cell_type": "code",
   "execution_count": 11,
   "metadata": {
    "ExecuteTime": {
     "end_time": "2019-06-24T01:56:33.111099Z",
     "start_time": "2019-06-24T01:56:33.101104Z"
    }
   },
   "outputs": [
    {
     "data": {
      "text/plain": [
       "索引\n",
       "0      19\n",
       "1    3000\n",
       "2      36\n",
       "3      42\n",
       "4      40\n",
       "5    1505\n",
       "6    2000\n",
       "7      35\n",
       "Name: Age, dtype: int64"
      ]
     },
     "execution_count": 11,
     "metadata": {},
     "output_type": "execute_result"
    }
   ],
   "source": [
    "user_infor.Age"
   ]
  },
  {
   "cell_type": "markdown",
   "metadata": {},
   "source": [
    "比如我们想要统计user_infor中年龄的平均值："
   ]
  },
  {
   "cell_type": "code",
   "execution_count": 12,
   "metadata": {
    "ExecuteTime": {
     "end_time": "2019-06-24T01:56:49.311560Z",
     "start_time": "2019-06-24T01:56:49.304565Z"
    }
   },
   "outputs": [
    {
     "data": {
      "text/plain": [
       "834.625"
      ]
     },
     "execution_count": 12,
     "metadata": {},
     "output_type": "execute_result"
    }
   ],
   "source": [
    "#方法一\n",
    "user_infor.Age.mean()"
   ]
  },
  {
   "cell_type": "code",
   "execution_count": 13,
   "metadata": {
    "ExecuteTime": {
     "end_time": "2019-06-24T02:17:38.100051Z",
     "start_time": "2019-06-24T02:17:38.091056Z"
    }
   },
   "outputs": [
    {
     "data": {
      "text/plain": [
       "834.625"
      ]
     },
     "execution_count": 13,
     "metadata": {},
     "output_type": "execute_result"
    }
   ],
   "source": [
    "#方法二\n",
    "np.mean(user_infor.Age)   "
   ]
  },
  {
   "cell_type": "markdown",
   "metadata": {},
   "source": [
    "那么，series能用哪些描述性统计的指标呢？——numpy中ndarray相应的函数都能用在这里："
   ]
  },
  {
   "cell_type": "code",
   "execution_count": 14,
   "metadata": {
    "ExecuteTime": {
     "end_time": "2019-06-24T02:18:21.780034Z",
     "start_time": "2019-06-24T02:18:21.747053Z"
    }
   },
   "outputs": [
    {
     "data": {
      "text/plain": [
       "3000"
      ]
     },
     "execution_count": 14,
     "metadata": {},
     "output_type": "execute_result"
    },
    {
     "data": {
      "text/plain": [
       "1"
      ]
     },
     "execution_count": 14,
     "metadata": {},
     "output_type": "execute_result"
    },
    {
     "data": {
      "text/plain": [
       "0"
      ]
     },
     "execution_count": 14,
     "metadata": {},
     "output_type": "execute_result"
    }
   ],
   "source": [
    "#numpy的函数都能用在这里\n",
    "user_infor.Age.max()\n",
    "user_infor.Age.idxmax()\n",
    "user_infor.Age.idxmin()"
   ]
  },
  {
   "cell_type": "code",
   "execution_count": 15,
   "metadata": {
    "ExecuteTime": {
     "end_time": "2019-06-24T02:25:42.883242Z",
     "start_time": "2019-06-24T02:25:42.841270Z"
    }
   },
   "outputs": [
    {
     "data": {
      "text/plain": [
       "索引\n",
       "0      19\n",
       "1    3019\n",
       "2    3055\n",
       "3    3097\n",
       "4    3137\n",
       "5    4642\n",
       "6    6642\n",
       "7    6677\n",
       "Name: Age, dtype: int64"
      ]
     },
     "execution_count": 15,
     "metadata": {},
     "output_type": "execute_result"
    }
   ],
   "source": [
    "user_infor.Age.cumsum()"
   ]
  },
  {
   "cell_type": "markdown",
   "metadata": {},
   "source": [
    "类似的，通过调用 min、mean、quantile、sum 方法可以实现最小值、平均值、中位数以及求和。可以看到，对一个 Series 调用 这几个方法之后，返回的都只是一个聚合结果。"
   ]
  },
  {
   "cell_type": "markdown",
   "metadata": {
    "collapsed": true
   },
   "source": [
    "## 练习"
   ]
  },
  {
   "cell_type": "code",
   "execution_count": 17,
   "metadata": {
    "ExecuteTime": {
     "end_time": "2019-06-24T02:36:00.515535Z",
     "start_time": "2019-06-24T02:36:00.493552Z"
    },
    "scrolled": true
   },
   "outputs": [
    {
     "data": {
      "text/html": [
       "<div>\n",
       "<style scoped>\n",
       "    .dataframe tbody tr th:only-of-type {\n",
       "        vertical-align: middle;\n",
       "    }\n",
       "\n",
       "    .dataframe tbody tr th {\n",
       "        vertical-align: top;\n",
       "    }\n",
       "\n",
       "    .dataframe thead th {\n",
       "        text-align: right;\n",
       "    }\n",
       "</style>\n",
       "<table border=\"1\" class=\"dataframe\">\n",
       "  <thead>\n",
       "    <tr style=\"text-align: right;\">\n",
       "      <th></th>\n",
       "      <th>姓名</th>\n",
       "      <th>语文</th>\n",
       "      <th>数学</th>\n",
       "      <th>英语</th>\n",
       "      <th>总分</th>\n",
       "      <th>班名次</th>\n",
       "    </tr>\n",
       "  </thead>\n",
       "  <tbody>\n",
       "    <tr>\n",
       "      <th>0</th>\n",
       "      <td>杨璐</td>\n",
       "      <td>131</td>\n",
       "      <td>143</td>\n",
       "      <td>144</td>\n",
       "      <td>418</td>\n",
       "      <td>1</td>\n",
       "    </tr>\n",
       "    <tr>\n",
       "      <th>1</th>\n",
       "      <td>王雪</td>\n",
       "      <td>131</td>\n",
       "      <td>135</td>\n",
       "      <td>144</td>\n",
       "      <td>410</td>\n",
       "      <td>2</td>\n",
       "    </tr>\n",
       "    <tr>\n",
       "      <th>2</th>\n",
       "      <td>韩林霖</td>\n",
       "      <td>127</td>\n",
       "      <td>139</td>\n",
       "      <td>142</td>\n",
       "      <td>408</td>\n",
       "      <td>3</td>\n",
       "    </tr>\n",
       "    <tr>\n",
       "      <th>3</th>\n",
       "      <td>沙龙逸</td>\n",
       "      <td>123</td>\n",
       "      <td>148</td>\n",
       "      <td>136</td>\n",
       "      <td>407</td>\n",
       "      <td>4</td>\n",
       "    </tr>\n",
       "    <tr>\n",
       "      <th>4</th>\n",
       "      <td>李鉴学</td>\n",
       "      <td>126</td>\n",
       "      <td>135</td>\n",
       "      <td>140</td>\n",
       "      <td>401</td>\n",
       "      <td>5</td>\n",
       "    </tr>\n",
       "  </tbody>\n",
       "</table>\n",
       "</div>"
      ],
      "text/plain": [
       "    姓名   语文   数学   英语   总分  班名次\n",
       "0   杨璐  131  143  144  418    1\n",
       "1   王雪  131  135  144  410    2\n",
       "2  韩林霖  127  139  142  408    3\n",
       "3  沙龙逸  123  148  136  407    4\n",
       "4  李鉴学  126  135  140  401    5"
      ]
     },
     "execution_count": 17,
     "metadata": {},
     "output_type": "execute_result"
    }
   ],
   "source": [
    "grade=pd.read_csv('student_grade.txt',sep='\\t')\n",
    "grade.head()"
   ]
  },
  {
   "cell_type": "markdown",
   "metadata": {},
   "source": [
    "- 计算数学成绩的平均值，以及数学成绩的标准差。\n",
    "- 生成第二个总分列，计算各科成绩的总分，命名为‘总分2’。\n",
    "- 计算每个同学的‘数学减去语文’的成绩，取绝对值，命名为‘差值’。"
   ]
  },
  {
   "cell_type": "code",
   "execution_count": 18,
   "metadata": {
    "ExecuteTime": {
     "end_time": "2019-06-24T02:36:04.836604Z",
     "start_time": "2019-06-24T02:36:04.825615Z"
    }
   },
   "outputs": [
    {
     "data": {
      "text/plain": [
       "102.82352941176471"
      ]
     },
     "execution_count": 18,
     "metadata": {},
     "output_type": "execute_result"
    },
    {
     "data": {
      "text/plain": [
       "33.39583546137604"
      ]
     },
     "execution_count": 18,
     "metadata": {},
     "output_type": "execute_result"
    }
   ],
   "source": []
  },
  {
   "cell_type": "code",
   "execution_count": 19,
   "metadata": {
    "ExecuteTime": {
     "end_time": "2019-06-24T02:36:11.078042Z",
     "start_time": "2019-06-24T02:36:11.053061Z"
    },
    "scrolled": true
   },
   "outputs": [
    {
     "data": {
      "text/html": [
       "<div>\n",
       "<style scoped>\n",
       "    .dataframe tbody tr th:only-of-type {\n",
       "        vertical-align: middle;\n",
       "    }\n",
       "\n",
       "    .dataframe tbody tr th {\n",
       "        vertical-align: top;\n",
       "    }\n",
       "\n",
       "    .dataframe thead th {\n",
       "        text-align: right;\n",
       "    }\n",
       "</style>\n",
       "<table border=\"1\" class=\"dataframe\">\n",
       "  <thead>\n",
       "    <tr style=\"text-align: right;\">\n",
       "      <th></th>\n",
       "      <th>姓名</th>\n",
       "      <th>语文</th>\n",
       "      <th>数学</th>\n",
       "      <th>英语</th>\n",
       "      <th>总分</th>\n",
       "      <th>班名次</th>\n",
       "      <th>总分1</th>\n",
       "      <th>总分2</th>\n",
       "    </tr>\n",
       "  </thead>\n",
       "  <tbody>\n",
       "    <tr>\n",
       "      <th>0</th>\n",
       "      <td>杨璐</td>\n",
       "      <td>131</td>\n",
       "      <td>143</td>\n",
       "      <td>144</td>\n",
       "      <td>418</td>\n",
       "      <td>1</td>\n",
       "      <td>418</td>\n",
       "      <td>418</td>\n",
       "    </tr>\n",
       "    <tr>\n",
       "      <th>1</th>\n",
       "      <td>王雪</td>\n",
       "      <td>131</td>\n",
       "      <td>135</td>\n",
       "      <td>144</td>\n",
       "      <td>410</td>\n",
       "      <td>2</td>\n",
       "      <td>410</td>\n",
       "      <td>410</td>\n",
       "    </tr>\n",
       "    <tr>\n",
       "      <th>2</th>\n",
       "      <td>韩林霖</td>\n",
       "      <td>127</td>\n",
       "      <td>139</td>\n",
       "      <td>142</td>\n",
       "      <td>408</td>\n",
       "      <td>3</td>\n",
       "      <td>408</td>\n",
       "      <td>408</td>\n",
       "    </tr>\n",
       "    <tr>\n",
       "      <th>3</th>\n",
       "      <td>沙龙逸</td>\n",
       "      <td>123</td>\n",
       "      <td>148</td>\n",
       "      <td>136</td>\n",
       "      <td>407</td>\n",
       "      <td>4</td>\n",
       "      <td>407</td>\n",
       "      <td>407</td>\n",
       "    </tr>\n",
       "    <tr>\n",
       "      <th>4</th>\n",
       "      <td>李鉴学</td>\n",
       "      <td>126</td>\n",
       "      <td>135</td>\n",
       "      <td>140</td>\n",
       "      <td>401</td>\n",
       "      <td>5</td>\n",
       "      <td>401</td>\n",
       "      <td>401</td>\n",
       "    </tr>\n",
       "  </tbody>\n",
       "</table>\n",
       "</div>"
      ],
      "text/plain": [
       "    姓名   语文   数学   英语   总分  班名次  总分1  总分2\n",
       "0   杨璐  131  143  144  418    1  418  418\n",
       "1   王雪  131  135  144  410    2  410  410\n",
       "2  韩林霖  127  139  142  408    3  408  408\n",
       "3  沙龙逸  123  148  136  407    4  407  407\n",
       "4  李鉴学  126  135  140  401    5  401  401"
      ]
     },
     "execution_count": 19,
     "metadata": {},
     "output_type": "execute_result"
    }
   ],
   "source": []
  },
  {
   "cell_type": "code",
   "execution_count": 20,
   "metadata": {
    "ExecuteTime": {
     "end_time": "2019-06-24T02:34:39.067475Z",
     "start_time": "2019-06-24T02:34:39.059480Z"
    }
   },
   "outputs": [
    {
     "data": {
      "text/plain": [
       "数学    6992\n",
       "语文    7344\n",
       "英语    7412\n",
       "dtype: int64"
      ]
     },
     "execution_count": 20,
     "metadata": {},
     "output_type": "execute_result"
    }
   ],
   "source": []
  },
  {
   "cell_type": "code",
   "execution_count": 21,
   "metadata": {
    "ExecuteTime": {
     "end_time": "2019-06-24T02:36:28.808075Z",
     "start_time": "2019-06-24T02:36:28.760101Z"
    },
    "scrolled": true
   },
   "outputs": [
    {
     "data": {
      "text/html": [
       "<div>\n",
       "<style scoped>\n",
       "    .dataframe tbody tr th:only-of-type {\n",
       "        vertical-align: middle;\n",
       "    }\n",
       "\n",
       "    .dataframe tbody tr th {\n",
       "        vertical-align: top;\n",
       "    }\n",
       "\n",
       "    .dataframe thead th {\n",
       "        text-align: right;\n",
       "    }\n",
       "</style>\n",
       "<table border=\"1\" class=\"dataframe\">\n",
       "  <thead>\n",
       "    <tr style=\"text-align: right;\">\n",
       "      <th></th>\n",
       "      <th>姓名</th>\n",
       "      <th>语文</th>\n",
       "      <th>数学</th>\n",
       "      <th>英语</th>\n",
       "      <th>总分</th>\n",
       "      <th>班名次</th>\n",
       "      <th>总分1</th>\n",
       "      <th>总分2</th>\n",
       "      <th>差值</th>\n",
       "    </tr>\n",
       "  </thead>\n",
       "  <tbody>\n",
       "    <tr>\n",
       "      <th>0</th>\n",
       "      <td>杨璐</td>\n",
       "      <td>131</td>\n",
       "      <td>143</td>\n",
       "      <td>144</td>\n",
       "      <td>418</td>\n",
       "      <td>1</td>\n",
       "      <td>418</td>\n",
       "      <td>418</td>\n",
       "      <td>12</td>\n",
       "    </tr>\n",
       "    <tr>\n",
       "      <th>1</th>\n",
       "      <td>王雪</td>\n",
       "      <td>131</td>\n",
       "      <td>135</td>\n",
       "      <td>144</td>\n",
       "      <td>410</td>\n",
       "      <td>2</td>\n",
       "      <td>410</td>\n",
       "      <td>410</td>\n",
       "      <td>4</td>\n",
       "    </tr>\n",
       "    <tr>\n",
       "      <th>2</th>\n",
       "      <td>韩林霖</td>\n",
       "      <td>127</td>\n",
       "      <td>139</td>\n",
       "      <td>142</td>\n",
       "      <td>408</td>\n",
       "      <td>3</td>\n",
       "      <td>408</td>\n",
       "      <td>408</td>\n",
       "      <td>12</td>\n",
       "    </tr>\n",
       "    <tr>\n",
       "      <th>3</th>\n",
       "      <td>沙龙逸</td>\n",
       "      <td>123</td>\n",
       "      <td>148</td>\n",
       "      <td>136</td>\n",
       "      <td>407</td>\n",
       "      <td>4</td>\n",
       "      <td>407</td>\n",
       "      <td>407</td>\n",
       "      <td>25</td>\n",
       "    </tr>\n",
       "    <tr>\n",
       "      <th>4</th>\n",
       "      <td>李鉴学</td>\n",
       "      <td>126</td>\n",
       "      <td>135</td>\n",
       "      <td>140</td>\n",
       "      <td>401</td>\n",
       "      <td>5</td>\n",
       "      <td>401</td>\n",
       "      <td>401</td>\n",
       "      <td>9</td>\n",
       "    </tr>\n",
       "  </tbody>\n",
       "</table>\n",
       "</div>"
      ],
      "text/plain": [
       "    姓名   语文   数学   英语   总分  班名次  总分1  总分2  差值\n",
       "0   杨璐  131  143  144  418    1  418  418  12\n",
       "1   王雪  131  135  144  410    2  410  410   4\n",
       "2  韩林霖  127  139  142  408    3  408  408  12\n",
       "3  沙龙逸  123  148  136  407    4  407  407  25\n",
       "4  李鉴学  126  135  140  401    5  401  401   9"
      ]
     },
     "execution_count": 21,
     "metadata": {},
     "output_type": "execute_result"
    }
   ],
   "source": []
  },
  {
   "cell_type": "markdown",
   "metadata": {},
   "source": [
    "如果想要获取更多的统计方法，可以参见官方链接：Descriptive statistics (http://pandas.pydata.org/pandas-docs/stable/basics.html#descriptive-statistics)\n",
    "\n",
    "虽然说常见的各种统计值都有对应的方法，如果我想要得到多个指标的话，就需要调用多次方法，是不是显得有点麻烦呢？\n",
    "\n",
    "Pandas 设计者自然也考虑到了这个问题，想要一次性获取多个统计指标，只需调用 describe 方法即可"
   ]
  },
  {
   "cell_type": "markdown",
   "metadata": {},
   "source": [
    "\n",
    "```\n",
    "\n",
    "\n",
    "```\n",
    "## df.describe()"
   ]
  },
  {
   "cell_type": "code",
   "execution_count": 22,
   "metadata": {
    "ExecuteTime": {
     "end_time": "2019-06-24T02:37:23.261025Z",
     "start_time": "2019-06-24T02:37:23.048157Z"
    },
    "scrolled": true
   },
   "outputs": [
    {
     "data": {
      "text/html": [
       "<div>\n",
       "<style scoped>\n",
       "    .dataframe tbody tr th:only-of-type {\n",
       "        vertical-align: middle;\n",
       "    }\n",
       "\n",
       "    .dataframe tbody tr th {\n",
       "        vertical-align: top;\n",
       "    }\n",
       "\n",
       "    .dataframe thead th {\n",
       "        text-align: right;\n",
       "    }\n",
       "</style>\n",
       "<table border=\"1\" class=\"dataframe\">\n",
       "  <thead>\n",
       "    <tr style=\"text-align: right;\">\n",
       "      <th></th>\n",
       "      <th>语文</th>\n",
       "      <th>数学</th>\n",
       "      <th>英语</th>\n",
       "      <th>总分</th>\n",
       "      <th>班名次</th>\n",
       "      <th>总分1</th>\n",
       "      <th>总分2</th>\n",
       "      <th>差值</th>\n",
       "    </tr>\n",
       "  </thead>\n",
       "  <tbody>\n",
       "    <tr>\n",
       "      <th>count</th>\n",
       "      <td>68.000000</td>\n",
       "      <td>68.000000</td>\n",
       "      <td>68.000000</td>\n",
       "      <td>68.000000</td>\n",
       "      <td>68.00000</td>\n",
       "      <td>68.000000</td>\n",
       "      <td>68.000000</td>\n",
       "      <td>68.000000</td>\n",
       "    </tr>\n",
       "    <tr>\n",
       "      <th>mean</th>\n",
       "      <td>108.000000</td>\n",
       "      <td>102.823529</td>\n",
       "      <td>109.000000</td>\n",
       "      <td>319.823529</td>\n",
       "      <td>34.50000</td>\n",
       "      <td>319.823529</td>\n",
       "      <td>319.823529</td>\n",
       "      <td>17.176471</td>\n",
       "    </tr>\n",
       "    <tr>\n",
       "      <th>std</th>\n",
       "      <td>14.519159</td>\n",
       "      <td>33.395835</td>\n",
       "      <td>30.289647</td>\n",
       "      <td>73.782241</td>\n",
       "      <td>19.77372</td>\n",
       "      <td>73.782241</td>\n",
       "      <td>73.782241</td>\n",
       "      <td>16.414356</td>\n",
       "    </tr>\n",
       "    <tr>\n",
       "      <th>min</th>\n",
       "      <td>66.000000</td>\n",
       "      <td>21.000000</td>\n",
       "      <td>34.000000</td>\n",
       "      <td>123.000000</td>\n",
       "      <td>1.00000</td>\n",
       "      <td>123.000000</td>\n",
       "      <td>123.000000</td>\n",
       "      <td>0.000000</td>\n",
       "    </tr>\n",
       "    <tr>\n",
       "      <th>25%</th>\n",
       "      <td>100.500000</td>\n",
       "      <td>85.750000</td>\n",
       "      <td>100.250000</td>\n",
       "      <td>286.750000</td>\n",
       "      <td>17.75000</td>\n",
       "      <td>286.750000</td>\n",
       "      <td>286.750000</td>\n",
       "      <td>5.500000</td>\n",
       "    </tr>\n",
       "    <tr>\n",
       "      <th>50%</th>\n",
       "      <td>111.500000</td>\n",
       "      <td>111.500000</td>\n",
       "      <td>119.000000</td>\n",
       "      <td>343.500000</td>\n",
       "      <td>34.50000</td>\n",
       "      <td>343.500000</td>\n",
       "      <td>343.500000</td>\n",
       "      <td>10.000000</td>\n",
       "    </tr>\n",
       "    <tr>\n",
       "      <th>75%</th>\n",
       "      <td>118.000000</td>\n",
       "      <td>127.250000</td>\n",
       "      <td>130.250000</td>\n",
       "      <td>378.000000</td>\n",
       "      <td>51.25000</td>\n",
       "      <td>378.000000</td>\n",
       "      <td>378.000000</td>\n",
       "      <td>26.250000</td>\n",
       "    </tr>\n",
       "    <tr>\n",
       "      <th>max</th>\n",
       "      <td>131.000000</td>\n",
       "      <td>148.000000</td>\n",
       "      <td>144.000000</td>\n",
       "      <td>418.000000</td>\n",
       "      <td>68.00000</td>\n",
       "      <td>418.000000</td>\n",
       "      <td>418.000000</td>\n",
       "      <td>78.000000</td>\n",
       "    </tr>\n",
       "  </tbody>\n",
       "</table>\n",
       "</div>"
      ],
      "text/plain": [
       "               语文          数学          英语          总分       班名次         总分1  \\\n",
       "count   68.000000   68.000000   68.000000   68.000000  68.00000   68.000000   \n",
       "mean   108.000000  102.823529  109.000000  319.823529  34.50000  319.823529   \n",
       "std     14.519159   33.395835   30.289647   73.782241  19.77372   73.782241   \n",
       "min     66.000000   21.000000   34.000000  123.000000   1.00000  123.000000   \n",
       "25%    100.500000   85.750000  100.250000  286.750000  17.75000  286.750000   \n",
       "50%    111.500000  111.500000  119.000000  343.500000  34.50000  343.500000   \n",
       "75%    118.000000  127.250000  130.250000  378.000000  51.25000  378.000000   \n",
       "max    131.000000  148.000000  144.000000  418.000000  68.00000  418.000000   \n",
       "\n",
       "              总分2         差值  \n",
       "count   68.000000  68.000000  \n",
       "mean   319.823529  17.176471  \n",
       "std     73.782241  16.414356  \n",
       "min    123.000000   0.000000  \n",
       "25%    286.750000   5.500000  \n",
       "50%    343.500000  10.000000  \n",
       "75%    378.000000  26.250000  \n",
       "max    418.000000  78.000000  "
      ]
     },
     "execution_count": 22,
     "metadata": {},
     "output_type": "execute_result"
    }
   ],
   "source": [
    "# 只支持数值列\n",
    "grade.describe()"
   ]
  },
  {
   "cell_type": "markdown",
   "metadata": {},
   "source": [
    "可以看到，直接调用 describe 方法后，会显示出数字类型的列的一些统计指标，如 总数、平均数、标准差、最小值、最大值、25%/50%/75% 分位数。\n",
    "```\n",
    "\n",
    "\n",
    "```\n",
    "\n",
    "如果想要查看非数字类型的列的统计指标，可以设置 include=[\"object\"] 来获得。"
   ]
  },
  {
   "cell_type": "code",
   "execution_count": 24,
   "metadata": {
    "ExecuteTime": {
     "end_time": "2019-06-24T02:44:16.700384Z",
     "start_time": "2019-06-24T02:44:16.673400Z"
    }
   },
   "outputs": [
    {
     "data": {
      "text/html": [
       "<div>\n",
       "<style scoped>\n",
       "    .dataframe tbody tr th:only-of-type {\n",
       "        vertical-align: middle;\n",
       "    }\n",
       "\n",
       "    .dataframe tbody tr th {\n",
       "        vertical-align: top;\n",
       "    }\n",
       "\n",
       "    .dataframe thead th {\n",
       "        text-align: right;\n",
       "    }\n",
       "</style>\n",
       "<table border=\"1\" class=\"dataframe\">\n",
       "  <thead>\n",
       "    <tr style=\"text-align: right;\">\n",
       "      <th></th>\n",
       "      <th>Hero Name</th>\n",
       "      <th>Sex</th>\n",
       "      <th>Birthplace</th>\n",
       "      <th>weapon</th>\n",
       "    </tr>\n",
       "  </thead>\n",
       "  <tbody>\n",
       "    <tr>\n",
       "      <th>count</th>\n",
       "      <td>8</td>\n",
       "      <td>8</td>\n",
       "      <td>8</td>\n",
       "      <td>8</td>\n",
       "    </tr>\n",
       "    <tr>\n",
       "      <th>unique</th>\n",
       "      <td>8</td>\n",
       "      <td>2</td>\n",
       "      <td>7</td>\n",
       "      <td>8</td>\n",
       "    </tr>\n",
       "    <tr>\n",
       "      <th>top</th>\n",
       "      <td>奇异博士</td>\n",
       "      <td>男</td>\n",
       "      <td>纽约</td>\n",
       "      <td>暴风战斧</td>\n",
       "    </tr>\n",
       "    <tr>\n",
       "      <th>freq</th>\n",
       "      <td>1</td>\n",
       "      <td>6</td>\n",
       "      <td>2</td>\n",
       "      <td>1</td>\n",
       "    </tr>\n",
       "  </tbody>\n",
       "</table>\n",
       "</div>"
      ],
      "text/plain": [
       "       Hero Name Sex Birthplace weapon\n",
       "count          8   8          8      8\n",
       "unique         8   2          7      8\n",
       "top         奇异博士   男         纽约   暴风战斧\n",
       "freq           1   6          2      1"
      ]
     },
     "execution_count": 24,
     "metadata": {},
     "output_type": "execute_result"
    }
   ],
   "source": [
    "user_infor=pd.read_csv(\"new_infor.csv\",index_col=\"索引\")\n",
    "user_infor.describe(include=[\"object\"])  #显示数据类型是object的字段信息"
   ]
  },
  {
   "cell_type": "markdown",
   "metadata": {},
   "source": [
    "上面的结果展示了非数字类型的列的一些统计指标：总数，去重后的个数、最常见的值、最常见的值的频数。"
   ]
  },
  {
   "cell_type": "markdown",
   "metadata": {},
   "source": [
    "## Series.value_counts"
   ]
  },
  {
   "cell_type": "code",
   "execution_count": 26,
   "metadata": {
    "ExecuteTime": {
     "end_time": "2019-06-24T02:45:36.687250Z",
     "start_time": "2019-06-24T02:45:36.668263Z"
    }
   },
   "outputs": [
    {
     "data": {
      "text/html": [
       "<div>\n",
       "<style scoped>\n",
       "    .dataframe tbody tr th:only-of-type {\n",
       "        vertical-align: middle;\n",
       "    }\n",
       "\n",
       "    .dataframe tbody tr th {\n",
       "        vertical-align: top;\n",
       "    }\n",
       "\n",
       "    .dataframe thead th {\n",
       "        text-align: right;\n",
       "    }\n",
       "</style>\n",
       "<table border=\"1\" class=\"dataframe\">\n",
       "  <thead>\n",
       "    <tr style=\"text-align: right;\">\n",
       "      <th></th>\n",
       "      <th>Hero Name</th>\n",
       "      <th>Age</th>\n",
       "      <th>Sex</th>\n",
       "      <th>Birthplace</th>\n",
       "      <th>weapon</th>\n",
       "    </tr>\n",
       "    <tr>\n",
       "      <th>索引</th>\n",
       "      <th></th>\n",
       "      <th></th>\n",
       "      <th></th>\n",
       "      <th></th>\n",
       "      <th></th>\n",
       "    </tr>\n",
       "  </thead>\n",
       "  <tbody>\n",
       "    <tr>\n",
       "      <th>0</th>\n",
       "      <td>蜘蛛侠</td>\n",
       "      <td>19</td>\n",
       "      <td>男</td>\n",
       "      <td>纽约</td>\n",
       "      <td>蜘蛛感应</td>\n",
       "    </tr>\n",
       "    <tr>\n",
       "      <th>1</th>\n",
       "      <td>灭霸</td>\n",
       "      <td>3000</td>\n",
       "      <td>男</td>\n",
       "      <td>泰坦星球</td>\n",
       "      <td>暴君屠刀</td>\n",
       "    </tr>\n",
       "    <tr>\n",
       "      <th>2</th>\n",
       "      <td>奇异博士</td>\n",
       "      <td>36</td>\n",
       "      <td>男</td>\n",
       "      <td>费城</td>\n",
       "      <td>魔法</td>\n",
       "    </tr>\n",
       "    <tr>\n",
       "      <th>3</th>\n",
       "      <td>钢铁侠</td>\n",
       "      <td>42</td>\n",
       "      <td>男</td>\n",
       "      <td>纽约</td>\n",
       "      <td>纳米战甲</td>\n",
       "    </tr>\n",
       "    <tr>\n",
       "      <th>4</th>\n",
       "      <td>蝙蝠侠</td>\n",
       "      <td>40</td>\n",
       "      <td>男</td>\n",
       "      <td>哥谭</td>\n",
       "      <td>有钱</td>\n",
       "    </tr>\n",
       "    <tr>\n",
       "      <th>5</th>\n",
       "      <td>索尔</td>\n",
       "      <td>1505</td>\n",
       "      <td>男</td>\n",
       "      <td>阿斯加德</td>\n",
       "      <td>暴风战斧</td>\n",
       "    </tr>\n",
       "    <tr>\n",
       "      <th>6</th>\n",
       "      <td>神奇女侠</td>\n",
       "      <td>2000</td>\n",
       "      <td>女</td>\n",
       "      <td>天堂岛</td>\n",
       "      <td>弑神者</td>\n",
       "    </tr>\n",
       "    <tr>\n",
       "      <th>7</th>\n",
       "      <td>黑寡妇</td>\n",
       "      <td>35</td>\n",
       "      <td>女</td>\n",
       "      <td>斯大林格勒</td>\n",
       "      <td>枪械</td>\n",
       "    </tr>\n",
       "  </tbody>\n",
       "</table>\n",
       "</div>"
      ],
      "text/plain": [
       "   Hero Name   Age Sex Birthplace weapon\n",
       "索引                                      \n",
       "0        蜘蛛侠    19   男         纽约   蜘蛛感应\n",
       "1         灭霸  3000   男       泰坦星球   暴君屠刀\n",
       "2       奇异博士    36   男         费城     魔法\n",
       "3        钢铁侠    42   男         纽约   纳米战甲\n",
       "4        蝙蝠侠    40   男         哥谭     有钱\n",
       "5         索尔  1505   男       阿斯加德   暴风战斧\n",
       "6       神奇女侠  2000   女        天堂岛    弑神者\n",
       "7        黑寡妇    35   女      斯大林格勒     枪械"
      ]
     },
     "execution_count": 26,
     "metadata": {},
     "output_type": "execute_result"
    }
   ],
   "source": [
    "user_infor=pd.read_csv(\"new_infor.csv\",index_col=\"索引\")\n",
    "user_infor"
   ]
  },
  {
   "cell_type": "code",
   "execution_count": 27,
   "metadata": {
    "ExecuteTime": {
     "end_time": "2019-06-24T02:46:48.194097Z",
     "start_time": "2019-06-24T02:46:48.182102Z"
    }
   },
   "outputs": [
    {
     "data": {
      "text/plain": [
       "纽约       2\n",
       "天堂岛      1\n",
       "斯大林格勒    1\n",
       "阿斯加德     1\n",
       "费城       1\n",
       "哥谭       1\n",
       "泰坦星球     1\n",
       "Name: Birthplace, dtype: int64"
      ]
     },
     "execution_count": 27,
     "metadata": {},
     "output_type": "execute_result"
    }
   ],
   "source": [
    "user_infor['Birthplace'].value_counts()"
   ]
  },
  {
   "cell_type": "markdown",
   "metadata": {},
   "source": [
    "如果想要获取某列最大值或最小值对应的索引，可以使用 idxmax 或 idxmin 方法完成。"
   ]
  },
  {
   "cell_type": "code",
   "execution_count": 29,
   "metadata": {
    "ExecuteTime": {
     "end_time": "2019-06-24T02:47:05.360503Z",
     "start_time": "2019-06-24T02:47:05.352511Z"
    }
   },
   "outputs": [
    {
     "data": {
      "text/plain": [
       "0"
      ]
     },
     "execution_count": 29,
     "metadata": {},
     "output_type": "execute_result"
    }
   ],
   "source": [
    "user_infor.Age.idxmin()   "
   ]
  },
  {
   "cell_type": "markdown",
   "metadata": {},
   "source": [
    "**注意区分，ndarray对应方法为np.argmin()**"
   ]
  },
  {
   "cell_type": "markdown",
   "metadata": {},
   "source": [
    "   \n",
    "   \n",
    "```\n",
    "\n",
    "\n",
    "```\n",
    "   \n",
    "   \n",
    "```\n",
    "\n",
    "\n",
    "```\n",
    "\n",
    "\n",
    "# 离散化\n",
    "## pd.cut()\n",
    "有时候，我们会碰到这样的需求，想要将年龄进行离散化（分箱），直白来说就是将年龄分成几个区间，这里我们想要将年龄分成 3 个区间段。就可以使用 pd.cut 方法来完成,返回的也是Series。"
   ]
  },
  {
   "cell_type": "code",
   "execution_count": 31,
   "metadata": {
    "ExecuteTime": {
     "end_time": "2019-06-24T02:50:10.068543Z",
     "start_time": "2019-06-24T02:50:09.778725Z"
    }
   },
   "outputs": [
    {
     "data": {
      "text/plain": [
       "索引\n",
       "0      (16.019, 1012.667]\n",
       "1      (2006.333, 3000.0]\n",
       "2      (16.019, 1012.667]\n",
       "3      (16.019, 1012.667]\n",
       "4      (16.019, 1012.667]\n",
       "5    (1012.667, 2006.333]\n",
       "6    (1012.667, 2006.333]\n",
       "7      (16.019, 1012.667]\n",
       "Name: Age, dtype: category\n",
       "Categories (3, interval[float64]): [(16.019, 1012.667] < (1012.667, 2006.333] < (2006.333, 3000.0]]"
      ]
     },
     "execution_count": 31,
     "metadata": {},
     "output_type": "execute_result"
    }
   ],
   "source": [
    "pd.cut(user_infor['Age'], 3)"
   ]
  },
  {
   "cell_type": "markdown",
   "metadata": {},
   "source": [
    "可以看到， cut 自动生成了等距的离散区间，如果自己想定义也是没问题的。"
   ]
  },
  {
   "cell_type": "code",
   "execution_count": 32,
   "metadata": {
    "ExecuteTime": {
     "end_time": "2019-06-24T02:51:37.956464Z",
     "start_time": "2019-06-24T02:51:37.891506Z"
    }
   },
   "outputs": [
    {
     "data": {
      "text/plain": [
       "索引\n",
       "0       (18, 60]\n",
       "1    (100, 5000]\n",
       "2       (18, 60]\n",
       "3       (18, 60]\n",
       "4       (18, 60]\n",
       "5    (100, 5000]\n",
       "6    (100, 5000]\n",
       "7       (18, 60]\n",
       "Name: Age, dtype: category\n",
       "Categories (4, interval[int64]): [(0, 18] < (18, 60] < (60, 100] < (100, 5000]]"
      ]
     },
     "execution_count": 32,
     "metadata": {},
     "output_type": "execute_result"
    }
   ],
   "source": [
    "pd.cut(user_infor.Age, [0, 18, 60, 100,5000])"
   ]
  },
  {
   "cell_type": "markdown",
   "metadata": {},
   "source": [
    "有时候离散化之后，想要给每个区间起个名字，可以在pd.cut()中使用参数 labels 来指定。"
   ]
  },
  {
   "cell_type": "code",
   "execution_count": 34,
   "metadata": {
    "ExecuteTime": {
     "end_time": "2019-06-24T03:01:10.602578Z",
     "start_time": "2019-06-24T03:01:10.587589Z"
    }
   },
   "outputs": [
    {
     "data": {
      "text/plain": [
       "索引\n",
       "0     成年\n",
       "1    非人类\n",
       "2     成年\n",
       "3     成年\n",
       "4     成年\n",
       "5    非人类\n",
       "6    非人类\n",
       "7     成年\n",
       "Name: Age, dtype: category\n",
       "Categories (5, object): [未成年 < 成年 < 老年人 < 超长寿 < 非人类]"
      ]
     },
     "execution_count": 34,
     "metadata": {},
     "output_type": "execute_result"
    }
   ],
   "source": [
    "a=pd.cut(user_infor.Age, [0, 18, 60, 100,150,5000], labels=[\"未成年\", \"成年\", \"老年人\",\"超长寿\",\"非人类\"])\n",
    "a"
   ]
  },
  {
   "cell_type": "markdown",
   "metadata": {},
   "source": [
    "既然pd.cut()返回的是一列Series，那么可以将其添加到原DataFrame中："
   ]
  },
  {
   "cell_type": "code",
   "execution_count": 35,
   "metadata": {
    "ExecuteTime": {
     "end_time": "2019-06-24T03:05:35.581957Z",
     "start_time": "2019-06-24T03:05:35.555973Z"
    }
   },
   "outputs": [
    {
     "data": {
      "text/html": [
       "<div>\n",
       "<style scoped>\n",
       "    .dataframe tbody tr th:only-of-type {\n",
       "        vertical-align: middle;\n",
       "    }\n",
       "\n",
       "    .dataframe tbody tr th {\n",
       "        vertical-align: top;\n",
       "    }\n",
       "\n",
       "    .dataframe thead th {\n",
       "        text-align: right;\n",
       "    }\n",
       "</style>\n",
       "<table border=\"1\" class=\"dataframe\">\n",
       "  <thead>\n",
       "    <tr style=\"text-align: right;\">\n",
       "      <th></th>\n",
       "      <th>Hero Name</th>\n",
       "      <th>Age</th>\n",
       "      <th>Sex</th>\n",
       "      <th>Birthplace</th>\n",
       "      <th>weapon</th>\n",
       "      <th>年龄段</th>\n",
       "    </tr>\n",
       "    <tr>\n",
       "      <th>索引</th>\n",
       "      <th></th>\n",
       "      <th></th>\n",
       "      <th></th>\n",
       "      <th></th>\n",
       "      <th></th>\n",
       "      <th></th>\n",
       "    </tr>\n",
       "  </thead>\n",
       "  <tbody>\n",
       "    <tr>\n",
       "      <th>0</th>\n",
       "      <td>蜘蛛侠</td>\n",
       "      <td>19</td>\n",
       "      <td>男</td>\n",
       "      <td>纽约</td>\n",
       "      <td>蜘蛛感应</td>\n",
       "      <td>成年</td>\n",
       "    </tr>\n",
       "    <tr>\n",
       "      <th>1</th>\n",
       "      <td>灭霸</td>\n",
       "      <td>3000</td>\n",
       "      <td>男</td>\n",
       "      <td>泰坦星球</td>\n",
       "      <td>暴君屠刀</td>\n",
       "      <td>非人类</td>\n",
       "    </tr>\n",
       "    <tr>\n",
       "      <th>2</th>\n",
       "      <td>奇异博士</td>\n",
       "      <td>36</td>\n",
       "      <td>男</td>\n",
       "      <td>费城</td>\n",
       "      <td>魔法</td>\n",
       "      <td>成年</td>\n",
       "    </tr>\n",
       "    <tr>\n",
       "      <th>3</th>\n",
       "      <td>钢铁侠</td>\n",
       "      <td>42</td>\n",
       "      <td>男</td>\n",
       "      <td>纽约</td>\n",
       "      <td>纳米战甲</td>\n",
       "      <td>成年</td>\n",
       "    </tr>\n",
       "    <tr>\n",
       "      <th>4</th>\n",
       "      <td>蝙蝠侠</td>\n",
       "      <td>40</td>\n",
       "      <td>男</td>\n",
       "      <td>哥谭</td>\n",
       "      <td>有钱</td>\n",
       "      <td>成年</td>\n",
       "    </tr>\n",
       "    <tr>\n",
       "      <th>5</th>\n",
       "      <td>索尔</td>\n",
       "      <td>1505</td>\n",
       "      <td>男</td>\n",
       "      <td>阿斯加德</td>\n",
       "      <td>暴风战斧</td>\n",
       "      <td>非人类</td>\n",
       "    </tr>\n",
       "    <tr>\n",
       "      <th>6</th>\n",
       "      <td>神奇女侠</td>\n",
       "      <td>2000</td>\n",
       "      <td>女</td>\n",
       "      <td>天堂岛</td>\n",
       "      <td>弑神者</td>\n",
       "      <td>非人类</td>\n",
       "    </tr>\n",
       "    <tr>\n",
       "      <th>7</th>\n",
       "      <td>黑寡妇</td>\n",
       "      <td>35</td>\n",
       "      <td>女</td>\n",
       "      <td>斯大林格勒</td>\n",
       "      <td>枪械</td>\n",
       "      <td>成年</td>\n",
       "    </tr>\n",
       "  </tbody>\n",
       "</table>\n",
       "</div>"
      ],
      "text/plain": [
       "   Hero Name   Age Sex Birthplace weapon  年龄段\n",
       "索引                                           \n",
       "0        蜘蛛侠    19   男         纽约   蜘蛛感应   成年\n",
       "1         灭霸  3000   男       泰坦星球   暴君屠刀  非人类\n",
       "2       奇异博士    36   男         费城     魔法   成年\n",
       "3        钢铁侠    42   男         纽约   纳米战甲   成年\n",
       "4        蝙蝠侠    40   男         哥谭     有钱   成年\n",
       "5         索尔  1505   男       阿斯加德   暴风战斧  非人类\n",
       "6       神奇女侠  2000   女        天堂岛    弑神者  非人类\n",
       "7        黑寡妇    35   女      斯大林格勒     枪械   成年"
      ]
     },
     "execution_count": 35,
     "metadata": {},
     "output_type": "execute_result"
    }
   ],
   "source": [
    "user_infor[\"年龄段\"]=a\n",
    "user_infor"
   ]
  },
  {
   "cell_type": "markdown",
   "metadata": {},
   "source": [
    "## pd.qcut()"
   ]
  },
  {
   "cell_type": "markdown",
   "metadata": {},
   "source": [
    "除了可以使用 cut 进行离散化之外，qcut 也可以实现离散化。cut 是根据**每个值的大小来进行离散化的，qcut 是根据每个值出现的次数来进行离散化，也就是基于分位数的离散化功能**。"
   ]
  },
  {
   "cell_type": "code",
   "execution_count": 37,
   "metadata": {
    "ExecuteTime": {
     "end_time": "2019-06-24T03:06:15.138253Z",
     "start_time": "2019-06-24T03:06:15.011334Z"
    }
   },
   "outputs": [
    {
     "data": {
      "text/html": [
       "<div>\n",
       "<style scoped>\n",
       "    .dataframe tbody tr th:only-of-type {\n",
       "        vertical-align: middle;\n",
       "    }\n",
       "\n",
       "    .dataframe tbody tr th {\n",
       "        vertical-align: top;\n",
       "    }\n",
       "\n",
       "    .dataframe thead th {\n",
       "        text-align: right;\n",
       "    }\n",
       "</style>\n",
       "<table border=\"1\" class=\"dataframe\">\n",
       "  <thead>\n",
       "    <tr style=\"text-align: right;\">\n",
       "      <th></th>\n",
       "      <th>Hero Name</th>\n",
       "      <th>Age</th>\n",
       "      <th>Sex</th>\n",
       "      <th>Birthplace</th>\n",
       "      <th>weapon</th>\n",
       "    </tr>\n",
       "    <tr>\n",
       "      <th>索引</th>\n",
       "      <th></th>\n",
       "      <th></th>\n",
       "      <th></th>\n",
       "      <th></th>\n",
       "      <th></th>\n",
       "    </tr>\n",
       "  </thead>\n",
       "  <tbody>\n",
       "    <tr>\n",
       "      <th>0</th>\n",
       "      <td>蜘蛛侠</td>\n",
       "      <td>19</td>\n",
       "      <td>男</td>\n",
       "      <td>纽约</td>\n",
       "      <td>蜘蛛感应</td>\n",
       "    </tr>\n",
       "    <tr>\n",
       "      <th>1</th>\n",
       "      <td>灭霸</td>\n",
       "      <td>3000</td>\n",
       "      <td>男</td>\n",
       "      <td>泰坦星球</td>\n",
       "      <td>暴君屠刀</td>\n",
       "    </tr>\n",
       "    <tr>\n",
       "      <th>2</th>\n",
       "      <td>奇异博士</td>\n",
       "      <td>36</td>\n",
       "      <td>男</td>\n",
       "      <td>费城</td>\n",
       "      <td>魔法</td>\n",
       "    </tr>\n",
       "    <tr>\n",
       "      <th>3</th>\n",
       "      <td>钢铁侠</td>\n",
       "      <td>42</td>\n",
       "      <td>男</td>\n",
       "      <td>纽约</td>\n",
       "      <td>纳米战甲</td>\n",
       "    </tr>\n",
       "    <tr>\n",
       "      <th>4</th>\n",
       "      <td>蝙蝠侠</td>\n",
       "      <td>40</td>\n",
       "      <td>男</td>\n",
       "      <td>哥谭</td>\n",
       "      <td>有钱</td>\n",
       "    </tr>\n",
       "    <tr>\n",
       "      <th>5</th>\n",
       "      <td>索尔</td>\n",
       "      <td>1505</td>\n",
       "      <td>男</td>\n",
       "      <td>阿斯加德</td>\n",
       "      <td>暴风战斧</td>\n",
       "    </tr>\n",
       "    <tr>\n",
       "      <th>6</th>\n",
       "      <td>神奇女侠</td>\n",
       "      <td>2000</td>\n",
       "      <td>女</td>\n",
       "      <td>天堂岛</td>\n",
       "      <td>弑神者</td>\n",
       "    </tr>\n",
       "    <tr>\n",
       "      <th>7</th>\n",
       "      <td>黑寡妇</td>\n",
       "      <td>35</td>\n",
       "      <td>女</td>\n",
       "      <td>斯大林格勒</td>\n",
       "      <td>枪械</td>\n",
       "    </tr>\n",
       "  </tbody>\n",
       "</table>\n",
       "</div>"
      ],
      "text/plain": [
       "   Hero Name   Age Sex Birthplace weapon\n",
       "索引                                      \n",
       "0        蜘蛛侠    19   男         纽约   蜘蛛感应\n",
       "1         灭霸  3000   男       泰坦星球   暴君屠刀\n",
       "2       奇异博士    36   男         费城     魔法\n",
       "3        钢铁侠    42   男         纽约   纳米战甲\n",
       "4        蝙蝠侠    40   男         哥谭     有钱\n",
       "5         索尔  1505   男       阿斯加德   暴风战斧\n",
       "6       神奇女侠  2000   女        天堂岛    弑神者\n",
       "7        黑寡妇    35   女      斯大林格勒     枪械"
      ]
     },
     "execution_count": 37,
     "metadata": {},
     "output_type": "execute_result"
    },
    {
     "data": {
      "text/plain": [
       "索引\n",
       "0      (18.999, 37.333]\n",
       "1    (1017.333, 3000.0]\n",
       "2      (18.999, 37.333]\n",
       "3    (37.333, 1017.333]\n",
       "4    (37.333, 1017.333]\n",
       "5    (1017.333, 3000.0]\n",
       "6    (1017.333, 3000.0]\n",
       "7      (18.999, 37.333]\n",
       "Name: Age, dtype: category\n",
       "Categories (3, interval[float64]): [(18.999, 37.333] < (37.333, 1017.333] < (1017.333, 3000.0]]"
      ]
     },
     "execution_count": 37,
     "metadata": {},
     "output_type": "execute_result"
    }
   ],
   "source": [
    "user_infor=pd.read_csv(\"new_infor.csv\",index_col=\"索引\")\n",
    "user_infor\n",
    "\n",
    "pd.qcut(user_infor.Age, 3)"
   ]
  },
  {
   "cell_type": "markdown",
   "metadata": {},
   "source": [
    "## 练习"
   ]
  },
  {
   "cell_type": "code",
   "execution_count": 39,
   "metadata": {
    "ExecuteTime": {
     "end_time": "2019-06-24T03:07:48.640568Z",
     "start_time": "2019-06-24T03:07:48.613586Z"
    }
   },
   "outputs": [
    {
     "data": {
      "text/html": [
       "<div>\n",
       "<style scoped>\n",
       "    .dataframe tbody tr th:only-of-type {\n",
       "        vertical-align: middle;\n",
       "    }\n",
       "\n",
       "    .dataframe tbody tr th {\n",
       "        vertical-align: top;\n",
       "    }\n",
       "\n",
       "    .dataframe thead th {\n",
       "        text-align: right;\n",
       "    }\n",
       "</style>\n",
       "<table border=\"1\" class=\"dataframe\">\n",
       "  <thead>\n",
       "    <tr style=\"text-align: right;\">\n",
       "      <th></th>\n",
       "      <th>姓名</th>\n",
       "      <th>语文</th>\n",
       "      <th>数学</th>\n",
       "      <th>英语</th>\n",
       "      <th>总分</th>\n",
       "      <th>班名次</th>\n",
       "    </tr>\n",
       "  </thead>\n",
       "  <tbody>\n",
       "    <tr>\n",
       "      <th>0</th>\n",
       "      <td>杨璐</td>\n",
       "      <td>131</td>\n",
       "      <td>143</td>\n",
       "      <td>144</td>\n",
       "      <td>418</td>\n",
       "      <td>1</td>\n",
       "    </tr>\n",
       "    <tr>\n",
       "      <th>1</th>\n",
       "      <td>王雪</td>\n",
       "      <td>131</td>\n",
       "      <td>135</td>\n",
       "      <td>144</td>\n",
       "      <td>410</td>\n",
       "      <td>2</td>\n",
       "    </tr>\n",
       "    <tr>\n",
       "      <th>2</th>\n",
       "      <td>韩林霖</td>\n",
       "      <td>127</td>\n",
       "      <td>139</td>\n",
       "      <td>142</td>\n",
       "      <td>408</td>\n",
       "      <td>3</td>\n",
       "    </tr>\n",
       "    <tr>\n",
       "      <th>3</th>\n",
       "      <td>沙龙逸</td>\n",
       "      <td>123</td>\n",
       "      <td>148</td>\n",
       "      <td>136</td>\n",
       "      <td>407</td>\n",
       "      <td>4</td>\n",
       "    </tr>\n",
       "    <tr>\n",
       "      <th>4</th>\n",
       "      <td>李鉴学</td>\n",
       "      <td>126</td>\n",
       "      <td>135</td>\n",
       "      <td>140</td>\n",
       "      <td>401</td>\n",
       "      <td>5</td>\n",
       "    </tr>\n",
       "  </tbody>\n",
       "</table>\n",
       "</div>"
      ],
      "text/plain": [
       "    姓名   语文   数学   英语   总分  班名次\n",
       "0   杨璐  131  143  144  418    1\n",
       "1   王雪  131  135  144  410    2\n",
       "2  韩林霖  127  139  142  408    3\n",
       "3  沙龙逸  123  148  136  407    4\n",
       "4  李鉴学  126  135  140  401    5"
      ]
     },
     "execution_count": 39,
     "metadata": {},
     "output_type": "execute_result"
    }
   ],
   "source": [
    "grade=pd.read_csv('student_grade.txt',sep='\\t')\n",
    "grade.head()"
   ]
  },
  {
   "cell_type": "markdown",
   "metadata": {},
   "source": [
    "```\n",
    "第一小题：\n",
    "    grade按照数学成绩进行离散化，分为“优”、“良”、“及格”、“不及格”：\n",
    "        [135,150]-->优\n",
    "        [120,135)-->良\n",
    "        [90,120)-->及格\n",
    "        [0,90)-->不及格\n",
    "第二小题：\n",
    "    \n",
    "    如何统计不同数学成绩等级的人数？\n",
    "```"
   ]
  },
  {
   "cell_type": "code",
   "execution_count": 40,
   "metadata": {
    "ExecuteTime": {
     "end_time": "2019-06-24T03:11:32.198102Z",
     "start_time": "2019-06-24T03:11:32.170119Z"
    }
   },
   "outputs": [
    {
     "data": {
      "text/html": [
       "<div>\n",
       "<style scoped>\n",
       "    .dataframe tbody tr th:only-of-type {\n",
       "        vertical-align: middle;\n",
       "    }\n",
       "\n",
       "    .dataframe tbody tr th {\n",
       "        vertical-align: top;\n",
       "    }\n",
       "\n",
       "    .dataframe thead th {\n",
       "        text-align: right;\n",
       "    }\n",
       "</style>\n",
       "<table border=\"1\" class=\"dataframe\">\n",
       "  <thead>\n",
       "    <tr style=\"text-align: right;\">\n",
       "      <th></th>\n",
       "      <th>姓名</th>\n",
       "      <th>语文</th>\n",
       "      <th>数学</th>\n",
       "      <th>英语</th>\n",
       "      <th>总分</th>\n",
       "      <th>班名次</th>\n",
       "      <th>数学等级</th>\n",
       "    </tr>\n",
       "  </thead>\n",
       "  <tbody>\n",
       "    <tr>\n",
       "      <th>0</th>\n",
       "      <td>杨璐</td>\n",
       "      <td>131</td>\n",
       "      <td>143</td>\n",
       "      <td>144</td>\n",
       "      <td>418</td>\n",
       "      <td>1</td>\n",
       "      <td>优</td>\n",
       "    </tr>\n",
       "    <tr>\n",
       "      <th>1</th>\n",
       "      <td>王雪</td>\n",
       "      <td>131</td>\n",
       "      <td>135</td>\n",
       "      <td>144</td>\n",
       "      <td>410</td>\n",
       "      <td>2</td>\n",
       "      <td>良</td>\n",
       "    </tr>\n",
       "    <tr>\n",
       "      <th>2</th>\n",
       "      <td>韩林霖</td>\n",
       "      <td>127</td>\n",
       "      <td>139</td>\n",
       "      <td>142</td>\n",
       "      <td>408</td>\n",
       "      <td>3</td>\n",
       "      <td>优</td>\n",
       "    </tr>\n",
       "    <tr>\n",
       "      <th>3</th>\n",
       "      <td>沙龙逸</td>\n",
       "      <td>123</td>\n",
       "      <td>148</td>\n",
       "      <td>136</td>\n",
       "      <td>407</td>\n",
       "      <td>4</td>\n",
       "      <td>优</td>\n",
       "    </tr>\n",
       "    <tr>\n",
       "      <th>4</th>\n",
       "      <td>李鉴学</td>\n",
       "      <td>126</td>\n",
       "      <td>135</td>\n",
       "      <td>140</td>\n",
       "      <td>401</td>\n",
       "      <td>5</td>\n",
       "      <td>良</td>\n",
       "    </tr>\n",
       "    <tr>\n",
       "      <th>5</th>\n",
       "      <td>韩雨萌</td>\n",
       "      <td>129</td>\n",
       "      <td>133</td>\n",
       "      <td>138</td>\n",
       "      <td>400</td>\n",
       "      <td>6</td>\n",
       "      <td>良</td>\n",
       "    </tr>\n",
       "    <tr>\n",
       "      <th>6</th>\n",
       "      <td>刘帅</td>\n",
       "      <td>116</td>\n",
       "      <td>143</td>\n",
       "      <td>140</td>\n",
       "      <td>399</td>\n",
       "      <td>7</td>\n",
       "      <td>优</td>\n",
       "    </tr>\n",
       "    <tr>\n",
       "      <th>7</th>\n",
       "      <td>康惠雯</td>\n",
       "      <td>114</td>\n",
       "      <td>142</td>\n",
       "      <td>139</td>\n",
       "      <td>395</td>\n",
       "      <td>8</td>\n",
       "      <td>优</td>\n",
       "    </tr>\n",
       "    <tr>\n",
       "      <th>8</th>\n",
       "      <td>刘钰婷</td>\n",
       "      <td>115</td>\n",
       "      <td>139</td>\n",
       "      <td>135</td>\n",
       "      <td>389</td>\n",
       "      <td>9</td>\n",
       "      <td>优</td>\n",
       "    </tr>\n",
       "    <tr>\n",
       "      <th>9</th>\n",
       "      <td>林世博</td>\n",
       "      <td>116</td>\n",
       "      <td>142</td>\n",
       "      <td>129</td>\n",
       "      <td>387</td>\n",
       "      <td>10</td>\n",
       "      <td>优</td>\n",
       "    </tr>\n",
       "  </tbody>\n",
       "</table>\n",
       "</div>"
      ],
      "text/plain": [
       "    姓名   语文   数学   英语   总分  班名次 数学等级\n",
       "0   杨璐  131  143  144  418    1    优\n",
       "1   王雪  131  135  144  410    2    良\n",
       "2  韩林霖  127  139  142  408    3    优\n",
       "3  沙龙逸  123  148  136  407    4    优\n",
       "4  李鉴学  126  135  140  401    5    良\n",
       "5  韩雨萌  129  133  138  400    6    良\n",
       "6   刘帅  116  143  140  399    7    优\n",
       "7  康惠雯  114  142  139  395    8    优\n",
       "8  刘钰婷  115  139  135  389    9    优\n",
       "9  林世博  116  142  129  387   10    优"
      ]
     },
     "execution_count": 40,
     "metadata": {},
     "output_type": "execute_result"
    }
   ],
   "source": []
  },
  {
   "cell_type": "code",
   "execution_count": 42,
   "metadata": {
    "ExecuteTime": {
     "end_time": "2019-06-24T03:11:45.263775Z",
     "start_time": "2019-06-24T03:11:45.250784Z"
    }
   },
   "outputs": [
    {
     "data": {
      "text/plain": [
       "及格     22\n",
       "不及格    19\n",
       "良      18\n",
       "优       9\n",
       "Name: 数学等级, dtype: int64"
      ]
     },
     "execution_count": 42,
     "metadata": {},
     "output_type": "execute_result"
    }
   ],
   "source": []
  },
  {
   "cell_type": "markdown",
   "metadata": {},
   "source": [
    "```\n",
    "\n",
    "   \n",
    "    \n",
    "   \n",
    "   \n",
    "```\n",
    "# 排序功能\n",
    "\n",
    "在进行数据分析时，少不了进行数据排序。Pandas 支持两种排序方式：按轴（索引或列）排序和按实际值排序。\n",
    "\n",
    "## df.sort_index()\n",
    "\n",
    "sort_index 方法默认是按照索引进行正序排的。"
   ]
  },
  {
   "cell_type": "code",
   "execution_count": 44,
   "metadata": {
    "ExecuteTime": {
     "end_time": "2019-06-24T03:17:44.444913Z",
     "start_time": "2019-06-24T03:17:44.377949Z"
    }
   },
   "outputs": [
    {
     "data": {
      "text/html": [
       "<div>\n",
       "<style scoped>\n",
       "    .dataframe tbody tr th:only-of-type {\n",
       "        vertical-align: middle;\n",
       "    }\n",
       "\n",
       "    .dataframe tbody tr th {\n",
       "        vertical-align: top;\n",
       "    }\n",
       "\n",
       "    .dataframe thead th {\n",
       "        text-align: right;\n",
       "    }\n",
       "</style>\n",
       "<table border=\"1\" class=\"dataframe\">\n",
       "  <thead>\n",
       "    <tr style=\"text-align: right;\">\n",
       "      <th></th>\n",
       "      <th>Hero Name</th>\n",
       "      <th>Age</th>\n",
       "      <th>Sex</th>\n",
       "      <th>Birthplace</th>\n",
       "      <th>weapon</th>\n",
       "    </tr>\n",
       "    <tr>\n",
       "      <th>索引</th>\n",
       "      <th></th>\n",
       "      <th></th>\n",
       "      <th></th>\n",
       "      <th></th>\n",
       "      <th></th>\n",
       "    </tr>\n",
       "  </thead>\n",
       "  <tbody>\n",
       "    <tr>\n",
       "      <th>0</th>\n",
       "      <td>蜘蛛侠</td>\n",
       "      <td>19</td>\n",
       "      <td>男</td>\n",
       "      <td>纽约</td>\n",
       "      <td>蜘蛛感应</td>\n",
       "    </tr>\n",
       "    <tr>\n",
       "      <th>1</th>\n",
       "      <td>灭霸</td>\n",
       "      <td>3000</td>\n",
       "      <td>男</td>\n",
       "      <td>泰坦星球</td>\n",
       "      <td>暴君屠刀</td>\n",
       "    </tr>\n",
       "    <tr>\n",
       "      <th>2</th>\n",
       "      <td>奇异博士</td>\n",
       "      <td>36</td>\n",
       "      <td>男</td>\n",
       "      <td>费城</td>\n",
       "      <td>魔法</td>\n",
       "    </tr>\n",
       "    <tr>\n",
       "      <th>3</th>\n",
       "      <td>钢铁侠</td>\n",
       "      <td>42</td>\n",
       "      <td>男</td>\n",
       "      <td>纽约</td>\n",
       "      <td>纳米战甲</td>\n",
       "    </tr>\n",
       "    <tr>\n",
       "      <th>4</th>\n",
       "      <td>蝙蝠侠</td>\n",
       "      <td>40</td>\n",
       "      <td>男</td>\n",
       "      <td>哥谭</td>\n",
       "      <td>有钱</td>\n",
       "    </tr>\n",
       "    <tr>\n",
       "      <th>5</th>\n",
       "      <td>索尔</td>\n",
       "      <td>1505</td>\n",
       "      <td>男</td>\n",
       "      <td>阿斯加德</td>\n",
       "      <td>暴风战斧</td>\n",
       "    </tr>\n",
       "    <tr>\n",
       "      <th>6</th>\n",
       "      <td>神奇女侠</td>\n",
       "      <td>2000</td>\n",
       "      <td>女</td>\n",
       "      <td>天堂岛</td>\n",
       "      <td>弑神者</td>\n",
       "    </tr>\n",
       "    <tr>\n",
       "      <th>7</th>\n",
       "      <td>黑寡妇</td>\n",
       "      <td>35</td>\n",
       "      <td>女</td>\n",
       "      <td>斯大林格勒</td>\n",
       "      <td>枪械</td>\n",
       "    </tr>\n",
       "  </tbody>\n",
       "</table>\n",
       "</div>"
      ],
      "text/plain": [
       "   Hero Name   Age Sex Birthplace weapon\n",
       "索引                                      \n",
       "0        蜘蛛侠    19   男         纽约   蜘蛛感应\n",
       "1         灭霸  3000   男       泰坦星球   暴君屠刀\n",
       "2       奇异博士    36   男         费城     魔法\n",
       "3        钢铁侠    42   男         纽约   纳米战甲\n",
       "4        蝙蝠侠    40   男         哥谭     有钱\n",
       "5         索尔  1505   男       阿斯加德   暴风战斧\n",
       "6       神奇女侠  2000   女        天堂岛    弑神者\n",
       "7        黑寡妇    35   女      斯大林格勒     枪械"
      ]
     },
     "execution_count": 44,
     "metadata": {},
     "output_type": "execute_result"
    }
   ],
   "source": [
    "user_info=pd.read_csv(\"new_infor.csv\",index_col=\"索引\")\n",
    "user_infor.sort_index()"
   ]
  },
  {
   "cell_type": "code",
   "execution_count": 45,
   "metadata": {
    "ExecuteTime": {
     "end_time": "2019-06-24T03:18:37.478067Z",
     "start_time": "2019-06-24T03:18:37.463077Z"
    }
   },
   "outputs": [
    {
     "data": {
      "text/html": [
       "<div>\n",
       "<style scoped>\n",
       "    .dataframe tbody tr th:only-of-type {\n",
       "        vertical-align: middle;\n",
       "    }\n",
       "\n",
       "    .dataframe tbody tr th {\n",
       "        vertical-align: top;\n",
       "    }\n",
       "\n",
       "    .dataframe thead th {\n",
       "        text-align: right;\n",
       "    }\n",
       "</style>\n",
       "<table border=\"1\" class=\"dataframe\">\n",
       "  <thead>\n",
       "    <tr style=\"text-align: right;\">\n",
       "      <th></th>\n",
       "      <th>Hero Name</th>\n",
       "      <th>Age</th>\n",
       "      <th>Sex</th>\n",
       "      <th>Birthplace</th>\n",
       "      <th>weapon</th>\n",
       "    </tr>\n",
       "    <tr>\n",
       "      <th>索引</th>\n",
       "      <th></th>\n",
       "      <th></th>\n",
       "      <th></th>\n",
       "      <th></th>\n",
       "      <th></th>\n",
       "    </tr>\n",
       "  </thead>\n",
       "  <tbody>\n",
       "    <tr>\n",
       "      <th>7</th>\n",
       "      <td>黑寡妇</td>\n",
       "      <td>35</td>\n",
       "      <td>女</td>\n",
       "      <td>斯大林格勒</td>\n",
       "      <td>枪械</td>\n",
       "    </tr>\n",
       "    <tr>\n",
       "      <th>6</th>\n",
       "      <td>神奇女侠</td>\n",
       "      <td>2000</td>\n",
       "      <td>女</td>\n",
       "      <td>天堂岛</td>\n",
       "      <td>弑神者</td>\n",
       "    </tr>\n",
       "    <tr>\n",
       "      <th>5</th>\n",
       "      <td>索尔</td>\n",
       "      <td>1505</td>\n",
       "      <td>男</td>\n",
       "      <td>阿斯加德</td>\n",
       "      <td>暴风战斧</td>\n",
       "    </tr>\n",
       "    <tr>\n",
       "      <th>4</th>\n",
       "      <td>蝙蝠侠</td>\n",
       "      <td>40</td>\n",
       "      <td>男</td>\n",
       "      <td>哥谭</td>\n",
       "      <td>有钱</td>\n",
       "    </tr>\n",
       "    <tr>\n",
       "      <th>3</th>\n",
       "      <td>钢铁侠</td>\n",
       "      <td>42</td>\n",
       "      <td>男</td>\n",
       "      <td>纽约</td>\n",
       "      <td>纳米战甲</td>\n",
       "    </tr>\n",
       "    <tr>\n",
       "      <th>2</th>\n",
       "      <td>奇异博士</td>\n",
       "      <td>36</td>\n",
       "      <td>男</td>\n",
       "      <td>费城</td>\n",
       "      <td>魔法</td>\n",
       "    </tr>\n",
       "    <tr>\n",
       "      <th>1</th>\n",
       "      <td>灭霸</td>\n",
       "      <td>3000</td>\n",
       "      <td>男</td>\n",
       "      <td>泰坦星球</td>\n",
       "      <td>暴君屠刀</td>\n",
       "    </tr>\n",
       "    <tr>\n",
       "      <th>0</th>\n",
       "      <td>蜘蛛侠</td>\n",
       "      <td>19</td>\n",
       "      <td>男</td>\n",
       "      <td>纽约</td>\n",
       "      <td>蜘蛛感应</td>\n",
       "    </tr>\n",
       "  </tbody>\n",
       "</table>\n",
       "</div>"
      ],
      "text/plain": [
       "   Hero Name   Age Sex Birthplace weapon\n",
       "索引                                      \n",
       "7        黑寡妇    35   女      斯大林格勒     枪械\n",
       "6       神奇女侠  2000   女        天堂岛    弑神者\n",
       "5         索尔  1505   男       阿斯加德   暴风战斧\n",
       "4        蝙蝠侠    40   男         哥谭     有钱\n",
       "3        钢铁侠    42   男         纽约   纳米战甲\n",
       "2       奇异博士    36   男         费城     魔法\n",
       "1         灭霸  3000   男       泰坦星球   暴君屠刀\n",
       "0        蜘蛛侠    19   男         纽约   蜘蛛感应"
      ]
     },
     "execution_count": 45,
     "metadata": {},
     "output_type": "execute_result"
    }
   ],
   "source": [
    "# 如果想要按照列进行倒序排，可以设置ascending=False。\n",
    "user_infor.sort_index(ascending=False)"
   ]
  },
  {
   "cell_type": "markdown",
   "metadata": {},
   "source": [
    "```\n",
    "\n",
    "\n",
    "```\n",
    "## df.sort_values()\n",
    "如果想要实现按照实际值来排序，例如想要按照年龄排序，如何实现呢？\n",
    "\n",
    "使用 sort_values 方法，设置参数 by=\"age\" 即可。"
   ]
  },
  {
   "cell_type": "code",
   "execution_count": 47,
   "metadata": {
    "ExecuteTime": {
     "end_time": "2019-06-24T03:44:04.309939Z",
     "start_time": "2019-06-24T03:44:04.274963Z"
    }
   },
   "outputs": [
    {
     "data": {
      "text/html": [
       "<div>\n",
       "<style scoped>\n",
       "    .dataframe tbody tr th:only-of-type {\n",
       "        vertical-align: middle;\n",
       "    }\n",
       "\n",
       "    .dataframe tbody tr th {\n",
       "        vertical-align: top;\n",
       "    }\n",
       "\n",
       "    .dataframe thead th {\n",
       "        text-align: right;\n",
       "    }\n",
       "</style>\n",
       "<table border=\"1\" class=\"dataframe\">\n",
       "  <thead>\n",
       "    <tr style=\"text-align: right;\">\n",
       "      <th></th>\n",
       "      <th>Hero Name</th>\n",
       "      <th>Age</th>\n",
       "      <th>Sex</th>\n",
       "      <th>Birthplace</th>\n",
       "      <th>weapon</th>\n",
       "      <th>Power</th>\n",
       "    </tr>\n",
       "    <tr>\n",
       "      <th>索引</th>\n",
       "      <th></th>\n",
       "      <th></th>\n",
       "      <th></th>\n",
       "      <th></th>\n",
       "      <th></th>\n",
       "      <th></th>\n",
       "    </tr>\n",
       "  </thead>\n",
       "  <tbody>\n",
       "    <tr>\n",
       "      <th>0</th>\n",
       "      <td>蜘蛛侠</td>\n",
       "      <td>19</td>\n",
       "      <td>男</td>\n",
       "      <td>纽约</td>\n",
       "      <td>蜘蛛感应</td>\n",
       "      <td>95</td>\n",
       "    </tr>\n",
       "    <tr>\n",
       "      <th>1</th>\n",
       "      <td>灭霸</td>\n",
       "      <td>3000</td>\n",
       "      <td>男</td>\n",
       "      <td>泰坦星球</td>\n",
       "      <td>暴君屠刀</td>\n",
       "      <td>140</td>\n",
       "    </tr>\n",
       "    <tr>\n",
       "      <th>2</th>\n",
       "      <td>奇异博士</td>\n",
       "      <td>36</td>\n",
       "      <td>男</td>\n",
       "      <td>费城</td>\n",
       "      <td>魔法</td>\n",
       "      <td>120</td>\n",
       "    </tr>\n",
       "    <tr>\n",
       "      <th>3</th>\n",
       "      <td>钢铁侠</td>\n",
       "      <td>42</td>\n",
       "      <td>男</td>\n",
       "      <td>纽约</td>\n",
       "      <td>纳米战甲</td>\n",
       "      <td>120</td>\n",
       "    </tr>\n",
       "    <tr>\n",
       "      <th>4</th>\n",
       "      <td>蝙蝠侠</td>\n",
       "      <td>40</td>\n",
       "      <td>男</td>\n",
       "      <td>哥谭</td>\n",
       "      <td>有钱</td>\n",
       "      <td>120</td>\n",
       "    </tr>\n",
       "    <tr>\n",
       "      <th>5</th>\n",
       "      <td>索尔</td>\n",
       "      <td>1505</td>\n",
       "      <td>男</td>\n",
       "      <td>阿斯加德</td>\n",
       "      <td>暴风战斧</td>\n",
       "      <td>138</td>\n",
       "    </tr>\n",
       "    <tr>\n",
       "      <th>6</th>\n",
       "      <td>神奇女侠</td>\n",
       "      <td>2000</td>\n",
       "      <td>女</td>\n",
       "      <td>天堂岛</td>\n",
       "      <td>弑神者</td>\n",
       "      <td>130</td>\n",
       "    </tr>\n",
       "    <tr>\n",
       "      <th>7</th>\n",
       "      <td>黑寡妇</td>\n",
       "      <td>35</td>\n",
       "      <td>女</td>\n",
       "      <td>斯大林格勒</td>\n",
       "      <td>枪械</td>\n",
       "      <td>95</td>\n",
       "    </tr>\n",
       "    <tr>\n",
       "      <th>8</th>\n",
       "      <td>星爵</td>\n",
       "      <td>35</td>\n",
       "      <td>男</td>\n",
       "      <td>科罗拉多州</td>\n",
       "      <td>枪械</td>\n",
       "      <td>90</td>\n",
       "    </tr>\n",
       "  </tbody>\n",
       "</table>\n",
       "</div>"
      ],
      "text/plain": [
       "   Hero Name   Age Sex Birthplace weapon  Power\n",
       "索引                                             \n",
       "0        蜘蛛侠    19   男         纽约   蜘蛛感应     95\n",
       "1         灭霸  3000   男       泰坦星球   暴君屠刀    140\n",
       "2       奇异博士    36   男         费城     魔法    120\n",
       "3        钢铁侠    42   男         纽约   纳米战甲    120\n",
       "4        蝙蝠侠    40   男         哥谭     有钱    120\n",
       "5         索尔  1505   男       阿斯加德   暴风战斧    138\n",
       "6       神奇女侠  2000   女        天堂岛    弑神者    130\n",
       "7        黑寡妇    35   女      斯大林格勒     枪械     95\n",
       "8         星爵    35   男      科罗拉多州     枪械     90"
      ]
     },
     "execution_count": 47,
     "metadata": {},
     "output_type": "execute_result"
    }
   ],
   "source": [
    "user_info=pd.read_csv(\"new_infor.csv\",index_col=\"索引\")\n",
    "user_info.loc[8]=[\"星爵\",35,\"男\",\"科罗拉多州\",\"枪械\"]\n",
    "user_info[\"Power\"]=[95,140,120,120,120,138,130,95,90]\n",
    "user_info"
   ]
  },
  {
   "cell_type": "markdown",
   "metadata": {},
   "source": [
    "有时候我们可能需要按照多个值来排序，例如：按照年龄和城市来一起排序，可以设置参数 by 为一个 list 即可。\n",
    "\n",
    "注意：list 中每个元素的顺序会影响排序优先级的。"
   ]
  },
  {
   "cell_type": "code",
   "execution_count": 48,
   "metadata": {
    "ExecuteTime": {
     "end_time": "2019-06-24T03:49:37.121330Z",
     "start_time": "2019-06-24T03:49:37.098346Z"
    }
   },
   "outputs": [
    {
     "data": {
      "text/html": [
       "<div>\n",
       "<style scoped>\n",
       "    .dataframe tbody tr th:only-of-type {\n",
       "        vertical-align: middle;\n",
       "    }\n",
       "\n",
       "    .dataframe tbody tr th {\n",
       "        vertical-align: top;\n",
       "    }\n",
       "\n",
       "    .dataframe thead th {\n",
       "        text-align: right;\n",
       "    }\n",
       "</style>\n",
       "<table border=\"1\" class=\"dataframe\">\n",
       "  <thead>\n",
       "    <tr style=\"text-align: right;\">\n",
       "      <th></th>\n",
       "      <th>Hero Name</th>\n",
       "      <th>Age</th>\n",
       "      <th>Sex</th>\n",
       "      <th>Birthplace</th>\n",
       "      <th>weapon</th>\n",
       "      <th>Power</th>\n",
       "    </tr>\n",
       "    <tr>\n",
       "      <th>索引</th>\n",
       "      <th></th>\n",
       "      <th></th>\n",
       "      <th></th>\n",
       "      <th></th>\n",
       "      <th></th>\n",
       "      <th></th>\n",
       "    </tr>\n",
       "  </thead>\n",
       "  <tbody>\n",
       "    <tr>\n",
       "      <th>0</th>\n",
       "      <td>蜘蛛侠</td>\n",
       "      <td>19</td>\n",
       "      <td>男</td>\n",
       "      <td>纽约</td>\n",
       "      <td>蜘蛛感应</td>\n",
       "      <td>95</td>\n",
       "    </tr>\n",
       "    <tr>\n",
       "      <th>8</th>\n",
       "      <td>星爵</td>\n",
       "      <td>35</td>\n",
       "      <td>男</td>\n",
       "      <td>科罗拉多州</td>\n",
       "      <td>枪械</td>\n",
       "      <td>90</td>\n",
       "    </tr>\n",
       "    <tr>\n",
       "      <th>7</th>\n",
       "      <td>黑寡妇</td>\n",
       "      <td>35</td>\n",
       "      <td>女</td>\n",
       "      <td>斯大林格勒</td>\n",
       "      <td>枪械</td>\n",
       "      <td>95</td>\n",
       "    </tr>\n",
       "    <tr>\n",
       "      <th>2</th>\n",
       "      <td>奇异博士</td>\n",
       "      <td>36</td>\n",
       "      <td>男</td>\n",
       "      <td>费城</td>\n",
       "      <td>魔法</td>\n",
       "      <td>120</td>\n",
       "    </tr>\n",
       "    <tr>\n",
       "      <th>4</th>\n",
       "      <td>蝙蝠侠</td>\n",
       "      <td>40</td>\n",
       "      <td>男</td>\n",
       "      <td>哥谭</td>\n",
       "      <td>有钱</td>\n",
       "      <td>120</td>\n",
       "    </tr>\n",
       "    <tr>\n",
       "      <th>3</th>\n",
       "      <td>钢铁侠</td>\n",
       "      <td>42</td>\n",
       "      <td>男</td>\n",
       "      <td>纽约</td>\n",
       "      <td>纳米战甲</td>\n",
       "      <td>120</td>\n",
       "    </tr>\n",
       "    <tr>\n",
       "      <th>5</th>\n",
       "      <td>索尔</td>\n",
       "      <td>1505</td>\n",
       "      <td>男</td>\n",
       "      <td>阿斯加德</td>\n",
       "      <td>暴风战斧</td>\n",
       "      <td>138</td>\n",
       "    </tr>\n",
       "    <tr>\n",
       "      <th>6</th>\n",
       "      <td>神奇女侠</td>\n",
       "      <td>2000</td>\n",
       "      <td>女</td>\n",
       "      <td>天堂岛</td>\n",
       "      <td>弑神者</td>\n",
       "      <td>130</td>\n",
       "    </tr>\n",
       "    <tr>\n",
       "      <th>1</th>\n",
       "      <td>灭霸</td>\n",
       "      <td>3000</td>\n",
       "      <td>男</td>\n",
       "      <td>泰坦星球</td>\n",
       "      <td>暴君屠刀</td>\n",
       "      <td>140</td>\n",
       "    </tr>\n",
       "  </tbody>\n",
       "</table>\n",
       "</div>"
      ],
      "text/plain": [
       "   Hero Name   Age Sex Birthplace weapon  Power\n",
       "索引                                             \n",
       "0        蜘蛛侠    19   男         纽约   蜘蛛感应     95\n",
       "8         星爵    35   男      科罗拉多州     枪械     90\n",
       "7        黑寡妇    35   女      斯大林格勒     枪械     95\n",
       "2       奇异博士    36   男         费城     魔法    120\n",
       "4        蝙蝠侠    40   男         哥谭     有钱    120\n",
       "3        钢铁侠    42   男         纽约   纳米战甲    120\n",
       "5         索尔  1505   男       阿斯加德   暴风战斧    138\n",
       "6       神奇女侠  2000   女        天堂岛    弑神者    130\n",
       "1         灭霸  3000   男       泰坦星球   暴君屠刀    140"
      ]
     },
     "execution_count": 48,
     "metadata": {},
     "output_type": "execute_result"
    }
   ],
   "source": [
    "user_info.sort_values(by=[\"Age\",\"Power\"])"
   ]
  },
  {
   "cell_type": "code",
   "execution_count": 49,
   "metadata": {
    "ExecuteTime": {
     "end_time": "2019-06-24T03:49:40.915727Z",
     "start_time": "2019-06-24T03:49:40.894742Z"
    }
   },
   "outputs": [
    {
     "data": {
      "text/html": [
       "<div>\n",
       "<style scoped>\n",
       "    .dataframe tbody tr th:only-of-type {\n",
       "        vertical-align: middle;\n",
       "    }\n",
       "\n",
       "    .dataframe tbody tr th {\n",
       "        vertical-align: top;\n",
       "    }\n",
       "\n",
       "    .dataframe thead th {\n",
       "        text-align: right;\n",
       "    }\n",
       "</style>\n",
       "<table border=\"1\" class=\"dataframe\">\n",
       "  <thead>\n",
       "    <tr style=\"text-align: right;\">\n",
       "      <th></th>\n",
       "      <th>Hero Name</th>\n",
       "      <th>Age</th>\n",
       "      <th>Sex</th>\n",
       "      <th>Birthplace</th>\n",
       "      <th>weapon</th>\n",
       "      <th>Power</th>\n",
       "    </tr>\n",
       "    <tr>\n",
       "      <th>索引</th>\n",
       "      <th></th>\n",
       "      <th></th>\n",
       "      <th></th>\n",
       "      <th></th>\n",
       "      <th></th>\n",
       "      <th></th>\n",
       "    </tr>\n",
       "  </thead>\n",
       "  <tbody>\n",
       "    <tr>\n",
       "      <th>0</th>\n",
       "      <td>蜘蛛侠</td>\n",
       "      <td>19</td>\n",
       "      <td>男</td>\n",
       "      <td>纽约</td>\n",
       "      <td>蜘蛛感应</td>\n",
       "      <td>95</td>\n",
       "    </tr>\n",
       "    <tr>\n",
       "      <th>7</th>\n",
       "      <td>黑寡妇</td>\n",
       "      <td>35</td>\n",
       "      <td>女</td>\n",
       "      <td>斯大林格勒</td>\n",
       "      <td>枪械</td>\n",
       "      <td>95</td>\n",
       "    </tr>\n",
       "    <tr>\n",
       "      <th>8</th>\n",
       "      <td>星爵</td>\n",
       "      <td>35</td>\n",
       "      <td>男</td>\n",
       "      <td>科罗拉多州</td>\n",
       "      <td>枪械</td>\n",
       "      <td>90</td>\n",
       "    </tr>\n",
       "    <tr>\n",
       "      <th>2</th>\n",
       "      <td>奇异博士</td>\n",
       "      <td>36</td>\n",
       "      <td>男</td>\n",
       "      <td>费城</td>\n",
       "      <td>魔法</td>\n",
       "      <td>120</td>\n",
       "    </tr>\n",
       "    <tr>\n",
       "      <th>4</th>\n",
       "      <td>蝙蝠侠</td>\n",
       "      <td>40</td>\n",
       "      <td>男</td>\n",
       "      <td>哥谭</td>\n",
       "      <td>有钱</td>\n",
       "      <td>120</td>\n",
       "    </tr>\n",
       "    <tr>\n",
       "      <th>3</th>\n",
       "      <td>钢铁侠</td>\n",
       "      <td>42</td>\n",
       "      <td>男</td>\n",
       "      <td>纽约</td>\n",
       "      <td>纳米战甲</td>\n",
       "      <td>120</td>\n",
       "    </tr>\n",
       "    <tr>\n",
       "      <th>5</th>\n",
       "      <td>索尔</td>\n",
       "      <td>1505</td>\n",
       "      <td>男</td>\n",
       "      <td>阿斯加德</td>\n",
       "      <td>暴风战斧</td>\n",
       "      <td>138</td>\n",
       "    </tr>\n",
       "    <tr>\n",
       "      <th>6</th>\n",
       "      <td>神奇女侠</td>\n",
       "      <td>2000</td>\n",
       "      <td>女</td>\n",
       "      <td>天堂岛</td>\n",
       "      <td>弑神者</td>\n",
       "      <td>130</td>\n",
       "    </tr>\n",
       "    <tr>\n",
       "      <th>1</th>\n",
       "      <td>灭霸</td>\n",
       "      <td>3000</td>\n",
       "      <td>男</td>\n",
       "      <td>泰坦星球</td>\n",
       "      <td>暴君屠刀</td>\n",
       "      <td>140</td>\n",
       "    </tr>\n",
       "  </tbody>\n",
       "</table>\n",
       "</div>"
      ],
      "text/plain": [
       "   Hero Name   Age Sex Birthplace weapon  Power\n",
       "索引                                             \n",
       "0        蜘蛛侠    19   男         纽约   蜘蛛感应     95\n",
       "7        黑寡妇    35   女      斯大林格勒     枪械     95\n",
       "8         星爵    35   男      科罗拉多州     枪械     90\n",
       "2       奇异博士    36   男         费城     魔法    120\n",
       "4        蝙蝠侠    40   男         哥谭     有钱    120\n",
       "3        钢铁侠    42   男         纽约   纳米战甲    120\n",
       "5         索尔  1505   男       阿斯加德   暴风战斧    138\n",
       "6       神奇女侠  2000   女        天堂岛    弑神者    130\n",
       "1         灭霸  3000   男       泰坦星球   暴君屠刀    140"
      ]
     },
     "execution_count": 49,
     "metadata": {},
     "output_type": "execute_result"
    }
   ],
   "source": [
    "user_info.sort_values(by=[\"Age\",\"Power\"],ascending=[True,False])"
   ]
  },
  {
   "cell_type": "code",
   "execution_count": 50,
   "metadata": {
    "ExecuteTime": {
     "end_time": "2019-06-24T03:52:26.053731Z",
     "start_time": "2019-06-24T03:52:26.048731Z"
    }
   },
   "outputs": [],
   "source": [
    "heros=user_info.copy()"
   ]
  },
  {
   "cell_type": "markdown",
   "metadata": {},
   "source": [
    "   \n",
    "   \n",
    "```\n",
    "\n",
    "\n",
    "```\n",
    "\n",
    "## series.nlargest()"
   ]
  },
  {
   "cell_type": "markdown",
   "metadata": {},
   "source": [
    "一般在排序后，我们可能需要获取最大的n个值或最小值的n个值，我们可以使用 nlargest 和 nsmallest 方法来完成，这比先排序再使用 head(n)方法快得多。"
   ]
  },
  {
   "cell_type": "code",
   "execution_count": 51,
   "metadata": {
    "ExecuteTime": {
     "end_time": "2019-06-24T03:52:33.699790Z",
     "start_time": "2019-06-24T03:52:33.684803Z"
    }
   },
   "outputs": [
    {
     "data": {
      "text/html": [
       "<div>\n",
       "<style scoped>\n",
       "    .dataframe tbody tr th:only-of-type {\n",
       "        vertical-align: middle;\n",
       "    }\n",
       "\n",
       "    .dataframe tbody tr th {\n",
       "        vertical-align: top;\n",
       "    }\n",
       "\n",
       "    .dataframe thead th {\n",
       "        text-align: right;\n",
       "    }\n",
       "</style>\n",
       "<table border=\"1\" class=\"dataframe\">\n",
       "  <thead>\n",
       "    <tr style=\"text-align: right;\">\n",
       "      <th></th>\n",
       "      <th>Hero Name</th>\n",
       "      <th>Age</th>\n",
       "      <th>Sex</th>\n",
       "      <th>Birthplace</th>\n",
       "      <th>weapon</th>\n",
       "      <th>Power</th>\n",
       "    </tr>\n",
       "    <tr>\n",
       "      <th>索引</th>\n",
       "      <th></th>\n",
       "      <th></th>\n",
       "      <th></th>\n",
       "      <th></th>\n",
       "      <th></th>\n",
       "      <th></th>\n",
       "    </tr>\n",
       "  </thead>\n",
       "  <tbody>\n",
       "    <tr>\n",
       "      <th>0</th>\n",
       "      <td>蜘蛛侠</td>\n",
       "      <td>19</td>\n",
       "      <td>男</td>\n",
       "      <td>纽约</td>\n",
       "      <td>蜘蛛感应</td>\n",
       "      <td>95</td>\n",
       "    </tr>\n",
       "    <tr>\n",
       "      <th>1</th>\n",
       "      <td>灭霸</td>\n",
       "      <td>3000</td>\n",
       "      <td>男</td>\n",
       "      <td>泰坦星球</td>\n",
       "      <td>暴君屠刀</td>\n",
       "      <td>140</td>\n",
       "    </tr>\n",
       "    <tr>\n",
       "      <th>2</th>\n",
       "      <td>奇异博士</td>\n",
       "      <td>36</td>\n",
       "      <td>男</td>\n",
       "      <td>费城</td>\n",
       "      <td>魔法</td>\n",
       "      <td>120</td>\n",
       "    </tr>\n",
       "    <tr>\n",
       "      <th>3</th>\n",
       "      <td>钢铁侠</td>\n",
       "      <td>42</td>\n",
       "      <td>男</td>\n",
       "      <td>纽约</td>\n",
       "      <td>纳米战甲</td>\n",
       "      <td>120</td>\n",
       "    </tr>\n",
       "    <tr>\n",
       "      <th>4</th>\n",
       "      <td>蝙蝠侠</td>\n",
       "      <td>40</td>\n",
       "      <td>男</td>\n",
       "      <td>哥谭</td>\n",
       "      <td>有钱</td>\n",
       "      <td>120</td>\n",
       "    </tr>\n",
       "    <tr>\n",
       "      <th>5</th>\n",
       "      <td>索尔</td>\n",
       "      <td>1505</td>\n",
       "      <td>男</td>\n",
       "      <td>阿斯加德</td>\n",
       "      <td>暴风战斧</td>\n",
       "      <td>138</td>\n",
       "    </tr>\n",
       "    <tr>\n",
       "      <th>6</th>\n",
       "      <td>神奇女侠</td>\n",
       "      <td>2000</td>\n",
       "      <td>女</td>\n",
       "      <td>天堂岛</td>\n",
       "      <td>弑神者</td>\n",
       "      <td>130</td>\n",
       "    </tr>\n",
       "    <tr>\n",
       "      <th>7</th>\n",
       "      <td>黑寡妇</td>\n",
       "      <td>35</td>\n",
       "      <td>女</td>\n",
       "      <td>斯大林格勒</td>\n",
       "      <td>枪械</td>\n",
       "      <td>95</td>\n",
       "    </tr>\n",
       "    <tr>\n",
       "      <th>8</th>\n",
       "      <td>星爵</td>\n",
       "      <td>35</td>\n",
       "      <td>男</td>\n",
       "      <td>科罗拉多州</td>\n",
       "      <td>枪械</td>\n",
       "      <td>90</td>\n",
       "    </tr>\n",
       "  </tbody>\n",
       "</table>\n",
       "</div>"
      ],
      "text/plain": [
       "   Hero Name   Age Sex Birthplace weapon  Power\n",
       "索引                                             \n",
       "0        蜘蛛侠    19   男         纽约   蜘蛛感应     95\n",
       "1         灭霸  3000   男       泰坦星球   暴君屠刀    140\n",
       "2       奇异博士    36   男         费城     魔法    120\n",
       "3        钢铁侠    42   男         纽约   纳米战甲    120\n",
       "4        蝙蝠侠    40   男         哥谭     有钱    120\n",
       "5         索尔  1505   男       阿斯加德   暴风战斧    138\n",
       "6       神奇女侠  2000   女        天堂岛    弑神者    130\n",
       "7        黑寡妇    35   女      斯大林格勒     枪械     95\n",
       "8         星爵    35   男      科罗拉多州     枪械     90"
      ]
     },
     "execution_count": 51,
     "metadata": {},
     "output_type": "execute_result"
    }
   ],
   "source": [
    "heros"
   ]
  },
  {
   "cell_type": "code",
   "execution_count": 52,
   "metadata": {
    "ExecuteTime": {
     "end_time": "2019-06-24T03:52:46.519078Z",
     "start_time": "2019-06-24T03:52:46.458115Z"
    }
   },
   "outputs": [
    {
     "data": {
      "text/plain": [
       "索引\n",
       "1    3000\n",
       "6    2000\n",
       "5    1505\n",
       "Name: Age, dtype: int64"
      ]
     },
     "execution_count": 52,
     "metadata": {},
     "output_type": "execute_result"
    },
    {
     "data": {
      "text/plain": [
       "索引\n",
       "0    19\n",
       "7    35\n",
       "8    35\n",
       "Name: Age, dtype: int64"
      ]
     },
     "execution_count": 52,
     "metadata": {},
     "output_type": "execute_result"
    }
   ],
   "source": [
    "heros.Age.nlargest(3)\n",
    "heros.Age.nsmallest(3)"
   ]
  },
  {
   "cell_type": "markdown",
   "metadata": {},
   "source": [
    "```\n",
    "\n",
    "   \n",
    "    \n",
    "   \n",
    "   \n",
    "```\n",
    "   \n",
    "```\n",
    "\n",
    "\n",
    "```\n",
    "# 函数应用及映射方法"
   ]
  },
  {
   "cell_type": "markdown",
   "metadata": {},
   "source": [
    "虽说 Pandas 为我们提供了非常丰富的函数，有时候我们可能需要自己使用高级函数来实现自定义功能，并将它应用到 DataFrame 或 Series。常用到的函数有：\n",
    "\n",
    "1. map\n",
    "2. apply\n",
    "3. applymap\n",
    "   \n",
    "```\n",
    "\n",
    "\n",
    "```\n",
    "## Series.map()\n",
    "\n",
    "map 是 Series 中特有的方法，通过它可以对 Series 中的每个元素实现转换。\n",
    "\n",
    "如果我想通过年龄判断用户是否属于中年人（50岁以上为中年），通过 map 可以轻松搞定它。"
   ]
  },
  {
   "cell_type": "code",
   "execution_count": 53,
   "metadata": {
    "ExecuteTime": {
     "end_time": "2019-06-24T05:08:32.928633Z",
     "start_time": "2019-06-24T05:08:32.919639Z"
    }
   },
   "outputs": [],
   "source": [
    "di = {\n",
    "\"纽约皇后区\": \"地球人\",\n",
    "\"泰坦星球\": \"外星人\",\n",
    "\"费城\": \"地球人\",\n",
    "\"纽约\": \"地球人\", \n",
    "\"哥谭\":\"地球人\", \n",
    "\"阿斯加德\":\"外星人\", \n",
    "\"天堂岛\":\"地球人\",\n",
    "\"斯大林格勒\":\"地球人\"\n",
    "\"\"\n",
    "}\n",
    "\n",
    "heros['Alien'] = heros.Birthplace.map(di)"
   ]
  },
  {
   "cell_type": "code",
   "execution_count": 54,
   "metadata": {
    "ExecuteTime": {
     "end_time": "2019-06-24T05:08:35.170680Z",
     "start_time": "2019-06-24T05:08:35.152694Z"
    }
   },
   "outputs": [
    {
     "data": {
      "text/html": [
       "<div>\n",
       "<style scoped>\n",
       "    .dataframe tbody tr th:only-of-type {\n",
       "        vertical-align: middle;\n",
       "    }\n",
       "\n",
       "    .dataframe tbody tr th {\n",
       "        vertical-align: top;\n",
       "    }\n",
       "\n",
       "    .dataframe thead th {\n",
       "        text-align: right;\n",
       "    }\n",
       "</style>\n",
       "<table border=\"1\" class=\"dataframe\">\n",
       "  <thead>\n",
       "    <tr style=\"text-align: right;\">\n",
       "      <th></th>\n",
       "      <th>Hero Name</th>\n",
       "      <th>Age</th>\n",
       "      <th>Sex</th>\n",
       "      <th>Birthplace</th>\n",
       "      <th>weapon</th>\n",
       "      <th>Power</th>\n",
       "      <th>Alien</th>\n",
       "    </tr>\n",
       "    <tr>\n",
       "      <th>索引</th>\n",
       "      <th></th>\n",
       "      <th></th>\n",
       "      <th></th>\n",
       "      <th></th>\n",
       "      <th></th>\n",
       "      <th></th>\n",
       "      <th></th>\n",
       "    </tr>\n",
       "  </thead>\n",
       "  <tbody>\n",
       "    <tr>\n",
       "      <th>0</th>\n",
       "      <td>蜘蛛侠</td>\n",
       "      <td>19</td>\n",
       "      <td>男</td>\n",
       "      <td>纽约</td>\n",
       "      <td>蜘蛛感应</td>\n",
       "      <td>95</td>\n",
       "      <td>地球人</td>\n",
       "    </tr>\n",
       "    <tr>\n",
       "      <th>1</th>\n",
       "      <td>灭霸</td>\n",
       "      <td>3000</td>\n",
       "      <td>男</td>\n",
       "      <td>泰坦星球</td>\n",
       "      <td>暴君屠刀</td>\n",
       "      <td>140</td>\n",
       "      <td>外星人</td>\n",
       "    </tr>\n",
       "    <tr>\n",
       "      <th>2</th>\n",
       "      <td>奇异博士</td>\n",
       "      <td>36</td>\n",
       "      <td>男</td>\n",
       "      <td>费城</td>\n",
       "      <td>魔法</td>\n",
       "      <td>120</td>\n",
       "      <td>地球人</td>\n",
       "    </tr>\n",
       "    <tr>\n",
       "      <th>3</th>\n",
       "      <td>钢铁侠</td>\n",
       "      <td>42</td>\n",
       "      <td>男</td>\n",
       "      <td>纽约</td>\n",
       "      <td>纳米战甲</td>\n",
       "      <td>120</td>\n",
       "      <td>地球人</td>\n",
       "    </tr>\n",
       "    <tr>\n",
       "      <th>4</th>\n",
       "      <td>蝙蝠侠</td>\n",
       "      <td>40</td>\n",
       "      <td>男</td>\n",
       "      <td>哥谭</td>\n",
       "      <td>有钱</td>\n",
       "      <td>120</td>\n",
       "      <td>地球人</td>\n",
       "    </tr>\n",
       "  </tbody>\n",
       "</table>\n",
       "</div>"
      ],
      "text/plain": [
       "   Hero Name   Age Sex Birthplace weapon  Power Alien\n",
       "索引                                                   \n",
       "0        蜘蛛侠    19   男         纽约   蜘蛛感应     95   地球人\n",
       "1         灭霸  3000   男       泰坦星球   暴君屠刀    140   外星人\n",
       "2       奇异博士    36   男         费城     魔法    120   地球人\n",
       "3        钢铁侠    42   男         纽约   纳米战甲    120   地球人\n",
       "4        蝙蝠侠    40   男         哥谭     有钱    120   地球人"
      ]
     },
     "execution_count": 54,
     "metadata": {},
     "output_type": "execute_result"
    }
   ],
   "source": [
    "heros.head()"
   ]
  },
  {
   "cell_type": "markdown",
   "metadata": {},
   "source": [
    "另外，可以使用自定义函数来形成这种映射关系："
   ]
  },
  {
   "cell_type": "code",
   "execution_count": 55,
   "metadata": {
    "ExecuteTime": {
     "end_time": "2019-06-24T07:08:41.062322Z",
     "start_time": "2019-06-24T07:08:41.054330Z"
    }
   },
   "outputs": [],
   "source": [
    "earth_city=['纽约','费城','纽约','哥谭','天堂岛',\"斯大林格勒\",\"科罗拉多州\"]\n",
    "\n",
    "def func(x):\n",
    "    if x in earth_city:\n",
    "        return \"地球人\"\n",
    "    else:\n",
    "        return \"外星人\""
   ]
  },
  {
   "cell_type": "code",
   "execution_count": 56,
   "metadata": {
    "ExecuteTime": {
     "end_time": "2019-06-24T07:08:43.325584Z",
     "start_time": "2019-06-24T07:08:43.304598Z"
    }
   },
   "outputs": [
    {
     "data": {
      "text/html": [
       "<div>\n",
       "<style scoped>\n",
       "    .dataframe tbody tr th:only-of-type {\n",
       "        vertical-align: middle;\n",
       "    }\n",
       "\n",
       "    .dataframe tbody tr th {\n",
       "        vertical-align: top;\n",
       "    }\n",
       "\n",
       "    .dataframe thead th {\n",
       "        text-align: right;\n",
       "    }\n",
       "</style>\n",
       "<table border=\"1\" class=\"dataframe\">\n",
       "  <thead>\n",
       "    <tr style=\"text-align: right;\">\n",
       "      <th></th>\n",
       "      <th>Hero Name</th>\n",
       "      <th>Age</th>\n",
       "      <th>Sex</th>\n",
       "      <th>Birthplace</th>\n",
       "      <th>weapon</th>\n",
       "      <th>Power</th>\n",
       "      <th>Alien</th>\n",
       "      <th>Alien_02</th>\n",
       "    </tr>\n",
       "    <tr>\n",
       "      <th>索引</th>\n",
       "      <th></th>\n",
       "      <th></th>\n",
       "      <th></th>\n",
       "      <th></th>\n",
       "      <th></th>\n",
       "      <th></th>\n",
       "      <th></th>\n",
       "      <th></th>\n",
       "    </tr>\n",
       "  </thead>\n",
       "  <tbody>\n",
       "    <tr>\n",
       "      <th>0</th>\n",
       "      <td>蜘蛛侠</td>\n",
       "      <td>19</td>\n",
       "      <td>男</td>\n",
       "      <td>纽约</td>\n",
       "      <td>蜘蛛感应</td>\n",
       "      <td>95</td>\n",
       "      <td>地球人</td>\n",
       "      <td>地球人</td>\n",
       "    </tr>\n",
       "    <tr>\n",
       "      <th>1</th>\n",
       "      <td>灭霸</td>\n",
       "      <td>3000</td>\n",
       "      <td>男</td>\n",
       "      <td>泰坦星球</td>\n",
       "      <td>暴君屠刀</td>\n",
       "      <td>140</td>\n",
       "      <td>外星人</td>\n",
       "      <td>外星人</td>\n",
       "    </tr>\n",
       "    <tr>\n",
       "      <th>2</th>\n",
       "      <td>奇异博士</td>\n",
       "      <td>36</td>\n",
       "      <td>男</td>\n",
       "      <td>费城</td>\n",
       "      <td>魔法</td>\n",
       "      <td>120</td>\n",
       "      <td>地球人</td>\n",
       "      <td>地球人</td>\n",
       "    </tr>\n",
       "    <tr>\n",
       "      <th>3</th>\n",
       "      <td>钢铁侠</td>\n",
       "      <td>42</td>\n",
       "      <td>男</td>\n",
       "      <td>纽约</td>\n",
       "      <td>纳米战甲</td>\n",
       "      <td>120</td>\n",
       "      <td>地球人</td>\n",
       "      <td>地球人</td>\n",
       "    </tr>\n",
       "    <tr>\n",
       "      <th>4</th>\n",
       "      <td>蝙蝠侠</td>\n",
       "      <td>40</td>\n",
       "      <td>男</td>\n",
       "      <td>哥谭</td>\n",
       "      <td>有钱</td>\n",
       "      <td>120</td>\n",
       "      <td>地球人</td>\n",
       "      <td>地球人</td>\n",
       "    </tr>\n",
       "    <tr>\n",
       "      <th>5</th>\n",
       "      <td>索尔</td>\n",
       "      <td>1505</td>\n",
       "      <td>男</td>\n",
       "      <td>阿斯加德</td>\n",
       "      <td>暴风战斧</td>\n",
       "      <td>138</td>\n",
       "      <td>外星人</td>\n",
       "      <td>外星人</td>\n",
       "    </tr>\n",
       "    <tr>\n",
       "      <th>6</th>\n",
       "      <td>神奇女侠</td>\n",
       "      <td>2000</td>\n",
       "      <td>女</td>\n",
       "      <td>天堂岛</td>\n",
       "      <td>弑神者</td>\n",
       "      <td>130</td>\n",
       "      <td>地球人</td>\n",
       "      <td>地球人</td>\n",
       "    </tr>\n",
       "    <tr>\n",
       "      <th>7</th>\n",
       "      <td>黑寡妇</td>\n",
       "      <td>35</td>\n",
       "      <td>女</td>\n",
       "      <td>斯大林格勒</td>\n",
       "      <td>枪械</td>\n",
       "      <td>95</td>\n",
       "      <td>地球人</td>\n",
       "      <td>地球人</td>\n",
       "    </tr>\n",
       "    <tr>\n",
       "      <th>8</th>\n",
       "      <td>星爵</td>\n",
       "      <td>35</td>\n",
       "      <td>男</td>\n",
       "      <td>科罗拉多州</td>\n",
       "      <td>枪械</td>\n",
       "      <td>90</td>\n",
       "      <td>NaN</td>\n",
       "      <td>地球人</td>\n",
       "    </tr>\n",
       "  </tbody>\n",
       "</table>\n",
       "</div>"
      ],
      "text/plain": [
       "   Hero Name   Age Sex Birthplace weapon  Power Alien Alien_02\n",
       "索引                                                            \n",
       "0        蜘蛛侠    19   男         纽约   蜘蛛感应     95   地球人      地球人\n",
       "1         灭霸  3000   男       泰坦星球   暴君屠刀    140   外星人      外星人\n",
       "2       奇异博士    36   男         费城     魔法    120   地球人      地球人\n",
       "3        钢铁侠    42   男         纽约   纳米战甲    120   地球人      地球人\n",
       "4        蝙蝠侠    40   男         哥谭     有钱    120   地球人      地球人\n",
       "5         索尔  1505   男       阿斯加德   暴风战斧    138   外星人      外星人\n",
       "6       神奇女侠  2000   女        天堂岛    弑神者    130   地球人      地球人\n",
       "7        黑寡妇    35   女      斯大林格勒     枪械     95   地球人      地球人\n",
       "8         星爵    35   男      科罗拉多州     枪械     90   NaN      地球人"
      ]
     },
     "execution_count": 56,
     "metadata": {},
     "output_type": "execute_result"
    }
   ],
   "source": [
    "heros['Alien_02'] = heros.Birthplace.map(func)\n",
    "heros"
   ]
  },
  {
   "cell_type": "markdown",
   "metadata": {},
   "source": [
    "   \n",
    "   \n",
    "```\n",
    "\n",
    "\n",
    "```\n",
    "\n",
    "## Series.apply()\n",
    "\n",
    "apply 方法既支持 Series，也支持 DataFrame，在对 Series 操作时会作用到每个值上，在对 DataFrame 操作时会作用到所有行或所有列（通过 axis参数控制）。"
   ]
  },
  {
   "cell_type": "code",
   "execution_count": 57,
   "metadata": {
    "ExecuteTime": {
     "end_time": "2019-06-24T07:08:53.517962Z",
     "start_time": "2019-06-24T07:08:53.494976Z"
    }
   },
   "outputs": [
    {
     "data": {
      "text/html": [
       "<div>\n",
       "<style scoped>\n",
       "    .dataframe tbody tr th:only-of-type {\n",
       "        vertical-align: middle;\n",
       "    }\n",
       "\n",
       "    .dataframe tbody tr th {\n",
       "        vertical-align: top;\n",
       "    }\n",
       "\n",
       "    .dataframe thead th {\n",
       "        text-align: right;\n",
       "    }\n",
       "</style>\n",
       "<table border=\"1\" class=\"dataframe\">\n",
       "  <thead>\n",
       "    <tr style=\"text-align: right;\">\n",
       "      <th></th>\n",
       "      <th>Hero Name</th>\n",
       "      <th>Age</th>\n",
       "      <th>Sex</th>\n",
       "      <th>Birthplace</th>\n",
       "      <th>weapon</th>\n",
       "      <th>Power</th>\n",
       "      <th>Alien</th>\n",
       "      <th>Alien_02</th>\n",
       "    </tr>\n",
       "    <tr>\n",
       "      <th>索引</th>\n",
       "      <th></th>\n",
       "      <th></th>\n",
       "      <th></th>\n",
       "      <th></th>\n",
       "      <th></th>\n",
       "      <th></th>\n",
       "      <th></th>\n",
       "      <th></th>\n",
       "    </tr>\n",
       "  </thead>\n",
       "  <tbody>\n",
       "    <tr>\n",
       "      <th>0</th>\n",
       "      <td>蜘蛛侠</td>\n",
       "      <td>19</td>\n",
       "      <td>男</td>\n",
       "      <td>纽约</td>\n",
       "      <td>蜘蛛感应</td>\n",
       "      <td>95</td>\n",
       "      <td>地球人</td>\n",
       "      <td>地球人</td>\n",
       "    </tr>\n",
       "    <tr>\n",
       "      <th>1</th>\n",
       "      <td>灭霸</td>\n",
       "      <td>3000</td>\n",
       "      <td>男</td>\n",
       "      <td>泰坦星球</td>\n",
       "      <td>暴君屠刀</td>\n",
       "      <td>140</td>\n",
       "      <td>外星人</td>\n",
       "      <td>外星人</td>\n",
       "    </tr>\n",
       "    <tr>\n",
       "      <th>2</th>\n",
       "      <td>奇异博士</td>\n",
       "      <td>36</td>\n",
       "      <td>男</td>\n",
       "      <td>费城</td>\n",
       "      <td>魔法</td>\n",
       "      <td>120</td>\n",
       "      <td>地球人</td>\n",
       "      <td>地球人</td>\n",
       "    </tr>\n",
       "    <tr>\n",
       "      <th>3</th>\n",
       "      <td>钢铁侠</td>\n",
       "      <td>42</td>\n",
       "      <td>男</td>\n",
       "      <td>纽约</td>\n",
       "      <td>纳米战甲</td>\n",
       "      <td>120</td>\n",
       "      <td>地球人</td>\n",
       "      <td>地球人</td>\n",
       "    </tr>\n",
       "    <tr>\n",
       "      <th>4</th>\n",
       "      <td>蝙蝠侠</td>\n",
       "      <td>40</td>\n",
       "      <td>男</td>\n",
       "      <td>哥谭</td>\n",
       "      <td>有钱</td>\n",
       "      <td>120</td>\n",
       "      <td>地球人</td>\n",
       "      <td>地球人</td>\n",
       "    </tr>\n",
       "    <tr>\n",
       "      <th>5</th>\n",
       "      <td>索尔</td>\n",
       "      <td>1505</td>\n",
       "      <td>男</td>\n",
       "      <td>阿斯加德</td>\n",
       "      <td>暴风战斧</td>\n",
       "      <td>138</td>\n",
       "      <td>外星人</td>\n",
       "      <td>外星人</td>\n",
       "    </tr>\n",
       "    <tr>\n",
       "      <th>6</th>\n",
       "      <td>神奇女侠</td>\n",
       "      <td>2000</td>\n",
       "      <td>女</td>\n",
       "      <td>天堂岛</td>\n",
       "      <td>弑神者</td>\n",
       "      <td>130</td>\n",
       "      <td>地球人</td>\n",
       "      <td>地球人</td>\n",
       "    </tr>\n",
       "    <tr>\n",
       "      <th>7</th>\n",
       "      <td>黑寡妇</td>\n",
       "      <td>35</td>\n",
       "      <td>女</td>\n",
       "      <td>斯大林格勒</td>\n",
       "      <td>枪械</td>\n",
       "      <td>95</td>\n",
       "      <td>地球人</td>\n",
       "      <td>地球人</td>\n",
       "    </tr>\n",
       "    <tr>\n",
       "      <th>8</th>\n",
       "      <td>星爵</td>\n",
       "      <td>35</td>\n",
       "      <td>男</td>\n",
       "      <td>科罗拉多州</td>\n",
       "      <td>枪械</td>\n",
       "      <td>90</td>\n",
       "      <td>地球人</td>\n",
       "      <td>地球人</td>\n",
       "    </tr>\n",
       "  </tbody>\n",
       "</table>\n",
       "</div>"
      ],
      "text/plain": [
       "   Hero Name   Age Sex Birthplace weapon  Power Alien Alien_02\n",
       "索引                                                            \n",
       "0        蜘蛛侠    19   男         纽约   蜘蛛感应     95   地球人      地球人\n",
       "1         灭霸  3000   男       泰坦星球   暴君屠刀    140   外星人      外星人\n",
       "2       奇异博士    36   男         费城     魔法    120   地球人      地球人\n",
       "3        钢铁侠    42   男         纽约   纳米战甲    120   地球人      地球人\n",
       "4        蝙蝠侠    40   男         哥谭     有钱    120   地球人      地球人\n",
       "5         索尔  1505   男       阿斯加德   暴风战斧    138   外星人      外星人\n",
       "6       神奇女侠  2000   女        天堂岛    弑神者    130   地球人      地球人\n",
       "7        黑寡妇    35   女      斯大林格勒     枪械     95   地球人      地球人\n",
       "8         星爵    35   男      科罗拉多州     枪械     90   地球人      地球人"
      ]
     },
     "execution_count": 57,
     "metadata": {},
     "output_type": "execute_result"
    }
   ],
   "source": [
    "# 对 Series 来说，apply 方法 与 map 方法区别不大。\n",
    "earth_city=['纽约','费城','纽约','哥谭','天堂岛',\"斯大林格勒\",\"科罗拉多州\"]\n",
    "\n",
    "def func(x):\n",
    "    if x in earth_city:\n",
    "        return \"地球人\"\n",
    "    else:\n",
    "        return \"外星人\"\n",
    "\n",
    "\n",
    "heros['Alien'] = heros.Birthplace.apply(func)  #这里只是将上一小节中的Series.map()换成了.apply()，其余代码一样\n",
    "heros"
   ]
  },
  {
   "cell_type": "markdown",
   "metadata": {},
   "source": [
    "对 DataFrame 来说，apply 方法的作用对象是一行或一列数据（一个Series）\n",
    "- axis为 0或'index'：将函数应用于每列。\n",
    "- axis为1或'columns'：将函数应用于每一行。"
   ]
  },
  {
   "cell_type": "code",
   "execution_count": 58,
   "metadata": {
    "ExecuteTime": {
     "end_time": "2019-06-24T07:08:59.218064Z",
     "start_time": "2019-06-24T07:08:59.204073Z"
    }
   },
   "outputs": [
    {
     "data": {
      "text/plain": [
       "Hero Name      黑寡妇\n",
       "Age           3000\n",
       "Sex              男\n",
       "Birthplace    阿斯加德\n",
       "weapon          魔法\n",
       "Power          140\n",
       "Alien          外星人\n",
       "Alien_02       外星人\n",
       "dtype: object"
      ]
     },
     "execution_count": 58,
     "metadata": {},
     "output_type": "execute_result"
    }
   ],
   "source": [
    "def re_max(x):\n",
    "    return x.max()\n",
    "\n",
    "heros.apply(re_max, axis=0)"
   ]
  },
  {
   "cell_type": "markdown",
   "metadata": {},
   "source": [
    "上面就将每一列中的\"最大值\"求出。\n",
    "\n",
    "为什么汉字也能求“最大值”？因为Python3支持的是Unicode，每汉字都对应一个编码数字："
   ]
  },
  {
   "cell_type": "code",
   "execution_count": 133,
   "metadata": {
    "ExecuteTime": {
     "end_time": "2019-06-24T07:22:04.910905Z",
     "start_time": "2019-06-24T07:22:04.901910Z"
    }
   },
   "outputs": [
    {
     "data": {
      "text/plain": [
       "39764"
      ]
     },
     "execution_count": 133,
     "metadata": {},
     "output_type": "execute_result"
    },
    {
     "data": {
      "text/plain": [
       "34584"
      ]
     },
     "execution_count": 133,
     "metadata": {},
     "output_type": "execute_result"
    }
   ],
   "source": [
    "ord(\"魔\")\n",
    "ord(\"蜘\")"
   ]
  },
  {
   "cell_type": "code",
   "execution_count": 136,
   "metadata": {
    "ExecuteTime": {
     "end_time": "2019-06-24T07:22:56.903137Z",
     "start_time": "2019-06-24T07:22:56.894143Z"
    }
   },
   "outputs": [
    {
     "data": {
      "text/plain": [
       "'魔'"
      ]
     },
     "execution_count": 136,
     "metadata": {},
     "output_type": "execute_result"
    },
    {
     "data": {
      "text/plain": [
       "'蜘'"
      ]
     },
     "execution_count": 136,
     "metadata": {},
     "output_type": "execute_result"
    }
   ],
   "source": [
    "chr(39764)\n",
    "chr(34584)"
   ]
  },
  {
   "cell_type": "markdown",
   "metadata": {},
   "source": [
    "   \n",
    "   \n",
    "```\n",
    "\n",
    "\n",
    "```\n",
    "\n",
    "## df.applymap()\n",
    "\n",
    "applymap 方法针对于 DataFrame，它作用于 DataFrame 中的每个元素，它对 DataFrame 的效果类似于 apply 对 Series 的效果。"
   ]
  },
  {
   "cell_type": "markdown",
   "metadata": {},
   "source": [
    "比如我们要将上表中的所有的\"侠\"字换成\"人\"字。"
   ]
  },
  {
   "cell_type": "code",
   "execution_count": 59,
   "metadata": {
    "ExecuteTime": {
     "end_time": "2019-06-24T07:32:59.431108Z",
     "start_time": "2019-06-24T07:32:59.407124Z"
    }
   },
   "outputs": [
    {
     "data": {
      "text/html": [
       "<div>\n",
       "<style scoped>\n",
       "    .dataframe tbody tr th:only-of-type {\n",
       "        vertical-align: middle;\n",
       "    }\n",
       "\n",
       "    .dataframe tbody tr th {\n",
       "        vertical-align: top;\n",
       "    }\n",
       "\n",
       "    .dataframe thead th {\n",
       "        text-align: right;\n",
       "    }\n",
       "</style>\n",
       "<table border=\"1\" class=\"dataframe\">\n",
       "  <thead>\n",
       "    <tr style=\"text-align: right;\">\n",
       "      <th></th>\n",
       "      <th>Hero Name</th>\n",
       "      <th>Age</th>\n",
       "      <th>Sex</th>\n",
       "      <th>Birthplace</th>\n",
       "      <th>weapon</th>\n",
       "      <th>Power</th>\n",
       "      <th>Alien</th>\n",
       "      <th>Alien_02</th>\n",
       "    </tr>\n",
       "    <tr>\n",
       "      <th>索引</th>\n",
       "      <th></th>\n",
       "      <th></th>\n",
       "      <th></th>\n",
       "      <th></th>\n",
       "      <th></th>\n",
       "      <th></th>\n",
       "      <th></th>\n",
       "      <th></th>\n",
       "    </tr>\n",
       "  </thead>\n",
       "  <tbody>\n",
       "    <tr>\n",
       "      <th>0</th>\n",
       "      <td>蜘蛛人</td>\n",
       "      <td>19</td>\n",
       "      <td>男</td>\n",
       "      <td>纽约</td>\n",
       "      <td>蜘蛛感应</td>\n",
       "      <td>95</td>\n",
       "      <td>地球者</td>\n",
       "      <td>地球者</td>\n",
       "    </tr>\n",
       "    <tr>\n",
       "      <th>1</th>\n",
       "      <td>灭霸</td>\n",
       "      <td>3000</td>\n",
       "      <td>男</td>\n",
       "      <td>泰坦星球</td>\n",
       "      <td>暴君屠刀</td>\n",
       "      <td>140</td>\n",
       "      <td>外星者</td>\n",
       "      <td>外星者</td>\n",
       "    </tr>\n",
       "    <tr>\n",
       "      <th>2</th>\n",
       "      <td>奇异博士</td>\n",
       "      <td>36</td>\n",
       "      <td>男</td>\n",
       "      <td>费城</td>\n",
       "      <td>魔法</td>\n",
       "      <td>120</td>\n",
       "      <td>地球者</td>\n",
       "      <td>地球者</td>\n",
       "    </tr>\n",
       "    <tr>\n",
       "      <th>3</th>\n",
       "      <td>钢铁人</td>\n",
       "      <td>42</td>\n",
       "      <td>男</td>\n",
       "      <td>纽约</td>\n",
       "      <td>纳米战甲</td>\n",
       "      <td>120</td>\n",
       "      <td>地球者</td>\n",
       "      <td>地球者</td>\n",
       "    </tr>\n",
       "    <tr>\n",
       "      <th>4</th>\n",
       "      <td>蝙蝠人</td>\n",
       "      <td>40</td>\n",
       "      <td>男</td>\n",
       "      <td>哥谭</td>\n",
       "      <td>有钱</td>\n",
       "      <td>120</td>\n",
       "      <td>地球者</td>\n",
       "      <td>地球者</td>\n",
       "    </tr>\n",
       "    <tr>\n",
       "      <th>5</th>\n",
       "      <td>索尔</td>\n",
       "      <td>1505</td>\n",
       "      <td>男</td>\n",
       "      <td>阿斯加德</td>\n",
       "      <td>暴风战斧</td>\n",
       "      <td>138</td>\n",
       "      <td>外星者</td>\n",
       "      <td>外星者</td>\n",
       "    </tr>\n",
       "    <tr>\n",
       "      <th>6</th>\n",
       "      <td>神奇女人</td>\n",
       "      <td>2000</td>\n",
       "      <td>女</td>\n",
       "      <td>天堂岛</td>\n",
       "      <td>弑神者</td>\n",
       "      <td>130</td>\n",
       "      <td>地球者</td>\n",
       "      <td>地球者</td>\n",
       "    </tr>\n",
       "    <tr>\n",
       "      <th>7</th>\n",
       "      <td>黑寡妇</td>\n",
       "      <td>35</td>\n",
       "      <td>女</td>\n",
       "      <td>斯大林格勒</td>\n",
       "      <td>枪械</td>\n",
       "      <td>95</td>\n",
       "      <td>地球者</td>\n",
       "      <td>地球者</td>\n",
       "    </tr>\n",
       "    <tr>\n",
       "      <th>8</th>\n",
       "      <td>星爵</td>\n",
       "      <td>35</td>\n",
       "      <td>男</td>\n",
       "      <td>科罗拉多州</td>\n",
       "      <td>枪械</td>\n",
       "      <td>90</td>\n",
       "      <td>地球者</td>\n",
       "      <td>地球者</td>\n",
       "    </tr>\n",
       "  </tbody>\n",
       "</table>\n",
       "</div>"
      ],
      "text/plain": [
       "   Hero Name   Age Sex Birthplace weapon Power Alien Alien_02\n",
       "索引                                                           \n",
       "0        蜘蛛人    19   男         纽约   蜘蛛感应    95   地球者      地球者\n",
       "1         灭霸  3000   男       泰坦星球   暴君屠刀   140   外星者      外星者\n",
       "2       奇异博士    36   男         费城     魔法   120   地球者      地球者\n",
       "3        钢铁人    42   男         纽约   纳米战甲   120   地球者      地球者\n",
       "4        蝙蝠人    40   男         哥谭     有钱   120   地球者      地球者\n",
       "5         索尔  1505   男       阿斯加德   暴风战斧   138   外星者      外星者\n",
       "6       神奇女人  2000   女        天堂岛    弑神者   130   地球者      地球者\n",
       "7        黑寡妇    35   女      斯大林格勒     枪械    95   地球者      地球者\n",
       "8         星爵    35   男      科罗拉多州     枪械    90   地球者      地球者"
      ]
     },
     "execution_count": 59,
     "metadata": {},
     "output_type": "execute_result"
    }
   ],
   "source": [
    "def replace(x):\n",
    "    x=str(x)\n",
    "    if x.find(\"侠\")!=-1:\n",
    "        x=x.replace(\"侠\",\"人\")\n",
    "    elif x.find(\"人\")!=-1:\n",
    "        x=x.replace(\"人\",\"者\")\n",
    "    return x\n",
    "\n",
    "heros.applymap(replace)"
   ]
  }
 ],
 "metadata": {
  "kernelspec": {
   "display_name": "Python 3",
   "language": "python",
   "name": "python3"
  },
  "language_info": {
   "codemirror_mode": {
    "name": "ipython",
    "version": 3
   },
   "file_extension": ".py",
   "mimetype": "text/x-python",
   "name": "python",
   "nbconvert_exporter": "python",
   "pygments_lexer": "ipython3",
   "version": "3.7.1"
  },
  "nbTranslate": {
   "displayLangs": [
    "*"
   ],
   "hotkey": "alt-t",
   "langInMainMenu": true,
   "sourceLang": "en",
   "targetLang": "fr",
   "useGoogleTranslate": true
  },
  "toc": {
   "base_numbering": 1,
   "nav_menu": {
    "height": "378px",
    "width": "270px"
   },
   "number_sections": true,
   "sideBar": true,
   "skip_h1_title": false,
   "title_cell": "Table of Contents",
   "title_sidebar": "Contents",
   "toc_cell": true,
   "toc_position": {
    "height": "calc(100% - 180px)",
    "left": "10px",
    "top": "150px",
    "width": "227.565px"
   },
   "toc_section_display": true,
   "toc_window_display": false
  },
  "varInspector": {
   "cols": {
    "lenName": 16,
    "lenType": 16,
    "lenVar": 40
   },
   "kernels_config": {
    "python": {
     "delete_cmd_postfix": "",
     "delete_cmd_prefix": "del ",
     "library": "var_list.py",
     "varRefreshCmd": "print(var_dic_list())"
    },
    "r": {
     "delete_cmd_postfix": ") ",
     "delete_cmd_prefix": "rm(",
     "library": "var_list.r",
     "varRefreshCmd": "cat(var_dic_list()) "
    }
   },
   "types_to_exclude": [
    "module",
    "function",
    "builtin_function_or_method",
    "instance",
    "_Feature"
   ],
   "window_display": false
  },
  "widgets": {
   "application/vnd.jupyter.widget-state+json": {
    "state": {},
    "version_major": 2,
    "version_minor": 0
   }
  }
 },
 "nbformat": 4,
 "nbformat_minor": 2
}
