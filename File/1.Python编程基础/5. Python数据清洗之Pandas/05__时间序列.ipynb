{
 "cells": [
  {
   "cell_type": "markdown",
   "metadata": {
    "toc": true
   },
   "source": [
    "<h1>Table of Contents<span class=\"tocSkip\"></span></h1>\n",
    "<div class=\"toc\"><ul class=\"toc-item\"><li><span><a href=\"#基础概述\" data-toc-modified-id=\"基础概述-1\"><span class=\"toc-item-num\">1&nbsp;&nbsp;</span>基础概述</a></span><ul class=\"toc-item\"><li><span><a href=\"#生成时间戳\" data-toc-modified-id=\"生成时间戳-1.1\"><span class=\"toc-item-num\">1.1&nbsp;&nbsp;</span>生成时间戳</a></span></li><li><span><a href=\"#转换时间戳\" data-toc-modified-id=\"转换时间戳-1.2\"><span class=\"toc-item-num\">1.2&nbsp;&nbsp;</span>转换时间戳</a></span></li><li><span><a href=\"#把unix时间戳转换为时间戳\" data-toc-modified-id=\"把unix时间戳转换为时间戳-1.3\"><span class=\"toc-item-num\">1.3&nbsp;&nbsp;</span>把unix时间戳转换为时间戳</a></span></li></ul></li><li><span><a href=\"#生成时间戳范围\" data-toc-modified-id=\"生成时间戳范围-2\"><span class=\"toc-item-num\">2&nbsp;&nbsp;</span>生成时间戳范围</a></span><ul class=\"toc-item\"><li><span><a href=\"#pd.date_range()\" data-toc-modified-id=\"pd.date_range()-2.1\"><span class=\"toc-item-num\">2.1&nbsp;&nbsp;</span>pd.date_range()</a></span></li><li><span><a href=\"#pd.bdate_range()\" data-toc-modified-id=\"pd.bdate_range()-2.2\"><span class=\"toc-item-num\">2.2&nbsp;&nbsp;</span>pd.bdate_range()</a></span></li></ul></li><li><span><a href=\"#DatetimeIndex\" data-toc-modified-id=\"DatetimeIndex-3\"><span class=\"toc-item-num\">3&nbsp;&nbsp;</span>DatetimeIndex</a></span></li><li><span><a href=\"#DateOffset对象\" data-toc-modified-id=\"DateOffset对象-4\"><span class=\"toc-item-num\">4&nbsp;&nbsp;</span>DateOffset对象</a></span></li><li><span><a href=\"#练习\" data-toc-modified-id=\"练习-5\"><span class=\"toc-item-num\">5&nbsp;&nbsp;</span>练习</a></span></li><li><span><a href=\"#与时间序列相关的方法\" data-toc-modified-id=\"与时间序列相关的方法-6\"><span class=\"toc-item-num\">6&nbsp;&nbsp;</span>与时间序列相关的方法</a></span><ul class=\"toc-item\"><li><span><a href=\"#移动df.shift()\" data-toc-modified-id=\"移动df.shift()-6.1\"><span class=\"toc-item-num\">6.1&nbsp;&nbsp;</span>移动df.shift()</a></span></li><li><span><a href=\"#频率转换df.asfreq()\" data-toc-modified-id=\"频率转换df.asfreq()-6.2\"><span class=\"toc-item-num\">6.2&nbsp;&nbsp;</span>频率转换df.asfreq()</a></span></li></ul></li><li><span><a href=\"#重采样\" data-toc-modified-id=\"重采样-7\"><span class=\"toc-item-num\">7&nbsp;&nbsp;</span>重采样</a></span></li><li><span><a href=\"#练习\" data-toc-modified-id=\"练习-8\"><span class=\"toc-item-num\">8&nbsp;&nbsp;</span>练习</a></span></li></ul></div>"
   ]
  },
  {
   "cell_type": "code",
   "execution_count": 1,
   "metadata": {
    "ExecuteTime": {
     "end_time": "2019-06-24T08:19:05.877248Z",
     "start_time": "2019-06-24T08:19:02.757986Z"
    }
   },
   "outputs": [],
   "source": [
    "#全部行都能输出\n",
    "from IPython.core.interactiveshell import InteractiveShell\n",
    "InteractiveShell.ast_node_interactivity = \"all\"\n",
    "\n",
    "# 导入相关库\n",
    "import numpy as np\n",
    "import pandas as pd\n",
    "from datetime import datetime\n",
    "from datetime import timedelta"
   ]
  },
  {
   "cell_type": "markdown",
   "metadata": {},
   "source": [
    "在做金融领域方面的分析时，经常会对时间进行一系列的处理。\n",
    "\n",
    "Pandas 内部自带了很多关于时间序列相关的工具，所以它非常适合处理时间序列。在处理时间序列的的过程中，我们经常会去做以下一些任务：\n",
    "\n",
    "1. 生成固定频率日期和时间跨度的序列\n",
    "2. 将时间序列整合或转换为特定频率\n",
    "3. 基于各种非标准时间增量（例如，在一年的最后一个工作日之前的5个工作日）计算“相对”日期，或向前或向后“滚动”日期\n",
    "\n",
    "使用 Pandas 可以轻松完成以上任务。"
   ]
  },
  {
   "cell_type": "markdown",
   "metadata": {},
   "source": [
    "## 基础概述\n",
    "\n",
    "下面列出了 Pandas中 和时间日期相关常用的类以及创建方法。"
   ]
  },
  {
   "cell_type": "markdown",
   "metadata": {},
   "source": [
    "|类 |备注| 创建方法|\n",
    "|--|--|--|\n",
    "|Timestamp| 时刻数据| to_datetime，Timestamp|\n",
    "|DatetimeIndex| Timestamp的索引| to_datetime，date_range，DatetimeIndex|\n",
    "|Period| 时期数据 |Period|\n",
    "|PeriodIndex| Period| period_range，PeriodIndex|"
   ]
  },
  {
   "cell_type": "markdown",
   "metadata": {},
   "source": [
    "创建Timestamp的方法有两种:  使用 to_datetime ,  Timestamp"
   ]
  },
  {
   "cell_type": "markdown",
   "metadata": {},
   "source": [
    "### 生成时间戳"
   ]
  },
  {
   "cell_type": "code",
   "execution_count": 2,
   "metadata": {
    "ExecuteTime": {
     "end_time": "2019-06-24T08:21:51.958355Z",
     "start_time": "2019-06-24T08:21:51.786945Z"
    }
   },
   "outputs": [
    {
     "data": {
      "text/plain": [
       "Timestamp('2018-12-12 00:00:00')"
      ]
     },
     "execution_count": 2,
     "metadata": {},
     "output_type": "execute_result"
    },
    {
     "data": {
      "text/plain": [
       "Timestamp('2018-12-12 00:00:00')"
      ]
     },
     "execution_count": 2,
     "metadata": {},
     "output_type": "execute_result"
    },
    {
     "data": {
      "text/plain": [
       "Timestamp('2018-12-12 00:00:00')"
      ]
     },
     "execution_count": 2,
     "metadata": {},
     "output_type": "execute_result"
    },
    {
     "data": {
      "text/plain": [
       "Timestamp('2018-12-12 00:00:00')"
      ]
     },
     "execution_count": 2,
     "metadata": {},
     "output_type": "execute_result"
    },
    {
     "data": {
      "text/plain": [
       "Timestamp('2018-12-12 00:00:00')"
      ]
     },
     "execution_count": 2,
     "metadata": {},
     "output_type": "execute_result"
    }
   ],
   "source": [
    "pd.to_datetime('2018-12-12')\n",
    "\n",
    "pd.to_datetime('2018.12.12')\n",
    "\n",
    "pd.to_datetime('2018/12/12')\n",
    "\n",
    "pd.to_datetime('2018, 12, 12')\n",
    "\n",
    "pd.to_datetime(\"dec 12, 2018\")"
   ]
  },
  {
   "cell_type": "code",
   "execution_count": 3,
   "metadata": {
    "ExecuteTime": {
     "end_time": "2019-06-24T08:22:22.000749Z",
     "start_time": "2019-06-24T08:22:21.937790Z"
    }
   },
   "outputs": [
    {
     "data": {
      "text/plain": [
       "Timestamp('2018-12-12 00:00:00')"
      ]
     },
     "execution_count": 3,
     "metadata": {},
     "output_type": "execute_result"
    },
    {
     "data": {
      "text/plain": [
       "Timestamp('2018-12-12 00:00:00')"
      ]
     },
     "execution_count": 3,
     "metadata": {},
     "output_type": "execute_result"
    },
    {
     "data": {
      "text/plain": [
       "Timestamp('2018-12-12 00:00:00')"
      ]
     },
     "execution_count": 3,
     "metadata": {},
     "output_type": "execute_result"
    },
    {
     "data": {
      "text/plain": [
       "Timestamp('2018-12-12 00:00:00')"
      ]
     },
     "execution_count": 3,
     "metadata": {},
     "output_type": "execute_result"
    },
    {
     "data": {
      "text/plain": [
       "Timestamp('2018-12-12 00:00:00')"
      ]
     },
     "execution_count": 3,
     "metadata": {},
     "output_type": "execute_result"
    }
   ],
   "source": [
    "pd.Timestamp('2018-12-12')\n",
    "\n",
    "pd.Timestamp('2018.12.12')\n",
    "\n",
    "pd.Timestamp('2018/12/12')\n",
    "\n",
    "pd.Timestamp('2018, 12, 12')\n",
    "\n",
    "pd.Timestamp(\"dec 12, 2018\")"
   ]
  },
  {
   "cell_type": "markdown",
   "metadata": {},
   "source": [
    "### 转换时间戳\n",
    "\n",
    "可以把各种各样的字符串格式转换为时间戳（缺失时间标记为NaT）"
   ]
  },
  {
   "cell_type": "code",
   "execution_count": 4,
   "metadata": {
    "ExecuteTime": {
     "end_time": "2019-06-24T08:26:29.707764Z",
     "start_time": "2019-06-24T08:26:29.675782Z"
    }
   },
   "outputs": [
    {
     "data": {
      "text/plain": [
       "DatetimeIndex(['2018-07-31', '2018-05-10', 'NaT', '2005-11-23', '2010-12-31'], dtype='datetime64[ns]', freq=None)"
      ]
     },
     "execution_count": 4,
     "metadata": {},
     "output_type": "execute_result"
    }
   ],
   "source": [
    "a=[\"Jul 31, 2018\", \"2018-05-10\", None, \"2005/11/23\", \"2010.12.31\"]\n",
    "b = pd.to_datetime(a) #空的时间是NaT\n",
    "b"
   ]
  },
  {
   "cell_type": "code",
   "execution_count": 9,
   "metadata": {
    "ExecuteTime": {
     "end_time": "2019-06-24T08:30:20.175697Z",
     "start_time": "2019-06-24T08:30:20.165703Z"
    }
   },
   "outputs": [
    {
     "data": {
      "text/plain": [
       "0   2018-07-31\n",
       "1   2018-05-10\n",
       "2          NaT\n",
       "3   2005-11-23\n",
       "4   2010-12-31\n",
       "dtype: datetime64[ns]"
      ]
     },
     "execution_count": 9,
     "metadata": {},
     "output_type": "execute_result"
    }
   ],
   "source": [
    "pd.Series(b)"
   ]
  },
  {
   "cell_type": "code",
   "execution_count": 6,
   "metadata": {
    "ExecuteTime": {
     "end_time": "2019-06-24T08:26:48.324034Z",
     "start_time": "2019-06-24T08:26:48.316039Z"
    }
   },
   "outputs": [
    {
     "data": {
      "text/plain": [
       "pandas._libs.tslibs.nattype.NaTType"
      ]
     },
     "execution_count": 6,
     "metadata": {},
     "output_type": "execute_result"
    }
   ],
   "source": [
    "type(pd.NaT)"
   ]
  },
  {
   "cell_type": "markdown",
   "metadata": {},
   "source": [
    "如果不希望转换时间戳后生成DatetimeIndex，也可以先把列表转化为Series格式："
   ]
  },
  {
   "cell_type": "markdown",
   "metadata": {},
   "source": [
    "### 把unix时间戳转换为时间戳"
   ]
  },
  {
   "cell_type": "markdown",
   "metadata": {},
   "source": [
    "unix时间戳是从1970年1月1日（UTC/GMT的午夜）开始所经过的秒数，不考虑闰秒。"
   ]
  },
  {
   "cell_type": "code",
   "execution_count": 10,
   "metadata": {
    "ExecuteTime": {
     "end_time": "2019-06-24T08:34:18.458512Z",
     "start_time": "2019-06-24T08:34:18.417535Z"
    }
   },
   "outputs": [
    {
     "data": {
      "text/plain": [
       "DatetimeIndex(['2012-10-08 18:15:05', '2012-10-09 18:15:05',\n",
       "               '2012-10-10 18:15:05'],\n",
       "              dtype='datetime64[ns]', freq=None)"
      ]
     },
     "execution_count": 10,
     "metadata": {},
     "output_type": "execute_result"
    }
   ],
   "source": [
    "pd.to_datetime([1349720105, 1349806505, 1349892905], unit=\"s\")"
   ]
  },
  {
   "cell_type": "code",
   "execution_count": 11,
   "metadata": {
    "ExecuteTime": {
     "end_time": "2019-06-24T08:35:19.688267Z",
     "start_time": "2019-06-24T08:35:19.678273Z"
    }
   },
   "outputs": [
    {
     "data": {
      "text/plain": [
       "DatetimeIndex(['1970-01-01 00:00:01', '1970-01-01 00:00:02',\n",
       "               '1970-01-01 00:00:20'],\n",
       "              dtype='datetime64[ns]', freq=None)"
      ]
     },
     "execution_count": 11,
     "metadata": {},
     "output_type": "execute_result"
    }
   ],
   "source": [
    "pd.to_datetime([1, 2, 20], unit=\"s\")"
   ]
  },
  {
   "cell_type": "code",
   "execution_count": 12,
   "metadata": {
    "ExecuteTime": {
     "end_time": "2019-06-24T08:35:24.470271Z",
     "start_time": "2019-06-24T08:35:24.462277Z"
    }
   },
   "outputs": [
    {
     "data": {
      "text/plain": [
       "DatetimeIndex(['1970-01-02', '1970-01-03', '1970-01-04'], dtype='datetime64[ns]', freq=None)"
      ]
     },
     "execution_count": 12,
     "metadata": {},
     "output_type": "execute_result"
    }
   ],
   "source": [
    "pd.to_datetime([1, 2, 3], unit=\"D\")"
   ]
  },
  {
   "cell_type": "markdown",
   "metadata": {},
   "source": [
    "```\n",
    "\n",
    "\n",
    "```\n",
    "\n",
    "## 生成时间戳范围\n",
    "\n",
    "有时候，我们可能想要生成某个范围内的时间戳。例如，我想要生成 \"2018-6-26\" 这一天之后的8天时间戳，如何完成呢？我们可以使用 date_range 和bdate_range 来完成时间戳范围的生成。"
   ]
  },
  {
   "cell_type": "markdown",
   "metadata": {},
   "source": [
    "### pd.date_range()\n",
    "pd.date_range（['start = None'，'end = None'，'periods = None'，'freq = None'，'tz = None'，'normalize = False'，'name = None'，'closed = None'，' ** kwargs']，）\n",
    "- 作用：返回固定频率DatetimeIndex。\n",
    "    - start：str或datetime-like，可选\n",
    "        - 生成日期的左边界。\n",
    "    - end：str或datetime-like，可选\n",
    "        - 生成日期的权利。\n",
    "    - periods：整数，可选\n",
    "        - 要生成的周期数。\n",
    "    - freq：str或DateOffset，默认为'D'（每日日历）\n",
    "        - 频率字符串可以具有倍数，例如'5H'。\n",
    "    - tz：str或tzinfo，可选\n",
    "        - 例如，返回本地化DatetimeIndex的时区名称。“亚洲/香港”。\n",
    "    - normalize：bool，默认为False\n",
    "        - 在生成日期范围之前将开始/结束日期标准化为午夜。\n",
    "    - name：str，默认无\n",
    "        - 生成的DatetimeIndex的名称。\n",
    "    - closed：{None, 'left', 'right'}，可选\n",
    "        - 使间隔相对于给定频率关闭。“左”，“右”或双方（无，默认）。"
   ]
  },
  {
   "cell_type": "code",
   "execution_count": 13,
   "metadata": {
    "ExecuteTime": {
     "end_time": "2019-06-24T08:37:37.194599Z",
     "start_time": "2019-06-24T08:37:37.100657Z"
    }
   },
   "outputs": [
    {
     "data": {
      "text/plain": [
       "DatetimeIndex(['2018-06-26', '2018-06-27', '2018-06-28', '2018-06-29',\n",
       "               '2018-06-30', '2018-07-01', '2018-07-02', '2018-07-03'],\n",
       "              dtype='datetime64[ns]', freq='D')"
      ]
     },
     "execution_count": 13,
     "metadata": {},
     "output_type": "execute_result"
    }
   ],
   "source": [
    "pd.date_range('2018-6-26',  periods=8, freq='D')"
   ]
  },
  {
   "cell_type": "code",
   "execution_count": 2,
   "metadata": {
    "ExecuteTime": {
     "end_time": "2019-06-24T08:41:47.768876Z",
     "start_time": "2019-06-24T08:41:47.760880Z"
    }
   },
   "outputs": [
    {
     "data": {
      "text/plain": [
       "DatetimeIndex(['2018-07-01', '2018-07-08', '2018-07-15', '2018-07-22',\n",
       "               '2018-07-29', '2018-08-05', '2018-08-12', '2018-08-19'],\n",
       "              dtype='datetime64[ns]', freq='W-SUN')"
      ]
     },
     "execution_count": 2,
     "metadata": {},
     "output_type": "execute_result"
    }
   ],
   "source": [
    "pd.date_range(\"2018-6-26\", periods=8,freq='W')"
   ]
  },
  {
   "cell_type": "markdown",
   "metadata": {},
   "source": [
    "```\n",
    "   \n",
    "      \n",
    "```\n",
    "### pd.bdate_range()  \n",
    "返回固定频率DatetimeIndex，默认为工作日频率。"
   ]
  },
  {
   "cell_type": "code",
   "execution_count": 27,
   "metadata": {
    "ExecuteTime": {
     "end_time": "2019-06-24T09:38:43.571248Z",
     "start_time": "2019-06-24T09:38:43.558254Z"
    },
    "scrolled": true
   },
   "outputs": [
    {
     "data": {
      "text/plain": [
       "DatetimeIndex(['2019-06-26', '2019-06-27', '2019-06-28', '2019-07-01',\n",
       "               '2019-07-02', '2019-07-03', '2019-07-04', '2019-07-05',\n",
       "               '2019-07-08', '2019-07-09', '2019-07-10', '2019-07-11',\n",
       "               '2019-07-12', '2019-07-15', '2019-07-16', '2019-07-17',\n",
       "               '2019-07-18', '2019-07-19', '2019-07-22', '2019-07-23',\n",
       "               '2019-07-24', '2019-07-25', '2019-07-26', '2019-07-29',\n",
       "               '2019-07-30', '2019-07-31', '2019-08-01', '2019-08-02',\n",
       "               '2019-08-05', '2019-08-06', '2019-08-07', '2019-08-08',\n",
       "               '2019-08-09', '2019-08-12', '2019-08-13', '2019-08-14',\n",
       "               '2019-08-15', '2019-08-16', '2019-08-19', '2019-08-20',\n",
       "               '2019-08-21', '2019-08-22', '2019-08-23', '2019-08-26',\n",
       "               '2019-08-27', '2019-08-28', '2019-08-29', '2019-08-30'],\n",
       "              dtype='datetime64[ns]', freq='B')"
      ]
     },
     "execution_count": 27,
     "metadata": {},
     "output_type": "execute_result"
    }
   ],
   "source": [
    "pd.bdate_range(\"2019-6-26\", '2019-9-01')  "
   ]
  },
  {
   "cell_type": "markdown",
   "metadata": {
    "ExecuteTime": {
     "end_time": "2019-06-24T08:43:15.867178Z",
     "start_time": "2019-06-24T08:43:15.859182Z"
    }
   },
   "source": [
    "注意：pd.bdate_range()不设置freq='D'会默认设置freq='B'，日期间隔会跳过周六日。  \n",
    "但是日期频率如果不是按天算的话，不会跳过工作日： "
   ]
  },
  {
   "cell_type": "code",
   "execution_count": 29,
   "metadata": {
    "ExecuteTime": {
     "end_time": "2019-06-24T09:40:17.412352Z",
     "start_time": "2019-06-24T09:40:17.400359Z"
    }
   },
   "outputs": [
    {
     "data": {
      "text/plain": [
       "DatetimeIndex(['2019-06-28 00:00:00', '2019-06-28 04:00:00',\n",
       "               '2019-06-28 08:00:00', '2019-06-28 12:00:00',\n",
       "               '2019-06-28 16:00:00', '2019-06-28 20:00:00',\n",
       "               '2019-06-29 00:00:00', '2019-06-29 04:00:00',\n",
       "               '2019-06-29 08:00:00', '2019-06-29 12:00:00',\n",
       "               '2019-06-29 16:00:00', '2019-06-29 20:00:00',\n",
       "               '2019-06-30 00:00:00', '2019-06-30 04:00:00',\n",
       "               '2019-06-30 08:00:00', '2019-06-30 12:00:00',\n",
       "               '2019-06-30 16:00:00', '2019-06-30 20:00:00',\n",
       "               '2019-07-01 00:00:00'],\n",
       "              dtype='datetime64[ns]', freq='4H')"
      ]
     },
     "execution_count": 29,
     "metadata": {},
     "output_type": "execute_result"
    }
   ],
   "source": [
    "pd.bdate_range(\"2019-6-28\", '2019-7-1',freq=\"4h\")  #四个小时为时间间隔"
   ]
  },
  {
   "cell_type": "code",
   "execution_count": 30,
   "metadata": {
    "ExecuteTime": {
     "end_time": "2019-06-24T09:42:20.397842Z",
     "start_time": "2019-06-24T09:42:20.389846Z"
    }
   },
   "outputs": [
    {
     "data": {
      "text/plain": [
       "DatetimeIndex(['2019-06-28 00:00:00', '2019-06-28 03:00:00',\n",
       "               '2019-06-28 06:00:00', '2019-06-28 09:00:00',\n",
       "               '2019-06-28 12:00:00', '2019-06-28 15:00:00',\n",
       "               '2019-06-28 18:00:00', '2019-06-28 21:00:00',\n",
       "               '2019-06-29 00:00:00'],\n",
       "              dtype='datetime64[ns]', freq='3H')"
      ]
     },
     "execution_count": 30,
     "metadata": {},
     "output_type": "execute_result"
    }
   ],
   "source": [
    "pd.bdate_range(\"2019-6-28\", periods=9,freq=\"3h\")  #三个小时为时间间隔"
   ]
  },
  {
   "cell_type": "markdown",
   "metadata": {},
   "source": [
    "可以看出，date_range 默认使用的频率是日历日，而 bdate_range 默认使用的频率是营业日。当然了，我们可以自己指定频率，比如，我们可以按周来生成时间戳范围。"
   ]
  },
  {
   "cell_type": "code",
   "execution_count": 31,
   "metadata": {
    "ExecuteTime": {
     "end_time": "2019-06-24T09:43:50.783314Z",
     "start_time": "2019-06-24T09:43:50.772320Z"
    }
   },
   "outputs": [
    {
     "data": {
      "text/plain": [
       "DatetimeIndex(['2018-07-01', '2018-07-08', '2018-07-15', '2018-07-22',\n",
       "               '2018-07-29', '2018-08-05', '2018-08-12', '2018-08-19'],\n",
       "              dtype='datetime64[ns]', freq='W-SUN')"
      ]
     },
     "execution_count": 31,
     "metadata": {},
     "output_type": "execute_result"
    }
   ],
   "source": [
    "pd.date_range(\"2018-6-26\", periods=8, freq=\"W\")"
   ]
  },
  {
   "cell_type": "code",
   "execution_count": 32,
   "metadata": {
    "ExecuteTime": {
     "end_time": "2019-06-24T09:43:53.370344Z",
     "start_time": "2019-06-24T09:43:53.326374Z"
    }
   },
   "outputs": [
    {
     "data": {
      "text/plain": [
       "DatetimeIndex(['2018-12-31', '2019-12-31', '2020-12-31', '2021-12-31',\n",
       "               '2022-12-31', '2023-12-31', '2024-12-31', '2025-12-31'],\n",
       "              dtype='datetime64[ns]', freq='A-DEC')"
      ]
     },
     "execution_count": 32,
     "metadata": {},
     "output_type": "execute_result"
    }
   ],
   "source": [
    "pd.date_range(\"2018-6-26\", periods=8, freq=\"Y\")"
   ]
  },
  {
   "cell_type": "markdown",
   "metadata": {},
   "source": [
    "```\n",
    "   \n",
    "    \n",
    "     \n",
    "```\n",
    "## DatetimeIndex\n",
    "\n",
    "DatetimeIndex 的主要作用是之一是用作 Pandas 对象的索引，使用它作为索引除了拥有普通索引对象的所有基本功能外，还拥有简化频率处理的高级时间序列方法。"
   ]
  },
  {
   "cell_type": "markdown",
   "metadata": {},
   "source": [
    "比如，我们想要给一共有100条数据的DataFrame设置index，index以\"2018-6-24\"为开始端，频数100："
   ]
  },
  {
   "cell_type": "code",
   "execution_count": 2,
   "metadata": {
    "ExecuteTime": {
     "end_time": "2019-04-02T07:12:52.971794Z",
     "start_time": "2019-04-02T07:12:52.937812Z"
    }
   },
   "outputs": [
    {
     "data": {
      "text/html": [
       "<div>\n",
       "<style scoped>\n",
       "    .dataframe tbody tr th:only-of-type {\n",
       "        vertical-align: middle;\n",
       "    }\n",
       "\n",
       "    .dataframe tbody tr th {\n",
       "        vertical-align: top;\n",
       "    }\n",
       "\n",
       "    .dataframe thead th {\n",
       "        text-align: right;\n",
       "    }\n",
       "</style>\n",
       "<table border=\"1\" class=\"dataframe\">\n",
       "  <thead>\n",
       "    <tr style=\"text-align: right;\">\n",
       "      <th></th>\n",
       "      <th>利润</th>\n",
       "    </tr>\n",
       "  </thead>\n",
       "  <tbody>\n",
       "    <tr>\n",
       "      <th>2018-06-24</th>\n",
       "      <td>4727</td>\n",
       "    </tr>\n",
       "    <tr>\n",
       "      <th>2018-06-25</th>\n",
       "      <td>879</td>\n",
       "    </tr>\n",
       "    <tr>\n",
       "      <th>2018-06-26</th>\n",
       "      <td>1150</td>\n",
       "    </tr>\n",
       "    <tr>\n",
       "      <th>2018-06-27</th>\n",
       "      <td>2690</td>\n",
       "    </tr>\n",
       "    <tr>\n",
       "      <th>2018-06-28</th>\n",
       "      <td>4949</td>\n",
       "    </tr>\n",
       "    <tr>\n",
       "      <th>2018-06-29</th>\n",
       "      <td>1602</td>\n",
       "    </tr>\n",
       "    <tr>\n",
       "      <th>2018-06-30</th>\n",
       "      <td>3600</td>\n",
       "    </tr>\n",
       "    <tr>\n",
       "      <th>2018-07-01</th>\n",
       "      <td>2479</td>\n",
       "    </tr>\n",
       "    <tr>\n",
       "      <th>2018-07-02</th>\n",
       "      <td>4100</td>\n",
       "    </tr>\n",
       "    <tr>\n",
       "      <th>2018-07-03</th>\n",
       "      <td>2699</td>\n",
       "    </tr>\n",
       "  </tbody>\n",
       "</table>\n",
       "</div>"
      ],
      "text/plain": [
       "              利润\n",
       "2018-06-24  4727\n",
       "2018-06-25   879\n",
       "2018-06-26  1150\n",
       "2018-06-27  2690\n",
       "2018-06-28  4949\n",
       "2018-06-29  1602\n",
       "2018-06-30  3600\n",
       "2018-07-01  2479\n",
       "2018-07-02  4100\n",
       "2018-07-03  2699"
      ]
     },
     "execution_count": 2,
     "metadata": {},
     "output_type": "execute_result"
    }
   ],
   "source": [
    "np.random.seed(100)\n",
    "\n",
    "time_index = pd.date_range(\"2018-6-24\", periods=100, freq=\"D\")  #生成时间索引\n",
    "profit=np.random.randint(800,5000,100)                          #生成利润\n",
    "\n",
    "profit_table=pd.DataFrame(profit,index=time_index,columns=[\"利润\"])\n",
    "profit_table.head(10)"
   ]
  },
  {
   "cell_type": "code",
   "execution_count": 31,
   "metadata": {},
   "outputs": [
    {
     "data": {
      "text/plain": [
       "pandas.core.indexes.datetimes.DatetimeIndex"
      ]
     },
     "execution_count": 31,
     "metadata": {},
     "output_type": "execute_result"
    }
   ],
   "source": [
    "type(time_index)"
   ]
  },
  {
   "cell_type": "markdown",
   "metadata": {
    "collapsed": true
   },
   "source": [
    "如果要查看上面表中2018年6月的数据："
   ]
  },
  {
   "cell_type": "code",
   "execution_count": 105,
   "metadata": {
    "ExecuteTime": {
     "end_time": "2019-04-02T07:13:09.979159Z",
     "start_time": "2019-04-02T07:13:09.964168Z"
    }
   },
   "outputs": [
    {
     "data": {
      "text/html": [
       "<div>\n",
       "<style scoped>\n",
       "    .dataframe tbody tr th:only-of-type {\n",
       "        vertical-align: middle;\n",
       "    }\n",
       "\n",
       "    .dataframe tbody tr th {\n",
       "        vertical-align: top;\n",
       "    }\n",
       "\n",
       "    .dataframe thead th {\n",
       "        text-align: right;\n",
       "    }\n",
       "</style>\n",
       "<table border=\"1\" class=\"dataframe\">\n",
       "  <thead>\n",
       "    <tr style=\"text-align: right;\">\n",
       "      <th></th>\n",
       "      <th>利润</th>\n",
       "    </tr>\n",
       "  </thead>\n",
       "  <tbody>\n",
       "    <tr>\n",
       "      <th>2018-06-24</th>\n",
       "      <td>4727</td>\n",
       "    </tr>\n",
       "    <tr>\n",
       "      <th>2018-06-25</th>\n",
       "      <td>879</td>\n",
       "    </tr>\n",
       "    <tr>\n",
       "      <th>2018-06-26</th>\n",
       "      <td>1150</td>\n",
       "    </tr>\n",
       "    <tr>\n",
       "      <th>2018-06-27</th>\n",
       "      <td>2690</td>\n",
       "    </tr>\n",
       "    <tr>\n",
       "      <th>2018-06-28</th>\n",
       "      <td>4949</td>\n",
       "    </tr>\n",
       "    <tr>\n",
       "      <th>2018-06-29</th>\n",
       "      <td>1602</td>\n",
       "    </tr>\n",
       "    <tr>\n",
       "      <th>2018-06-30</th>\n",
       "      <td>3600</td>\n",
       "    </tr>\n",
       "  </tbody>\n",
       "</table>\n",
       "</div>"
      ],
      "text/plain": [
       "              利润\n",
       "2018-06-24  4727\n",
       "2018-06-25   879\n",
       "2018-06-26  1150\n",
       "2018-06-27  2690\n",
       "2018-06-28  4949\n",
       "2018-06-29  1602\n",
       "2018-06-30  3600"
      ]
     },
     "execution_count": 105,
     "metadata": {},
     "output_type": "execute_result"
    }
   ],
   "source": [
    "profit_table[\"2018-6\"]"
   ]
  },
  {
   "cell_type": "code",
   "execution_count": 32,
   "metadata": {
    "ExecuteTime": {
     "end_time": "2019-04-02T07:13:31.389711Z",
     "start_time": "2019-04-02T07:13:31.355728Z"
    }
   },
   "outputs": [
    {
     "data": {
      "text/html": [
       "<div>\n",
       "<style scoped>\n",
       "    .dataframe tbody tr th:only-of-type {\n",
       "        vertical-align: middle;\n",
       "    }\n",
       "\n",
       "    .dataframe tbody tr th {\n",
       "        vertical-align: top;\n",
       "    }\n",
       "\n",
       "    .dataframe thead th {\n",
       "        text-align: right;\n",
       "    }\n",
       "</style>\n",
       "<table border=\"1\" class=\"dataframe\">\n",
       "  <thead>\n",
       "    <tr style=\"text-align: right;\">\n",
       "      <th></th>\n",
       "      <th>利润</th>\n",
       "    </tr>\n",
       "  </thead>\n",
       "  <tbody>\n",
       "    <tr>\n",
       "      <th>2018-06-24</th>\n",
       "      <td>4727</td>\n",
       "    </tr>\n",
       "    <tr>\n",
       "      <th>2018-06-25</th>\n",
       "      <td>879</td>\n",
       "    </tr>\n",
       "    <tr>\n",
       "      <th>2018-06-26</th>\n",
       "      <td>1150</td>\n",
       "    </tr>\n",
       "    <tr>\n",
       "      <th>2018-06-27</th>\n",
       "      <td>2690</td>\n",
       "    </tr>\n",
       "    <tr>\n",
       "      <th>2018-06-28</th>\n",
       "      <td>4949</td>\n",
       "    </tr>\n",
       "    <tr>\n",
       "      <th>2018-06-29</th>\n",
       "      <td>1602</td>\n",
       "    </tr>\n",
       "    <tr>\n",
       "      <th>2018-06-30</th>\n",
       "      <td>3600</td>\n",
       "    </tr>\n",
       "    <tr>\n",
       "      <th>2018-07-01</th>\n",
       "      <td>2479</td>\n",
       "    </tr>\n",
       "  </tbody>\n",
       "</table>\n",
       "</div>"
      ],
      "text/plain": [
       "              利润\n",
       "2018-06-24  4727\n",
       "2018-06-25   879\n",
       "2018-06-26  1150\n",
       "2018-06-27  2690\n",
       "2018-06-28  4949\n",
       "2018-06-29  1602\n",
       "2018-06-30  3600\n",
       "2018-07-01  2479"
      ]
     },
     "execution_count": 32,
     "metadata": {},
     "output_type": "execute_result"
    }
   ],
   "source": [
    "profit_table[\"2018-6-24\":\"2018-7-1\"]"
   ]
  },
  {
   "cell_type": "code",
   "execution_count": 109,
   "metadata": {
    "ExecuteTime": {
     "end_time": "2019-04-02T07:14:01.100062Z",
     "start_time": "2019-04-02T07:14:01.082073Z"
    }
   },
   "outputs": [
    {
     "data": {
      "text/html": [
       "<div>\n",
       "<style scoped>\n",
       "    .dataframe tbody tr th:only-of-type {\n",
       "        vertical-align: middle;\n",
       "    }\n",
       "\n",
       "    .dataframe tbody tr th {\n",
       "        vertical-align: top;\n",
       "    }\n",
       "\n",
       "    .dataframe thead th {\n",
       "        text-align: right;\n",
       "    }\n",
       "</style>\n",
       "<table border=\"1\" class=\"dataframe\">\n",
       "  <thead>\n",
       "    <tr style=\"text-align: right;\">\n",
       "      <th></th>\n",
       "      <th>利润</th>\n",
       "    </tr>\n",
       "  </thead>\n",
       "  <tbody>\n",
       "    <tr>\n",
       "      <th>2018-06-30</th>\n",
       "      <td>3600</td>\n",
       "    </tr>\n",
       "    <tr>\n",
       "      <th>2018-07-07</th>\n",
       "      <td>3234</td>\n",
       "    </tr>\n",
       "    <tr>\n",
       "      <th>2018-07-14</th>\n",
       "      <td>3683</td>\n",
       "    </tr>\n",
       "    <tr>\n",
       "      <th>2018-07-21</th>\n",
       "      <td>802</td>\n",
       "    </tr>\n",
       "    <tr>\n",
       "      <th>2018-07-28</th>\n",
       "      <td>4798</td>\n",
       "    </tr>\n",
       "    <tr>\n",
       "      <th>2018-08-04</th>\n",
       "      <td>3040</td>\n",
       "    </tr>\n",
       "    <tr>\n",
       "      <th>2018-08-11</th>\n",
       "      <td>3541</td>\n",
       "    </tr>\n",
       "  </tbody>\n",
       "</table>\n",
       "</div>"
      ],
      "text/plain": [
       "              利润\n",
       "2018-06-30  3600\n",
       "2018-07-07  3234\n",
       "2018-07-14  3683\n",
       "2018-07-21   802\n",
       "2018-07-28  4798\n",
       "2018-08-04  3040\n",
       "2018-08-11  3541"
      ]
     },
     "execution_count": 109,
     "metadata": {},
     "output_type": "execute_result"
    }
   ],
   "source": [
    "profit_table[\"2018-6-30\":\"2018-8-11\":7]"
   ]
  },
  {
   "cell_type": "code",
   "execution_count": 55,
   "metadata": {
    "ExecuteTime": {
     "end_time": "2019-04-02T07:14:15.573017Z",
     "start_time": "2019-04-02T07:14:15.543037Z"
    }
   },
   "outputs": [
    {
     "data": {
      "text/html": [
       "<div>\n",
       "<style scoped>\n",
       "    .dataframe tbody tr th:only-of-type {\n",
       "        vertical-align: middle;\n",
       "    }\n",
       "\n",
       "    .dataframe tbody tr th {\n",
       "        vertical-align: top;\n",
       "    }\n",
       "\n",
       "    .dataframe thead th {\n",
       "        text-align: right;\n",
       "    }\n",
       "</style>\n",
       "<table border=\"1\" class=\"dataframe\">\n",
       "  <thead>\n",
       "    <tr style=\"text-align: right;\">\n",
       "      <th></th>\n",
       "      <th>利润</th>\n",
       "      <th>星期几</th>\n",
       "      <th>当年第几天</th>\n",
       "      <th>当年第几周</th>\n",
       "    </tr>\n",
       "  </thead>\n",
       "  <tbody>\n",
       "    <tr>\n",
       "      <th>2018-06-24</th>\n",
       "      <td>4727</td>\n",
       "      <td>7</td>\n",
       "      <td>175</td>\n",
       "      <td>25</td>\n",
       "    </tr>\n",
       "    <tr>\n",
       "      <th>2018-06-25</th>\n",
       "      <td>879</td>\n",
       "      <td>1</td>\n",
       "      <td>176</td>\n",
       "      <td>26</td>\n",
       "    </tr>\n",
       "    <tr>\n",
       "      <th>2018-06-26</th>\n",
       "      <td>1150</td>\n",
       "      <td>2</td>\n",
       "      <td>177</td>\n",
       "      <td>26</td>\n",
       "    </tr>\n",
       "    <tr>\n",
       "      <th>2018-06-27</th>\n",
       "      <td>2690</td>\n",
       "      <td>3</td>\n",
       "      <td>178</td>\n",
       "      <td>26</td>\n",
       "    </tr>\n",
       "    <tr>\n",
       "      <th>2018-06-28</th>\n",
       "      <td>4949</td>\n",
       "      <td>4</td>\n",
       "      <td>179</td>\n",
       "      <td>26</td>\n",
       "    </tr>\n",
       "    <tr>\n",
       "      <th>2018-06-29</th>\n",
       "      <td>1602</td>\n",
       "      <td>5</td>\n",
       "      <td>180</td>\n",
       "      <td>26</td>\n",
       "    </tr>\n",
       "    <tr>\n",
       "      <th>2018-06-30</th>\n",
       "      <td>3600</td>\n",
       "      <td>6</td>\n",
       "      <td>181</td>\n",
       "      <td>26</td>\n",
       "    </tr>\n",
       "    <tr>\n",
       "      <th>2018-07-01</th>\n",
       "      <td>2479</td>\n",
       "      <td>7</td>\n",
       "      <td>182</td>\n",
       "      <td>26</td>\n",
       "    </tr>\n",
       "    <tr>\n",
       "      <th>2018-07-02</th>\n",
       "      <td>4100</td>\n",
       "      <td>1</td>\n",
       "      <td>183</td>\n",
       "      <td>27</td>\n",
       "    </tr>\n",
       "    <tr>\n",
       "      <th>2018-07-03</th>\n",
       "      <td>2699</td>\n",
       "      <td>2</td>\n",
       "      <td>184</td>\n",
       "      <td>27</td>\n",
       "    </tr>\n",
       "  </tbody>\n",
       "</table>\n",
       "</div>"
      ],
      "text/plain": [
       "              利润  星期几  当年第几天  当年第几周\n",
       "2018-06-24  4727    7    175     25\n",
       "2018-06-25   879    1    176     26\n",
       "2018-06-26  1150    2    177     26\n",
       "2018-06-27  2690    3    178     26\n",
       "2018-06-28  4949    4    179     26\n",
       "2018-06-29  1602    5    180     26\n",
       "2018-06-30  3600    6    181     26\n",
       "2018-07-01  2479    7    182     26\n",
       "2018-07-02  4100    1    183     27\n",
       "2018-07-03  2699    2    184     27"
      ]
     },
     "execution_count": 55,
     "metadata": {},
     "output_type": "execute_result"
    }
   ],
   "source": [
    "profit_table['星期几'] = profit_table.index.dayofweek+1\n",
    "profit_table['当年第几天'] = profit_table.index.dayofyear\n",
    "profit_table['当年第几周'] = profit_table.index.weekofyear\n",
    "profit_table.head(10)"
   ]
  },
  {
   "cell_type": "markdown",
   "metadata": {},
   "source": [
    "我们可以通过 Timestamp 或 DateTimeIndex 访问一些时间/日期的属性。\n",
    "\n",
    "这里列举一些常见的，想要查看所有的属性见官方链接：\n",
    "\n",
    "Time/Date Components (http://pandas.pydata.org/pandas-docs/stable/timeseries.html#time-date-components)"
   ]
  },
  {
   "cell_type": "code",
   "execution_count": 33,
   "metadata": {
    "ExecuteTime": {
     "end_time": "2019-04-02T07:14:29.885640Z",
     "start_time": "2019-04-02T07:14:29.873652Z"
    }
   },
   "outputs": [
    {
     "data": {
      "text/plain": [
       "array([False, False, False, False, False, False, False,  True, False,\n",
       "       False, False, False, False, False, False, False, False, False,\n",
       "       False, False, False, False, False, False, False, False, False,\n",
       "       False, False, False, False, False, False, False, False, False,\n",
       "       False, False,  True, False, False, False, False, False, False,\n",
       "       False, False, False, False, False, False, False, False, False,\n",
       "       False, False, False, False, False, False, False, False, False,\n",
       "       False, False, False, False, False, False,  True, False, False,\n",
       "       False, False, False, False, False, False, False, False, False,\n",
       "       False, False, False, False, False, False, False, False, False,\n",
       "       False, False, False, False, False, False, False, False, False,\n",
       "        True])"
      ]
     },
     "execution_count": 33,
     "metadata": {},
     "output_type": "execute_result"
    },
    {
     "data": {
      "text/plain": [
       "array([False, False, False, False, False, False,  True, False, False,\n",
       "       False, False, False, False, False, False, False, False, False,\n",
       "       False, False, False, False, False, False, False, False, False,\n",
       "       False, False, False, False, False, False, False, False, False,\n",
       "       False,  True, False, False, False, False, False, False, False,\n",
       "       False, False, False, False, False, False, False, False, False,\n",
       "       False, False, False, False, False, False, False, False, False,\n",
       "       False, False, False, False, False,  True, False, False, False,\n",
       "       False, False, False, False, False, False, False, False, False,\n",
       "       False, False, False, False, False, False, False, False, False,\n",
       "       False, False, False, False, False, False, False, False,  True,\n",
       "       False])"
      ]
     },
     "execution_count": 33,
     "metadata": {},
     "output_type": "execute_result"
    }
   ],
   "source": [
    "profit_table.index.is_month_start  #判断是否在月初 \n",
    "profit_table.index.is_month_end    #判断是否在月末"
   ]
  },
  {
   "cell_type": "markdown",
   "metadata": {},
   "source": [
    "## DateOffset对象\n",
    "\n",
    "DateOffset 从名称中就可以看出来是要做日期偏移的，它的参数与 dateutil.relativedelta 基本相同，工作方式如下"
   ]
  },
  {
   "cell_type": "code",
   "execution_count": 42,
   "metadata": {
    "ExecuteTime": {
     "end_time": "2019-04-02T03:31:35.475315Z",
     "start_time": "2019-04-02T03:31:35.466320Z"
    }
   },
   "outputs": [
    {
     "data": {
      "text/plain": [
       "Timestamp('2018-06-25 00:00:00')"
      ]
     },
     "execution_count": 42,
     "metadata": {},
     "output_type": "execute_result"
    }
   ],
   "source": [
    "from pandas.tseries.offsets import *\n",
    "d = pd.Timestamp(\"2018-06-25\")\n",
    "d"
   ]
  },
  {
   "cell_type": "code",
   "execution_count": 43,
   "metadata": {
    "ExecuteTime": {
     "end_time": "2019-04-02T03:31:59.836894Z",
     "start_time": "2019-04-02T03:31:59.825901Z"
    }
   },
   "outputs": [
    {
     "data": {
      "text/plain": [
       "Timestamp('2018-09-26 00:00:00')"
      ]
     },
     "execution_count": 43,
     "metadata": {},
     "output_type": "execute_result"
    },
    {
     "data": {
      "text/plain": [
       "Timestamp('2018-07-11 00:00:00')"
      ]
     },
     "execution_count": 43,
     "metadata": {},
     "output_type": "execute_result"
    }
   ],
   "source": [
    "d + pd.DateOffset(months=3, days=1)  #当然可以再里面再添加years、hours等参数\n",
    "\n",
    "d + pd.DateOffset(weeks=2, days=2)"
   ]
  },
  {
   "cell_type": "markdown",
   "metadata": {},
   "source": [
    "除了可以使用 DateOffset 完成上面的功能外，还可以使用偏移量实例来完成。"
   ]
  },
  {
   "cell_type": "code",
   "execution_count": 44,
   "metadata": {
    "ExecuteTime": {
     "end_time": "2019-04-02T03:32:15.221095Z",
     "start_time": "2019-04-02T03:32:15.213100Z"
    }
   },
   "outputs": [
    {
     "data": {
      "text/plain": [
       "Timestamp('2018-07-11 00:00:00')"
      ]
     },
     "execution_count": 44,
     "metadata": {},
     "output_type": "execute_result"
    }
   ],
   "source": [
    "d + pd.tseries.offsets.Week(2) + pd.tseries.offsets.Day(2)"
   ]
  },
  {
   "cell_type": "code",
   "execution_count": null,
   "metadata": {
    "collapsed": true
   },
   "outputs": [],
   "source": []
  },
  {
   "cell_type": "markdown",
   "metadata": {},
   "source": [
    "## 练习"
   ]
  },
  {
   "cell_type": "code",
   "execution_count": 13,
   "metadata": {},
   "outputs": [
    {
     "data": {
      "text/plain": [
       "datetime.date(2019, 9, 4)"
      ]
     },
     "execution_count": 13,
     "metadata": {},
     "output_type": "execute_result"
    }
   ],
   "source": [
    "import datetime \n",
    "now=datetime.datetime.now().date()\n",
    "now"
   ]
  },
  {
   "cell_type": "markdown",
   "metadata": {},
   "source": [
    "生成一个时间序列，从今天开始，往后一年时间，时间间隔为7天，然后把所有时间统一偏移到一年零一天之后，"
   ]
  },
  {
   "cell_type": "code",
   "execution_count": 20,
   "metadata": {
    "ExecuteTime": {
     "end_time": "2019-04-02T06:51:45.960137Z",
     "start_time": "2019-04-02T06:51:45.947144Z"
    }
   },
   "outputs": [
    {
     "data": {
      "text/plain": [
       "Timestamp('2019-09-04 00:00:00')"
      ]
     },
     "execution_count": 20,
     "metadata": {},
     "output_type": "execute_result"
    },
    {
     "data": {
      "text/plain": [
       "Timestamp('2020-09-04 00:00:00')"
      ]
     },
     "execution_count": 20,
     "metadata": {},
     "output_type": "execute_result"
    },
    {
     "data": {
      "text/plain": [
       "DatetimeIndex(['2020-09-09', '2020-09-16', '2020-09-23', '2020-09-30',\n",
       "               '2020-10-07', '2020-10-14', '2020-10-21', '2020-10-28',\n",
       "               '2020-11-04', '2020-11-11', '2020-11-18', '2020-11-25',\n",
       "               '2020-12-02', '2020-12-09', '2020-12-16', '2020-12-23',\n",
       "               '2020-12-30', '2021-01-06', '2021-01-13', '2021-01-20',\n",
       "               '2021-01-27', '2021-02-03', '2021-02-10', '2021-02-17',\n",
       "               '2021-02-24', '2021-03-02', '2021-03-09', '2021-03-16',\n",
       "               '2021-03-23', '2021-03-30', '2021-04-06', '2021-04-13',\n",
       "               '2021-04-20', '2021-04-27', '2021-05-04', '2021-05-11',\n",
       "               '2021-05-18', '2021-05-25', '2021-06-01', '2021-06-08',\n",
       "               '2021-06-15', '2021-06-22', '2021-06-29', '2021-07-06',\n",
       "               '2021-07-13', '2021-07-20', '2021-07-27', '2021-08-03',\n",
       "               '2021-08-10', '2021-08-17', '2021-08-24', '2021-08-31'],\n",
       "              dtype='datetime64[ns]', freq=None)"
      ]
     },
     "execution_count": 20,
     "metadata": {},
     "output_type": "execute_result"
    }
   ],
   "source": [
    "a=pd.to_datetime(datetime.datetime.now().date())\n",
    "b=a+ pd.DateOffset(years=1) \n",
    "a\n",
    "b\n",
    "\n",
    "c=pd.bdate_range(a,b,freq=\"w\")\n",
    "\n",
    "c + pd.DateOffset(years=1,days=1)"
   ]
  },
  {
   "cell_type": "markdown",
   "metadata": {},
   "source": [
    "```\n",
    "\n",
    "   \n",
    "    \n",
    "   \n",
    "   \n",
    "```\n",
    "## 与时间序列相关的方法\n",
    "\n",
    "在做时间序列相关的工作时，经常要对时间做一些移动/滞后、频率转换、采样等相关操作，我们来看下这些操作如何使用吧。"
   ]
  },
  {
   "cell_type": "markdown",
   "metadata": {},
   "source": [
    "### 移动df.shift()\n",
    "\n",
    "如果你想移动或滞后时间序列，你可以使用 shift 方法。"
   ]
  },
  {
   "cell_type": "code",
   "execution_count": 48,
   "metadata": {
    "ExecuteTime": {
     "end_time": "2019-04-02T03:41:16.877983Z",
     "start_time": "2019-04-02T03:41:16.865988Z"
    }
   },
   "outputs": [
    {
     "data": {
      "text/plain": [
       "2018-06-24     吃饭\n",
       "2018-07-01     睡觉\n",
       "2018-07-08    上厕所\n",
       "2018-07-15    打豆豆\n",
       "Freq: W-SUN, dtype: object"
      ]
     },
     "execution_count": 48,
     "metadata": {},
     "output_type": "execute_result"
    }
   ],
   "source": [
    "index = pd.date_range(\"2018-6-24\", periods=4, freq=\"W\")\n",
    "ts = pd.Series(['吃饭', '睡觉', '上厕所', '打豆豆'], index=index)\n",
    "ts"
   ]
  },
  {
   "cell_type": "code",
   "execution_count": 50,
   "metadata": {
    "ExecuteTime": {
     "end_time": "2019-04-02T06:53:49.391655Z",
     "start_time": "2019-04-02T06:53:49.374474Z"
    }
   },
   "outputs": [
    {
     "data": {
      "text/plain": [
       "2018-06-24    NaN\n",
       "2018-07-01    NaN\n",
       "2018-07-08     吃饭\n",
       "2018-07-15     睡觉\n",
       "Freq: W-SUN, dtype: object"
      ]
     },
     "execution_count": 50,
     "metadata": {},
     "output_type": "execute_result"
    }
   ],
   "source": [
    "ts.shift(2)       #将数据往后移两位"
   ]
  },
  {
   "cell_type": "code",
   "execution_count": 51,
   "metadata": {},
   "outputs": [
    {
     "data": {
      "text/plain": [
       "2018-06-24    上厕所\n",
       "2018-07-01    打豆豆\n",
       "2018-07-08    NaN\n",
       "2018-07-15    NaN\n",
       "Freq: W-SUN, dtype: object"
      ]
     },
     "execution_count": 51,
     "metadata": {},
     "output_type": "execute_result"
    }
   ],
   "source": [
    "ts.shift(-2)     #将数据往前移两位"
   ]
  },
  {
   "cell_type": "markdown",
   "metadata": {},
   "source": [
    "可以看到，Series 所有的值都移动了 2 个距离。\n",
    "\n",
    "如果不想移动值，而是移动日期索引，可以使用 freq 参数，它可以接受一个 DateOffset 类或其他timedelta 类对象或一个 offset 别名。\n",
    "\n",
    "所有别名详细介绍见：Offset Aliases (http://pandas.pydata.org/pandas-docs/stable/timeseries.html#offset-aliases)"
   ]
  },
  {
   "cell_type": "code",
   "execution_count": 48,
   "metadata": {},
   "outputs": [
    {
     "data": {
      "text/plain": [
       "2018-06-26     吃饭\n",
       "2018-07-03     上班\n",
       "2018-07-10    上厕所\n",
       "2018-07-17     出差\n",
       "Freq: W-TUE, dtype: object"
      ]
     },
     "execution_count": 48,
     "metadata": {},
     "output_type": "execute_result"
    }
   ],
   "source": [
    "ts.shift(2, freq='D')  "
   ]
  },
  {
   "cell_type": "code",
   "execution_count": 52,
   "metadata": {
    "ExecuteTime": {
     "end_time": "2019-04-02T03:59:35.601487Z",
     "start_time": "2019-04-02T03:59:35.591492Z"
    }
   },
   "outputs": [
    {
     "data": {
      "text/plain": [
       "2018-06-26     吃饭\n",
       "2018-07-03     睡觉\n",
       "2018-07-10    上厕所\n",
       "2018-07-17    打豆豆\n",
       "Freq: W-TUE, dtype: object"
      ]
     },
     "execution_count": 52,
     "metadata": {},
     "output_type": "execute_result"
    }
   ],
   "source": [
    "ts.shift(2, freq='D')  "
   ]
  },
  {
   "cell_type": "markdown",
   "metadata": {},
   "source": [
    "   \n",
    "```\n",
    "\n",
    "\n",
    "```\n",
    "\n",
    "### 频率转换df.asfreq()\n",
    "\n",
    "频率转换可以使用 asfreq 函数来实现。下面演示了将频率由周转为了天。"
   ]
  },
  {
   "cell_type": "code",
   "execution_count": 56,
   "metadata": {
    "ExecuteTime": {
     "end_time": "2019-04-02T07:14:49.760659Z",
     "start_time": "2019-04-02T07:14:49.745670Z"
    }
   },
   "outputs": [
    {
     "data": {
      "text/html": [
       "<div>\n",
       "<style scoped>\n",
       "    .dataframe tbody tr th:only-of-type {\n",
       "        vertical-align: middle;\n",
       "    }\n",
       "\n",
       "    .dataframe tbody tr th {\n",
       "        vertical-align: top;\n",
       "    }\n",
       "\n",
       "    .dataframe thead th {\n",
       "        text-align: right;\n",
       "    }\n",
       "</style>\n",
       "<table border=\"1\" class=\"dataframe\">\n",
       "  <thead>\n",
       "    <tr style=\"text-align: right;\">\n",
       "      <th></th>\n",
       "      <th>利润</th>\n",
       "      <th>星期几</th>\n",
       "      <th>当年第几天</th>\n",
       "      <th>当年第几周</th>\n",
       "    </tr>\n",
       "  </thead>\n",
       "  <tbody>\n",
       "    <tr>\n",
       "      <th>2018-06-24</th>\n",
       "      <td>4727</td>\n",
       "      <td>7</td>\n",
       "      <td>175</td>\n",
       "      <td>25</td>\n",
       "    </tr>\n",
       "    <tr>\n",
       "      <th>2018-06-25</th>\n",
       "      <td>879</td>\n",
       "      <td>1</td>\n",
       "      <td>176</td>\n",
       "      <td>26</td>\n",
       "    </tr>\n",
       "    <tr>\n",
       "      <th>2018-06-26</th>\n",
       "      <td>1150</td>\n",
       "      <td>2</td>\n",
       "      <td>177</td>\n",
       "      <td>26</td>\n",
       "    </tr>\n",
       "    <tr>\n",
       "      <th>2018-06-27</th>\n",
       "      <td>2690</td>\n",
       "      <td>3</td>\n",
       "      <td>178</td>\n",
       "      <td>26</td>\n",
       "    </tr>\n",
       "    <tr>\n",
       "      <th>2018-06-28</th>\n",
       "      <td>4949</td>\n",
       "      <td>4</td>\n",
       "      <td>179</td>\n",
       "      <td>26</td>\n",
       "    </tr>\n",
       "    <tr>\n",
       "      <th>2018-06-29</th>\n",
       "      <td>1602</td>\n",
       "      <td>5</td>\n",
       "      <td>180</td>\n",
       "      <td>26</td>\n",
       "    </tr>\n",
       "    <tr>\n",
       "      <th>2018-06-30</th>\n",
       "      <td>3600</td>\n",
       "      <td>6</td>\n",
       "      <td>181</td>\n",
       "      <td>26</td>\n",
       "    </tr>\n",
       "    <tr>\n",
       "      <th>2018-07-01</th>\n",
       "      <td>2479</td>\n",
       "      <td>7</td>\n",
       "      <td>182</td>\n",
       "      <td>26</td>\n",
       "    </tr>\n",
       "    <tr>\n",
       "      <th>2018-07-02</th>\n",
       "      <td>4100</td>\n",
       "      <td>1</td>\n",
       "      <td>183</td>\n",
       "      <td>27</td>\n",
       "    </tr>\n",
       "    <tr>\n",
       "      <th>2018-07-03</th>\n",
       "      <td>2699</td>\n",
       "      <td>2</td>\n",
       "      <td>184</td>\n",
       "      <td>27</td>\n",
       "    </tr>\n",
       "  </tbody>\n",
       "</table>\n",
       "</div>"
      ],
      "text/plain": [
       "              利润  星期几  当年第几天  当年第几周\n",
       "2018-06-24  4727    7    175     25\n",
       "2018-06-25   879    1    176     26\n",
       "2018-06-26  1150    2    177     26\n",
       "2018-06-27  2690    3    178     26\n",
       "2018-06-28  4949    4    179     26\n",
       "2018-06-29  1602    5    180     26\n",
       "2018-06-30  3600    6    181     26\n",
       "2018-07-01  2479    7    182     26\n",
       "2018-07-02  4100    1    183     27\n",
       "2018-07-03  2699    2    184     27"
      ]
     },
     "execution_count": 56,
     "metadata": {},
     "output_type": "execute_result"
    }
   ],
   "source": [
    "profit_table.head(10)"
   ]
  },
  {
   "cell_type": "code",
   "execution_count": 58,
   "metadata": {
    "ExecuteTime": {
     "end_time": "2019-04-02T07:15:06.542128Z",
     "start_time": "2019-04-02T07:15:06.487164Z"
    },
    "scrolled": true
   },
   "outputs": [
    {
     "data": {
      "text/html": [
       "<div>\n",
       "<style scoped>\n",
       "    .dataframe tbody tr th:only-of-type {\n",
       "        vertical-align: middle;\n",
       "    }\n",
       "\n",
       "    .dataframe tbody tr th {\n",
       "        vertical-align: top;\n",
       "    }\n",
       "\n",
       "    .dataframe thead th {\n",
       "        text-align: right;\n",
       "    }\n",
       "</style>\n",
       "<table border=\"1\" class=\"dataframe\">\n",
       "  <thead>\n",
       "    <tr style=\"text-align: right;\">\n",
       "      <th></th>\n",
       "      <th>利润</th>\n",
       "      <th>星期几</th>\n",
       "      <th>当年第几天</th>\n",
       "      <th>当年第几周</th>\n",
       "    </tr>\n",
       "  </thead>\n",
       "  <tbody>\n",
       "    <tr>\n",
       "      <th>2018-06-24</th>\n",
       "      <td>4727</td>\n",
       "      <td>7</td>\n",
       "      <td>175</td>\n",
       "      <td>25</td>\n",
       "    </tr>\n",
       "    <tr>\n",
       "      <th>2018-07-04</th>\n",
       "      <td>2140</td>\n",
       "      <td>3</td>\n",
       "      <td>185</td>\n",
       "      <td>27</td>\n",
       "    </tr>\n",
       "    <tr>\n",
       "      <th>2018-07-14</th>\n",
       "      <td>3683</td>\n",
       "      <td>6</td>\n",
       "      <td>195</td>\n",
       "      <td>28</td>\n",
       "    </tr>\n",
       "    <tr>\n",
       "      <th>2018-07-24</th>\n",
       "      <td>2227</td>\n",
       "      <td>2</td>\n",
       "      <td>205</td>\n",
       "      <td>30</td>\n",
       "    </tr>\n",
       "    <tr>\n",
       "      <th>2018-08-03</th>\n",
       "      <td>1074</td>\n",
       "      <td>5</td>\n",
       "      <td>215</td>\n",
       "      <td>31</td>\n",
       "    </tr>\n",
       "    <tr>\n",
       "      <th>2018-08-13</th>\n",
       "      <td>3210</td>\n",
       "      <td>1</td>\n",
       "      <td>225</td>\n",
       "      <td>33</td>\n",
       "    </tr>\n",
       "    <tr>\n",
       "      <th>2018-08-23</th>\n",
       "      <td>2597</td>\n",
       "      <td>4</td>\n",
       "      <td>235</td>\n",
       "      <td>34</td>\n",
       "    </tr>\n",
       "    <tr>\n",
       "      <th>2018-09-02</th>\n",
       "      <td>2276</td>\n",
       "      <td>7</td>\n",
       "      <td>245</td>\n",
       "      <td>35</td>\n",
       "    </tr>\n",
       "    <tr>\n",
       "      <th>2018-09-12</th>\n",
       "      <td>3134</td>\n",
       "      <td>3</td>\n",
       "      <td>255</td>\n",
       "      <td>37</td>\n",
       "    </tr>\n",
       "    <tr>\n",
       "      <th>2018-09-22</th>\n",
       "      <td>4095</td>\n",
       "      <td>6</td>\n",
       "      <td>265</td>\n",
       "      <td>38</td>\n",
       "    </tr>\n",
       "  </tbody>\n",
       "</table>\n",
       "</div>"
      ],
      "text/plain": [
       "              利润  星期几  当年第几天  当年第几周\n",
       "2018-06-24  4727    7    175     25\n",
       "2018-07-04  2140    3    185     27\n",
       "2018-07-14  3683    6    195     28\n",
       "2018-07-24  2227    2    205     30\n",
       "2018-08-03  1074    5    215     31\n",
       "2018-08-13  3210    1    225     33\n",
       "2018-08-23  2597    4    235     34\n",
       "2018-09-02  2276    7    245     35\n",
       "2018-09-12  3134    3    255     37\n",
       "2018-09-22  4095    6    265     38"
      ]
     },
     "execution_count": 58,
     "metadata": {},
     "output_type": "execute_result"
    }
   ],
   "source": [
    "#上面的时间频率为一个月，现在改为10天\n",
    "profit_table.asfreq(freq='10D').head(10)  #并不会改变原表"
   ]
  },
  {
   "cell_type": "markdown",
   "metadata": {},
   "source": [
    "如果时间频率过小，有“空隙”，会自动填充缺失值："
   ]
  },
  {
   "cell_type": "code",
   "execution_count": 61,
   "metadata": {},
   "outputs": [
    {
     "data": {
      "text/html": [
       "<div>\n",
       "<style scoped>\n",
       "    .dataframe tbody tr th:only-of-type {\n",
       "        vertical-align: middle;\n",
       "    }\n",
       "\n",
       "    .dataframe tbody tr th {\n",
       "        vertical-align: top;\n",
       "    }\n",
       "\n",
       "    .dataframe thead th {\n",
       "        text-align: right;\n",
       "    }\n",
       "</style>\n",
       "<table border=\"1\" class=\"dataframe\">\n",
       "  <thead>\n",
       "    <tr style=\"text-align: right;\">\n",
       "      <th></th>\n",
       "      <th>利润</th>\n",
       "      <th>星期几</th>\n",
       "      <th>当年第几天</th>\n",
       "      <th>当年第几周</th>\n",
       "    </tr>\n",
       "  </thead>\n",
       "  <tbody>\n",
       "    <tr>\n",
       "      <th>2018-06-24 00:00:00</th>\n",
       "      <td>4727.0</td>\n",
       "      <td>7.0</td>\n",
       "      <td>175.0</td>\n",
       "      <td>25.0</td>\n",
       "    </tr>\n",
       "    <tr>\n",
       "      <th>2018-06-24 12:00:00</th>\n",
       "      <td>NaN</td>\n",
       "      <td>NaN</td>\n",
       "      <td>NaN</td>\n",
       "      <td>NaN</td>\n",
       "    </tr>\n",
       "    <tr>\n",
       "      <th>2018-06-25 00:00:00</th>\n",
       "      <td>879.0</td>\n",
       "      <td>1.0</td>\n",
       "      <td>176.0</td>\n",
       "      <td>26.0</td>\n",
       "    </tr>\n",
       "    <tr>\n",
       "      <th>2018-06-25 12:00:00</th>\n",
       "      <td>NaN</td>\n",
       "      <td>NaN</td>\n",
       "      <td>NaN</td>\n",
       "      <td>NaN</td>\n",
       "    </tr>\n",
       "    <tr>\n",
       "      <th>2018-06-26 00:00:00</th>\n",
       "      <td>1150.0</td>\n",
       "      <td>2.0</td>\n",
       "      <td>177.0</td>\n",
       "      <td>26.0</td>\n",
       "    </tr>\n",
       "    <tr>\n",
       "      <th>2018-06-26 12:00:00</th>\n",
       "      <td>NaN</td>\n",
       "      <td>NaN</td>\n",
       "      <td>NaN</td>\n",
       "      <td>NaN</td>\n",
       "    </tr>\n",
       "    <tr>\n",
       "      <th>2018-06-27 00:00:00</th>\n",
       "      <td>2690.0</td>\n",
       "      <td>3.0</td>\n",
       "      <td>178.0</td>\n",
       "      <td>26.0</td>\n",
       "    </tr>\n",
       "    <tr>\n",
       "      <th>2018-06-27 12:00:00</th>\n",
       "      <td>NaN</td>\n",
       "      <td>NaN</td>\n",
       "      <td>NaN</td>\n",
       "      <td>NaN</td>\n",
       "    </tr>\n",
       "    <tr>\n",
       "      <th>2018-06-28 00:00:00</th>\n",
       "      <td>4949.0</td>\n",
       "      <td>4.0</td>\n",
       "      <td>179.0</td>\n",
       "      <td>26.0</td>\n",
       "    </tr>\n",
       "    <tr>\n",
       "      <th>2018-06-28 12:00:00</th>\n",
       "      <td>NaN</td>\n",
       "      <td>NaN</td>\n",
       "      <td>NaN</td>\n",
       "      <td>NaN</td>\n",
       "    </tr>\n",
       "  </tbody>\n",
       "</table>\n",
       "</div>"
      ],
      "text/plain": [
       "                         利润  星期几  当年第几天  当年第几周\n",
       "2018-06-24 00:00:00  4727.0  7.0  175.0   25.0\n",
       "2018-06-24 12:00:00     NaN  NaN    NaN    NaN\n",
       "2018-06-25 00:00:00   879.0  1.0  176.0   26.0\n",
       "2018-06-25 12:00:00     NaN  NaN    NaN    NaN\n",
       "2018-06-26 00:00:00  1150.0  2.0  177.0   26.0\n",
       "2018-06-26 12:00:00     NaN  NaN    NaN    NaN\n",
       "2018-06-27 00:00:00  2690.0  3.0  178.0   26.0\n",
       "2018-06-27 12:00:00     NaN  NaN    NaN    NaN\n",
       "2018-06-28 00:00:00  4949.0  4.0  179.0   26.0\n",
       "2018-06-28 12:00:00     NaN  NaN    NaN    NaN"
      ]
     },
     "execution_count": 61,
     "metadata": {},
     "output_type": "execute_result"
    }
   ],
   "source": [
    "profit_table.asfreq(freq='0.5D').head(10) "
   ]
  },
  {
   "cell_type": "code",
   "execution_count": 65,
   "metadata": {
    "ExecuteTime": {
     "end_time": "2019-04-02T07:22:12.937083Z",
     "start_time": "2019-04-02T07:22:12.883116Z"
    }
   },
   "outputs": [
    {
     "data": {
      "text/html": [
       "<div>\n",
       "<style scoped>\n",
       "    .dataframe tbody tr th:only-of-type {\n",
       "        vertical-align: middle;\n",
       "    }\n",
       "\n",
       "    .dataframe tbody tr th {\n",
       "        vertical-align: top;\n",
       "    }\n",
       "\n",
       "    .dataframe thead th {\n",
       "        text-align: right;\n",
       "    }\n",
       "</style>\n",
       "<table border=\"1\" class=\"dataframe\">\n",
       "  <thead>\n",
       "    <tr style=\"text-align: right;\">\n",
       "      <th></th>\n",
       "      <th>利润</th>\n",
       "      <th>星期几</th>\n",
       "      <th>当年第几天</th>\n",
       "      <th>当年第几周</th>\n",
       "    </tr>\n",
       "  </thead>\n",
       "  <tbody>\n",
       "    <tr>\n",
       "      <th>2018-06-24 00:00:00</th>\n",
       "      <td>4727</td>\n",
       "      <td>7</td>\n",
       "      <td>175</td>\n",
       "      <td>25</td>\n",
       "    </tr>\n",
       "    <tr>\n",
       "      <th>2018-06-24 12:00:00</th>\n",
       "      <td>没记录</td>\n",
       "      <td>没记录</td>\n",
       "      <td>没记录</td>\n",
       "      <td>没记录</td>\n",
       "    </tr>\n",
       "    <tr>\n",
       "      <th>2018-06-25 00:00:00</th>\n",
       "      <td>879</td>\n",
       "      <td>1</td>\n",
       "      <td>176</td>\n",
       "      <td>26</td>\n",
       "    </tr>\n",
       "    <tr>\n",
       "      <th>2018-06-25 12:00:00</th>\n",
       "      <td>没记录</td>\n",
       "      <td>没记录</td>\n",
       "      <td>没记录</td>\n",
       "      <td>没记录</td>\n",
       "    </tr>\n",
       "    <tr>\n",
       "      <th>2018-06-26 00:00:00</th>\n",
       "      <td>1150</td>\n",
       "      <td>2</td>\n",
       "      <td>177</td>\n",
       "      <td>26</td>\n",
       "    </tr>\n",
       "    <tr>\n",
       "      <th>2018-06-26 12:00:00</th>\n",
       "      <td>没记录</td>\n",
       "      <td>没记录</td>\n",
       "      <td>没记录</td>\n",
       "      <td>没记录</td>\n",
       "    </tr>\n",
       "    <tr>\n",
       "      <th>2018-06-27 00:00:00</th>\n",
       "      <td>2690</td>\n",
       "      <td>3</td>\n",
       "      <td>178</td>\n",
       "      <td>26</td>\n",
       "    </tr>\n",
       "    <tr>\n",
       "      <th>2018-06-27 12:00:00</th>\n",
       "      <td>没记录</td>\n",
       "      <td>没记录</td>\n",
       "      <td>没记录</td>\n",
       "      <td>没记录</td>\n",
       "    </tr>\n",
       "    <tr>\n",
       "      <th>2018-06-28 00:00:00</th>\n",
       "      <td>4949</td>\n",
       "      <td>4</td>\n",
       "      <td>179</td>\n",
       "      <td>26</td>\n",
       "    </tr>\n",
       "    <tr>\n",
       "      <th>2018-06-28 12:00:00</th>\n",
       "      <td>没记录</td>\n",
       "      <td>没记录</td>\n",
       "      <td>没记录</td>\n",
       "      <td>没记录</td>\n",
       "    </tr>\n",
       "  </tbody>\n",
       "</table>\n",
       "</div>"
      ],
      "text/plain": [
       "                       利润  星期几 当年第几天 当年第几周\n",
       "2018-06-24 00:00:00  4727    7   175    25\n",
       "2018-06-24 12:00:00   没记录  没记录   没记录   没记录\n",
       "2018-06-25 00:00:00   879    1   176    26\n",
       "2018-06-25 12:00:00   没记录  没记录   没记录   没记录\n",
       "2018-06-26 00:00:00  1150    2   177    26\n",
       "2018-06-26 12:00:00   没记录  没记录   没记录   没记录\n",
       "2018-06-27 00:00:00  2690    3   178    26\n",
       "2018-06-27 12:00:00   没记录  没记录   没记录   没记录\n",
       "2018-06-28 00:00:00  4949    4   179    26\n",
       "2018-06-28 12:00:00   没记录  没记录   没记录   没记录"
      ]
     },
     "execution_count": 65,
     "metadata": {},
     "output_type": "execute_result"
    }
   ],
   "source": [
    "profit_table.asfreq(freq='0.5D',fill_value=\"没记录\").head(10)  #指定填充"
   ]
  },
  {
   "cell_type": "code",
   "execution_count": 66,
   "metadata": {},
   "outputs": [
    {
     "data": {
      "text/html": [
       "<div>\n",
       "<style scoped>\n",
       "    .dataframe tbody tr th:only-of-type {\n",
       "        vertical-align: middle;\n",
       "    }\n",
       "\n",
       "    .dataframe tbody tr th {\n",
       "        vertical-align: top;\n",
       "    }\n",
       "\n",
       "    .dataframe thead th {\n",
       "        text-align: right;\n",
       "    }\n",
       "</style>\n",
       "<table border=\"1\" class=\"dataframe\">\n",
       "  <thead>\n",
       "    <tr style=\"text-align: right;\">\n",
       "      <th></th>\n",
       "      <th>利润</th>\n",
       "      <th>星期几</th>\n",
       "      <th>当年第几天</th>\n",
       "      <th>当年第几周</th>\n",
       "    </tr>\n",
       "  </thead>\n",
       "  <tbody>\n",
       "    <tr>\n",
       "      <th>2018-06-24 00:00:00</th>\n",
       "      <td>4727</td>\n",
       "      <td>7</td>\n",
       "      <td>175</td>\n",
       "      <td>25</td>\n",
       "    </tr>\n",
       "    <tr>\n",
       "      <th>2018-06-24 12:00:00</th>\n",
       "      <td>879</td>\n",
       "      <td>1</td>\n",
       "      <td>176</td>\n",
       "      <td>26</td>\n",
       "    </tr>\n",
       "    <tr>\n",
       "      <th>2018-06-25 00:00:00</th>\n",
       "      <td>879</td>\n",
       "      <td>1</td>\n",
       "      <td>176</td>\n",
       "      <td>26</td>\n",
       "    </tr>\n",
       "    <tr>\n",
       "      <th>2018-06-25 12:00:00</th>\n",
       "      <td>1150</td>\n",
       "      <td>2</td>\n",
       "      <td>177</td>\n",
       "      <td>26</td>\n",
       "    </tr>\n",
       "    <tr>\n",
       "      <th>2018-06-26 00:00:00</th>\n",
       "      <td>1150</td>\n",
       "      <td>2</td>\n",
       "      <td>177</td>\n",
       "      <td>26</td>\n",
       "    </tr>\n",
       "    <tr>\n",
       "      <th>2018-06-26 12:00:00</th>\n",
       "      <td>2690</td>\n",
       "      <td>3</td>\n",
       "      <td>178</td>\n",
       "      <td>26</td>\n",
       "    </tr>\n",
       "    <tr>\n",
       "      <th>2018-06-27 00:00:00</th>\n",
       "      <td>2690</td>\n",
       "      <td>3</td>\n",
       "      <td>178</td>\n",
       "      <td>26</td>\n",
       "    </tr>\n",
       "    <tr>\n",
       "      <th>2018-06-27 12:00:00</th>\n",
       "      <td>4949</td>\n",
       "      <td>4</td>\n",
       "      <td>179</td>\n",
       "      <td>26</td>\n",
       "    </tr>\n",
       "    <tr>\n",
       "      <th>2018-06-28 00:00:00</th>\n",
       "      <td>4949</td>\n",
       "      <td>4</td>\n",
       "      <td>179</td>\n",
       "      <td>26</td>\n",
       "    </tr>\n",
       "    <tr>\n",
       "      <th>2018-06-28 12:00:00</th>\n",
       "      <td>1602</td>\n",
       "      <td>5</td>\n",
       "      <td>180</td>\n",
       "      <td>26</td>\n",
       "    </tr>\n",
       "  </tbody>\n",
       "</table>\n",
       "</div>"
      ],
      "text/plain": [
       "                       利润  星期几  当年第几天  当年第几周\n",
       "2018-06-24 00:00:00  4727    7    175     25\n",
       "2018-06-24 12:00:00   879    1    176     26\n",
       "2018-06-25 00:00:00   879    1    176     26\n",
       "2018-06-25 12:00:00  1150    2    177     26\n",
       "2018-06-26 00:00:00  1150    2    177     26\n",
       "2018-06-26 12:00:00  2690    3    178     26\n",
       "2018-06-27 00:00:00  2690    3    178     26\n",
       "2018-06-27 12:00:00  4949    4    179     26\n",
       "2018-06-28 00:00:00  4949    4    179     26\n",
       "2018-06-28 12:00:00  1602    5    180     26"
      ]
     },
     "execution_count": 66,
     "metadata": {},
     "output_type": "execute_result"
    }
   ],
   "source": [
    "profit_table.asfreq(freq='0.5D',method=\"bfill\").head(10)  #并缺失值用后面一个值来填充"
   ]
  },
  {
   "cell_type": "markdown",
   "metadata": {},
   "source": [
    "\n",
    "```\n",
    "\n",
    "   \n",
    "    \n",
    "   \n",
    "   \n",
    "```\n",
    "## 重采样\n",
    "\n",
    "resample 表示根据日期维度进行数据聚合，可以按照分钟、小时、工作日、周、月、年等来作为日期维度，更多的日期维度见 Offset Aliases( http://pandas.pydata.org/pandas-docs/stable/timeseries.html#offset-aliases )。\n",
    "\n",
    "这里我们先以月来作为时间维度来进行聚合。"
   ]
  },
  {
   "cell_type": "code",
   "execution_count": 21,
   "metadata": {
    "ExecuteTime": {
     "end_time": "2019-04-02T07:52:14.719342Z",
     "start_time": "2019-04-02T07:52:14.700355Z"
    }
   },
   "outputs": [
    {
     "data": {
      "text/html": [
       "<div>\n",
       "<style scoped>\n",
       "    .dataframe tbody tr th:only-of-type {\n",
       "        vertical-align: middle;\n",
       "    }\n",
       "\n",
       "    .dataframe tbody tr th {\n",
       "        vertical-align: top;\n",
       "    }\n",
       "\n",
       "    .dataframe thead th {\n",
       "        text-align: right;\n",
       "    }\n",
       "</style>\n",
       "<table border=\"1\" class=\"dataframe\">\n",
       "  <thead>\n",
       "    <tr style=\"text-align: right;\">\n",
       "      <th></th>\n",
       "      <th>营业额</th>\n",
       "    </tr>\n",
       "  </thead>\n",
       "  <tbody>\n",
       "    <tr>\n",
       "      <th>2018-06-24</th>\n",
       "      <td>4727</td>\n",
       "    </tr>\n",
       "    <tr>\n",
       "      <th>2018-06-25</th>\n",
       "      <td>879</td>\n",
       "    </tr>\n",
       "    <tr>\n",
       "      <th>2018-06-26</th>\n",
       "      <td>1150</td>\n",
       "    </tr>\n",
       "    <tr>\n",
       "      <th>2018-06-27</th>\n",
       "      <td>2690</td>\n",
       "    </tr>\n",
       "    <tr>\n",
       "      <th>2018-06-28</th>\n",
       "      <td>4949</td>\n",
       "    </tr>\n",
       "  </tbody>\n",
       "</table>\n",
       "</div>"
      ],
      "text/plain": [
       "             营业额\n",
       "2018-06-24  4727\n",
       "2018-06-25   879\n",
       "2018-06-26  1150\n",
       "2018-06-27  2690\n",
       "2018-06-28  4949"
      ]
     },
     "execution_count": 21,
     "metadata": {},
     "output_type": "execute_result"
    }
   ],
   "source": [
    "profit_table.rename(columns={\"利润\":'营业额'}, inplace=True)\n",
    "profit_table.head(5)"
   ]
  },
  {
   "cell_type": "code",
   "execution_count": 24,
   "metadata": {
    "ExecuteTime": {
     "end_time": "2019-04-02T07:50:58.918936Z",
     "start_time": "2019-04-02T07:50:58.895951Z"
    }
   },
   "outputs": [
    {
     "data": {
      "text/html": [
       "<div>\n",
       "<style scoped>\n",
       "    .dataframe tbody tr th:only-of-type {\n",
       "        vertical-align: middle;\n",
       "    }\n",
       "\n",
       "    .dataframe tbody tr th {\n",
       "        vertical-align: top;\n",
       "    }\n",
       "\n",
       "    .dataframe thead th {\n",
       "        text-align: right;\n",
       "    }\n",
       "</style>\n",
       "<table border=\"1\" class=\"dataframe\">\n",
       "  <thead>\n",
       "    <tr style=\"text-align: right;\">\n",
       "      <th></th>\n",
       "      <th>营业额</th>\n",
       "    </tr>\n",
       "  </thead>\n",
       "  <tbody>\n",
       "    <tr>\n",
       "      <th>2018-06-30</th>\n",
       "      <td>19597</td>\n",
       "    </tr>\n",
       "    <tr>\n",
       "      <th>2018-07-31</th>\n",
       "      <td>106361</td>\n",
       "    </tr>\n",
       "    <tr>\n",
       "      <th>2018-08-31</th>\n",
       "      <td>84025</td>\n",
       "    </tr>\n",
       "    <tr>\n",
       "      <th>2018-09-30</th>\n",
       "      <td>84137</td>\n",
       "    </tr>\n",
       "    <tr>\n",
       "      <th>2018-10-31</th>\n",
       "      <td>1568</td>\n",
       "    </tr>\n",
       "  </tbody>\n",
       "</table>\n",
       "</div>"
      ],
      "text/plain": [
       "               营业额\n",
       "2018-06-30   19597\n",
       "2018-07-31  106361\n",
       "2018-08-31   84025\n",
       "2018-09-30   84137\n",
       "2018-10-31    1568"
      ]
     },
     "execution_count": 24,
     "metadata": {},
     "output_type": "execute_result"
    },
    {
     "ename": "TypeError",
     "evalue": "'DataFrame' object is not callable",
     "output_type": "error",
     "traceback": [
      "\u001b[1;31m---------------------------------------------------------------------------\u001b[0m",
      "\u001b[1;31mTypeError\u001b[0m                                 Traceback (most recent call last)",
      "\u001b[1;32m<ipython-input-24-7d4dbbbcbac4>\u001b[0m in \u001b[0;36m<module>\u001b[1;34m\u001b[0m\n\u001b[0;32m      1\u001b[0m \u001b[0mmonths\u001b[0m \u001b[1;33m=\u001b[0m \u001b[0mprofit_table\u001b[0m\u001b[1;33m.\u001b[0m\u001b[0mresample\u001b[0m\u001b[1;33m(\u001b[0m\u001b[0mrule\u001b[0m\u001b[1;33m=\u001b[0m\u001b[1;34m'M'\u001b[0m\u001b[1;33m)\u001b[0m   \u001b[1;31m#按月进行数据聚合\u001b[0m\u001b[1;33m\u001b[0m\u001b[1;33m\u001b[0m\u001b[0m\n\u001b[0;32m      2\u001b[0m \u001b[0mmonths\u001b[0m\u001b[1;33m.\u001b[0m\u001b[0msum\u001b[0m\u001b[1;33m(\u001b[0m\u001b[1;33m)\u001b[0m\u001b[1;33m\u001b[0m\u001b[1;33m\u001b[0m\u001b[0m\n\u001b[1;32m----> 3\u001b[1;33m \u001b[0mprofit_table\u001b[0m\u001b[1;33m(\u001b[0m\u001b[1;33m)\u001b[0m\u001b[1;33m\u001b[0m\u001b[1;33m\u001b[0m\u001b[0m\n\u001b[0m",
      "\u001b[1;31mTypeError\u001b[0m: 'DataFrame' object is not callable"
     ]
    }
   ],
   "source": [
    "months = profit_table.resample(rule='M')   #按月进行数据聚合\n",
    "\n",
    "months.sum()"
   ]
  },
  {
   "cell_type": "code",
   "execution_count": 75,
   "metadata": {
    "ExecuteTime": {
     "end_time": "2019-04-02T07:52:48.079965Z",
     "start_time": "2019-04-02T07:52:47.976034Z"
    }
   },
   "outputs": [
    {
     "data": {
      "text/html": [
       "<div>\n",
       "<style scoped>\n",
       "    .dataframe tbody tr th:only-of-type {\n",
       "        vertical-align: middle;\n",
       "    }\n",
       "\n",
       "    .dataframe tbody tr th {\n",
       "        vertical-align: top;\n",
       "    }\n",
       "\n",
       "    .dataframe thead th {\n",
       "        text-align: right;\n",
       "    }\n",
       "</style>\n",
       "<table border=\"1\" class=\"dataframe\">\n",
       "  <thead>\n",
       "    <tr style=\"text-align: right;\">\n",
       "      <th></th>\n",
       "      <th>营业额</th>\n",
       "      <th>星期几</th>\n",
       "      <th>当年第几天</th>\n",
       "      <th>当年第几周</th>\n",
       "    </tr>\n",
       "  </thead>\n",
       "  <tbody>\n",
       "    <tr>\n",
       "      <th>2018-06-30</th>\n",
       "      <td>4949</td>\n",
       "      <td>7</td>\n",
       "      <td>181</td>\n",
       "      <td>26</td>\n",
       "    </tr>\n",
       "    <tr>\n",
       "      <th>2018-07-31</th>\n",
       "      <td>4827</td>\n",
       "      <td>7</td>\n",
       "      <td>212</td>\n",
       "      <td>31</td>\n",
       "    </tr>\n",
       "    <tr>\n",
       "      <th>2018-08-31</th>\n",
       "      <td>4909</td>\n",
       "      <td>7</td>\n",
       "      <td>243</td>\n",
       "      <td>35</td>\n",
       "    </tr>\n",
       "    <tr>\n",
       "      <th>2018-09-30</th>\n",
       "      <td>4491</td>\n",
       "      <td>7</td>\n",
       "      <td>273</td>\n",
       "      <td>39</td>\n",
       "    </tr>\n",
       "    <tr>\n",
       "      <th>2018-10-31</th>\n",
       "      <td>1568</td>\n",
       "      <td>1</td>\n",
       "      <td>274</td>\n",
       "      <td>40</td>\n",
       "    </tr>\n",
       "  </tbody>\n",
       "</table>\n",
       "</div>"
      ],
      "text/plain": [
       "             营业额  星期几  当年第几天  当年第几周\n",
       "2018-06-30  4949    7    181     26\n",
       "2018-07-31  4827    7    212     31\n",
       "2018-08-31  4909    7    243     35\n",
       "2018-09-30  4491    7    273     39\n",
       "2018-10-31  1568    1    274     40"
      ]
     },
     "execution_count": 75,
     "metadata": {},
     "output_type": "execute_result"
    },
    {
     "data": {
      "text/html": [
       "<div>\n",
       "<style scoped>\n",
       "    .dataframe tbody tr th:only-of-type {\n",
       "        vertical-align: middle;\n",
       "    }\n",
       "\n",
       "    .dataframe tbody tr th {\n",
       "        vertical-align: top;\n",
       "    }\n",
       "\n",
       "    .dataframe thead th {\n",
       "        text-align: right;\n",
       "    }\n",
       "</style>\n",
       "<table border=\"1\" class=\"dataframe\">\n",
       "  <thead>\n",
       "    <tr style=\"text-align: right;\">\n",
       "      <th></th>\n",
       "      <th>营业额</th>\n",
       "      <th>星期几</th>\n",
       "      <th>当年第几天</th>\n",
       "      <th>当年第几周</th>\n",
       "    </tr>\n",
       "  </thead>\n",
       "  <tbody>\n",
       "    <tr>\n",
       "      <th>2018-06-30</th>\n",
       "      <td>2799.571429</td>\n",
       "      <td>4.000000</td>\n",
       "      <td>178.0</td>\n",
       "      <td>25.857143</td>\n",
       "    </tr>\n",
       "    <tr>\n",
       "      <th>2018-07-31</th>\n",
       "      <td>3431.000000</td>\n",
       "      <td>3.935484</td>\n",
       "      <td>197.0</td>\n",
       "      <td>28.580645</td>\n",
       "    </tr>\n",
       "    <tr>\n",
       "      <th>2018-08-31</th>\n",
       "      <td>2710.483871</td>\n",
       "      <td>4.000000</td>\n",
       "      <td>228.0</td>\n",
       "      <td>33.000000</td>\n",
       "    </tr>\n",
       "    <tr>\n",
       "      <th>2018-09-30</th>\n",
       "      <td>2804.566667</td>\n",
       "      <td>4.166667</td>\n",
       "      <td>258.5</td>\n",
       "      <td>37.333333</td>\n",
       "    </tr>\n",
       "    <tr>\n",
       "      <th>2018-10-31</th>\n",
       "      <td>1568.000000</td>\n",
       "      <td>1.000000</td>\n",
       "      <td>274.0</td>\n",
       "      <td>40.000000</td>\n",
       "    </tr>\n",
       "  </tbody>\n",
       "</table>\n",
       "</div>"
      ],
      "text/plain": [
       "                    营业额       星期几  当年第几天      当年第几周\n",
       "2018-06-30  2799.571429  4.000000  178.0  25.857143\n",
       "2018-07-31  3431.000000  3.935484  197.0  28.580645\n",
       "2018-08-31  2710.483871  4.000000  228.0  33.000000\n",
       "2018-09-30  2804.566667  4.166667  258.5  37.333333\n",
       "2018-10-31  1568.000000  1.000000  274.0  40.000000"
      ]
     },
     "execution_count": 75,
     "metadata": {},
     "output_type": "execute_result"
    }
   ],
   "source": [
    "months.max()\n",
    "months.mean()"
   ]
  },
  {
   "cell_type": "markdown",
   "metadata": {
    "collapsed": true
   },
   "source": [
    "## 练习"
   ]
  },
  {
   "cell_type": "markdown",
   "metadata": {},
   "source": [
    "- 求出每月的营业额，并找出哪月是赚钱最多？\n",
    "- 找出哪个月是赚钱最少？"
   ]
  },
  {
   "cell_type": "code",
   "execution_count": 25,
   "metadata": {
    "ExecuteTime": {
     "end_time": "2019-04-02T08:08:01.507127Z",
     "start_time": "2019-04-02T08:08:01.493136Z"
    }
   },
   "outputs": [
    {
     "data": {
      "text/html": [
       "<div>\n",
       "<style scoped>\n",
       "    .dataframe tbody tr th:only-of-type {\n",
       "        vertical-align: middle;\n",
       "    }\n",
       "\n",
       "    .dataframe tbody tr th {\n",
       "        vertical-align: top;\n",
       "    }\n",
       "\n",
       "    .dataframe thead th {\n",
       "        text-align: right;\n",
       "    }\n",
       "</style>\n",
       "<table border=\"1\" class=\"dataframe\">\n",
       "  <thead>\n",
       "    <tr style=\"text-align: right;\">\n",
       "      <th></th>\n",
       "      <th>营业额</th>\n",
       "    </tr>\n",
       "  </thead>\n",
       "  <tbody>\n",
       "    <tr>\n",
       "      <th>2018-06-24</th>\n",
       "      <td>4727</td>\n",
       "    </tr>\n",
       "    <tr>\n",
       "      <th>2018-06-25</th>\n",
       "      <td>879</td>\n",
       "    </tr>\n",
       "    <tr>\n",
       "      <th>2018-06-26</th>\n",
       "      <td>1150</td>\n",
       "    </tr>\n",
       "    <tr>\n",
       "      <th>2018-06-27</th>\n",
       "      <td>2690</td>\n",
       "    </tr>\n",
       "    <tr>\n",
       "      <th>2018-06-28</th>\n",
       "      <td>4949</td>\n",
       "    </tr>\n",
       "  </tbody>\n",
       "</table>\n",
       "</div>"
      ],
      "text/plain": [
       "             营业额\n",
       "2018-06-24  4727\n",
       "2018-06-25   879\n",
       "2018-06-26  1150\n",
       "2018-06-27  2690\n",
       "2018-06-28  4949"
      ]
     },
     "execution_count": 25,
     "metadata": {},
     "output_type": "execute_result"
    }
   ],
   "source": [
    "profit_table.head(5)"
   ]
  },
  {
   "cell_type": "code",
   "execution_count": 34,
   "metadata": {
    "ExecuteTime": {
     "end_time": "2019-04-02T08:19:35.610523Z",
     "start_time": "2019-04-02T08:19:35.562552Z"
    }
   },
   "outputs": [
    {
     "data": {
      "text/html": [
       "<div>\n",
       "<style scoped>\n",
       "    .dataframe tbody tr th:only-of-type {\n",
       "        vertical-align: middle;\n",
       "    }\n",
       "\n",
       "    .dataframe tbody tr th {\n",
       "        vertical-align: top;\n",
       "    }\n",
       "\n",
       "    .dataframe thead th {\n",
       "        text-align: right;\n",
       "    }\n",
       "</style>\n",
       "<table border=\"1\" class=\"dataframe\">\n",
       "  <thead>\n",
       "    <tr style=\"text-align: right;\">\n",
       "      <th></th>\n",
       "      <th>营业额</th>\n",
       "    </tr>\n",
       "  </thead>\n",
       "  <tbody>\n",
       "    <tr>\n",
       "      <th>2018-06-30</th>\n",
       "      <td>19597</td>\n",
       "    </tr>\n",
       "    <tr>\n",
       "      <th>2018-07-31</th>\n",
       "      <td>106361</td>\n",
       "    </tr>\n",
       "    <tr>\n",
       "      <th>2018-08-31</th>\n",
       "      <td>84025</td>\n",
       "    </tr>\n",
       "    <tr>\n",
       "      <th>2018-09-30</th>\n",
       "      <td>84137</td>\n",
       "    </tr>\n",
       "    <tr>\n",
       "      <th>2018-10-31</th>\n",
       "      <td>1568</td>\n",
       "    </tr>\n",
       "  </tbody>\n",
       "</table>\n",
       "</div>"
      ],
      "text/plain": [
       "               营业额\n",
       "2018-06-30   19597\n",
       "2018-07-31  106361\n",
       "2018-08-31   84025\n",
       "2018-09-30   84137\n",
       "2018-10-31    1568"
      ]
     },
     "execution_count": 34,
     "metadata": {},
     "output_type": "execute_result"
    }
   ],
   "source": [
    "a = profit_table.resample(\"M\")\n",
    "b= a.sum()\n",
    "b"
   ]
  },
  {
   "cell_type": "code",
   "execution_count": 42,
   "metadata": {
    "ExecuteTime": {
     "end_time": "2019-04-02T08:21:18.747963Z",
     "start_time": "2019-04-02T08:21:18.701991Z"
    }
   },
   "outputs": [
    {
     "data": {
      "text/plain": [
       "营业额   2018-07-31\n",
       "dtype: datetime64[ns]"
      ]
     },
     "execution_count": 42,
     "metadata": {},
     "output_type": "execute_result"
    },
    {
     "data": {
      "text/plain": [
       "营业额   2018-10-31\n",
       "dtype: datetime64[ns]"
      ]
     },
     "execution_count": 42,
     "metadata": {},
     "output_type": "execute_result"
    }
   ],
   "source": [
    "b.idxmax()\n",
    "b.idxmin()"
   ]
  }
 ],
 "metadata": {
  "kernelspec": {
   "display_name": "Python 3",
   "language": "python",
   "name": "python3"
  },
  "language_info": {
   "codemirror_mode": {
    "name": "ipython",
    "version": 3
   },
   "file_extension": ".py",
   "mimetype": "text/x-python",
   "name": "python",
   "nbconvert_exporter": "python",
   "pygments_lexer": "ipython3",
   "version": "3.7.1"
  },
  "nbTranslate": {
   "displayLangs": [
    "*"
   ],
   "hotkey": "alt-t",
   "langInMainMenu": true,
   "sourceLang": "en",
   "targetLang": "fr",
   "useGoogleTranslate": true
  },
  "toc": {
   "base_numbering": 1,
   "nav_menu": {},
   "number_sections": true,
   "sideBar": true,
   "skip_h1_title": false,
   "title_cell": "Table of Contents",
   "title_sidebar": "Contents",
   "toc_cell": true,
   "toc_position": {
    "height": "calc(100% - 180px)",
    "left": "10px",
    "top": "150px",
    "width": "231.313px"
   },
   "toc_section_display": true,
   "toc_window_display": true
  },
  "varInspector": {
   "cols": {
    "lenName": 16,
    "lenType": 16,
    "lenVar": 40
   },
   "kernels_config": {
    "python": {
     "delete_cmd_postfix": "",
     "delete_cmd_prefix": "del ",
     "library": "var_list.py",
     "varRefreshCmd": "print(var_dic_list())"
    },
    "r": {
     "delete_cmd_postfix": ") ",
     "delete_cmd_prefix": "rm(",
     "library": "var_list.r",
     "varRefreshCmd": "cat(var_dic_list()) "
    }
   },
   "oldHeight": 64.90061800000001,
   "position": {
    "height": "40px",
    "left": "819px",
    "right": "20px",
    "top": "119px",
    "width": "350px"
   },
   "types_to_exclude": [
    "module",
    "function",
    "builtin_function_or_method",
    "instance",
    "_Feature"
   ],
   "varInspector_section_display": "none",
   "window_display": false
  }
 },
 "nbformat": 4,
 "nbformat_minor": 2
}
