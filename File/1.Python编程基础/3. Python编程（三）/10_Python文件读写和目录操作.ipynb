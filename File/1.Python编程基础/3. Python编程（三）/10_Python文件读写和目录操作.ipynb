{
 "cells": [
  {
   "cell_type": "markdown",
   "metadata": {
    "toc": true
   },
   "source": [
    "<h1>10_Python文件读写和目录操作<span class=\"tocSkip\"></span></h1>\n",
    "<div class=\"toc\"><ul class=\"toc-item\"><li><span><a href=\"#I/O操作\" data-toc-modified-id=\"I/O操作-1\"><span class=\"toc-item-num\">1&nbsp;&nbsp;</span>I/O操作</a></span><ul class=\"toc-item\"><li><span><a href=\"#打开文件\" data-toc-modified-id=\"打开文件-1.1\"><span class=\"toc-item-num\">1.1&nbsp;&nbsp;</span>打开文件</a></span><ul class=\"toc-item\"><li><span><a href=\"#方法一：先打开后关闭\" data-toc-modified-id=\"方法一：先打开后关闭-1.1.1\"><span class=\"toc-item-num\">1.1.1&nbsp;&nbsp;</span>方法一：先打开后关闭</a></span><ul class=\"toc-item\"><li><span><a href=\"#file=open(filename[,mode[buffering]])\" data-toc-modified-id=\"file=open(filename[,mode[buffering]])-1.1.1.1\"><span class=\"toc-item-num\">1.1.1.1&nbsp;&nbsp;</span>file=open(filename[,mode[buffering]])</a></span></li><li><span><a href=\"#指定编码方式打开文件\" data-toc-modified-id=\"指定编码方式打开文件-1.1.1.2\"><span class=\"toc-item-num\">1.1.1.2&nbsp;&nbsp;</span>指定编码方式打开文件</a></span></li><li><span><a href=\"#记得关闭文件\" data-toc-modified-id=\"记得关闭文件-1.1.1.3\"><span class=\"toc-item-num\">1.1.1.3&nbsp;&nbsp;</span>记得关闭文件</a></span></li></ul></li><li><span><a href=\"#方法二：with语句\" data-toc-modified-id=\"方法二：with语句-1.1.2\"><span class=\"toc-item-num\">1.1.2&nbsp;&nbsp;</span>方法二：with语句</a></span></li></ul></li><li><span><a href=\"#读取文件的方法\" data-toc-modified-id=\"读取文件的方法-1.2\"><span class=\"toc-item-num\">1.2&nbsp;&nbsp;</span>读取文件的方法</a></span><ul class=\"toc-item\"><li><span><a href=\"#file.read(size)\" data-toc-modified-id=\"file.read(size)-1.2.1\"><span class=\"toc-item-num\">1.2.1&nbsp;&nbsp;</span>file.read(size)</a></span></li><li><span><a href=\"#file.seek(offset,[,whence])\" data-toc-modified-id=\"file.seek(offset,[,whence])-1.2.2\"><span class=\"toc-item-num\">1.2.2&nbsp;&nbsp;</span>file.seek(offset,[,whence])</a></span></li><li><span><a href=\"#file.readline()\" data-toc-modified-id=\"file.readline()-1.2.3\"><span class=\"toc-item-num\">1.2.3&nbsp;&nbsp;</span>file.readline()</a></span></li><li><span><a href=\"#file.readlines()\" data-toc-modified-id=\"file.readlines()-1.2.4\"><span class=\"toc-item-num\">1.2.4&nbsp;&nbsp;</span>file.readlines()</a></span></li></ul></li><li><span><a href=\"#写入文件\" data-toc-modified-id=\"写入文件-1.3\"><span class=\"toc-item-num\">1.3&nbsp;&nbsp;</span>写入文件</a></span><ul class=\"toc-item\"><li><span><a href=\"#file.write()\" data-toc-modified-id=\"file.write()-1.3.1\"><span class=\"toc-item-num\">1.3.1&nbsp;&nbsp;</span>file.write()</a></span></li><li><span><a href=\"#file.writelines()\" data-toc-modified-id=\"file.writelines()-1.3.2\"><span class=\"toc-item-num\">1.3.2&nbsp;&nbsp;</span>file.writelines()</a></span></li></ul></li></ul></li><li><span><a href=\"#文件的重命名、删除（了解）\" data-toc-modified-id=\"文件的重命名、删除（了解）-2\"><span class=\"toc-item-num\">2&nbsp;&nbsp;</span>文件的重命名、删除（了解）</a></span><ul class=\"toc-item\"><li><span><a href=\"#文件重命名\" data-toc-modified-id=\"文件重命名-2.1\"><span class=\"toc-item-num\">2.1&nbsp;&nbsp;</span>文件重命名</a></span></li><li><span><a href=\"#删除文件\" data-toc-modified-id=\"删除文件-2.2\"><span class=\"toc-item-num\">2.2&nbsp;&nbsp;</span>删除文件</a></span></li><li><span><a href=\"#文件夹的相关操作\" data-toc-modified-id=\"文件夹的相关操作-2.3\"><span class=\"toc-item-num\">2.3&nbsp;&nbsp;</span>文件夹的相关操作</a></span><ul class=\"toc-item\"><li><span><a href=\"#创建文件夹\" data-toc-modified-id=\"创建文件夹-2.3.1\"><span class=\"toc-item-num\">2.3.1&nbsp;&nbsp;</span>创建文件夹</a></span></li><li><span><a href=\"#获取目录列表\" data-toc-modified-id=\"获取目录列表-2.3.2\"><span class=\"toc-item-num\">2.3.2&nbsp;&nbsp;</span>获取目录列表</a></span></li><li><span><a href=\"#删除文件夹\" data-toc-modified-id=\"删除文件夹-2.3.3\"><span class=\"toc-item-num\">2.3.3&nbsp;&nbsp;</span>删除文件夹</a></span></li></ul></li><li><span><a href=\"#os方法大全\" data-toc-modified-id=\"os方法大全-2.4\"><span class=\"toc-item-num\">2.4&nbsp;&nbsp;</span>os方法大全</a></span></li></ul></li></ul></div>"
   ]
  },
  {
   "cell_type": "code",
   "execution_count": 1,
   "metadata": {},
   "outputs": [],
   "source": [
    "#设置全部行输出\n",
    "from IPython.core.interactiveshell import InteractiveShell\n",
    "InteractiveShell.ast_node_interactivity = \"all\""
   ]
  },
  {
   "cell_type": "markdown",
   "metadata": {},
   "source": [
    "# I/O操作"
   ]
  },
  {
   "cell_type": "markdown",
   "metadata": {
    "collapsed": true
   },
   "source": [
    "## 打开文件"
   ]
  },
  {
   "cell_type": "markdown",
   "metadata": {},
   "source": [
    "在python，使用open函数，可以打开一个已经存在的文件，或者创建一个新文件\n",
    "```python\n",
    "open(文件名，访问模式)\n",
    "```"
   ]
  },
  {
   "cell_type": "markdown",
   "metadata": {},
   "source": [
    "```\n",
    "   \n",
    "   \n",
    "```\n",
    "\n",
    "### 方法一：先打开后关闭"
   ]
  },
  {
   "cell_type": "markdown",
   "metadata": {},
   "source": [
    "\n",
    "#### file=open(filename[,mode[buffering]])\n",
    "   \n",
    "&emsp;&emsp;file:被创建的文件对象\n",
    "<br/>&emsp;&emsp;filename:要创建或打开文件的文件名称，需要使用单引号或者双引号括起来。如果要打开的文件和当前文件在同一目录下，直接写文件名即可。</br>\n",
    "<br/>&emsp;&emsp;mode:访问模式，访问方式字符功能见下表,默认为r</br>\n",
    "<br/>&emsp;&emsp;buffering:0表示不缓存，1表示缓存（默认），大于1表示缓冲区大小</br>"
   ]
  },
  {
   "cell_type": "markdown",
   "metadata": {},
   "source": [
    "| 访问模式 | 说明                                                         |\n",
    "| -------- | ------------------------------------------------------------ |\n",
    "| r        | 以只读方式打开文件。文件的指针将会放在文件的开头。这是默认模式。 |\n",
    "| w        | 打开一个文件只用于写入。如果该文件已存在则将其覆盖。如果该文件不存在，创建新文件。 |\n",
    "| a        | 打开一个文件用于追加。如果该文件已存在，文件指针将会放在文件的结尾。也就是说，新的内容将会被写入到已有内容之后。如果该文件不存在，创建新文件进行写入。 |\n"
   ]
  },
  {
   "cell_type": "markdown",
   "metadata": {},
   "source": [
    "#### 指定编码方式打开文件"
   ]
  },
  {
   "cell_type": "code",
   "execution_count": 1,
   "metadata": {
    "scrolled": true
   },
   "outputs": [
    {
     "name": "stdout",
     "output_type": "stream",
     "text": [
      "轻轻的我走了，\n",
      "\n",
      "正如我轻轻的来；\n",
      "\n",
      "我轻轻的招手，\n",
      "\n",
      "作别西天的云彩。\n",
      "\n",
      "\n",
      "\n",
      "那河畔的金柳，\n",
      "\n",
      "是夕阳中的新娘；\n",
      "\n",
      "波光里的艳影，\n",
      "\n",
      "在我的心头荡漾。\n",
      "\n"
     ]
    }
   ],
   "source": [
    "file=open(\"poetry.txt\",\"r\",encoding='utf-8')\n",
    "\n",
    "for line in file:\n",
    "    print(line)\n",
    "\n",
    "file.close()"
   ]
  },
  {
   "cell_type": "markdown",
   "metadata": {},
   "source": [
    "**如果poetry.txt不在默认的当前工作目录，怎么办？比如在E盘根目录下：**"
   ]
  },
  {
   "cell_type": "code",
   "execution_count": 14,
   "metadata": {},
   "outputs": [
    {
     "name": "stdout",
     "output_type": "stream",
     "text": [
      "轻轻的我走了，\n",
      "\n",
      "正如我轻轻的来；\n",
      "\n",
      "我轻轻的招手，\n",
      "\n",
      "作别西天的云彩。\n",
      "\n",
      "\n",
      "\n",
      "那河畔的金柳，\n",
      "\n",
      "是夕阳中的新娘；\n",
      "\n",
      "波光里的艳影，\n",
      "\n",
      "在我的心头荡漾。\n",
      "\n"
     ]
    }
   ],
   "source": [
    "file=open(r\"C:\\Users\\Administrator\\Desktop\\poetry.txt\",\"r\",encoding='utf-8')  #文件名添加上其对应的路径即可\n",
    "\n",
    "for line in file:\n",
    "    print(line)\n",
    "\n",
    "file.close()"
   ]
  },
  {
   "cell_type": "markdown",
   "metadata": {},
   "source": [
    "```\n",
    "   \n",
    "   \n",
    "```\n",
    "#### 记得关闭文件"
   ]
  },
  {
   "cell_type": "code",
   "execution_count": 9,
   "metadata": {},
   "outputs": [],
   "source": [
    "file.close()"
   ]
  },
  {
   "cell_type": "markdown",
   "metadata": {},
   "source": [
    "如果不关闭文件:\n",
    "1. 会导致内存始终被占用, 得不到释放\n",
    "2. 会导致文件被占用中, 无法删除, 剪切等操作m"
   ]
  },
  {
   "cell_type": "code",
   "execution_count": 10,
   "metadata": {},
   "outputs": [
    {
     "name": "stdout",
     "output_type": "stream",
     "text": [
      "轻轻的我走了，\n",
      "正如我轻轻的来；\n",
      "我轻轻的招手，\n",
      "作别西天的云彩。\n",
      "\n",
      "那河畔的金柳，\n",
      "是夕阳中的新娘；\n",
      "波光里的艳影，\n",
      "在我的心头荡漾。\n",
      "\n"
     ]
    }
   ],
   "source": [
    "file=open(\"poetry.txt\",\"r\",encoding='utf-8')\n",
    "hehe=file.read()\n",
    "\n",
    "file.close()\n",
    "\n",
    "print(hehe)"
   ]
  },
  {
   "cell_type": "markdown",
   "metadata": {},
   "source": [
    "### 方法二：with语句"
   ]
  },
  {
   "cell_type": "markdown",
   "metadata": {},
   "source": [
    "&emsp;&emsp;如果打开的文件抛出异常，文件将会无法关闭，为了避免由于忘记关闭文件导致的各种问题，可以使用with语句。\n",
    "<br/>&emsp;&emsp;with语句执行完毕后，关闭文件，无论是否抛出异常。</br>"
   ]
  },
  {
   "cell_type": "code",
   "execution_count": 11,
   "metadata": {
    "scrolled": true
   },
   "outputs": [
    {
     "data": {
      "text/plain": [
       "'轻轻的我走了，\\n正如我轻轻的来；\\n我轻轻的招手，\\n作别西天的云彩。\\n\\n那河畔的金柳，\\n是夕阳中的新娘；\\n波光里的艳影，\\n在我的心头荡漾。\\n'"
      ]
     },
     "execution_count": 11,
     "metadata": {},
     "output_type": "execute_result"
    },
    {
     "name": "stdout",
     "output_type": "stream",
     "text": [
      "轻轻的我走了，\n",
      "正如我轻轻的来；\n",
      "我轻轻的招手，\n",
      "作别西天的云彩。\n",
      "\n",
      "那河畔的金柳，\n",
      "是夕阳中的新娘；\n",
      "波光里的艳影，\n",
      "在我的心头荡漾。\n",
      "\n"
     ]
    }
   ],
   "source": [
    "with open(\"poetry.txt\",\"r\",encoding='utf-8') as file:\n",
    "    hehe=file.read()\n",
    "    hehe\n",
    "    print(hehe)\n",
    "\n",
    "# file=open(\"poetry.txt\",\"r\",encoding='utf-8')\n",
    "# hehe=file.read()\n",
    "# file.close()\n",
    "# print(hehe)"
   ]
  },
  {
   "cell_type": "markdown",
   "metadata": {},
   "source": [
    "```\n",
    "   \n",
    "   \n",
    "\n",
    "```\n",
    "## 读取文件的方法"
   ]
  },
  {
   "cell_type": "markdown",
   "metadata": {},
   "source": [
    "我们之前就接触过file.read()这语法格式：\n",
    "### file.read(size)\n",
    "&emsp;&emsp;file:文件对象\n",
    "<br/>&emsp;&emsp;size:读取的字符串个数</br>"
   ]
  },
  {
   "cell_type": "code",
   "execution_count": 12,
   "metadata": {},
   "outputs": [
    {
     "name": "stdout",
     "output_type": "stream",
     "text": [
      "轻轻的我走了\n"
     ]
    }
   ],
   "source": [
    "with open(\"poetry.txt\",\"r\",encoding='utf-8') as file:\n",
    "    hehe=file.read(6)\n",
    "    print(hehe)"
   ]
  },
  {
   "cell_type": "markdown",
   "metadata": {},
   "source": [
    "### file.seek(offset,[,whence])"
   ]
  },
  {
   "cell_type": "markdown",
   "metadata": {},
   "source": [
    "&emsp;&emsp;file:文件对象 \n",
    "<br/>&emsp;&emsp;offset:用于指定移动的字符个数</br>\n",
    "<br/>&emsp;&emsp;whence：0表示从文件头开始，1表示从当前位置开始，2表示从文件尾开始。默认为0。</br>"
   ]
  },
  {
   "cell_type": "markdown",
   "metadata": {},
   "source": [
    "这里需要注意：\n",
    "<br/>&emsp;&emsp;在utf-8编码情况下，offset的数值3相当于取一个汉字位置（包括汉字标点符号）</br>\n",
    "<br/>&emsp;&emsp;如果是GBK编码，offset数值2相当于取一个汉字字符位置</br>\n",
    "<br/>但是，read()里面参数，一个数值相当于一个汉字字符。</br>"
   ]
  },
  {
   "cell_type": "code",
   "execution_count": 22,
   "metadata": {},
   "outputs": [
    {
     "data": {
      "text/plain": [
       "22"
      ]
     },
     "execution_count": 22,
     "metadata": {},
     "output_type": "execute_result"
    },
    {
     "data": {
      "text/plain": [
       "'\\n正如我轻轻的'"
      ]
     },
     "execution_count": 22,
     "metadata": {},
     "output_type": "execute_result"
    },
    {
     "name": "stdout",
     "output_type": "stream",
     "text": [
      "\n",
      "正如我轻轻的\n"
     ]
    }
   ],
   "source": [
    "with open(\"poetry.txt\",\"r\",encoding='utf-8') as file:\n",
    "    file.seek(22)      #文件开头偏移7个汉字，7*3=21，加上“\\n”就是23\n",
    "    hehe=file.read(7)\n",
    "    hehe\n",
    "    print(hehe)"
   ]
  },
  {
   "cell_type": "markdown",
   "metadata": {},
   "source": [
    "### file.readline()"
   ]
  },
  {
   "cell_type": "code",
   "execution_count": 29,
   "metadata": {},
   "outputs": [
    {
     "name": "stdout",
     "output_type": "stream",
     "text": [
      "轻轻的我走了，\n",
      "正如我轻轻的来；\n"
     ]
    }
   ],
   "source": [
    "with open(\"poetry.txt\",\"r\",encoding='utf-8') as file:\n",
    "    hehe=file.readline().strip()\n",
    "    print(hehe)\n",
    "    #打开同一个文件后，读取第一行字符，继续读取的话，会从下一行开始\n",
    "    hehe=file.readline().strip()\n",
    "    print(hehe)"
   ]
  },
  {
   "cell_type": "code",
   "execution_count": 30,
   "metadata": {
    "scrolled": true
   },
   "outputs": [
    {
     "name": "stdout",
     "output_type": "stream",
     "text": [
      "轻轻的我走了，\n",
      "正如我轻轻的来；\n",
      "我轻轻的招手，\n",
      "作别西天的云彩。\n"
     ]
    }
   ],
   "source": [
    "with open(\"poetry.txt\",\"r\",encoding='utf-8') as file:\n",
    "    for i in range(4):\n",
    "        hehe=file.readline().strip()\n",
    "        print(hehe)"
   ]
  },
  {
   "cell_type": "markdown",
   "metadata": {},
   "source": [
    "### file.readlines()"
   ]
  },
  {
   "cell_type": "markdown",
   "metadata": {},
   "source": [
    "&emsp;&emsp;需要注意的是，如果使用file.readlines()读取全部行，返回的一个字符串列表，每个元素作为文件的一行内容。\n",
    "<br/>&emsp;&emsp;因此，可以用for循环逐行读取字符串列表。</br>"
   ]
  },
  {
   "cell_type": "code",
   "execution_count": 24,
   "metadata": {
    "collapsed": true
   },
   "outputs": [
    {
     "name": "stdout",
     "output_type": "stream",
     "text": [
      "轻轻的我走了，\n",
      "正如我轻轻的来；\n",
      "我轻轻的招手，\n",
      "作别西天的云彩。\n",
      "\n",
      "那河畔的金柳，\n",
      "是夕阳中的新娘；\n",
      "波光里的艳影，\n",
      "在我的心头荡漾。\n",
      "\n",
      "软泥上的青荇，\n",
      "油油的在水底招摇；\n",
      "在康河的柔波里，\n",
      "我甘心做一条水草！\n",
      "\n",
      "那榆荫下的一潭，\n",
      "不是清泉，是天上虹；\n",
      "揉碎在浮藻间，\n",
      "沉淀着彩虹似的梦。\n",
      "\n",
      "寻梦？撑一支长篙，\n",
      "向青草更青处漫溯；\n",
      "满载一船星辉，\n",
      "在星辉斑斓里放歌。\n"
     ]
    }
   ],
   "source": [
    "with open(\"poetry.txt\",\"r\",encoding='utf-8') as file:\n",
    "    hehe=file.readlines()\n",
    "    for i in hehe:\n",
    "        i=i.strip()\n",
    "        print(i)"
   ]
  },
  {
   "cell_type": "code",
   "execution_count": 41,
   "metadata": {},
   "outputs": [
    {
     "data": {
      "text/plain": [
       "['轻轻的我走了，\\n',\n",
       " '正如我轻轻的来；\\n',\n",
       " '我轻轻的招手，\\n',\n",
       " '作别西天的云彩。\\n',\n",
       " '\\n',\n",
       " '那河畔的金柳，\\n',\n",
       " '是夕阳中的新娘；\\n',\n",
       " '波光里的艳影，\\n',\n",
       " '在我的心头荡漾。\\n',\n",
       " '\\n',\n",
       " '软泥上的青荇，\\n',\n",
       " '油油的在水底招摇；\\n',\n",
       " '在康河的柔波里，\\n',\n",
       " '我甘心做一条水草！\\n',\n",
       " '\\n',\n",
       " '那榆荫下的一潭，\\n',\n",
       " '不是清泉，是天上虹；\\n',\n",
       " '揉碎在浮藻间，\\n',\n",
       " '沉淀着彩虹似的梦。']"
      ]
     },
     "execution_count": 41,
     "metadata": {},
     "output_type": "execute_result"
    }
   ],
   "source": [
    "hehe"
   ]
  },
  {
   "cell_type": "markdown",
   "metadata": {},
   "source": [
    "```\n",
    "   \n",
    "   \n",
    "```\n",
    "\n",
    "## 写入文件"
   ]
  },
  {
   "cell_type": "markdown",
   "metadata": {},
   "source": [
    "写入文件的步骤：\n",
    "- 1、打开：使用open()方法的时候，打开模式选择为w(重头覆盖写入)或者是a（追加写入）\n",
    "- 2、写入：\n",
    "    - 如果往文件写入的是字符串，则在with语句缩进内使用.write()\n",
    "    - 如果往文件写入的是字符串列表，则使用.writelines()"
   ]
  },
  {
   "cell_type": "markdown",
   "metadata": {},
   "source": [
    "### file.write()"
   ]
  },
  {
   "cell_type": "code",
   "execution_count": 10,
   "metadata": {},
   "outputs": [
    {
     "data": {
      "text/plain": [
       "38"
      ]
     },
     "execution_count": 10,
     "metadata": {},
     "output_type": "execute_result"
    }
   ],
   "source": [
    "with  open(\"poetry.txt\",\"a\",encoding='utf-8') as file:\n",
    "    file.write(\"\\n\\n软泥上的青荇，\\n油油的在水底招摇；\\n在康河的柔波里，\\n我甘心做一条水草！\")"
   ]
  },
  {
   "attachments": {
    "Snipaste_2018-11-28_13-56-00.png": {
     "image/png": "[encoded data removed]"
    }
   },
   "cell_type": "markdown",
   "metadata": {},
   "source": [
    "![Snipaste_2018-11-28_13-56-00.png](attachment:Snipaste_2018-11-28_13-56-00.png)"
   ]
  },
  {
   "cell_type": "code",
   "execution_count": 11,
   "metadata": {
    "scrolled": true
   },
   "outputs": [
    {
     "name": "stdout",
     "output_type": "stream",
     "text": [
      "﻿轻轻的我走了，\n",
      "正如我轻轻的来；\n",
      "我轻轻的招手，\n",
      "作别西天的云彩。\n",
      "\n",
      "那河畔的金柳，\n",
      "是夕阳中的新娘；\n",
      "波光里的艳影，\n",
      "在我的心头荡漾。\n",
      "\n",
      "软泥上的青荇，\n",
      "油油的在水底招摇；\n",
      "在康河的柔波里，\n",
      "我甘心做一条水草！\n"
     ]
    }
   ],
   "source": [
    "with open(\"poetry.txt\",\"r\",encoding='utf-8') as file:\n",
    "    print(file.read())"
   ]
  },
  {
   "cell_type": "markdown",
   "metadata": {},
   "source": [
    "**用两次with语句才能够写入后再查看两个步骤，太麻烦了，有写入和查看的只用一次with的方法吗？打开模式改为\"a+\"即可。**"
   ]
  },
  {
   "cell_type": "code",
   "execution_count": 12,
   "metadata": {},
   "outputs": [
    {
     "data": {
      "text/plain": [
       "39"
      ]
     },
     "execution_count": 12,
     "metadata": {},
     "output_type": "execute_result"
    },
    {
     "data": {
      "text/plain": [
       "0"
      ]
     },
     "execution_count": 12,
     "metadata": {},
     "output_type": "execute_result"
    },
    {
     "name": "stdout",
     "output_type": "stream",
     "text": [
      "﻿轻轻的我走了，\n",
      "正如我轻轻的来；\n",
      "我轻轻的招手，\n",
      "作别西天的云彩。\n",
      "\n",
      "那河畔的金柳，\n",
      "是夕阳中的新娘；\n",
      "波光里的艳影，\n",
      "在我的心头荡漾。\n",
      "\n",
      "软泥上的青荇，\n",
      "油油的在水底招摇；\n",
      "在康河的柔波里，\n",
      "我甘心做一条水草！\n",
      "\n",
      "那榆荫下的一潭，\n",
      "不是清泉，是天上虹；\n",
      "揉碎在浮藻间，\n",
      "沉淀着彩虹似的梦。\n"
     ]
    }
   ],
   "source": [
    "b=\"\\n\\n那榆荫下的一潭，\\n不是清泉，是天上虹；\\n揉碎在浮藻间，\\n沉淀着彩虹似的梦。\"\n",
    "\n",
    "with open(\"poetry.txt\",\"a+\",encoding=\"utf-8\") as file:\n",
    "    file.write(b)\n",
    "    file.seek(0)  #必须得写\n",
    "    print(file.read())  "
   ]
  },
  {
   "cell_type": "markdown",
   "metadata": {},
   "source": [
    "### file.writelines()"
   ]
  },
  {
   "cell_type": "code",
   "execution_count": 13,
   "metadata": {
    "scrolled": false
   },
   "outputs": [
    {
     "data": {
      "text/plain": [
       "0"
      ]
     },
     "execution_count": 13,
     "metadata": {},
     "output_type": "execute_result"
    },
    {
     "name": "stdout",
     "output_type": "stream",
     "text": [
      "﻿轻轻的我走了，\n",
      "正如我轻轻的来；\n",
      "我轻轻的招手，\n",
      "作别西天的云彩。\n",
      "\n",
      "那河畔的金柳，\n",
      "是夕阳中的新娘；\n",
      "波光里的艳影，\n",
      "在我的心头荡漾。\n",
      "\n",
      "软泥上的青荇，\n",
      "油油的在水底招摇；\n",
      "在康河的柔波里，\n",
      "我甘心做一条水草！\n",
      "\n",
      "那榆荫下的一潭，\n",
      "不是清泉，是天上虹；\n",
      "揉碎在浮藻间，\n",
      "沉淀着彩虹似的梦。\n",
      "\n",
      "寻梦？撑一支长篙，\n",
      "向青草更青处漫溯；\n",
      "满载一船星辉，\n",
      "在星辉斑斓里放歌。\n"
     ]
    }
   ],
   "source": [
    "b=[\"\\n\\n寻梦？撑一支长篙，\",\"\\n向青草更青处漫溯；\",\"\\n满载一船星辉，\",\"\\n在星辉斑斓里放歌。\"]\n",
    "\n",
    "with open(\"poetry.txt\",\"a+\",encoding=\"utf-8\") as file:\n",
    "    file.writelines(b)\n",
    "    file.seek(0)  #必须得写\n",
    "    print(file.read())  \n",
    "    "
   ]
  },
  {
   "cell_type": "markdown",
   "metadata": {},
   "source": [
    "```\n",
    "   \n",
    "   \n",
    "```\n",
    "```\n",
    "   \n",
    "   \n",
    "```\n",
    "# 文件的重命名、删除（了解）"
   ]
  },
  {
   "cell_type": "markdown",
   "metadata": {},
   "source": [
    "有些时候，需要对文件进行重命名、删除等一些操作，python的os模块中都有这么功能"
   ]
  },
  {
   "cell_type": "markdown",
   "metadata": {},
   "source": [
    "## 文件重命名\n",
    "\n",
    "os模块中的rename()可以完成对文件的重命名操作\n",
    "\n",
    "rename(需要修改的文件名, 新的文件名)"
   ]
  },
  {
   "cell_type": "code",
   "execution_count": 126,
   "metadata": {},
   "outputs": [],
   "source": [
    "import os"
   ]
  },
  {
   "cell_type": "code",
   "execution_count": 8,
   "metadata": {},
   "outputs": [
    {
     "name": "stdout",
     "output_type": "stream",
     "text": [
      "['DirEntry', 'F_OK', 'MutableMapping', 'O_APPEND', 'O_BINARY', 'O_CREAT', 'O_EXCL', 'O_NOINHERIT', 'O_RANDOM', 'O_RDONLY', 'O_RDWR', 'O_SEQUENTIAL', 'O_SHORT_LIVED', 'O_TEMPORARY', 'O_TEXT', 'O_TRUNC', 'O_WRONLY', 'P_DETACH', 'P_NOWAIT', 'P_NOWAITO', 'P_OVERLAY', 'P_WAIT', 'PathLike', 'R_OK', 'SEEK_CUR', 'SEEK_END', 'SEEK_SET', 'TMP_MAX', 'W_OK', 'X_OK', '_Environ', '__all__', '__builtins__', '__cached__', '__doc__', '__file__', '__loader__', '__name__', '__package__', '__spec__', '_execvpe', '_exists', '_exit', '_fspath', '_get_exports_list', '_putenv', '_unsetenv', '_wrap_close', 'abc', 'abort', 'access', 'altsep', 'chdir', 'chmod', 'close', 'closerange', 'cpu_count', 'curdir', 'defpath', 'device_encoding', 'devnull', 'dup', 'dup2', 'environ', 'error', 'execl', 'execle', 'execlp', 'execlpe', 'execv', 'execve', 'execvp', 'execvpe', 'extsep', 'fdopen', 'fsdecode', 'fsencode', 'fspath', 'fstat', 'fsync', 'ftruncate', 'get_exec_path', 'get_handle_inheritable', 'get_inheritable', 'get_terminal_size', 'getcwd', 'getcwdb', 'getenv', 'getlogin', 'getpid', 'getppid', 'isatty', 'kill', 'linesep', 'link', 'listdir', 'lseek', 'lstat', 'makedirs', 'mkdir', 'name', 'open', 'pardir', 'path', 'pathsep', 'pipe', 'popen', 'putenv', 'read', 'readlink', 'remove', 'removedirs', 'rename', 'renames', 'replace', 'rmdir', 'scandir', 'sep', 'set_handle_inheritable', 'set_inheritable', 'spawnl', 'spawnle', 'spawnv', 'spawnve', 'st', 'startfile', 'stat', 'stat_result', 'statvfs_result', 'strerror', 'supports_bytes_environ', 'supports_dir_fd', 'supports_effective_ids', 'supports_fd', 'supports_follow_symlinks', 'symlink', 'sys', 'system', 'terminal_size', 'times', 'times_result', 'truncate', 'umask', 'uname_result', 'unlink', 'urandom', 'utime', 'waitpid', 'walk', 'write']\n"
     ]
    }
   ],
   "source": [
    "print(dir(os))"
   ]
  },
  {
   "cell_type": "markdown",
   "metadata": {},
   "source": [
    "如果想将当前工作目录的\"poetry.txt\"文件名改为\"poetry2.txt\":"
   ]
  },
  {
   "cell_type": "code",
   "execution_count": 25,
   "metadata": {},
   "outputs": [],
   "source": [
    "os.rename(\"poetry.txt\", 'hehe.txt')"
   ]
  },
  {
   "cell_type": "markdown",
   "metadata": {},
   "source": [
    "## 删除文件"
   ]
  },
  {
   "cell_type": "markdown",
   "metadata": {},
   "source": [
    "os模块中的remove()可以完成对文件的删除操作\n",
    "\n",
    "remove(待删除的文件名)"
   ]
  },
  {
   "cell_type": "markdown",
   "metadata": {},
   "source": [
    "删除当前工作目录的poetry2.txt："
   ]
  },
  {
   "cell_type": "code",
   "execution_count": 26,
   "metadata": {},
   "outputs": [],
   "source": [
    "os.remove('hehe.txt')"
   ]
  },
  {
   "cell_type": "markdown",
   "metadata": {},
   "source": [
    "```\n",
    "   \n",
    "   \n",
    "```\n",
    "```\n",
    "   \n",
    "   \n",
    "```\n",
    "## 文件夹的相关操作"
   ]
  },
  {
   "cell_type": "markdown",
   "metadata": {},
   "source": [
    "### 创建文件夹"
   ]
  },
  {
   "cell_type": "code",
   "execution_count": 3,
   "metadata": {},
   "outputs": [],
   "source": [
    "os.mkdir('新建文件夹')  #make directory"
   ]
  },
  {
   "cell_type": "markdown",
   "metadata": {},
   "source": [
    "### 获取目录列表"
   ]
  },
  {
   "cell_type": "code",
   "execution_count": 7,
   "metadata": {},
   "outputs": [
    {
     "data": {
      "text/plain": [
       "['.ipynb_checkpoints',\n",
       " '06_自定义函数、变量作用域、递归.ipynb',\n",
       " '07_Python面向对象编程和类.ipynb',\n",
       " '08_异常与错误.ipynb',\n",
       " '09_Python模块.ipynb',\n",
       " '10_Python文件读写和目录操作.ipynb',\n",
       " 'my_module.py',\n",
       " 'PDF课件',\n",
       " 'poetry.txt',\n",
       " '__pycache__']"
      ]
     },
     "execution_count": 7,
     "metadata": {},
     "output_type": "execute_result"
    }
   ],
   "source": [
    "import os\n",
    "os.listdir()"
   ]
  },
  {
   "cell_type": "markdown",
   "metadata": {},
   "source": [
    "### 删除文件夹"
   ]
  },
  {
   "cell_type": "code",
   "execution_count": 6,
   "metadata": {},
   "outputs": [],
   "source": [
    "os.rmdir(\"新建文件夹\")"
   ]
  },
  {
   "cell_type": "markdown",
   "metadata": {},
   "source": [
    "```\n",
    "   \n",
    "   \n",
    "```\n",
    "## os方法大全\n",
    "\n",
    "import os\n",
    "\n",
    "|os方法|作用|\n",
    "| ------ | ------ | \n",
    "|os.getcwd()|获得当前工作目录|\n",
    "|os.chdir(\"dirname\")|改变当前脚本的工作路径，相当于shell下的cd|\n",
    "|os.curdir|返回当前目录‘.'|\n",
    "|os.pardir|获取当前目录的父目录字符串名‘..'|\n",
    "|os.makedirs('dirname1/dirname2')|可生成多层递归目录|\n",
    "|os.removedirs('dirname1/dirname2')|若目录为空，则删除，并递归到上一级目录，如若也为空，则删除，依此类推|\n",
    "|os.mkdir('test4')| 生成单级目录；相当于shell中mkdir dirname|\n",
    "|os.rmdir('test4')|删除单级空目录，若目录不为空则无法删除，报错；相当于shell中rmdir dirname\n",
    "|os.listdir('/pythonStudy/s12/test')|列出指定目录下的所有文件和子目录，包括隐藏文件，并以列表方式打印|\n",
    "|os.remove('log.log')|删除一个指定的文件|\n",
    "|os.rename(\"oldname\",\"newname\")|重命名文件/目录)|\n",
    "|os.stat('/pythonStudy/s12/test')|获取文件/目录信息|\n",
    "|os.pathsep| 输出用于分割文件路径的字符串';'|\n",
    "|os.name| 输出字符串指示当前使用平台。win->'nt'; Linux->'posix'|\n",
    "|os.system(command='bash')|运行shell命令，直接显示|\n",
    "|os.environ|获得系统的环境变量|\n",
    "|os.path.abspath('/pythonStudy/s12/test')| 返回path规范化的绝对路径|\n",
    "|os.path.split('/pythonStudy/s12/test')| 将path分割成目录和文件名二元组返回|\n",
    "|os.path.dirname('/pythonStudy/s12/test')| | 返回path的目录。其实就是os.path.split(path)的第一个元素|\n",
    "|os.path.basename('/pythonStudy/s12/test')| 返回path最后的文件名。如果path以／或\\结尾，那么就会返回空值。即os.path.split(path)的第二个元素|\n",
    "|os.path.exists('test')|判断path是否存在|\n",
    "|os.path.isabs('/pythonStudy/s12/test')|如果path是绝对路径，返回True|\n",
    "|os.path.isfile('test')|如果path是一个存在的文件，返回True。否则返回False|\n",
    "|os.path.isdir('/pythonStudy/s12/test')|如果path是一个存在的目录，则返回True。否则返回False|\n",
    "|os.path.getatime('/pythonStudy/s12/test')|返回path所指向的文件或者目录的最后存取时间|\n",
    "|os.path.getmtime('/pythonStudy/s12/test')|返回path所指向的文件或者目录的最后修改时间|\n"
   ]
  }
 ],
 "metadata": {
  "kernelspec": {
   "display_name": "Python 3",
   "language": "python",
   "name": "python3"
  },
  "language_info": {
   "codemirror_mode": {
    "name": "ipython",
    "version": 3
   },
   "file_extension": ".py",
   "mimetype": "text/x-python",
   "name": "python",
   "nbconvert_exporter": "python",
   "pygments_lexer": "ipython3",
   "version": "3.7.1"
  },
  "toc": {
   "base_numbering": 1,
   "nav_menu": {
    "height": "357px",
    "width": "315px"
   },
   "number_sections": true,
   "sideBar": true,
   "skip_h1_title": false,
   "title_cell": "10_Python文件读写和目录操作",
   "title_sidebar": "10_Python文件读写和目录操作",
   "toc_cell": true,
   "toc_position": {
    "height": "calc(100% - 180px)",
    "left": "10px",
    "top": "150px",
    "width": "319.5px"
   },
   "toc_section_display": true,
   "toc_window_display": true
  }
 },
 "nbformat": 4,
 "nbformat_minor": 2
}
