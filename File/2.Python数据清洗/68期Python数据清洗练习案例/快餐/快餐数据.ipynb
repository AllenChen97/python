{
 "cells": [
  {
   "cell_type": "markdown",
   "metadata": {
    "toc": true
   },
   "source": [
    "<h1>Table of Contents<span class=\"tocSkip\"></span></h1>\n",
    "<div class=\"toc\"><ul class=\"toc-item\"><li><span><a href=\"#探索数据\" data-toc-modified-id=\"探索数据-1\"><span class=\"toc-item-num\">1&nbsp;&nbsp;</span>探索数据</a></span><ul class=\"toc-item\"><li><span><a href=\"#查看数据表基本信息\" data-toc-modified-id=\"查看数据表基本信息-1.1\"><span class=\"toc-item-num\">1.1&nbsp;&nbsp;</span>查看数据表基本信息</a></span></li></ul></li><li><span><a href=\"#描述性统计\" data-toc-modified-id=\"描述性统计-2\"><span class=\"toc-item-num\">2&nbsp;&nbsp;</span>描述性统计</a></span><ul class=\"toc-item\"><li><span><a href=\"#被下单数最多的前五的商品(item_name)有哪些?\" data-toc-modified-id=\"被下单数最多的前五的商品(item_name)有哪些?-2.1\"><span class=\"toc-item-num\">2.1&nbsp;&nbsp;</span>被下单数最多的前五的商品(item_name)有哪些?</a></span></li><li><span><a href=\"#在item_name这一列中，一共有多少种商品被下单？\" data-toc-modified-id=\"在item_name这一列中，一共有多少种商品被下单？-2.2\"><span class=\"toc-item-num\">2.2&nbsp;&nbsp;</span>在item_name这一列中，一共有多少种商品被下单？</a></span></li><li><span><a href=\"#商品下单总数量多少？\" data-toc-modified-id=\"商品下单总数量多少？-2.3\"><span class=\"toc-item-num\">2.3&nbsp;&nbsp;</span>商品下单总数量多少？</a></span></li><li><span><a href=\"#目前item_price数据类型为？如何转换为浮点数？\" data-toc-modified-id=\"目前item_price数据类型为？如何转换为浮点数？-2.4\"><span class=\"toc-item-num\">2.4&nbsp;&nbsp;</span>目前item_price数据类型为？如何转换为浮点数？</a></span></li><li><span><a href=\"#在该数据集对应的时期内，收入(revenue)是多少?\" data-toc-modified-id=\"在该数据集对应的时期内，收入(revenue)是多少?-2.5\"><span class=\"toc-item-num\">2.5&nbsp;&nbsp;</span>在该数据集对应的时期内，收入(revenue)是多少?</a></span></li><li><span><a href=\"#在该数据集对应的时期内，一共有多少订单？\" data-toc-modified-id=\"在该数据集对应的时期内，一共有多少订单？-2.6\"><span class=\"toc-item-num\">2.6&nbsp;&nbsp;</span>在该数据集对应的时期内，一共有多少订单？</a></span></li><li><span><a href=\"#每一单(order)对应的平均总价是多少？\" data-toc-modified-id=\"每一单(order)对应的平均总价是多少？-2.7\"><span class=\"toc-item-num\">2.7&nbsp;&nbsp;</span>每一单(order)对应的平均总价是多少？</a></span></li><li><span><a href=\"#综合\" data-toc-modified-id=\"综合-2.8\"><span class=\"toc-item-num\">2.8&nbsp;&nbsp;</span>综合</a></span></li></ul></li></ul></div>"
   ]
  },
  {
   "cell_type": "code",
   "execution_count": 4,
   "metadata": {},
   "outputs": [
    {
     "data": {
      "text/html": [
       "<div>\n",
       "<style scoped>\n",
       "    .dataframe tbody tr th:only-of-type {\n",
       "        vertical-align: middle;\n",
       "    }\n",
       "\n",
       "    .dataframe tbody tr th {\n",
       "        vertical-align: top;\n",
       "    }\n",
       "\n",
       "    .dataframe thead th {\n",
       "        text-align: right;\n",
       "    }\n",
       "</style>\n",
       "<table border=\"1\" class=\"dataframe\">\n",
       "  <thead>\n",
       "    <tr style=\"text-align: right;\">\n",
       "      <th></th>\n",
       "      <th>order_id</th>\n",
       "      <th>quantity</th>\n",
       "      <th>item_name</th>\n",
       "      <th>choice_description</th>\n",
       "      <th>item_price</th>\n",
       "    </tr>\n",
       "  </thead>\n",
       "  <tbody>\n",
       "    <tr>\n",
       "      <td>0</td>\n",
       "      <td>1</td>\n",
       "      <td>1</td>\n",
       "      <td>Chips and Fresh Tomato Salsa</td>\n",
       "      <td>NaN</td>\n",
       "      <td>$2.39</td>\n",
       "    </tr>\n",
       "    <tr>\n",
       "      <td>1</td>\n",
       "      <td>1</td>\n",
       "      <td>1</td>\n",
       "      <td>Izze</td>\n",
       "      <td>[Clementine]</td>\n",
       "      <td>$3.39</td>\n",
       "    </tr>\n",
       "    <tr>\n",
       "      <td>2</td>\n",
       "      <td>1</td>\n",
       "      <td>1</td>\n",
       "      <td>Nantucket Nectar</td>\n",
       "      <td>[Apple]</td>\n",
       "      <td>$3.39</td>\n",
       "    </tr>\n",
       "    <tr>\n",
       "      <td>3</td>\n",
       "      <td>1</td>\n",
       "      <td>1</td>\n",
       "      <td>Chips and Tomatillo-Green Chili Salsa</td>\n",
       "      <td>NaN</td>\n",
       "      <td>$2.39</td>\n",
       "    </tr>\n",
       "    <tr>\n",
       "      <td>4</td>\n",
       "      <td>2</td>\n",
       "      <td>2</td>\n",
       "      <td>Chicken Bowl</td>\n",
       "      <td>[Tomatillo-Red Chili Salsa (Hot), [Black Beans...</td>\n",
       "      <td>$16.98</td>\n",
       "    </tr>\n",
       "  </tbody>\n",
       "</table>\n",
       "</div>"
      ],
      "text/plain": [
       "   order_id  quantity                              item_name  \\\n",
       "0         1         1           Chips and Fresh Tomato Salsa   \n",
       "1         1         1                                   Izze   \n",
       "2         1         1                       Nantucket Nectar   \n",
       "3         1         1  Chips and Tomatillo-Green Chili Salsa   \n",
       "4         2         2                           Chicken Bowl   \n",
       "\n",
       "                                  choice_description item_price  \n",
       "0                                                NaN     $2.39   \n",
       "1                                       [Clementine]     $3.39   \n",
       "2                                            [Apple]     $3.39   \n",
       "3                                                NaN     $2.39   \n",
       "4  [Tomatillo-Red Chili Salsa (Hot), [Black Beans...    $16.98   "
      ]
     },
     "execution_count": 4,
     "metadata": {},
     "output_type": "execute_result"
    }
   ],
   "source": [
    "import numpy as np,pandas as pd\n",
    "\n",
    "snack= pd.read_csv(r\"C:\\Users\\CDA\\snack.csv\",encoding=\"utf_8\",sep=\"\\t\")\n",
    "snack.head()"
   ]
  },
  {
   "cell_type": "markdown",
   "metadata": {},
   "source": [
    "# 探索数据"
   ]
  },
  {
   "cell_type": "markdown",
   "metadata": {},
   "source": [
    "## 查看数据表基本信息\n",
    "- 数据表一共有多少行数据，有多少列？\n",
    "- 是否存在缺失值？哪个字段？"
   ]
  },
  {
   "cell_type": "code",
   "execution_count": 120,
   "metadata": {},
   "outputs": [
    {
     "name": "stdout",
     "output_type": "stream",
     "text": [
      "<class 'pandas.core.frame.DataFrame'>\n",
      "RangeIndex: 4622 entries, 0 to 4621\n",
      "Data columns (total 6 columns):\n",
      "order_id              4622 non-null int64\n",
      "quantity              4622 non-null int64\n",
      "item_name             4622 non-null object\n",
      "choice_description    3376 non-null object\n",
      "item_price            4622 non-null float64\n",
      "revenue               4622 non-null float64\n",
      "dtypes: float64(2), int64(2), object(2)\n",
      "memory usage: 216.8+ KB\n"
     ]
    }
   ],
   "source": [
    "snack.info()"
   ]
  },
  {
   "cell_type": "markdown",
   "metadata": {},
   "source": [
    "```\n",
    "\n",
    "   \n",
    "    \n",
    "   \n",
    "   \n",
    "```\n",
    "# 描述性统计"
   ]
  },
  {
   "cell_type": "markdown",
   "metadata": {},
   "source": [
    "##  被下单数最多的前五的商品(item_name)有哪些?\n",
    "注意：要将quantity考虑进去。"
   ]
  },
  {
   "cell_type": "code",
   "execution_count": 12,
   "metadata": {},
   "outputs": [
    {
     "data": {
      "text/plain": [
       "Chicken Bowl           726\n",
       "Chicken Burrito        553\n",
       "Chips and Guacamole    479\n",
       "Steak Burrito          368\n",
       "Canned Soft Drink      301\n",
       "Name: item_name, dtype: int64"
      ]
     },
     "execution_count": 12,
     "metadata": {},
     "output_type": "execute_result"
    }
   ],
   "source": [
    "snack[\"item_name\"].value_counts()[:5] #下单数"
   ]
  },
  {
   "cell_type": "code",
   "execution_count": 16,
   "metadata": {},
   "outputs": [
    {
     "data": {
      "text/plain": [
       "item_name\n",
       "Chicken Bowl           761\n",
       "Chicken Burrito        591\n",
       "Chips and Guacamole    506\n",
       "Steak Burrito          386\n",
       "Canned Soft Drink      351\n",
       "Name: quantity, dtype: int64"
      ]
     },
     "execution_count": 16,
     "metadata": {},
     "output_type": "execute_result"
    }
   ],
   "source": [
    "snack.groupby(\"item_name\")[\"quantity\"].sum().nlargest(5) #销售量"
   ]
  },
  {
   "cell_type": "markdown",
   "metadata": {},
   "source": [
    "```\n",
    "\n",
    "   \n",
    "    \n",
    "   \n",
    "   \n",
    "```\n",
    "## 在item_name这一列中，一共有多少种商品被下单？"
   ]
  },
  {
   "cell_type": "code",
   "execution_count": 20,
   "metadata": {},
   "outputs": [
    {
     "data": {
      "text/plain": [
       "50"
      ]
     },
     "execution_count": 20,
     "metadata": {},
     "output_type": "execute_result"
    }
   ],
   "source": [
    "snack[\"item_name\"].value_counts().count()"
   ]
  },
  {
   "cell_type": "code",
   "execution_count": 123,
   "metadata": {},
   "outputs": [
    {
     "data": {
      "text/plain": [
       "50"
      ]
     },
     "execution_count": 123,
     "metadata": {},
     "output_type": "execute_result"
    }
   ],
   "source": [
    "len(snack.groupby(\"item_name\"))"
   ]
  },
  {
   "cell_type": "code",
   "execution_count": 33,
   "metadata": {},
   "outputs": [
    {
     "data": {
      "text/plain": [
       "50"
      ]
     },
     "execution_count": 33,
     "metadata": {},
     "output_type": "execute_result"
    }
   ],
   "source": [
    "snack.item_name.nunique()"
   ]
  },
  {
   "cell_type": "markdown",
   "metadata": {},
   "source": [
    "```\n",
    "\n",
    "   \n",
    "    \n",
    "   \n",
    "   \n",
    "```\n",
    "## 商品下单总数量多少？"
   ]
  },
  {
   "cell_type": "code",
   "execution_count": 19,
   "metadata": {},
   "outputs": [
    {
     "data": {
      "text/plain": [
       "4622"
      ]
     },
     "execution_count": 19,
     "metadata": {},
     "output_type": "execute_result"
    }
   ],
   "source": [
    "snack[\"item_name\"].value_counts().sum()"
   ]
  },
  {
   "cell_type": "markdown",
   "metadata": {},
   "source": [
    "```\n",
    "\n",
    "   \n",
    "    \n",
    "   \n",
    "   \n",
    "```\n",
    "## 目前item_price数据类型为？如何转换为浮点数？"
   ]
  },
  {
   "cell_type": "code",
   "execution_count": 129,
   "metadata": {},
   "outputs": [
    {
     "data": {
      "text/plain": [
       "dtype('float64')"
      ]
     },
     "execution_count": 129,
     "metadata": {},
     "output_type": "execute_result"
    }
   ],
   "source": [
    "snack[\"item_price\"].dtype"
   ]
  },
  {
   "cell_type": "code",
   "execution_count": 8,
   "metadata": {},
   "outputs": [
    {
     "data": {
      "text/html": [
       "<div>\n",
       "<style scoped>\n",
       "    .dataframe tbody tr th:only-of-type {\n",
       "        vertical-align: middle;\n",
       "    }\n",
       "\n",
       "    .dataframe tbody tr th {\n",
       "        vertical-align: top;\n",
       "    }\n",
       "\n",
       "    .dataframe thead th {\n",
       "        text-align: right;\n",
       "    }\n",
       "</style>\n",
       "<table border=\"1\" class=\"dataframe\">\n",
       "  <thead>\n",
       "    <tr style=\"text-align: right;\">\n",
       "      <th></th>\n",
       "      <th>order_id</th>\n",
       "      <th>quantity</th>\n",
       "      <th>item_name</th>\n",
       "      <th>choice_description</th>\n",
       "      <th>item_price</th>\n",
       "    </tr>\n",
       "  </thead>\n",
       "  <tbody>\n",
       "    <tr>\n",
       "      <td>0</td>\n",
       "      <td>1</td>\n",
       "      <td>1</td>\n",
       "      <td>Chips and Fresh Tomato Salsa</td>\n",
       "      <td>NaN</td>\n",
       "      <td>2.39</td>\n",
       "    </tr>\n",
       "    <tr>\n",
       "      <td>1</td>\n",
       "      <td>1</td>\n",
       "      <td>1</td>\n",
       "      <td>Izze</td>\n",
       "      <td>[Clementine]</td>\n",
       "      <td>3.39</td>\n",
       "    </tr>\n",
       "    <tr>\n",
       "      <td>2</td>\n",
       "      <td>1</td>\n",
       "      <td>1</td>\n",
       "      <td>Nantucket Nectar</td>\n",
       "      <td>[Apple]</td>\n",
       "      <td>3.39</td>\n",
       "    </tr>\n",
       "    <tr>\n",
       "      <td>3</td>\n",
       "      <td>1</td>\n",
       "      <td>1</td>\n",
       "      <td>Chips and Tomatillo-Green Chili Salsa</td>\n",
       "      <td>NaN</td>\n",
       "      <td>2.39</td>\n",
       "    </tr>\n",
       "    <tr>\n",
       "      <td>4</td>\n",
       "      <td>2</td>\n",
       "      <td>2</td>\n",
       "      <td>Chicken Bowl</td>\n",
       "      <td>[Tomatillo-Red Chili Salsa (Hot), [Black Beans...</td>\n",
       "      <td>16.98</td>\n",
       "    </tr>\n",
       "    <tr>\n",
       "      <td>...</td>\n",
       "      <td>...</td>\n",
       "      <td>...</td>\n",
       "      <td>...</td>\n",
       "      <td>...</td>\n",
       "      <td>...</td>\n",
       "    </tr>\n",
       "    <tr>\n",
       "      <td>4617</td>\n",
       "      <td>1833</td>\n",
       "      <td>1</td>\n",
       "      <td>Steak Burrito</td>\n",
       "      <td>[Fresh Tomato Salsa, [Rice, Black Beans, Sour ...</td>\n",
       "      <td>11.75</td>\n",
       "    </tr>\n",
       "    <tr>\n",
       "      <td>4618</td>\n",
       "      <td>1833</td>\n",
       "      <td>1</td>\n",
       "      <td>Steak Burrito</td>\n",
       "      <td>[Fresh Tomato Salsa, [Rice, Sour Cream, Cheese...</td>\n",
       "      <td>11.75</td>\n",
       "    </tr>\n",
       "    <tr>\n",
       "      <td>4619</td>\n",
       "      <td>1834</td>\n",
       "      <td>1</td>\n",
       "      <td>Chicken Salad Bowl</td>\n",
       "      <td>[Fresh Tomato Salsa, [Fajita Vegetables, Pinto...</td>\n",
       "      <td>11.25</td>\n",
       "    </tr>\n",
       "    <tr>\n",
       "      <td>4620</td>\n",
       "      <td>1834</td>\n",
       "      <td>1</td>\n",
       "      <td>Chicken Salad Bowl</td>\n",
       "      <td>[Fresh Tomato Salsa, [Fajita Vegetables, Lettu...</td>\n",
       "      <td>8.75</td>\n",
       "    </tr>\n",
       "    <tr>\n",
       "      <td>4621</td>\n",
       "      <td>1834</td>\n",
       "      <td>1</td>\n",
       "      <td>Chicken Salad Bowl</td>\n",
       "      <td>[Fresh Tomato Salsa, [Fajita Vegetables, Pinto...</td>\n",
       "      <td>8.75</td>\n",
       "    </tr>\n",
       "  </tbody>\n",
       "</table>\n",
       "<p>4622 rows × 5 columns</p>\n",
       "</div>"
      ],
      "text/plain": [
       "      order_id  quantity                              item_name  \\\n",
       "0            1         1           Chips and Fresh Tomato Salsa   \n",
       "1            1         1                                   Izze   \n",
       "2            1         1                       Nantucket Nectar   \n",
       "3            1         1  Chips and Tomatillo-Green Chili Salsa   \n",
       "4            2         2                           Chicken Bowl   \n",
       "...        ...       ...                                    ...   \n",
       "4617      1833         1                          Steak Burrito   \n",
       "4618      1833         1                          Steak Burrito   \n",
       "4619      1834         1                     Chicken Salad Bowl   \n",
       "4620      1834         1                     Chicken Salad Bowl   \n",
       "4621      1834         1                     Chicken Salad Bowl   \n",
       "\n",
       "                                     choice_description  item_price  \n",
       "0                                                   NaN        2.39  \n",
       "1                                          [Clementine]        3.39  \n",
       "2                                               [Apple]        3.39  \n",
       "3                                                   NaN        2.39  \n",
       "4     [Tomatillo-Red Chili Salsa (Hot), [Black Beans...       16.98  \n",
       "...                                                 ...         ...  \n",
       "4617  [Fresh Tomato Salsa, [Rice, Black Beans, Sour ...       11.75  \n",
       "4618  [Fresh Tomato Salsa, [Rice, Sour Cream, Cheese...       11.75  \n",
       "4619  [Fresh Tomato Salsa, [Fajita Vegetables, Pinto...       11.25  \n",
       "4620  [Fresh Tomato Salsa, [Fajita Vegetables, Lettu...        8.75  \n",
       "4621  [Fresh Tomato Salsa, [Fajita Vegetables, Pinto...        8.75  \n",
       "\n",
       "[4622 rows x 5 columns]"
      ]
     },
     "execution_count": 8,
     "metadata": {},
     "output_type": "execute_result"
    }
   ],
   "source": [
    "snack.item_price=snack.item_price.astype(float)\n",
    "snack"
   ]
  },
  {
   "cell_type": "code",
   "execution_count": 7,
   "metadata": {},
   "outputs": [
    {
     "data": {
      "text/html": [
       "<div>\n",
       "<style scoped>\n",
       "    .dataframe tbody tr th:only-of-type {\n",
       "        vertical-align: middle;\n",
       "    }\n",
       "\n",
       "    .dataframe tbody tr th {\n",
       "        vertical-align: top;\n",
       "    }\n",
       "\n",
       "    .dataframe thead th {\n",
       "        text-align: right;\n",
       "    }\n",
       "</style>\n",
       "<table border=\"1\" class=\"dataframe\">\n",
       "  <thead>\n",
       "    <tr style=\"text-align: right;\">\n",
       "      <th></th>\n",
       "      <th>order_id</th>\n",
       "      <th>quantity</th>\n",
       "      <th>item_name</th>\n",
       "      <th>choice_description</th>\n",
       "      <th>item_price</th>\n",
       "    </tr>\n",
       "  </thead>\n",
       "  <tbody>\n",
       "    <tr>\n",
       "      <td>0</td>\n",
       "      <td>1</td>\n",
       "      <td>1</td>\n",
       "      <td>Chips and Fresh Tomato Salsa</td>\n",
       "      <td>NaN</td>\n",
       "      <td>2.39</td>\n",
       "    </tr>\n",
       "    <tr>\n",
       "      <td>1</td>\n",
       "      <td>1</td>\n",
       "      <td>1</td>\n",
       "      <td>Izze</td>\n",
       "      <td>[Clementine]</td>\n",
       "      <td>3.39</td>\n",
       "    </tr>\n",
       "    <tr>\n",
       "      <td>2</td>\n",
       "      <td>1</td>\n",
       "      <td>1</td>\n",
       "      <td>Nantucket Nectar</td>\n",
       "      <td>[Apple]</td>\n",
       "      <td>3.39</td>\n",
       "    </tr>\n",
       "    <tr>\n",
       "      <td>3</td>\n",
       "      <td>1</td>\n",
       "      <td>1</td>\n",
       "      <td>Chips and Tomatillo-Green Chili Salsa</td>\n",
       "      <td>NaN</td>\n",
       "      <td>2.39</td>\n",
       "    </tr>\n",
       "    <tr>\n",
       "      <td>4</td>\n",
       "      <td>2</td>\n",
       "      <td>2</td>\n",
       "      <td>Chicken Bowl</td>\n",
       "      <td>[Tomatillo-Red Chili Salsa (Hot), [Black Beans...</td>\n",
       "      <td>16.98</td>\n",
       "    </tr>\n",
       "    <tr>\n",
       "      <td>...</td>\n",
       "      <td>...</td>\n",
       "      <td>...</td>\n",
       "      <td>...</td>\n",
       "      <td>...</td>\n",
       "      <td>...</td>\n",
       "    </tr>\n",
       "    <tr>\n",
       "      <td>4617</td>\n",
       "      <td>1833</td>\n",
       "      <td>1</td>\n",
       "      <td>Steak Burrito</td>\n",
       "      <td>[Fresh Tomato Salsa, [Rice, Black Beans, Sour ...</td>\n",
       "      <td>11.75</td>\n",
       "    </tr>\n",
       "    <tr>\n",
       "      <td>4618</td>\n",
       "      <td>1833</td>\n",
       "      <td>1</td>\n",
       "      <td>Steak Burrito</td>\n",
       "      <td>[Fresh Tomato Salsa, [Rice, Sour Cream, Cheese...</td>\n",
       "      <td>11.75</td>\n",
       "    </tr>\n",
       "    <tr>\n",
       "      <td>4619</td>\n",
       "      <td>1834</td>\n",
       "      <td>1</td>\n",
       "      <td>Chicken Salad Bowl</td>\n",
       "      <td>[Fresh Tomato Salsa, [Fajita Vegetables, Pinto...</td>\n",
       "      <td>11.25</td>\n",
       "    </tr>\n",
       "    <tr>\n",
       "      <td>4620</td>\n",
       "      <td>1834</td>\n",
       "      <td>1</td>\n",
       "      <td>Chicken Salad Bowl</td>\n",
       "      <td>[Fresh Tomato Salsa, [Fajita Vegetables, Lettu...</td>\n",
       "      <td>8.75</td>\n",
       "    </tr>\n",
       "    <tr>\n",
       "      <td>4621</td>\n",
       "      <td>1834</td>\n",
       "      <td>1</td>\n",
       "      <td>Chicken Salad Bowl</td>\n",
       "      <td>[Fresh Tomato Salsa, [Fajita Vegetables, Pinto...</td>\n",
       "      <td>8.75</td>\n",
       "    </tr>\n",
       "  </tbody>\n",
       "</table>\n",
       "<p>4622 rows × 5 columns</p>\n",
       "</div>"
      ],
      "text/plain": [
       "      order_id  quantity                              item_name  \\\n",
       "0            1         1           Chips and Fresh Tomato Salsa   \n",
       "1            1         1                                   Izze   \n",
       "2            1         1                       Nantucket Nectar   \n",
       "3            1         1  Chips and Tomatillo-Green Chili Salsa   \n",
       "4            2         2                           Chicken Bowl   \n",
       "...        ...       ...                                    ...   \n",
       "4617      1833         1                          Steak Burrito   \n",
       "4618      1833         1                          Steak Burrito   \n",
       "4619      1834         1                     Chicken Salad Bowl   \n",
       "4620      1834         1                     Chicken Salad Bowl   \n",
       "4621      1834         1                     Chicken Salad Bowl   \n",
       "\n",
       "                                     choice_description item_price  \n",
       "0                                                   NaN      2.39   \n",
       "1                                          [Clementine]      3.39   \n",
       "2                                               [Apple]      3.39   \n",
       "3                                                   NaN      2.39   \n",
       "4     [Tomatillo-Red Chili Salsa (Hot), [Black Beans...     16.98   \n",
       "...                                                 ...        ...  \n",
       "4617  [Fresh Tomato Salsa, [Rice, Black Beans, Sour ...     11.75   \n",
       "4618  [Fresh Tomato Salsa, [Rice, Sour Cream, Cheese...     11.75   \n",
       "4619  [Fresh Tomato Salsa, [Fajita Vegetables, Pinto...     11.25   \n",
       "4620  [Fresh Tomato Salsa, [Fajita Vegetables, Lettu...      8.75   \n",
       "4621  [Fresh Tomato Salsa, [Fajita Vegetables, Pinto...      8.75   \n",
       "\n",
       "[4622 rows x 5 columns]"
      ]
     },
     "execution_count": 7,
     "metadata": {},
     "output_type": "execute_result"
    }
   ],
   "source": [
    "def change(x):\n",
    "    x=x.replace(\"$\",\"\")\n",
    "    return x\n",
    "\n",
    "snack[\"item_price\"]=snack.item_price.apply(change)\n",
    "snack"
   ]
  },
  {
   "cell_type": "markdown",
   "metadata": {},
   "source": [
    "```\n",
    "\n",
    "   \n",
    "    \n",
    "   \n",
    "   \n",
    "```\n",
    "## 在该数据集对应的时期内，收入(revenue)是多少?\n",
    "注：单项商品收入为：数量*商品单价"
   ]
  },
  {
   "cell_type": "code",
   "execution_count": 13,
   "metadata": {},
   "outputs": [
    {
     "data": {
      "text/html": [
       "<div>\n",
       "<style scoped>\n",
       "    .dataframe tbody tr th:only-of-type {\n",
       "        vertical-align: middle;\n",
       "    }\n",
       "\n",
       "    .dataframe tbody tr th {\n",
       "        vertical-align: top;\n",
       "    }\n",
       "\n",
       "    .dataframe thead th {\n",
       "        text-align: right;\n",
       "    }\n",
       "</style>\n",
       "<table border=\"1\" class=\"dataframe\">\n",
       "  <thead>\n",
       "    <tr style=\"text-align: right;\">\n",
       "      <th></th>\n",
       "      <th>order_id</th>\n",
       "      <th>quantity</th>\n",
       "      <th>item_name</th>\n",
       "      <th>choice_description</th>\n",
       "      <th>item_price</th>\n",
       "      <th>revenue</th>\n",
       "    </tr>\n",
       "  </thead>\n",
       "  <tbody>\n",
       "    <tr>\n",
       "      <td>0</td>\n",
       "      <td>1</td>\n",
       "      <td>1</td>\n",
       "      <td>Chips and Fresh Tomato Salsa</td>\n",
       "      <td>NaN</td>\n",
       "      <td>2.39</td>\n",
       "      <td>2.39</td>\n",
       "    </tr>\n",
       "    <tr>\n",
       "      <td>1</td>\n",
       "      <td>1</td>\n",
       "      <td>1</td>\n",
       "      <td>Izze</td>\n",
       "      <td>[Clementine]</td>\n",
       "      <td>3.39</td>\n",
       "      <td>3.39</td>\n",
       "    </tr>\n",
       "    <tr>\n",
       "      <td>2</td>\n",
       "      <td>1</td>\n",
       "      <td>1</td>\n",
       "      <td>Nantucket Nectar</td>\n",
       "      <td>[Apple]</td>\n",
       "      <td>3.39</td>\n",
       "      <td>3.39</td>\n",
       "    </tr>\n",
       "    <tr>\n",
       "      <td>3</td>\n",
       "      <td>1</td>\n",
       "      <td>1</td>\n",
       "      <td>Chips and Tomatillo-Green Chili Salsa</td>\n",
       "      <td>NaN</td>\n",
       "      <td>2.39</td>\n",
       "      <td>2.39</td>\n",
       "    </tr>\n",
       "    <tr>\n",
       "      <td>4</td>\n",
       "      <td>2</td>\n",
       "      <td>2</td>\n",
       "      <td>Chicken Bowl</td>\n",
       "      <td>[Tomatillo-Red Chili Salsa (Hot), [Black Beans...</td>\n",
       "      <td>16.98</td>\n",
       "      <td>33.96</td>\n",
       "    </tr>\n",
       "    <tr>\n",
       "      <td>...</td>\n",
       "      <td>...</td>\n",
       "      <td>...</td>\n",
       "      <td>...</td>\n",
       "      <td>...</td>\n",
       "      <td>...</td>\n",
       "      <td>...</td>\n",
       "    </tr>\n",
       "    <tr>\n",
       "      <td>4617</td>\n",
       "      <td>1833</td>\n",
       "      <td>1</td>\n",
       "      <td>Steak Burrito</td>\n",
       "      <td>[Fresh Tomato Salsa, [Rice, Black Beans, Sour ...</td>\n",
       "      <td>11.75</td>\n",
       "      <td>11.75</td>\n",
       "    </tr>\n",
       "    <tr>\n",
       "      <td>4618</td>\n",
       "      <td>1833</td>\n",
       "      <td>1</td>\n",
       "      <td>Steak Burrito</td>\n",
       "      <td>[Fresh Tomato Salsa, [Rice, Sour Cream, Cheese...</td>\n",
       "      <td>11.75</td>\n",
       "      <td>11.75</td>\n",
       "    </tr>\n",
       "    <tr>\n",
       "      <td>4619</td>\n",
       "      <td>1834</td>\n",
       "      <td>1</td>\n",
       "      <td>Chicken Salad Bowl</td>\n",
       "      <td>[Fresh Tomato Salsa, [Fajita Vegetables, Pinto...</td>\n",
       "      <td>11.25</td>\n",
       "      <td>11.25</td>\n",
       "    </tr>\n",
       "    <tr>\n",
       "      <td>4620</td>\n",
       "      <td>1834</td>\n",
       "      <td>1</td>\n",
       "      <td>Chicken Salad Bowl</td>\n",
       "      <td>[Fresh Tomato Salsa, [Fajita Vegetables, Lettu...</td>\n",
       "      <td>8.75</td>\n",
       "      <td>8.75</td>\n",
       "    </tr>\n",
       "    <tr>\n",
       "      <td>4621</td>\n",
       "      <td>1834</td>\n",
       "      <td>1</td>\n",
       "      <td>Chicken Salad Bowl</td>\n",
       "      <td>[Fresh Tomato Salsa, [Fajita Vegetables, Pinto...</td>\n",
       "      <td>8.75</td>\n",
       "      <td>8.75</td>\n",
       "    </tr>\n",
       "  </tbody>\n",
       "</table>\n",
       "<p>4622 rows × 6 columns</p>\n",
       "</div>"
      ],
      "text/plain": [
       "      order_id  quantity                              item_name  \\\n",
       "0            1         1           Chips and Fresh Tomato Salsa   \n",
       "1            1         1                                   Izze   \n",
       "2            1         1                       Nantucket Nectar   \n",
       "3            1         1  Chips and Tomatillo-Green Chili Salsa   \n",
       "4            2         2                           Chicken Bowl   \n",
       "...        ...       ...                                    ...   \n",
       "4617      1833         1                          Steak Burrito   \n",
       "4618      1833         1                          Steak Burrito   \n",
       "4619      1834         1                     Chicken Salad Bowl   \n",
       "4620      1834         1                     Chicken Salad Bowl   \n",
       "4621      1834         1                     Chicken Salad Bowl   \n",
       "\n",
       "                                     choice_description  item_price  revenue  \n",
       "0                                                   NaN        2.39     2.39  \n",
       "1                                          [Clementine]        3.39     3.39  \n",
       "2                                               [Apple]        3.39     3.39  \n",
       "3                                                   NaN        2.39     2.39  \n",
       "4     [Tomatillo-Red Chili Salsa (Hot), [Black Beans...       16.98    33.96  \n",
       "...                                                 ...         ...      ...  \n",
       "4617  [Fresh Tomato Salsa, [Rice, Black Beans, Sour ...       11.75    11.75  \n",
       "4618  [Fresh Tomato Salsa, [Rice, Sour Cream, Cheese...       11.75    11.75  \n",
       "4619  [Fresh Tomato Salsa, [Fajita Vegetables, Pinto...       11.25    11.25  \n",
       "4620  [Fresh Tomato Salsa, [Fajita Vegetables, Lettu...        8.75     8.75  \n",
       "4621  [Fresh Tomato Salsa, [Fajita Vegetables, Pinto...        8.75     8.75  \n",
       "\n",
       "[4622 rows x 6 columns]"
      ]
     },
     "execution_count": 13,
     "metadata": {},
     "output_type": "execute_result"
    }
   ],
   "source": [
    "snack.quantity.astype(int)\n",
    "\n",
    "revenue =  snack.quantity * snack.item_price\n",
    "revenue\n",
    "snack=snack.assign(revenue=revenue)\n",
    "snack"
   ]
  },
  {
   "cell_type": "code",
   "execution_count": 14,
   "metadata": {},
   "outputs": [
    {
     "data": {
      "text/plain": [
       "39237.02"
      ]
     },
     "execution_count": 14,
     "metadata": {},
     "output_type": "execute_result"
    }
   ],
   "source": [
    "snack.revenue.sum()"
   ]
  },
  {
   "cell_type": "markdown",
   "metadata": {},
   "source": [
    "```\n",
    "\n",
    "   \n",
    "   \n",
    "```\n",
    "##  在该数据集对应的时期内，一共有多少订单？"
   ]
  },
  {
   "cell_type": "code",
   "execution_count": 77,
   "metadata": {},
   "outputs": [
    {
     "data": {
      "text/plain": [
       "1834"
      ]
     },
     "execution_count": 77,
     "metadata": {},
     "output_type": "execute_result"
    }
   ],
   "source": [
    "snack[\"order_id\"].value_counts().count()"
   ]
  },
  {
   "cell_type": "code",
   "execution_count": 92,
   "metadata": {},
   "outputs": [
    {
     "data": {
      "text/plain": [
       "1834"
      ]
     },
     "execution_count": 92,
     "metadata": {},
     "output_type": "execute_result"
    }
   ],
   "source": [
    "len(snack.groupby(\"order_id\"))"
   ]
  },
  {
   "cell_type": "code",
   "execution_count": 94,
   "metadata": {},
   "outputs": [
    {
     "data": {
      "text/plain": [
       "1834"
      ]
     },
     "execution_count": 94,
     "metadata": {},
     "output_type": "execute_result"
    }
   ],
   "source": [
    "snack.order_id.nunique()"
   ]
  },
  {
   "cell_type": "markdown",
   "metadata": {},
   "source": [
    "## 每一单(order)对应的平均总价是多少？"
   ]
  },
  {
   "cell_type": "code",
   "execution_count": 44,
   "metadata": {},
   "outputs": [
    {
     "data": {
      "text/plain": [
       "7.8443443470494785"
      ]
     },
     "execution_count": 44,
     "metadata": {},
     "output_type": "execute_result"
    }
   ],
   "source": [
    "def avg(x):\n",
    "    a = x.revenue/x.quantity\n",
    "    return a\n",
    "\n",
    "snack.groupby(\"order_id\").sum().apply(avg,axis=1).mean() #删除.mean可见每张订单的物品平均总价"
   ]
  },
  {
   "cell_type": "code",
   "execution_count": 99,
   "metadata": {},
   "outputs": [
    {
     "data": {
      "text/plain": [
       "21.394231188658654"
      ]
     },
     "execution_count": 99,
     "metadata": {},
     "output_type": "execute_result"
    }
   ],
   "source": [
    "def avg(x):\n",
    "    a = x.revenue/x.quantity\n",
    "    return a\n",
    "\n",
    "sum(snack.groupby(\"order_id\").sum().revenue)/len(snack.groupby(\"order_id\"))"
   ]
  },
  {
   "cell_type": "markdown",
   "metadata": {},
   "source": [
    "## 综合\n",
    "- 统计哪些item_name的choice_description缺失值最多？最多的5类item_name求出来？\n",
    "- 上面的5类item_name中，其choice_description的缺失值率是多少？"
   ]
  },
  {
   "cell_type": "code",
   "execution_count": 135,
   "metadata": {
    "scrolled": true
   },
   "outputs": [
    {
     "data": {
      "text/html": [
       "<div>\n",
       "<style scoped>\n",
       "    .dataframe tbody tr th:only-of-type {\n",
       "        vertical-align: middle;\n",
       "    }\n",
       "\n",
       "    .dataframe tbody tr th {\n",
       "        vertical-align: top;\n",
       "    }\n",
       "\n",
       "    .dataframe thead th {\n",
       "        text-align: right;\n",
       "    }\n",
       "</style>\n",
       "<table border=\"1\" class=\"dataframe\">\n",
       "  <thead>\n",
       "    <tr style=\"text-align: right;\">\n",
       "      <th></th>\n",
       "      <th>a</th>\n",
       "    </tr>\n",
       "    <tr>\n",
       "      <th>item_name</th>\n",
       "      <th></th>\n",
       "    </tr>\n",
       "  </thead>\n",
       "  <tbody>\n",
       "    <tr>\n",
       "      <td>Chips and Guacamole</td>\n",
       "      <td>479.0</td>\n",
       "    </tr>\n",
       "    <tr>\n",
       "      <td>Chips</td>\n",
       "      <td>211.0</td>\n",
       "    </tr>\n",
       "    <tr>\n",
       "      <td>Bottled Water</td>\n",
       "      <td>162.0</td>\n",
       "    </tr>\n",
       "    <tr>\n",
       "      <td>Chips and Fresh Tomato Salsa</td>\n",
       "      <td>110.0</td>\n",
       "    </tr>\n",
       "    <tr>\n",
       "      <td>Side of Chips</td>\n",
       "      <td>101.0</td>\n",
       "    </tr>\n",
       "  </tbody>\n",
       "</table>\n",
       "</div>"
      ],
      "text/plain": [
       "                                  a\n",
       "item_name                          \n",
       "Chips and Guacamole           479.0\n",
       "Chips                         211.0\n",
       "Bottled Water                 162.0\n",
       "Chips and Fresh Tomato Salsa  110.0\n",
       "Side of Chips                 101.0"
      ]
     },
     "execution_count": 135,
     "metadata": {},
     "output_type": "execute_result"
    }
   ],
   "source": [
    "snack.assign(a=snack[\"choice_description\"].isnull())\\\n",
    ".groupby(\"item_name\").aggregate({\"a\":np.sum})\\\n",
    ".sort_values(\"a\",ascending=False)[:5]"
   ]
  },
  {
   "cell_type": "code",
   "execution_count": 129,
   "metadata": {},
   "outputs": [
    {
     "ename": "AttributeError",
     "evalue": "'DataFrameGroupBy' object has no attribute 'value'",
     "output_type": "error",
     "traceback": [
      "\u001b[1;31m---------------------------------------------------------------------------\u001b[0m",
      "\u001b[1;31mAttributeError\u001b[0m                            Traceback (most recent call last)",
      "\u001b[1;32m<ipython-input-129-1733e6b4c4df>\u001b[0m in \u001b[0;36m<module>\u001b[1;34m\u001b[0m\n\u001b[0;32m      1\u001b[0m \u001b[0msnack\u001b[0m\u001b[1;33m.\u001b[0m\u001b[0massign\u001b[0m\u001b[1;33m(\u001b[0m\u001b[0ma\u001b[0m\u001b[1;33m=\u001b[0m\u001b[0msnack\u001b[0m\u001b[1;33m[\u001b[0m\u001b[1;34m\"choice_description\"\u001b[0m\u001b[1;33m]\u001b[0m\u001b[1;33m.\u001b[0m\u001b[0misnull\u001b[0m\u001b[1;33m(\u001b[0m\u001b[1;33m)\u001b[0m\u001b[1;33m)\u001b[0m\u001b[0;31m\\\u001b[0m\u001b[1;33m\u001b[0m\u001b[1;33m\u001b[0m\u001b[0m\n\u001b[0;32m      2\u001b[0m \u001b[1;33m.\u001b[0m\u001b[0mgroupby\u001b[0m\u001b[1;33m(\u001b[0m\u001b[1;34m\"item_name\"\u001b[0m\u001b[1;33m)\u001b[0m\u001b[1;33m.\u001b[0m\u001b[0maggregate\u001b[0m\u001b[1;33m(\u001b[0m\u001b[1;33m{\u001b[0m\u001b[1;34m\"a\"\u001b[0m\u001b[1;33m:\u001b[0m\u001b[0mnp\u001b[0m\u001b[1;33m.\u001b[0m\u001b[0msum\u001b[0m\u001b[1;33m}\u001b[0m\u001b[1;33m)\u001b[0m\u001b[0;31m\\\u001b[0m\u001b[1;33m\u001b[0m\u001b[1;33m\u001b[0m\u001b[0m\n\u001b[1;32m----> 3\u001b[1;33m \u001b[1;33m.\u001b[0m\u001b[0msort_values\u001b[0m\u001b[1;33m(\u001b[0m\u001b[1;34m\"a\"\u001b[0m\u001b[1;33m,\u001b[0m\u001b[0mascending\u001b[0m\u001b[1;33m=\u001b[0m\u001b[1;32mFalse\u001b[0m\u001b[1;33m)\u001b[0m\u001b[1;33m[\u001b[0m\u001b[1;33m:\u001b[0m\u001b[1;36m5\u001b[0m\u001b[1;33m]\u001b[0m\u001b[1;33m/\u001b[0m\u001b[0msnack\u001b[0m\u001b[1;33m.\u001b[0m\u001b[0mgroupby\u001b[0m\u001b[1;33m(\u001b[0m\u001b[1;34m\"item_name\"\u001b[0m\u001b[1;33m)\u001b[0m\u001b[1;33m.\u001b[0m\u001b[0mvalue\u001b[0m\u001b[1;33m.\u001b[0m\u001b[0mcounts\u001b[0m\u001b[1;33m\u001b[0m\u001b[1;33m\u001b[0m\u001b[0m\n\u001b[0m",
      "\u001b[1;32mC:\\ProgramData\\Anaconda3\\lib\\site-packages\\pandas\\core\\groupby\\groupby.py\u001b[0m in \u001b[0;36m__getattr__\u001b[1;34m(self, attr)\u001b[0m\n\u001b[0;32m    564\u001b[0m \u001b[1;33m\u001b[0m\u001b[0m\n\u001b[0;32m    565\u001b[0m         raise AttributeError(\n\u001b[1;32m--> 566\u001b[1;33m             \u001b[1;34m\"%r object has no attribute %r\"\u001b[0m \u001b[1;33m%\u001b[0m \u001b[1;33m(\u001b[0m\u001b[0mtype\u001b[0m\u001b[1;33m(\u001b[0m\u001b[0mself\u001b[0m\u001b[1;33m)\u001b[0m\u001b[1;33m.\u001b[0m\u001b[0m__name__\u001b[0m\u001b[1;33m,\u001b[0m \u001b[0mattr\u001b[0m\u001b[1;33m)\u001b[0m\u001b[1;33m\u001b[0m\u001b[1;33m\u001b[0m\u001b[0m\n\u001b[0m\u001b[0;32m    567\u001b[0m         )\n\u001b[0;32m    568\u001b[0m \u001b[1;33m\u001b[0m\u001b[0m\n",
      "\u001b[1;31mAttributeError\u001b[0m: 'DataFrameGroupBy' object has no attribute 'value'"
     ]
    }
   ],
   "source": [
    "snack.assign(a=snack[\"choice_description\"].isnull())\\\n",
    ".groupby(\"item_name\").aggregate({\"a\":np.sum})\\\n",
    ".sort_values(\"a\",ascending=False)[:5]/snack.groupby(\"item_name\").value.counts"
   ]
  },
  {
   "cell_type": "code",
   "execution_count": 125,
   "metadata": {},
   "outputs": [
    {
     "data": {
      "text/plain": [
       "item_name\n",
       "Chips and Guacamole             479\n",
       "Chips                           211\n",
       "Bottled Water                   162\n",
       "Chips and Fresh Tomato Salsa    110\n",
       "Side of Chips                   101\n",
       "dtype: int64"
      ]
     },
     "execution_count": 125,
     "metadata": {},
     "output_type": "execute_result"
    }
   ],
   "source": [
    "def suma(x):\n",
    "    return x.choice_description.isnull().sum()\n",
    "snack.groupby(\"item_name\").apply(suma).nlargest(5).index[:]"
   ]
  },
  {
   "cell_type": "code",
   "execution_count": 126,
   "metadata": {
    "collapsed": true
   },
   "outputs": [
    {
     "data": {
      "text/plain": [
       "item_name\n",
       "6 Pack Soft Drink                         54\n",
       "Barbacoa Bowl                             66\n",
       "Barbacoa Burrito                          91\n",
       "Barbacoa Crispy Tacos                     11\n",
       "Barbacoa Salad Bowl                       10\n",
       "Barbacoa Soft Tacos                       25\n",
       "Bottled Water                              0\n",
       "Bowl                                       2\n",
       "Burrito                                    6\n",
       "Canned Soda                              104\n",
       "Canned Soft Drink                        301\n",
       "Carnitas Bowl                             68\n",
       "Carnitas Burrito                          59\n",
       "Carnitas Crispy Tacos                      7\n",
       "Carnitas Salad                             1\n",
       "Carnitas Salad Bowl                        6\n",
       "Carnitas Soft Tacos                       40\n",
       "Chicken Bowl                             726\n",
       "Chicken Burrito                          553\n",
       "Chicken Crispy Tacos                      47\n",
       "Chicken Salad                              9\n",
       "Chicken Salad Bowl                       110\n",
       "Chicken Soft Tacos                       115\n",
       "Chips                                      0\n",
       "Chips and Fresh Tomato Salsa               0\n",
       "Chips and Guacamole                        0\n",
       "Chips and Mild Fresh Tomato Salsa          0\n",
       "Chips and Roasted Chili Corn Salsa         0\n",
       "Chips and Roasted Chili-Corn Salsa         0\n",
       "Chips and Tomatillo Green Chili Salsa      0\n",
       "Chips and Tomatillo Red Chili Salsa        0\n",
       "Chips and Tomatillo-Green Chili Salsa      0\n",
       "Chips and Tomatillo-Red Chili Salsa        0\n",
       "Crispy Tacos                               2\n",
       "Izze                                      20\n",
       "Nantucket Nectar                          27\n",
       "Salad                                      2\n",
       "Side of Chips                              0\n",
       "Steak Bowl                               211\n",
       "Steak Burrito                            368\n",
       "Steak Crispy Tacos                        35\n",
       "Steak Salad                                4\n",
       "Steak Salad Bowl                          29\n",
       "Steak Soft Tacos                          55\n",
       "Veggie Bowl                               85\n",
       "Veggie Burrito                            95\n",
       "Veggie Crispy Tacos                        1\n",
       "Veggie Salad                               6\n",
       "Veggie Salad Bowl                         18\n",
       "Veggie Soft Tacos                          7\n",
       "dtype: int64"
      ]
     },
     "execution_count": 126,
     "metadata": {},
     "output_type": "execute_result"
    }
   ],
   "source": [
    "def suma(x):\n",
    "    return x.choice_description.count()\n",
    "snack.groupby(\"item_name\").apply(suma)"
   ]
  },
  {
   "cell_type": "code",
   "execution_count": 46,
   "metadata": {
    "collapsed": true
   },
   "outputs": [
    {
     "data": {
      "text/html": [
       "<div>\n",
       "<style scoped>\n",
       "    .dataframe tbody tr th:only-of-type {\n",
       "        vertical-align: middle;\n",
       "    }\n",
       "\n",
       "    .dataframe tbody tr th {\n",
       "        vertical-align: top;\n",
       "    }\n",
       "\n",
       "    .dataframe thead th {\n",
       "        text-align: right;\n",
       "    }\n",
       "</style>\n",
       "<table border=\"1\" class=\"dataframe\">\n",
       "  <thead>\n",
       "    <tr style=\"text-align: right;\">\n",
       "      <th></th>\n",
       "      <th>order_id</th>\n",
       "      <th>quantity</th>\n",
       "      <th>item_price</th>\n",
       "      <th>revenue</th>\n",
       "    </tr>\n",
       "    <tr>\n",
       "      <th>item_name</th>\n",
       "      <th></th>\n",
       "      <th></th>\n",
       "      <th></th>\n",
       "      <th></th>\n",
       "    </tr>\n",
       "  </thead>\n",
       "  <tbody>\n",
       "    <tr>\n",
       "      <td>6 Pack Soft Drink</td>\n",
       "      <td>968.925926</td>\n",
       "      <td>1.018519</td>\n",
       "      <td>6.610185</td>\n",
       "      <td>6.850556</td>\n",
       "    </tr>\n",
       "    <tr>\n",
       "      <td>Barbacoa Bowl</td>\n",
       "      <td>817.757576</td>\n",
       "      <td>1.000000</td>\n",
       "      <td>10.187273</td>\n",
       "      <td>10.187273</td>\n",
       "    </tr>\n",
       "    <tr>\n",
       "      <td>Barbacoa Burrito</td>\n",
       "      <td>821.076923</td>\n",
       "      <td>1.000000</td>\n",
       "      <td>9.832418</td>\n",
       "      <td>9.832418</td>\n",
       "    </tr>\n",
       "    <tr>\n",
       "      <td>Barbacoa Crispy Tacos</td>\n",
       "      <td>510.272727</td>\n",
       "      <td>1.090909</td>\n",
       "      <td>10.928182</td>\n",
       "      <td>12.610000</td>\n",
       "    </tr>\n",
       "    <tr>\n",
       "      <td>Barbacoa Salad Bowl</td>\n",
       "      <td>970.800000</td>\n",
       "      <td>1.000000</td>\n",
       "      <td>10.640000</td>\n",
       "      <td>10.640000</td>\n",
       "    </tr>\n",
       "    <tr>\n",
       "      <td>Barbacoa Soft Tacos</td>\n",
       "      <td>749.000000</td>\n",
       "      <td>1.000000</td>\n",
       "      <td>10.018400</td>\n",
       "      <td>10.018400</td>\n",
       "    </tr>\n",
       "    <tr>\n",
       "      <td>Bottled Water</td>\n",
       "      <td>1086.074074</td>\n",
       "      <td>1.302469</td>\n",
       "      <td>1.867654</td>\n",
       "      <td>4.007284</td>\n",
       "    </tr>\n",
       "    <tr>\n",
       "      <td>Bowl</td>\n",
       "      <td>236.000000</td>\n",
       "      <td>2.000000</td>\n",
       "      <td>14.800000</td>\n",
       "      <td>37.000000</td>\n",
       "    </tr>\n",
       "    <tr>\n",
       "      <td>Burrito</td>\n",
       "      <td>258.333333</td>\n",
       "      <td>1.000000</td>\n",
       "      <td>7.400000</td>\n",
       "      <td>7.400000</td>\n",
       "    </tr>\n",
       "    <tr>\n",
       "      <td>Canned Soda</td>\n",
       "      <td>734.576923</td>\n",
       "      <td>1.211538</td>\n",
       "      <td>1.320577</td>\n",
       "      <td>1.844615</td>\n",
       "    </tr>\n",
       "    <tr>\n",
       "      <td>Canned Soft Drink</td>\n",
       "      <td>1012.468439</td>\n",
       "      <td>1.166113</td>\n",
       "      <td>1.457641</td>\n",
       "      <td>2.005814</td>\n",
       "    </tr>\n",
       "    <tr>\n",
       "      <td>Carnitas Bowl</td>\n",
       "      <td>922.676471</td>\n",
       "      <td>1.044118</td>\n",
       "      <td>10.833971</td>\n",
       "      <td>12.216324</td>\n",
       "    </tr>\n",
       "    <tr>\n",
       "      <td>Carnitas Burrito</td>\n",
       "      <td>875.457627</td>\n",
       "      <td>1.016949</td>\n",
       "      <td>10.132712</td>\n",
       "      <td>10.446271</td>\n",
       "    </tr>\n",
       "    <tr>\n",
       "      <td>Carnitas Crispy Tacos</td>\n",
       "      <td>838.285714</td>\n",
       "      <td>1.142857</td>\n",
       "      <td>11.137143</td>\n",
       "      <td>13.705714</td>\n",
       "    </tr>\n",
       "    <tr>\n",
       "      <td>Carnitas Salad</td>\n",
       "      <td>1500.000000</td>\n",
       "      <td>1.000000</td>\n",
       "      <td>8.990000</td>\n",
       "      <td>8.990000</td>\n",
       "    </tr>\n",
       "    <tr>\n",
       "      <td>Carnitas Salad Bowl</td>\n",
       "      <td>1115.500000</td>\n",
       "      <td>1.000000</td>\n",
       "      <td>11.056667</td>\n",
       "      <td>11.056667</td>\n",
       "    </tr>\n",
       "    <tr>\n",
       "      <td>Carnitas Soft Tacos</td>\n",
       "      <td>941.825000</td>\n",
       "      <td>1.000000</td>\n",
       "      <td>9.398500</td>\n",
       "      <td>9.398500</td>\n",
       "    </tr>\n",
       "    <tr>\n",
       "      <td>Chicken Bowl</td>\n",
       "      <td>983.369146</td>\n",
       "      <td>1.048209</td>\n",
       "      <td>10.113953</td>\n",
       "      <td>11.080758</td>\n",
       "    </tr>\n",
       "    <tr>\n",
       "      <td>Chicken Burrito</td>\n",
       "      <td>899.282098</td>\n",
       "      <td>1.068716</td>\n",
       "      <td>10.082857</td>\n",
       "      <td>11.549837</td>\n",
       "    </tr>\n",
       "    <tr>\n",
       "      <td>Chicken Crispy Tacos</td>\n",
       "      <td>1008.127660</td>\n",
       "      <td>1.063830</td>\n",
       "      <td>10.045319</td>\n",
       "      <td>11.151277</td>\n",
       "    </tr>\n",
       "    <tr>\n",
       "      <td>Chicken Salad</td>\n",
       "      <td>1162.777778</td>\n",
       "      <td>1.000000</td>\n",
       "      <td>9.010000</td>\n",
       "      <td>9.010000</td>\n",
       "    </tr>\n",
       "    <tr>\n",
       "      <td>Chicken Salad Bowl</td>\n",
       "      <td>1064.581818</td>\n",
       "      <td>1.118182</td>\n",
       "      <td>11.170455</td>\n",
       "      <td>13.693182</td>\n",
       "    </tr>\n",
       "    <tr>\n",
       "      <td>Chicken Soft Tacos</td>\n",
       "      <td>855.608696</td>\n",
       "      <td>1.043478</td>\n",
       "      <td>9.635565</td>\n",
       "      <td>10.426174</td>\n",
       "    </tr>\n",
       "    <tr>\n",
       "      <td>Chips</td>\n",
       "      <td>985.800948</td>\n",
       "      <td>1.090047</td>\n",
       "      <td>2.342844</td>\n",
       "      <td>2.750427</td>\n",
       "    </tr>\n",
       "    <tr>\n",
       "      <td>Chips and Fresh Tomato Salsa</td>\n",
       "      <td>912.900000</td>\n",
       "      <td>1.181818</td>\n",
       "      <td>3.285091</td>\n",
       "      <td>9.399636</td>\n",
       "    </tr>\n",
       "    <tr>\n",
       "      <td>Chips and Guacamole</td>\n",
       "      <td>939.371608</td>\n",
       "      <td>1.056367</td>\n",
       "      <td>4.595073</td>\n",
       "      <td>5.168309</td>\n",
       "    </tr>\n",
       "    <tr>\n",
       "      <td>Chips and Mild Fresh Tomato Salsa</td>\n",
       "      <td>279.000000</td>\n",
       "      <td>1.000000</td>\n",
       "      <td>3.000000</td>\n",
       "      <td>3.000000</td>\n",
       "    </tr>\n",
       "    <tr>\n",
       "      <td>Chips and Roasted Chili Corn Salsa</td>\n",
       "      <td>681.772727</td>\n",
       "      <td>1.045455</td>\n",
       "      <td>3.084091</td>\n",
       "      <td>3.352273</td>\n",
       "    </tr>\n",
       "    <tr>\n",
       "      <td>Chips and Roasted Chili-Corn Salsa</td>\n",
       "      <td>970.111111</td>\n",
       "      <td>1.000000</td>\n",
       "      <td>2.390000</td>\n",
       "      <td>2.390000</td>\n",
       "    </tr>\n",
       "    <tr>\n",
       "      <td>Chips and Tomatillo Green Chili Salsa</td>\n",
       "      <td>957.441860</td>\n",
       "      <td>1.046512</td>\n",
       "      <td>3.087209</td>\n",
       "      <td>3.361628</td>\n",
       "    </tr>\n",
       "    <tr>\n",
       "      <td>Chips and Tomatillo Red Chili Salsa</td>\n",
       "      <td>949.083333</td>\n",
       "      <td>1.041667</td>\n",
       "      <td>3.072917</td>\n",
       "      <td>3.318750</td>\n",
       "    </tr>\n",
       "    <tr>\n",
       "      <td>Chips and Tomatillo-Green Chili Salsa</td>\n",
       "      <td>704.064516</td>\n",
       "      <td>1.064516</td>\n",
       "      <td>2.544194</td>\n",
       "      <td>2.852581</td>\n",
       "    </tr>\n",
       "    <tr>\n",
       "      <td>Chips and Tomatillo-Red Chili Salsa</td>\n",
       "      <td>917.200000</td>\n",
       "      <td>1.250000</td>\n",
       "      <td>2.987500</td>\n",
       "      <td>4.660500</td>\n",
       "    </tr>\n",
       "    <tr>\n",
       "      <td>Crispy Tacos</td>\n",
       "      <td>217.000000</td>\n",
       "      <td>1.000000</td>\n",
       "      <td>7.400000</td>\n",
       "      <td>7.400000</td>\n",
       "    </tr>\n",
       "    <tr>\n",
       "      <td>Izze</td>\n",
       "      <td>529.350000</td>\n",
       "      <td>1.000000</td>\n",
       "      <td>3.390000</td>\n",
       "      <td>3.390000</td>\n",
       "    </tr>\n",
       "    <tr>\n",
       "      <td>Nantucket Nectar</td>\n",
       "      <td>807.925926</td>\n",
       "      <td>1.074074</td>\n",
       "      <td>3.641111</td>\n",
       "      <td>4.143333</td>\n",
       "    </tr>\n",
       "    <tr>\n",
       "      <td>Salad</td>\n",
       "      <td>575.000000</td>\n",
       "      <td>1.000000</td>\n",
       "      <td>7.400000</td>\n",
       "      <td>7.400000</td>\n",
       "    </tr>\n",
       "    <tr>\n",
       "      <td>Side of Chips</td>\n",
       "      <td>839.297030</td>\n",
       "      <td>1.089109</td>\n",
       "      <td>1.840594</td>\n",
       "      <td>2.878020</td>\n",
       "    </tr>\n",
       "    <tr>\n",
       "      <td>Steak Bowl</td>\n",
       "      <td>918.255924</td>\n",
       "      <td>1.047393</td>\n",
       "      <td>10.711801</td>\n",
       "      <td>11.752654</td>\n",
       "    </tr>\n",
       "    <tr>\n",
       "      <td>Steak Burrito</td>\n",
       "      <td>892.491848</td>\n",
       "      <td>1.048913</td>\n",
       "      <td>10.465842</td>\n",
       "      <td>11.511223</td>\n",
       "    </tr>\n",
       "    <tr>\n",
       "      <td>Steak Crispy Tacos</td>\n",
       "      <td>1023.371429</td>\n",
       "      <td>1.028571</td>\n",
       "      <td>10.209714</td>\n",
       "      <td>10.723429</td>\n",
       "    </tr>\n",
       "    <tr>\n",
       "      <td>Steak Salad</td>\n",
       "      <td>590.500000</td>\n",
       "      <td>1.000000</td>\n",
       "      <td>8.915000</td>\n",
       "      <td>8.915000</td>\n",
       "    </tr>\n",
       "    <tr>\n",
       "      <td>Steak Salad Bowl</td>\n",
       "      <td>1020.344828</td>\n",
       "      <td>1.068966</td>\n",
       "      <td>11.847931</td>\n",
       "      <td>13.487931</td>\n",
       "    </tr>\n",
       "    <tr>\n",
       "      <td>Steak Soft Tacos</td>\n",
       "      <td>912.309091</td>\n",
       "      <td>1.018182</td>\n",
       "      <td>9.746364</td>\n",
       "      <td>10.082727</td>\n",
       "    </tr>\n",
       "    <tr>\n",
       "      <td>Veggie Bowl</td>\n",
       "      <td>850.235294</td>\n",
       "      <td>1.023529</td>\n",
       "      <td>10.211647</td>\n",
       "      <td>10.611176</td>\n",
       "    </tr>\n",
       "    <tr>\n",
       "      <td>Veggie Burrito</td>\n",
       "      <td>852.231579</td>\n",
       "      <td>1.021053</td>\n",
       "      <td>9.839684</td>\n",
       "      <td>10.550211</td>\n",
       "    </tr>\n",
       "    <tr>\n",
       "      <td>Veggie Crispy Tacos</td>\n",
       "      <td>668.000000</td>\n",
       "      <td>1.000000</td>\n",
       "      <td>8.490000</td>\n",
       "      <td>8.490000</td>\n",
       "    </tr>\n",
       "    <tr>\n",
       "      <td>Veggie Salad</td>\n",
       "      <td>1210.833333</td>\n",
       "      <td>1.000000</td>\n",
       "      <td>8.490000</td>\n",
       "      <td>8.490000</td>\n",
       "    </tr>\n",
       "    <tr>\n",
       "      <td>Veggie Salad Bowl</td>\n",
       "      <td>961.277778</td>\n",
       "      <td>1.000000</td>\n",
       "      <td>10.138889</td>\n",
       "      <td>10.138889</td>\n",
       "    </tr>\n",
       "    <tr>\n",
       "      <td>Veggie Soft Tacos</td>\n",
       "      <td>788.571429</td>\n",
       "      <td>1.142857</td>\n",
       "      <td>10.565714</td>\n",
       "      <td>12.991429</td>\n",
       "    </tr>\n",
       "  </tbody>\n",
       "</table>\n",
       "</div>"
      ],
      "text/plain": [
       "                                          order_id  quantity  item_price  \\\n",
       "item_name                                                                  \n",
       "6 Pack Soft Drink                       968.925926  1.018519    6.610185   \n",
       "Barbacoa Bowl                           817.757576  1.000000   10.187273   \n",
       "Barbacoa Burrito                        821.076923  1.000000    9.832418   \n",
       "Barbacoa Crispy Tacos                   510.272727  1.090909   10.928182   \n",
       "Barbacoa Salad Bowl                     970.800000  1.000000   10.640000   \n",
       "Barbacoa Soft Tacos                     749.000000  1.000000   10.018400   \n",
       "Bottled Water                          1086.074074  1.302469    1.867654   \n",
       "Bowl                                    236.000000  2.000000   14.800000   \n",
       "Burrito                                 258.333333  1.000000    7.400000   \n",
       "Canned Soda                             734.576923  1.211538    1.320577   \n",
       "Canned Soft Drink                      1012.468439  1.166113    1.457641   \n",
       "Carnitas Bowl                           922.676471  1.044118   10.833971   \n",
       "Carnitas Burrito                        875.457627  1.016949   10.132712   \n",
       "Carnitas Crispy Tacos                   838.285714  1.142857   11.137143   \n",
       "Carnitas Salad                         1500.000000  1.000000    8.990000   \n",
       "Carnitas Salad Bowl                    1115.500000  1.000000   11.056667   \n",
       "Carnitas Soft Tacos                     941.825000  1.000000    9.398500   \n",
       "Chicken Bowl                            983.369146  1.048209   10.113953   \n",
       "Chicken Burrito                         899.282098  1.068716   10.082857   \n",
       "Chicken Crispy Tacos                   1008.127660  1.063830   10.045319   \n",
       "Chicken Salad                          1162.777778  1.000000    9.010000   \n",
       "Chicken Salad Bowl                     1064.581818  1.118182   11.170455   \n",
       "Chicken Soft Tacos                      855.608696  1.043478    9.635565   \n",
       "Chips                                   985.800948  1.090047    2.342844   \n",
       "Chips and Fresh Tomato Salsa            912.900000  1.181818    3.285091   \n",
       "Chips and Guacamole                     939.371608  1.056367    4.595073   \n",
       "Chips and Mild Fresh Tomato Salsa       279.000000  1.000000    3.000000   \n",
       "Chips and Roasted Chili Corn Salsa      681.772727  1.045455    3.084091   \n",
       "Chips and Roasted Chili-Corn Salsa      970.111111  1.000000    2.390000   \n",
       "Chips and Tomatillo Green Chili Salsa   957.441860  1.046512    3.087209   \n",
       "Chips and Tomatillo Red Chili Salsa     949.083333  1.041667    3.072917   \n",
       "Chips and Tomatillo-Green Chili Salsa   704.064516  1.064516    2.544194   \n",
       "Chips and Tomatillo-Red Chili Salsa     917.200000  1.250000    2.987500   \n",
       "Crispy Tacos                            217.000000  1.000000    7.400000   \n",
       "Izze                                    529.350000  1.000000    3.390000   \n",
       "Nantucket Nectar                        807.925926  1.074074    3.641111   \n",
       "Salad                                   575.000000  1.000000    7.400000   \n",
       "Side of Chips                           839.297030  1.089109    1.840594   \n",
       "Steak Bowl                              918.255924  1.047393   10.711801   \n",
       "Steak Burrito                           892.491848  1.048913   10.465842   \n",
       "Steak Crispy Tacos                     1023.371429  1.028571   10.209714   \n",
       "Steak Salad                             590.500000  1.000000    8.915000   \n",
       "Steak Salad Bowl                       1020.344828  1.068966   11.847931   \n",
       "Steak Soft Tacos                        912.309091  1.018182    9.746364   \n",
       "Veggie Bowl                             850.235294  1.023529   10.211647   \n",
       "Veggie Burrito                          852.231579  1.021053    9.839684   \n",
       "Veggie Crispy Tacos                     668.000000  1.000000    8.490000   \n",
       "Veggie Salad                           1210.833333  1.000000    8.490000   \n",
       "Veggie Salad Bowl                       961.277778  1.000000   10.138889   \n",
       "Veggie Soft Tacos                       788.571429  1.142857   10.565714   \n",
       "\n",
       "                                         revenue  \n",
       "item_name                                         \n",
       "6 Pack Soft Drink                       6.850556  \n",
       "Barbacoa Bowl                          10.187273  \n",
       "Barbacoa Burrito                        9.832418  \n",
       "Barbacoa Crispy Tacos                  12.610000  \n",
       "Barbacoa Salad Bowl                    10.640000  \n",
       "Barbacoa Soft Tacos                    10.018400  \n",
       "Bottled Water                           4.007284  \n",
       "Bowl                                   37.000000  \n",
       "Burrito                                 7.400000  \n",
       "Canned Soda                             1.844615  \n",
       "Canned Soft Drink                       2.005814  \n",
       "Carnitas Bowl                          12.216324  \n",
       "Carnitas Burrito                       10.446271  \n",
       "Carnitas Crispy Tacos                  13.705714  \n",
       "Carnitas Salad                          8.990000  \n",
       "Carnitas Salad Bowl                    11.056667  \n",
       "Carnitas Soft Tacos                     9.398500  \n",
       "Chicken Bowl                           11.080758  \n",
       "Chicken Burrito                        11.549837  \n",
       "Chicken Crispy Tacos                   11.151277  \n",
       "Chicken Salad                           9.010000  \n",
       "Chicken Salad Bowl                     13.693182  \n",
       "Chicken Soft Tacos                     10.426174  \n",
       "Chips                                   2.750427  \n",
       "Chips and Fresh Tomato Salsa            9.399636  \n",
       "Chips and Guacamole                     5.168309  \n",
       "Chips and Mild Fresh Tomato Salsa       3.000000  \n",
       "Chips and Roasted Chili Corn Salsa      3.352273  \n",
       "Chips and Roasted Chili-Corn Salsa      2.390000  \n",
       "Chips and Tomatillo Green Chili Salsa   3.361628  \n",
       "Chips and Tomatillo Red Chili Salsa     3.318750  \n",
       "Chips and Tomatillo-Green Chili Salsa   2.852581  \n",
       "Chips and Tomatillo-Red Chili Salsa     4.660500  \n",
       "Crispy Tacos                            7.400000  \n",
       "Izze                                    3.390000  \n",
       "Nantucket Nectar                        4.143333  \n",
       "Salad                                   7.400000  \n",
       "Side of Chips                           2.878020  \n",
       "Steak Bowl                             11.752654  \n",
       "Steak Burrito                          11.511223  \n",
       "Steak Crispy Tacos                     10.723429  \n",
       "Steak Salad                             8.915000  \n",
       "Steak Salad Bowl                       13.487931  \n",
       "Steak Soft Tacos                       10.082727  \n",
       "Veggie Bowl                            10.611176  \n",
       "Veggie Burrito                         10.550211  \n",
       "Veggie Crispy Tacos                     8.490000  \n",
       "Veggie Salad                            8.490000  \n",
       "Veggie Salad Bowl                      10.138889  \n",
       "Veggie Soft Tacos                      12.991429  "
      ]
     },
     "execution_count": 46,
     "metadata": {},
     "output_type": "execute_result"
    }
   ],
   "source": []
  },
  {
   "cell_type": "code",
   "execution_count": 128,
   "metadata": {},
   "outputs": [
    {
     "ename": "SyntaxError",
     "evalue": "unexpected EOF while parsing (<ipython-input-128-ec24e977aa04>, line 1)",
     "output_type": "error",
     "traceback": [
      "\u001b[1;36m  File \u001b[1;32m\"<ipython-input-128-ec24e977aa04>\"\u001b[1;36m, line \u001b[1;32m1\u001b[0m\n\u001b[1;33m    snack.pivot_table(\"choice_description\",index=\"item_name\",columns=\"choice_description\"\u001b[0m\n\u001b[1;37m                                                                                         ^\u001b[0m\n\u001b[1;31mSyntaxError\u001b[0m\u001b[1;31m:\u001b[0m unexpected EOF while parsing\n"
     ]
    }
   ],
   "source": [
    "snack.pivot_table(\"choice_description\",index=\"item_name\",columns=\"choice_description\""
   ]
  }
 ],
 "metadata": {
  "kernelspec": {
   "display_name": "Python 3",
   "language": "python",
   "name": "python3"
  },
  "language_info": {
   "codemirror_mode": {
    "name": "ipython",
    "version": 3
   },
   "file_extension": ".py",
   "mimetype": "text/x-python",
   "name": "python",
   "nbconvert_exporter": "python",
   "pygments_lexer": "ipython3",
   "version": "3.7.1"
  },
  "nbTranslate": {
   "displayLangs": [
    "*"
   ],
   "hotkey": "alt-t",
   "langInMainMenu": true,
   "sourceLang": "en",
   "targetLang": "fr",
   "useGoogleTranslate": true
  },
  "toc": {
   "base_numbering": 1,
   "nav_menu": {},
   "number_sections": true,
   "sideBar": true,
   "skip_h1_title": false,
   "title_cell": "Table of Contents",
   "title_sidebar": "Contents",
   "toc_cell": true,
   "toc_position": {
    "height": "calc(100% - 180px)",
    "left": "10px",
    "top": "150px",
    "width": "280.984px"
   },
   "toc_section_display": true,
   "toc_window_display": true
  },
  "varInspector": {
   "cols": {
    "lenName": 16,
    "lenType": 16,
    "lenVar": 40
   },
   "kernels_config": {
    "python": {
     "delete_cmd_postfix": "",
     "delete_cmd_prefix": "del ",
     "library": "var_list.py",
     "varRefreshCmd": "print(var_dic_list())"
    },
    "r": {
     "delete_cmd_postfix": ") ",
     "delete_cmd_prefix": "rm(",
     "library": "var_list.r",
     "varRefreshCmd": "cat(var_dic_list()) "
    }
   },
   "types_to_exclude": [
    "module",
    "function",
    "builtin_function_or_method",
    "instance",
    "_Feature"
   ],
   "window_display": false
  }
 },
 "nbformat": 4,
 "nbformat_minor": 2
}
