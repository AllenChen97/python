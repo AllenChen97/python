{
 "cells": [
  {
   "cell_type": "markdown",
   "metadata": {},
   "source": [
    "# 激活函数绘制"
   ]
  },
  {
   "cell_type": "code",
   "execution_count": 2,
   "metadata": {},
   "outputs": [
    {
     "data": {
      "image/png": "[encoded data removed]",
      "text/plain": [
       "<Figure size 432x288 with 4 Axes>"
      ]
     },
     "metadata": {},
     "output_type": "display_data"
    }
   ],
   "source": [
    "import matplotlib.pyplot as plt\n",
    "import numpy as np\n",
    "%matplotlib inline\n",
    "x = np.linspace(-10,10)\n",
    "y_sigmoid = 1/(1+np.exp(-x))\n",
    "y_tanh = (np.exp(x)-np.exp(-x))/(np.exp(x)+np.exp(-x))\n",
    "\n",
    "fig = plt.figure()\n",
    "# plot sigmoid\n",
    "ax = fig.add_subplot(221)\n",
    "ax.plot(x,y_sigmoid)\n",
    "ax.grid()\n",
    "ax.set_title('(a) Sigmoid')\n",
    "\n",
    "# plot tanh\n",
    "ax = fig.add_subplot(222)\n",
    "ax.plot(x,y_tanh)\n",
    "ax.grid()\n",
    "ax.set_title('(b) Tanh')\n",
    "\n",
    "# plot relu\n",
    "ax = fig.add_subplot(223)\n",
    "y_relu = np.array([0*item  if item<0 else item for item in x ]) \n",
    "ax.plot(x,y_relu)\n",
    "ax.grid()\n",
    "ax.set_title('(c) ReLu')\n",
    "\n",
    "#plot leaky relu\n",
    "ax = fig.add_subplot(224)\n",
    "y_relu = np.array([0.2*item  if item<0 else item for item in x ]) \n",
    "ax.plot(x,y_relu)\n",
    "ax.grid()\n",
    "ax.set_title('(d) Leaky ReLu')\n",
    "plt.tight_layout()#自动控制间隔\n"
   ]
  },
  {
   "cell_type": "markdown",
   "metadata": {},
   "source": [
    "# bp神经网络的python实现"
   ]
  },
  {
   "cell_type": "code",
   "execution_count": 1,
   "metadata": {},
   "outputs": [
    {
     "name": "stdout",
     "output_type": "stream",
     "text": [
      "--------- 1.load data ------------\n",
      "--------- 2.training ------------\n",
      "\t-------- iter:  0  ,cost:  0.1113069024248611\n",
      "\t-------- iter:  100  ,cost:  0.027346149730418087\n",
      "\t-------- iter:  200  ,cost:  0.019339030087782393\n",
      "\t-------- iter:  300  ,cost:  0.016163340209465124\n",
      "\t-------- iter:  400  ,cost:  0.01430811597893449\n",
      "\t-------- iter:  500  ,cost:  0.012798742095258418\n",
      "\t-------- iter:  600  ,cost:  0.01019797009670846\n",
      "\t-------- iter:  700  ,cost:  0.009421969544930762\n",
      "\t-------- iter:  800  ,cost:  0.008983876097233367\n",
      "\t-------- iter:  900  ,cost:  0.008054993381453063\n",
      "\t-------- iter:  1000  ,cost:  0.00839615917935992\n",
      "--------- 3.get prediction ------------\n",
      "训练准确性为： 0.99\n"
     ]
    }
   ],
   "source": [
    "import os\n",
    "os.chdir('C:\\\\Users\\\\CDA\\\\data')\n",
    "import numpy as np\n",
    "import pandas as pd\n",
    "from math import sqrt\n",
    "import matplotlib.pyplot as plt\n",
    "def load_data():\n",
    "    data=pd.read_table(\"bpdata.txt\",sep='\t',names=['x1','x2','y'])\n",
    "    feature=data[['x1','x2']].values\n",
    "    label_tmp=data['y'].values\n",
    "    n_class = len(set(label_tmp))  # 得到类别的个数，2\n",
    "   \n",
    "    #标签转成独热码\n",
    "    m = len(label_tmp)#400\n",
    "    label = np.mat(np.zeros((m, n_class)))\n",
    "    for i in range(m):\n",
    "        label[i, label_tmp[i]] = 1\n",
    "    return np.mat(feature), label,n_class \n",
    "\n",
    "def sig(x):\n",
    "    '''Sigmoid函数\n",
    "    input:  x(mat/float):自变量，可以是矩阵或者是任意实数\n",
    "    output: Sigmoid值(mat/float):Sigmoid函数的值\n",
    "    '''\n",
    "    return 1.0 / (1 + np.exp(-x))\n",
    "\n",
    "def partial_sig(x):\n",
    "    '''Sigmoid导函数的值\n",
    "    input:  x(mat/float):自变量，可以是矩阵或者是任意实数\n",
    "    output: out(mat/float):Sigmoid导函数的值\n",
    "    '''\n",
    "    m, n = np.shape(x)\n",
    "    out = np.mat(np.zeros((m, n)))\n",
    "    for i in range(m):\n",
    "        for j in range(n):\n",
    "            out[i, j] = sig(x[i, j]) * (1 - sig(x[i, j]))\n",
    "    return out\n",
    "\n",
    "def hidden_in(feature, w0, b0):\n",
    "    '''计算隐含层的输入\n",
    "    input:  feature(mat):特征\n",
    "            w0(mat):输入层到隐含层之间的权重\n",
    "            b0(mat):输入层到隐含层之间的偏置\n",
    "    output: hidden_in(mat):隐含层的输入\n",
    "    '''\n",
    "    m = np.shape(feature)[0]#m=400\n",
    "    hidden_in = feature * w0\n",
    "    for i in range(m):\n",
    "        hidden_in[i, ] += b0#所有的输入样本点都加上偏置\n",
    "    return hidden_in\n",
    "\n",
    "def hidden_out(hidden_in):\n",
    "    '''隐含层的输出\n",
    "    input:  hidden_in(mat):隐含层的输入\n",
    "    output: hidden_output(mat):隐含层的输出\n",
    "    '''\n",
    "    hidden_output = sig(hidden_in)\n",
    "    return hidden_output;\n",
    "\n",
    "def predict_in(hidden_out, w1, b1):\n",
    "    '''计算输出层的输入\n",
    "    input:  hidden_out(mat):隐含层的输出\n",
    "            w1(mat):隐含层到输出层之间的权重\n",
    "            b1(mat):隐含层到输出层之间的偏置\n",
    "    output: predict_in(mat):输出层的输入\n",
    "    '''\n",
    "    m = np.shape(hidden_out)[0]\n",
    "    predict_in = hidden_out * w1\n",
    "    for i in range(m):\n",
    "        predict_in[i, ] += b1\n",
    "    return predict_in\n",
    "    \n",
    "def predict_out(predict_in):\n",
    "    '''输出层的输出\n",
    "    input:  predict_in(mat):输出层的输入\n",
    "    output: result(mat):输出层的输出\n",
    "    '''\n",
    "    result = sig(predict_in)\n",
    "    return result\n",
    "\n",
    "def bp_train(feature, label, n_hidden, maxCycle, alpha, n_output):\n",
    "    '''计算隐含层的输入\n",
    "    input:  feature(mat):特征\n",
    "            label(mat):标签\n",
    "            n_hidden(int):隐含层的节点个数\n",
    "            maxCycle(int):最大的迭代次数\n",
    "            alpha(float):学习率\n",
    "            n_output(int):输出层的节点个数\n",
    "    output: w0(mat):输入层到隐含层之间的权重\n",
    "            b0(mat):输入层到隐含层之间的偏置\n",
    "            w1(mat):隐含层到输出层之间的权重\n",
    "            b1(mat):隐含层到输出层之间的偏置\n",
    "    '''\n",
    "    m, n = np.shape(feature)#400,2\n",
    "    # 1、初始化\n",
    "    w0 = np.mat(np.random.rand(n, n_hidden))#2x20,两个输入，20个输出\n",
    "    w0 = w0 * (8.0 * sqrt(6)/sqrt(n + n_hidden))-np.mat(np.ones((n, n_hidden)))*(4.0 * sqrt(6)/sqrt(n + n_hidden))\n",
    "    b0 = np.mat(np.random.rand(1, n_hidden))#1x20\n",
    "    b0 = b0 * (8.0 * sqrt(6)/sqrt(n + n_hidden))-np.mat(np.ones((1, n_hidden)))*(4.0 * sqrt(6)/sqrt(n + n_hidden))\n",
    "    w1 = np.mat(np.random.rand(n_hidden, n_output))#20x2\n",
    "    w1 = w1 * (8.0 * sqrt(6)/sqrt(n_hidden + n_output))-np.mat(np.ones((n_hidden, n_output)))*(4.0 * sqrt(6)/sqrt(n_hidden + n_output))\n",
    "    b1 = np.mat(np.random.rand(1, n_output))#1x2\n",
    "    b1 = b1 * (8.0 * sqrt(6)/sqrt(n_hidden + n_output))-np.mat(np.ones((1, n_output)))*(4.0 * sqrt(6)/sqrt(n_hidden + n_output))\n",
    "    \n",
    "    # 2、训练\n",
    "    i = 0\n",
    "    while i <= maxCycle:\n",
    "        # 2.1、信号正向传播\n",
    "        # 2.1.1、计算隐含层的输入\n",
    "        hidden_input = hidden_in(feature, w0, b0)  # mXn_hidden\n",
    "        # 2.1.2、计算隐含层的输出\n",
    "        hidden_output = hidden_out(hidden_input)\n",
    "        # 2.1.3、计算输出层的输入\n",
    "        output_in = predict_in(hidden_output, w1, b1)  # mXn_output\n",
    "        # 2.1.4、计算输出层的输出\n",
    "        output_out = predict_out(output_in)\n",
    "        \n",
    "        # 2.2、误差的反向传播\n",
    "        # 2.2.1、隐含层到输出层之间的残差\n",
    "        delta_output = -np.multiply((label - output_out), partial_sig(output_in))\n",
    "        # 2.2.2、输入层到隐含层之间的残差\n",
    "        delta_hidden = np.multiply((delta_output * w1.T), partial_sig(hidden_input))\n",
    "        \n",
    "        # 2.3、 修正权重和偏置       \n",
    "        w1 = w1 - alpha * (hidden_output.T * delta_output)\n",
    "        b1 = b1 - alpha * np.sum(delta_output, axis=0) * (1.0 / m)\n",
    "        w0 = w0 - alpha * (feature.T * delta_hidden)\n",
    "        b0 = b0 - alpha * np.sum(delta_hidden, axis=0) * (1.0 / m)\n",
    "        if i % 100 == 0:\n",
    "            print(\"\\t-------- iter: \", i, \" ,cost: \",  (1.0/2) * get_cost(get_predict(feature, w0, w1, b0, b1) - label))                \n",
    "        i += 1           \n",
    "    return w0, w1, b0, b1\n",
    "\n",
    "def get_cost(cost):\n",
    "    '''计算当前损失函数的值\n",
    "    input:  cost(mat):预测值与标签之间的差\n",
    "    output: cost_sum / m (double):损失函数的值\n",
    "    '''\n",
    "    m,n = np.shape(cost)\n",
    "    \n",
    "    cost_sum = 0.0\n",
    "    for i in range(m):\n",
    "        for j in range(n):\n",
    "            cost_sum += cost[i,j] * cost[i,j]\n",
    "    return cost_sum / m\n",
    "\n",
    "def get_predict(feature, w0, w1, b0, b1):\n",
    "    '''计算最终的预测\n",
    "    input:  feature(mat):特征\n",
    "            w0(mat):输入层到隐含层之间的权重\n",
    "            b0(mat):输入层到隐含层之间的偏置\n",
    "            w1(mat):隐含层到输出层之间的权重\n",
    "            b1(mat):隐含层到输出层之间的偏置\n",
    "    output: 预测值\n",
    "    '''\n",
    "    return predict_out(predict_in(hidden_out(hidden_in(feature, w0, b0)), w1, b1))    \n",
    "\n",
    "    \n",
    "def err_rate(label, pre):\n",
    "    '''计算训练样本上的错误率\n",
    "    input:  label(mat):训练样本的标签\n",
    "            pre(mat):训练样本的预测值\n",
    "    output: rate[0,0](float):错误率\n",
    "    '''\n",
    "    m = np.shape(label)[0]\n",
    "    err = 0.0\n",
    "    for i in range(m):\n",
    "        if label[i, 0] != pre[i, 0]:\n",
    "            err += 1\n",
    "    rate = err / m\n",
    "    return rate\n",
    "\n",
    "if __name__ == \"__main__\":\n",
    "    #导入数据\n",
    "    print(\"--------- 1.load data ------------\")\n",
    "    feature, label, n_class = load_data()#神经元有两个输入，两个输出\n",
    "    plt.figure(figsize=(8,4),dpi=100)\n",
    "    feature1=feature[:,0].getA()\n",
    "    feature2=feature[:,1].getA()\n",
    "    plt.scatter(feature1[0:200],feature2[0:200],color='b')\n",
    "    plt.scatter(feature1[200:],feature2[200:],color='r')\n",
    "    plt.title(\"original_data\")\n",
    "    \n",
    "    #训练网络模型\n",
    "    print(\"--------- 2.training ------------\")\n",
    "    w0, w1, b0, b1 = bp_train(feature, label, 20, 1000, 0.1, n_class)\n",
    "\n",
    "    #得到最终的预测结果\n",
    "    print(\"--------- 3.get prediction ------------\")\n",
    "    result = get_predict(feature, w0, w1, b0, b1)\n",
    "    print(\"训练准确性为：\", (1 - err_rate(np.argmax(label, axis=1), np.argmax(result, axis=1))))\n"
   ]
  },
  {
   "cell_type": "markdown",
   "metadata": {},
   "source": [
    "# sklearn中的MLP"
   ]
  },
  {
   "cell_type": "code",
   "execution_count": 19,
   "metadata": {},
   "outputs": [
    {
     "name": "stdout",
     "output_type": "stream",
     "text": [
      "[1 0]\n",
      "[[1.96718015e-004 9.99803282e-001]\n",
      " [1.00000000e+000 4.67017947e-144]]\n",
      "[(2, 5), (5, 2), (2, 1)]\n"
     ]
    }
   ],
   "source": [
    "#分类\n",
    "from sklearn.neural_network import MLPClassifier\n",
    "X = [[0., 0.], [1., 1.]]\n",
    "y = [0, 1]#输出一个\n",
    "clf = MLPClassifier(solver='lbfgs', alpha=1e-5,\n",
    "                    hidden_layer_sizes=(5,2), random_state=1)\n",
    "clf.fit(X, y)  \n",
    "print(clf.predict_proba([[2., 2.], [-1., -2.]]))\n",
    "print([coef.shape for coef in clf.coefs_])\n",
    "print(clf.predict([[2., 2.], [-1., -2.]]))"
   ]
  },
  {
   "cell_type": "code",
   "execution_count": 16,
   "metadata": {},
   "outputs": [
    {
     "data": {
      "text/plain": [
       "array([ 0.99992939, -1.74426841])"
      ]
     },
     "execution_count": 16,
     "metadata": {},
     "output_type": "execute_result"
    }
   ],
   "source": [
    "#回归\n",
    "from sklearn.neural_network import MLPRegressor\n",
    "X = [[0., 0.], [1., 1.]]\n",
    "y = [0, 1]\n",
    "clf = MLPRegressor(solver='lbfgs', alpha=1e-5,\n",
    "                    hidden_layer_sizes=(5, 2), random_state=1)\n",
    "clf.fit(X, y)\n",
    "clf.predict([[2., 2.], [-1., -2.]])"
   ]
  },
  {
   "cell_type": "code",
   "execution_count": 17,
   "metadata": {},
   "outputs": [
    {
     "data": {
      "text/plain": [
       "[array([[-0.15363893,  0.34727085, -0.92556938, -0.58865324, -0.65405348],\n",
       "        [-0.75481049, -0.64158244, -0.28595394, -0.41380114,  0.0718716 ]]),\n",
       " array([[ 0.31563122, -0.15311531],\n",
       "        [ 0.17586972, -0.66584599],\n",
       "        [-0.5589839 ,  0.55684731],\n",
       "        [ 0.98388591, -0.34545676],\n",
       "        [ 0.35609731,  0.69690797]]),\n",
       " array([[-1.15931301],\n",
       "        [-0.93382131]])]"
      ]
     },
     "execution_count": 17,
     "metadata": {},
     "output_type": "execute_result"
    }
   ],
   "source": [
    "clf.coefs_"
   ]
  },
  {
   "cell_type": "markdown",
   "metadata": {},
   "source": [
    "# 葡萄酒分类"
   ]
  },
  {
   "cell_type": "code",
   "execution_count": 2,
   "metadata": {},
   "outputs": [],
   "source": [
    "from sklearn.neural_network import MLPClassifier\n",
    "from sklearn.model_selection import train_test_split\n",
    "from sklearn.preprocessing import StandardScaler\n",
    "from sklearn.metrics import classification_report,confusion_matrix\n",
    "import numpy as np\n",
    "import os\n",
    "os.chdir('C:\\\\Users\\\\CDA\\\\data')\n",
    "data = np.genfromtxt('wine_data.csv', delimiter=',')"
   ]
  },
  {
   "cell_type": "code",
   "execution_count": 5,
   "metadata": {},
   "outputs": [
    {
     "data": {
      "text/plain": [
       "array([[1.423e+01, 1.710e+00, 2.430e+00, ..., 1.040e+00, 3.920e+00,\n",
       "        1.065e+03],\n",
       "       [1.320e+01, 1.780e+00, 2.140e+00, ..., 1.050e+00, 3.400e+00,\n",
       "        1.050e+03],\n",
       "       [1.316e+01, 2.360e+00, 2.670e+00, ..., 1.030e+00, 3.170e+00,\n",
       "        1.185e+03],\n",
       "       ...,\n",
       "       [1.327e+01, 4.280e+00, 2.260e+00, ..., 5.900e-01, 1.560e+00,\n",
       "        8.350e+02],\n",
       "       [1.317e+01, 2.590e+00, 2.370e+00, ..., 6.000e-01, 1.620e+00,\n",
       "        8.400e+02],\n",
       "       [1.413e+01, 4.100e+00, 2.740e+00, ..., 6.100e-01, 1.600e+00,\n",
       "        5.600e+02]])"
      ]
     },
     "execution_count": 5,
     "metadata": {},
     "output_type": "execute_result"
    }
   ],
   "source": [
    "x_data=data[:,1:]#数据特征\n",
    "x_data"
   ]
  },
  {
   "cell_type": "code",
   "execution_count": 4,
   "metadata": {},
   "outputs": [
    {
     "data": {
      "text/plain": [
       "array([1., 1., 1., 1., 1., 1., 1., 1., 1., 1., 1., 1., 1., 1., 1., 1., 1.,\n",
       "       1., 1., 1., 1., 1., 1., 1., 1., 1., 1., 1., 1., 1., 1., 1., 1., 1.,\n",
       "       1., 1., 1., 1., 1., 1., 1., 1., 1., 1., 1., 1., 1., 1., 1., 1., 1.,\n",
       "       1., 1., 1., 1., 1., 1., 1., 1., 2., 2., 2., 2., 2., 2., 2., 2., 2.,\n",
       "       2., 2., 2., 2., 2., 2., 2., 2., 2., 2., 2., 2., 2., 2., 2., 2., 2.,\n",
       "       2., 2., 2., 2., 2., 2., 2., 2., 2., 2., 2., 2., 2., 2., 2., 2., 2.,\n",
       "       2., 2., 2., 2., 2., 2., 2., 2., 2., 2., 2., 2., 2., 2., 2., 2., 2.,\n",
       "       2., 2., 2., 2., 2., 2., 2., 2., 2., 2., 2., 3., 3., 3., 3., 3., 3.,\n",
       "       3., 3., 3., 3., 3., 3., 3., 3., 3., 3., 3., 3., 3., 3., 3., 3., 3.,\n",
       "       3., 3., 3., 3., 3., 3., 3., 3., 3., 3., 3., 3., 3., 3., 3., 3., 3.,\n",
       "       3., 3., 3., 3., 3., 3., 3., 3.])"
      ]
     },
     "execution_count": 4,
     "metadata": {},
     "output_type": "execute_result"
    }
   ],
   "source": [
    "y_data=data[:,0]\n",
    "y_data"
   ]
  },
  {
   "cell_type": "code",
   "execution_count": 5,
   "metadata": {},
   "outputs": [],
   "source": [
    "x_train, x_test, y_train, y_test = train_test_split(x_data, y_data)#分为训练和测试"
   ]
  },
  {
   "cell_type": "code",
   "execution_count": 6,
   "metadata": {},
   "outputs": [
    {
     "name": "stdout",
     "output_type": "stream",
     "text": [
      "Help on function train_test_split in module sklearn.model_selection._split:\n",
      "\n",
      "train_test_split(*arrays, **options)\n",
      "    Split arrays or matrices into random train and test subsets\n",
      "    \n",
      "    Quick utility that wraps input validation and\n",
      "    ``next(ShuffleSplit().split(X, y))`` and application to input data\n",
      "    into a single call for splitting (and optionally subsampling) data in a\n",
      "    oneliner.\n",
      "    \n",
      "    Read more in the :ref:`User Guide <cross_validation>`.\n",
      "    \n",
      "    Parameters\n",
      "    ----------\n",
      "    *arrays : sequence of indexables with same length / shape[0]\n",
      "        Allowed inputs are lists, numpy arrays, scipy-sparse\n",
      "        matrices or pandas dataframes.\n",
      "    \n",
      "    test_size : float, int, None, optional\n",
      "        If float, should be between 0.0 and 1.0 and represent the proportion\n",
      "        of the dataset to include in the test split. If int, represents the\n",
      "        absolute number of test samples. If None, the value is set to the\n",
      "        complement of the train size. By default, the value is set to 0.25.\n",
      "        The default will change in version 0.21. It will remain 0.25 only\n",
      "        if ``train_size`` is unspecified, otherwise it will complement\n",
      "        the specified ``train_size``.\n",
      "    \n",
      "    train_size : float, int, or None, default None\n",
      "        If float, should be between 0.0 and 1.0 and represent the\n",
      "        proportion of the dataset to include in the train split. If\n",
      "        int, represents the absolute number of train samples. If None,\n",
      "        the value is automatically set to the complement of the test size.\n",
      "    \n",
      "    random_state : int, RandomState instance or None, optional (default=None)\n",
      "        If int, random_state is the seed used by the random number generator;\n",
      "        If RandomState instance, random_state is the random number generator;\n",
      "        If None, the random number generator is the RandomState instance used\n",
      "        by `np.random`.\n",
      "    \n",
      "    shuffle : boolean, optional (default=True)\n",
      "        Whether or not to shuffle the data before splitting. If shuffle=False\n",
      "        then stratify must be None.\n",
      "    \n",
      "    stratify : array-like or None (default is None)\n",
      "        If not None, data is split in a stratified fashion, using this as\n",
      "        the class labels.\n",
      "    \n",
      "    Returns\n",
      "    -------\n",
      "    splitting : list, length=2 * len(arrays)\n",
      "        List containing train-test split of inputs.\n",
      "    \n",
      "        .. versionadded:: 0.16\n",
      "            If the input is sparse, the output will be a\n",
      "            ``scipy.sparse.csr_matrix``. Else, output type is the same as the\n",
      "            input type.\n",
      "    \n",
      "    Examples\n",
      "    --------\n",
      "    >>> import numpy as np\n",
      "    >>> from sklearn.model_selection import train_test_split\n",
      "    >>> X, y = np.arange(10).reshape((5, 2)), range(5)\n",
      "    >>> X\n",
      "    array([[0, 1],\n",
      "           [2, 3],\n",
      "           [4, 5],\n",
      "           [6, 7],\n",
      "           [8, 9]])\n",
      "    >>> list(y)\n",
      "    [0, 1, 2, 3, 4]\n",
      "    \n",
      "    >>> X_train, X_test, y_train, y_test = train_test_split(\n",
      "    ...     X, y, test_size=0.33, random_state=42)\n",
      "    ...\n",
      "    >>> X_train\n",
      "    array([[4, 5],\n",
      "           [0, 1],\n",
      "           [6, 7]])\n",
      "    >>> y_train\n",
      "    [2, 0, 3]\n",
      "    >>> X_test\n",
      "    array([[2, 3],\n",
      "           [8, 9]])\n",
      "    >>> y_test\n",
      "    [1, 4]\n",
      "    \n",
      "    >>> train_test_split(y, shuffle=False)\n",
      "    [[0, 1, 2], [3, 4]]\n",
      "\n"
     ]
    }
   ],
   "source": [
    "help(train_test_split)"
   ]
  },
  {
   "cell_type": "code",
   "execution_count": 27,
   "metadata": {},
   "outputs": [
    {
     "data": {
      "text/plain": [
       "133"
      ]
     },
     "execution_count": 27,
     "metadata": {},
     "output_type": "execute_result"
    }
   ],
   "source": [
    "len(x_train)"
   ]
  },
  {
   "cell_type": "code",
   "execution_count": 28,
   "metadata": {},
   "outputs": [
    {
     "data": {
      "text/plain": [
       "45"
      ]
     },
     "execution_count": 28,
     "metadata": {},
     "output_type": "execute_result"
    }
   ],
   "source": [
    "len(x_test)"
   ]
  },
  {
   "cell_type": "code",
   "execution_count": 7,
   "metadata": {},
   "outputs": [],
   "source": [
    "scaler = StandardScaler()\n",
    "x_train = scaler.fit_transform(x_train)#标准化处理\n",
    "x_test = scaler.transform(x_test)"
   ]
  },
  {
   "cell_type": "code",
   "execution_count": 12,
   "metadata": {},
   "outputs": [
    {
     "data": {
      "text/plain": [
       "MLPClassifier(activation='relu', alpha=0.0001, batch_size='auto', beta_1=0.9,\n",
       "       beta_2=0.999, early_stopping=False, epsilon=1e-08,\n",
       "       hidden_layer_sizes=20, learning_rate='constant',\n",
       "       learning_rate_init=0.001, max_iter=500, momentum=0.9,\n",
       "       nesterovs_momentum=True, power_t=0.5, random_state=None,\n",
       "       shuffle=True, solver='adam', tol=0.0001, validation_fraction=0.1,\n",
       "       verbose=False, warm_start=False)"
      ]
     },
     "execution_count": 12,
     "metadata": {},
     "output_type": "execute_result"
    }
   ],
   "source": [
    "mlp = MLPClassifier(hidden_layer_sizes=(20),max_iter=500)\n",
    "mlp.fit(x_train, y_train)"
   ]
  },
  {
   "cell_type": "code",
   "execution_count": 13,
   "metadata": {},
   "outputs": [],
   "source": [
    "predictions = mlp.predict(x_test)"
   ]
  },
  {
   "cell_type": "code",
   "execution_count": 14,
   "metadata": {},
   "outputs": [
    {
     "name": "stdout",
     "output_type": "stream",
     "text": [
      "             precision    recall  f1-score   support\n",
      "\n",
      "        1.0       1.00      0.92      0.96        12\n",
      "        2.0       0.89      1.00      0.94        17\n",
      "        3.0       1.00      0.94      0.97        16\n",
      "\n",
      "avg / total       0.96      0.96      0.96        45\n",
      "\n"
     ]
    }
   ],
   "source": [
    "print(classification_report(y_test, predictions))"
   ]
  },
  {
   "cell_type": "code",
   "execution_count": 15,
   "metadata": {},
   "outputs": [
    {
     "name": "stdout",
     "output_type": "stream",
     "text": [
      "[[11  1  0]\n",
      " [ 0 17  0]\n",
      " [ 0  1 15]]\n"
     ]
    }
   ],
   "source": [
    "print(confusion_matrix(y_test,predictions))"
   ]
  },
  {
   "cell_type": "markdown",
   "metadata": {},
   "source": [
    "# tensorflow"
   ]
  },
  {
   "cell_type": "code",
   "execution_count": 6,
   "metadata": {},
   "outputs": [
    {
     "name": "stdout",
     "output_type": "stream",
     "text": [
      "WARNING:tensorflow:From C:\\ProgramData\\Anaconda3\\lib\\site-packages\\tensorflow\\python\\framework\\op_def_library.py:263: colocate_with (from tensorflow.python.framework.ops) is deprecated and will be removed in a future version.\n",
      "Instructions for updating:\n",
      "Colocations handled automatically by placer.\n"
     ]
    },
    {
     "data": {
      "text/plain": [
       "<tf.Variable 'ts_x:0' shape=() dtype=int32_ref>"
      ]
     },
     "execution_count": 6,
     "metadata": {},
     "output_type": "execute_result"
    }
   ],
   "source": [
    "# 建立常量和变量\n",
    "import tensorflow as tf\t\t# 导入tensorflow模块\n",
    "ts_c = tf.constant(2,name='ts_c')\n",
    "ts_x = tf.Variable(ts_c+5,name='ts_x')\n",
    "ts_x"
   ]
  },
  {
   "cell_type": "code",
   "execution_count": 7,
   "metadata": {},
   "outputs": [
    {
     "data": {
      "text/plain": [
       "<tf.Tensor 'ts_c:0' shape=() dtype=int32>"
      ]
     },
     "execution_count": 7,
     "metadata": {},
     "output_type": "execute_result"
    }
   ],
   "source": [
    "ts_c"
   ]
  },
  {
   "cell_type": "code",
   "execution_count": 8,
   "metadata": {},
   "outputs": [
    {
     "data": {
      "text/plain": [
       "2"
      ]
     },
     "execution_count": 8,
     "metadata": {},
     "output_type": "execute_result"
    }
   ],
   "source": [
    "sess=tf.Session()#打开session开始执行计算图\n",
    "init = tf.global_variables_initializer()\n",
    "sess.run(init)#初始化所有TensorFlow global变量\n",
    "sess.run(ts_c)"
   ]
  },
  {
   "cell_type": "code",
   "execution_count": 19,
   "metadata": {},
   "outputs": [
    {
     "name": "stdout",
     "output_type": "stream",
     "text": [
      "()\n"
     ]
    }
   ],
   "source": [
    "print(ts_c.shape)"
   ]
  },
  {
   "cell_type": "code",
   "execution_count": 4,
   "metadata": {},
   "outputs": [
    {
     "data": {
      "text/plain": [
       "7"
      ]
     },
     "execution_count": 4,
     "metadata": {},
     "output_type": "execute_result"
    }
   ],
   "source": [
    "sess.run(ts_x)"
   ]
  },
  {
   "cell_type": "code",
   "execution_count": 5,
   "metadata": {},
   "outputs": [],
   "source": [
    "sess.close()#不使用session时候，将其关闭"
   ]
  },
  {
   "cell_type": "code",
   "execution_count": 13,
   "metadata": {},
   "outputs": [
    {
     "name": "stdout",
     "output_type": "stream",
     "text": [
      "area= 48\n"
     ]
    }
   ],
   "source": [
    "#占位符号\n",
    "width = tf.placeholder(\"int32\")\n",
    "height = tf.placeholder(\"int32\")\n",
    "area=tf.multiply(width,height)\n",
    "with tf.Session() as sess:\n",
    "    init = tf.global_variables_initializer()\n",
    "    sess.run(init)\n",
    "    print('area=',sess.run(area,feed_dict={width: 6, height: 8}))"
   ]
  },
  {
   "cell_type": "code",
   "execution_count": 6,
   "metadata": {},
   "outputs": [
    {
     "name": "stdout",
     "output_type": "stream",
     "text": [
      "[0.4 0.2 0.4]\n",
      "(3,)\n"
     ]
    }
   ],
   "source": [
    "#创建一维张量\n",
    "ts_X = tf.Variable([0.4,0.2,0.4])#建立一维张量使用tf.Variable传入即可\n",
    "with tf.Session() as sess:\n",
    "    init = tf.global_variables_initializer()\n",
    "    sess.run(init)\n",
    "    X=sess.run(ts_X)\n",
    "    print(X)\n",
    "    print(X.shape)"
   ]
  },
  {
   "cell_type": "code",
   "execution_count": 50,
   "metadata": {},
   "outputs": [
    {
     "name": "stdout",
     "output_type": "stream",
     "text": [
      "[[0.4 0.2 0.4]]\n",
      "(1, 3)\n"
     ]
    }
   ],
   "source": [
    "ts_X = tf.Variable([[0.4,0.2,0.4]])#建立二维张量\n",
    "with tf.Session() as sess:\n",
    "    init = tf.global_variables_initializer()\n",
    "    sess.run(init)\n",
    "    X=sess.run(ts_X)\n",
    "    print(X)\n",
    "    print(X.shape)"
   ]
  },
  {
   "cell_type": "code",
   "execution_count": 51,
   "metadata": {},
   "outputs": [
    {
     "name": "stdout",
     "output_type": "stream",
     "text": [
      "[[-1.3  0.4]]\n"
     ]
    }
   ],
   "source": [
    "#矩阵乘法\n",
    "X = tf.Variable([[1.,1.,1.]])\n",
    "W = tf.Variable([[-0.5,-0.2 ],\n",
    "                 [-0.3, 0.4 ],\n",
    "                 [-0.5, 0.2 ]])\n",
    "                        \n",
    "XW =tf.matmul(X,W)\n",
    "with tf.Session() as sess:\n",
    "    init = tf.global_variables_initializer()\n",
    "    sess.run(init)\n",
    "    print(sess.run(XW))\n"
   ]
  },
  {
   "cell_type": "code",
   "execution_count": 20,
   "metadata": {},
   "outputs": [
    {
     "name": "stdout",
     "output_type": "stream",
     "text": [
      "[[-1.1999999  0.6      ]]\n"
     ]
    }
   ],
   "source": [
    "#矩阵乘加\n",
    "X = tf.Variable([[1.,1.,1.]])\n",
    "W = tf.Variable([[-0.5,-0.2 ],\n",
    "                 [-0.3, 0.4 ],\n",
    "                 [-0.5, 0.2 ]])\n",
    "b = tf.Variable([[0.1,0.2]])\n",
    "XWb =tf.matmul(X,W)+b\n",
    "with tf.Session() as sess:\n",
    "    init = tf.global_variables_initializer()\n",
    "    sess.run(init)  \n",
    "    print(sess.run(XWb))"
   ]
  },
  {
   "cell_type": "code",
   "execution_count": 21,
   "metadata": {},
   "outputs": [
    {
     "name": "stdout",
     "output_type": "stream",
     "text": [
      "[[0.   0.28]]\n"
     ]
    }
   ],
   "source": [
    "#模拟神经网络\n",
    "import tensorflow as tf\n",
    "import numpy as np\n",
    "X = tf.Variable([[0.4,0.2,0.4]])#输入x，接收外界传送信息，三个神经元，x1，x2，x3\n",
    "W = tf.Variable([[-0.5,-0.2 ],\n",
    "                 [-0.3, 0.4 ],\n",
    "                 [-0.5, 0.2 ]])#权重                       \n",
    "b = tf.Variable([[0.1,0.2]])#偏置  \n",
    "XWb =tf.matmul(X,W)+b\n",
    "y=tf.nn.relu(XWb)#激活函数\n",
    "with tf.Session() as sess:\n",
    "    init = tf.global_variables_initializer()\n",
    "    sess.run(init)       \n",
    "    print(sess.run(y))"
   ]
  },
  {
   "cell_type": "code",
   "execution_count": 22,
   "metadata": {},
   "outputs": [
    {
     "name": "stdout",
     "output_type": "stream",
     "text": [
      "[[0.41095957 0.5695462 ]]\n"
     ]
    }
   ],
   "source": [
    "#sigmoid\n",
    "import tensorflow as tf\n",
    "import numpy as np\n",
    "X = tf.Variable([[0.4,0.2,0.4]])#输入x，接收外界传送信息，三个神经元，x1，x2，x3\n",
    "W = tf.Variable([[-0.5,-0.2 ],\n",
    "                 [-0.3, 0.4 ],\n",
    "                 [-0.5, 0.2 ]])#权重                       \n",
    "b = tf.Variable([[0.1,0.2]])#偏置  \n",
    "y=tf.nn.sigmoid(tf.matmul(X,W)+b)#激活函数\n",
    "with tf.Session() as sess:\n",
    "    init = tf.global_variables_initializer()\n",
    "    sess.run(init)    \n",
    "    print(sess.run(y))"
   ]
  },
  {
   "cell_type": "code",
   "execution_count": 8,
   "metadata": {},
   "outputs": [
    {
     "name": "stdout",
     "output_type": "stream",
     "text": [
      "[[0.        1.1832597]]\n"
     ]
    }
   ],
   "source": [
    "#随机数生成\n",
    "import tensorflow as tf\n",
    "import numpy as np\n",
    "W = tf.Variable(tf.random_normal([3, 2]))\n",
    "b = tf.Variable(tf.random_normal([1, 2]))\n",
    "X = tf.Variable([[0.4,0.2,0.4]])\n",
    "y=tf.nn.relu(tf.matmul(X,W)+b)\n",
    "with tf.Session() as sess:\n",
    "    init = tf.global_variables_initializer()\n",
    "    sess.run(init)\n",
    "    print(sess.run(y))    "
   ]
  },
  {
   "cell_type": "code",
   "execution_count": 9,
   "metadata": {},
   "outputs": [
    {
     "name": "stdout",
     "output_type": "stream",
     "text": [
      "[[1.4986275 1.1593813]\n",
      " [0.        1.2953691]\n",
      " [0.        1.5093622]\n",
      " [0.        1.6148528]]\n"
     ]
    }
   ],
   "source": [
    "#通过placehoder输入参数，神经网络进行运算\n",
    "W = tf.Variable(tf.random_normal([3, 2]))\n",
    "b = tf.Variable(tf.random_normal([1, 2]))\n",
    "X = tf.placeholder(\"float\", [None,3])#传入的x项数不限制，所以为none，第二维为每一项的个数，有三项，所以为3\n",
    "y=tf.nn.relu(tf.matmul(X,W)+b)\n",
    "with tf.Session() as sess:\n",
    "    init = tf.global_variables_initializer()\n",
    "    sess.run(init)\n",
    "    X_array = np.array([[0.4,0.2,0.4],[1,1,2],[2,2,3],[3,4,5]])#x传入这些值\n",
    "    print(sess.run(y,feed_dict={X:X_array}))#以feed_dict传入x"
   ]
  },
  {
   "cell_type": "code",
   "execution_count": 2,
   "metadata": {},
   "outputs": [],
   "source": [
    "#建立层\n",
    "# output_dim输出的神经元数量\n",
    "# input_dim输入的神经元数量\n",
    "# inputs输入的二维数组，x\n",
    "# activation传入激活函数\n",
    "import os\n",
    "os.chdir('C:\\\\Users\\\\chen\\\\File')\n",
    "import tensorflow as tf\n",
    "import numpy as np\n",
    "def layer(output_dim,input_dim,inputs, activation=None):\n",
    "    W = tf.Variable(tf.random_normal([input_dim, output_dim]))#随机初始化w，权重，正态分布\n",
    "    b = tf.Variable(tf.random_normal([1, output_dim]))   #偏置，正态分布\n",
    "    XWb = tf.matmul(inputs,W) + b    #建立矩阵表达式\n",
    "    if activation is None:    #设置激活函数\n",
    "        outputs = XWb    #不使用激活函数\n",
    "    else:\n",
    "        outputs = activation(XWb)    #使用激活函数\n",
    "    return outputs"
   ]
  },
  {
   "cell_type": "markdown",
   "metadata": {},
   "source": [
    "# 建立有一个隐藏层的神经网络"
   ]
  },
  {
   "cell_type": "code",
   "execution_count": 3,
   "metadata": {},
   "outputs": [
    {
     "name": "stdout",
     "output_type": "stream",
     "text": [
      "[[ 2.525412  -6.6734815]]\n"
     ]
    }
   ],
   "source": [
    "X = tf.placeholder(\"float\", [None,4])#第一维，项数不固定，设置为none，第二维，设置为4，输入神经元是4\n",
    "h=layer(output_dim=8,input_dim=4,inputs=X, activation=tf.nn.relu)#隐藏层\n",
    "y=layer(output_dim=2,input_dim=8,inputs=h)#输出不用激活函数\n",
    "\n",
    "with tf.Session() as sess:\n",
    "    init = tf.global_variables_initializer()\n",
    "    sess.run(init)\n",
    "    X_array = np.array([[0.4,0.2,0.4,0.5]])    #输入是1x4\n",
    "    layer_y=sess.run(y,feed_dict={X:X_array})\n",
    "    print(layer_y)#输出层\n",
    "    writer = tf.summary.FileWriter(\"./log\", sess.graph)\n",
    "    writer.close()"
   ]
  },
  {
   "cell_type": "code",
   "execution_count": 5,
   "metadata": {},
   "outputs": [],
   "source": [
    "writer = tf.summary.FileWriter(\"./log\", sess.graph)\n",
    "writer.close()\n",
    "\n",
    "#promt tensorboard --logdir=C:\\Users\\chen\\File\\log"
   ]
  },
  {
   "cell_type": "markdown",
   "metadata": {},
   "source": [
    "# 有两个隐藏层的神经网络"
   ]
  },
  {
   "cell_type": "code",
   "execution_count": 29,
   "metadata": {},
   "outputs": [
    {
     "name": "stdout",
     "output_type": "stream",
     "text": [
      "[[1.0594505 0.4402953]]\n"
     ]
    }
   ],
   "source": [
    "#有两个隐藏层的神经网络\n",
    "X = tf.placeholder(\"float\", [None,4])#第一维，项数不固定，设置为none，第二维，设置为4，输入神经元是4\n",
    "h1=layer(output_dim=3,input_dim=4,inputs=X, activation=tf.nn.relu)#隐藏层\n",
    "h2=layer(output_dim=3,input_dim=3,inputs=h1, activation=tf.nn.relu)#隐藏层\n",
    "y=layer(output_dim=2,input_dim=3,inputs=h2)#输入是h2\n",
    "with tf.Session() as sess:\n",
    "    init = tf.global_variables_initializer()\n",
    "    sess.run(init)\n",
    "    X_array = np.array([[0.4,0.2 ,0.4,0.5]])    #输入是1x4\n",
    "    print(sess.run(y,feed_dict={X:X_array}))"
   ]
  },
  {
   "cell_type": "markdown",
   "metadata": {},
   "source": [
    "# 神经网络实现手写数字识别"
   ]
  },
  {
   "cell_type": "markdown",
   "metadata": {},
   "source": [
    "# 查看数据"
   ]
  },
  {
   "cell_type": "code",
   "execution_count": 1,
   "metadata": {
    "collapsed": true
   },
   "outputs": [
    {
     "name": "stdout",
     "output_type": "stream",
     "text": [
      "WARNING:tensorflow:From <ipython-input-1-76073cd1798c>:6: read_data_sets (from tensorflow.contrib.learn.python.learn.datasets.mnist) is deprecated and will be removed in a future version.\n",
      "Instructions for updating:\n",
      "Please use alternatives such as official/mnist/dataset.py from tensorflow/models.\n",
      "WARNING:tensorflow:From C:\\ProgramData\\Anaconda3\\lib\\site-packages\\tensorflow\\contrib\\learn\\python\\learn\\datasets\\mnist.py:260: maybe_download (from tensorflow.contrib.learn.python.learn.datasets.base) is deprecated and will be removed in a future version.\n",
      "Instructions for updating:\n",
      "Please write your own downloading logic.\n",
      "WARNING:tensorflow:From C:\\ProgramData\\Anaconda3\\lib\\site-packages\\tensorflow\\contrib\\learn\\python\\learn\\datasets\\mnist.py:262: extract_images (from tensorflow.contrib.learn.python.learn.datasets.mnist) is deprecated and will be removed in a future version.\n",
      "Instructions for updating:\n",
      "Please use tf.data to implement this functionality.\n",
      "Extracting MNIST_data/train-images-idx3-ubyte.gz\n",
      "WARNING:tensorflow:From C:\\ProgramData\\Anaconda3\\lib\\site-packages\\tensorflow\\contrib\\learn\\python\\learn\\datasets\\mnist.py:267: extract_labels (from tensorflow.contrib.learn.python.learn.datasets.mnist) is deprecated and will be removed in a future version.\n",
      "Instructions for updating:\n",
      "Please use tf.data to implement this functionality.\n",
      "Extracting MNIST_data/train-labels-idx1-ubyte.gz\n",
      "WARNING:tensorflow:From C:\\ProgramData\\Anaconda3\\lib\\site-packages\\tensorflow\\contrib\\learn\\python\\learn\\datasets\\mnist.py:110: dense_to_one_hot (from tensorflow.contrib.learn.python.learn.datasets.mnist) is deprecated and will be removed in a future version.\n",
      "Instructions for updating:\n",
      "Please use tf.one_hot on tensors.\n",
      "Extracting MNIST_data/t10k-images-idx3-ubyte.gz\n",
      "Extracting MNIST_data/t10k-labels-idx1-ubyte.gz\n",
      "WARNING:tensorflow:From C:\\ProgramData\\Anaconda3\\lib\\site-packages\\tensorflow\\contrib\\learn\\python\\learn\\datasets\\mnist.py:290: DataSet.__init__ (from tensorflow.contrib.learn.python.learn.datasets.mnist) is deprecated and will be removed in a future version.\n",
      "Instructions for updating:\n",
      "Please use alternatives such as official/mnist/dataset.py from tensorflow/models.\n",
      "train 55000 ,validation 5000 ,test 10000\n"
     ]
    }
   ],
   "source": [
    "#神经网络实现手写数字识别\n",
    "import tensorflow as tf\n",
    "import os\n",
    "os.chdir('C:\\\\Users\\\\CDA\\\\data')\n",
    "import tensorflow.examples.tutorials.mnist.input_data as input_data\n",
    "mnist = input_data.read_data_sets(\"MNIST_data/\", one_hot=True)#读取数据\n",
    "print('train',mnist.train.num_examples,\n",
    "      ',validation',mnist.validation.num_examples,\n",
    "      ',test',mnist.test.num_examples)   #查看数据，train 55000 ,validation 5000 ,test 10000"
   ]
  },
  {
   "cell_type": "code",
   "execution_count": 36,
   "metadata": {},
   "outputs": [
    {
     "name": "stdout",
     "output_type": "stream",
     "text": [
      "train images     : (55000, 784) labels: (55000, 10)\n"
     ]
    }
   ],
   "source": [
    "print('train images     :', mnist.train.images.shape,\n",
    "      'labels:'           , mnist.train.labels.shape)"
   ]
  },
  {
   "cell_type": "code",
   "execution_count": 18,
   "metadata": {},
   "outputs": [
    {
     "data": {
      "text/plain": [
       "784"
      ]
     },
     "execution_count": 18,
     "metadata": {},
     "output_type": "execute_result"
    }
   ],
   "source": [
    "len(mnist.train.images[0])"
   ]
  },
  {
   "cell_type": "code",
   "execution_count": 19,
   "metadata": {},
   "outputs": [
    {
     "data": {
      "text/plain": [
       "array([0.        , 0.        , 0.        , 0.        , 0.        ,\n",
       "       0.        , 0.        , 0.        , 0.        , 0.        ,\n",
       "       0.        , 0.        , 0.        , 0.        , 0.        ,\n",
       "       0.        , 0.        , 0.        , 0.        , 0.        ,\n",
       "       0.        , 0.        , 0.        , 0.        , 0.        ,\n",
       "       0.        , 0.        , 0.        , 0.        , 0.        ,\n",
       "       0.        , 0.        , 0.        , 0.        , 0.        ,\n",
       "       0.        , 0.        , 0.        , 0.        , 0.        ,\n",
       "       0.        , 0.        , 0.        , 0.        , 0.        ,\n",
       "       0.        , 0.        , 0.        , 0.        , 0.        ,\n",
       "       0.        , 0.        , 0.        , 0.        , 0.        ,\n",
       "       0.        , 0.        , 0.        , 0.        , 0.        ,\n",
       "       0.        , 0.        , 0.        , 0.        , 0.        ,\n",
       "       0.        , 0.        , 0.        , 0.        , 0.        ,\n",
       "       0.        , 0.        , 0.        , 0.        , 0.        ,\n",
       "       0.        , 0.        , 0.        , 0.        , 0.        ,\n",
       "       0.        , 0.        , 0.        , 0.        , 0.        ,\n",
       "       0.        , 0.        , 0.        , 0.        , 0.        ,\n",
       "       0.        , 0.        , 0.        , 0.        , 0.        ,\n",
       "       0.        , 0.        , 0.        , 0.        , 0.        ,\n",
       "       0.        , 0.        , 0.        , 0.        , 0.        ,\n",
       "       0.        , 0.        , 0.        , 0.        , 0.        ,\n",
       "       0.        , 0.        , 0.        , 0.        , 0.        ,\n",
       "       0.        , 0.        , 0.        , 0.        , 0.        ,\n",
       "       0.        , 0.        , 0.        , 0.        , 0.        ,\n",
       "       0.        , 0.        , 0.        , 0.        , 0.        ,\n",
       "       0.        , 0.        , 0.        , 0.        , 0.        ,\n",
       "       0.        , 0.        , 0.        , 0.        , 0.        ,\n",
       "       0.        , 0.        , 0.        , 0.        , 0.        ,\n",
       "       0.        , 0.        , 0.        , 0.        , 0.        ,\n",
       "       0.        , 0.        , 0.        , 0.        , 0.        ,\n",
       "       0.        , 0.        , 0.        , 0.        , 0.        ,\n",
       "       0.        , 0.        , 0.        , 0.        , 0.        ,\n",
       "       0.        , 0.        , 0.        , 0.        , 0.        ,\n",
       "       0.        , 0.        , 0.        , 0.        , 0.        ,\n",
       "       0.        , 0.        , 0.        , 0.        , 0.        ,\n",
       "       0.        , 0.        , 0.        , 0.        , 0.        ,\n",
       "       0.        , 0.        , 0.        , 0.        , 0.        ,\n",
       "       0.        , 0.        , 0.        , 0.        , 0.        ,\n",
       "       0.        , 0.        , 0.        , 0.        , 0.        ,\n",
       "       0.        , 0.        , 0.        , 0.        , 0.        ,\n",
       "       0.        , 0.        , 0.3803922 , 0.37647063, 0.3019608 ,\n",
       "       0.46274513, 0.2392157 , 0.        , 0.        , 0.        ,\n",
       "       0.        , 0.        , 0.        , 0.        , 0.        ,\n",
       "       0.        , 0.        , 0.        , 0.        , 0.        ,\n",
       "       0.        , 0.        , 0.3529412 , 0.5411765 , 0.9215687 ,\n",
       "       0.9215687 , 0.9215687 , 0.9215687 , 0.9215687 , 0.9215687 ,\n",
       "       0.9843138 , 0.9843138 , 0.9725491 , 0.9960785 , 0.9607844 ,\n",
       "       0.9215687 , 0.74509805, 0.08235294, 0.        , 0.        ,\n",
       "       0.        , 0.        , 0.        , 0.        , 0.        ,\n",
       "       0.        , 0.        , 0.        , 0.        , 0.54901963,\n",
       "       0.9843138 , 0.9960785 , 0.9960785 , 0.9960785 , 0.9960785 ,\n",
       "       0.9960785 , 0.9960785 , 0.9960785 , 0.9960785 , 0.9960785 ,\n",
       "       0.9960785 , 0.9960785 , 0.9960785 , 0.9960785 , 0.9960785 ,\n",
       "       0.7411765 , 0.09019608, 0.        , 0.        , 0.        ,\n",
       "       0.        , 0.        , 0.        , 0.        , 0.        ,\n",
       "       0.        , 0.        , 0.8862746 , 0.9960785 , 0.81568635,\n",
       "       0.7803922 , 0.7803922 , 0.7803922 , 0.7803922 , 0.54509807,\n",
       "       0.2392157 , 0.2392157 , 0.2392157 , 0.2392157 , 0.2392157 ,\n",
       "       0.5019608 , 0.8705883 , 0.9960785 , 0.9960785 , 0.7411765 ,\n",
       "       0.08235294, 0.        , 0.        , 0.        , 0.        ,\n",
       "       0.        , 0.        , 0.        , 0.        , 0.        ,\n",
       "       0.14901961, 0.32156864, 0.0509804 , 0.        , 0.        ,\n",
       "       0.        , 0.        , 0.        , 0.        , 0.        ,\n",
       "       0.        , 0.        , 0.        , 0.        , 0.13333334,\n",
       "       0.8352942 , 0.9960785 , 0.9960785 , 0.45098042, 0.        ,\n",
       "       0.        , 0.        , 0.        , 0.        , 0.        ,\n",
       "       0.        , 0.        , 0.        , 0.        , 0.        ,\n",
       "       0.        , 0.        , 0.        , 0.        , 0.        ,\n",
       "       0.        , 0.        , 0.        , 0.        , 0.        ,\n",
       "       0.        , 0.        , 0.        , 0.32941177, 0.9960785 ,\n",
       "       0.9960785 , 0.9176471 , 0.        , 0.        , 0.        ,\n",
       "       0.        , 0.        , 0.        , 0.        , 0.        ,\n",
       "       0.        , 0.        , 0.        , 0.        , 0.        ,\n",
       "       0.        , 0.        , 0.        , 0.        , 0.        ,\n",
       "       0.        , 0.        , 0.        , 0.        , 0.        ,\n",
       "       0.        , 0.32941177, 0.9960785 , 0.9960785 , 0.9176471 ,\n",
       "       0.        , 0.        , 0.        , 0.        , 0.        ,\n",
       "       0.        , 0.        , 0.        , 0.        , 0.        ,\n",
       "       0.        , 0.        , 0.        , 0.        , 0.        ,\n",
       "       0.        , 0.        , 0.        , 0.        , 0.        ,\n",
       "       0.        , 0.        , 0.        , 0.4156863 , 0.6156863 ,\n",
       "       0.9960785 , 0.9960785 , 0.95294124, 0.20000002, 0.        ,\n",
       "       0.        , 0.        , 0.        , 0.        , 0.        ,\n",
       "       0.        , 0.        , 0.        , 0.        , 0.        ,\n",
       "       0.        , 0.        , 0.        , 0.        , 0.        ,\n",
       "       0.        , 0.09803922, 0.45882356, 0.8941177 , 0.8941177 ,\n",
       "       0.8941177 , 0.9921569 , 0.9960785 , 0.9960785 , 0.9960785 ,\n",
       "       0.9960785 , 0.94117653, 0.        , 0.        , 0.        ,\n",
       "       0.        , 0.        , 0.        , 0.        , 0.        ,\n",
       "       0.        , 0.        , 0.        , 0.        , 0.        ,\n",
       "       0.        , 0.        , 0.26666668, 0.4666667 , 0.86274517,\n",
       "       0.9960785 , 0.9960785 , 0.9960785 , 0.9960785 , 0.9960785 ,\n",
       "       0.9960785 , 0.9960785 , 0.9960785 , 0.9960785 , 0.5568628 ,\n",
       "       0.        , 0.        , 0.        , 0.        , 0.        ,\n",
       "       0.        , 0.        , 0.        , 0.        , 0.        ,\n",
       "       0.        , 0.        , 0.        , 0.14509805, 0.73333335,\n",
       "       0.9921569 , 0.9960785 , 0.9960785 , 0.9960785 , 0.8745099 ,\n",
       "       0.8078432 , 0.8078432 , 0.29411766, 0.26666668, 0.8431373 ,\n",
       "       0.9960785 , 0.9960785 , 0.45882356, 0.        , 0.        ,\n",
       "       0.        , 0.        , 0.        , 0.        , 0.        ,\n",
       "       0.        , 0.        , 0.        , 0.        , 0.        ,\n",
       "       0.4431373 , 0.8588236 , 0.9960785 , 0.9490197 , 0.89019614,\n",
       "       0.45098042, 0.34901962, 0.12156864, 0.        , 0.        ,\n",
       "       0.        , 0.        , 0.7843138 , 0.9960785 , 0.9450981 ,\n",
       "       0.16078432, 0.        , 0.        , 0.        , 0.        ,\n",
       "       0.        , 0.        , 0.        , 0.        , 0.        ,\n",
       "       0.        , 0.        , 0.        , 0.6627451 , 0.9960785 ,\n",
       "       0.6901961 , 0.24313727, 0.        , 0.        , 0.        ,\n",
       "       0.        , 0.        , 0.        , 0.        , 0.18823531,\n",
       "       0.9058824 , 0.9960785 , 0.9176471 , 0.        , 0.        ,\n",
       "       0.        , 0.        , 0.        , 0.        , 0.        ,\n",
       "       0.        , 0.        , 0.        , 0.        , 0.        ,\n",
       "       0.        , 0.07058824, 0.48627454, 0.        , 0.        ,\n",
       "       0.        , 0.        , 0.        , 0.        , 0.        ,\n",
       "       0.        , 0.        , 0.32941177, 0.9960785 , 0.9960785 ,\n",
       "       0.6509804 , 0.        , 0.        , 0.        , 0.        ,\n",
       "       0.        , 0.        , 0.        , 0.        , 0.        ,\n",
       "       0.        , 0.        , 0.        , 0.        , 0.        ,\n",
       "       0.        , 0.        , 0.        , 0.        , 0.        ,\n",
       "       0.        , 0.        , 0.        , 0.        , 0.        ,\n",
       "       0.54509807, 0.9960785 , 0.9333334 , 0.22352943, 0.        ,\n",
       "       0.        , 0.        , 0.        , 0.        , 0.        ,\n",
       "       0.        , 0.        , 0.        , 0.        , 0.        ,\n",
       "       0.        , 0.        , 0.        , 0.        , 0.        ,\n",
       "       0.        , 0.        , 0.        , 0.        , 0.        ,\n",
       "       0.        , 0.        , 0.8235295 , 0.9803922 , 0.9960785 ,\n",
       "       0.65882355, 0.        , 0.        , 0.        , 0.        ,\n",
       "       0.        , 0.        , 0.        , 0.        , 0.        ,\n",
       "       0.        , 0.        , 0.        , 0.        , 0.        ,\n",
       "       0.        , 0.        , 0.        , 0.        , 0.        ,\n",
       "       0.        , 0.        , 0.        , 0.        , 0.        ,\n",
       "       0.9490197 , 0.9960785 , 0.93725497, 0.22352943, 0.        ,\n",
       "       0.        , 0.        , 0.        , 0.        , 0.        ,\n",
       "       0.        , 0.        , 0.        , 0.        , 0.        ,\n",
       "       0.        , 0.        , 0.        , 0.        , 0.        ,\n",
       "       0.        , 0.        , 0.        , 0.        , 0.        ,\n",
       "       0.        , 0.        , 0.34901962, 0.9843138 , 0.9450981 ,\n",
       "       0.3372549 , 0.        , 0.        , 0.        , 0.        ,\n",
       "       0.        , 0.        , 0.        , 0.        , 0.        ,\n",
       "       0.        , 0.        , 0.        , 0.        , 0.        ,\n",
       "       0.        , 0.        , 0.        , 0.        , 0.        ,\n",
       "       0.        , 0.        , 0.        , 0.        , 0.01960784,\n",
       "       0.8078432 , 0.96470594, 0.6156863 , 0.        , 0.        ,\n",
       "       0.        , 0.        , 0.        , 0.        , 0.        ,\n",
       "       0.        , 0.        , 0.        , 0.        , 0.        ,\n",
       "       0.        , 0.        , 0.        , 0.        , 0.        ,\n",
       "       0.        , 0.        , 0.        , 0.        , 0.        ,\n",
       "       0.        , 0.        , 0.01568628, 0.45882356, 0.27058825,\n",
       "       0.        , 0.        , 0.        , 0.        , 0.        ,\n",
       "       0.        , 0.        , 0.        , 0.        , 0.        ,\n",
       "       0.        , 0.        , 0.        , 0.        , 0.        ,\n",
       "       0.        , 0.        , 0.        , 0.        , 0.        ,\n",
       "       0.        , 0.        , 0.        , 0.        , 0.        ,\n",
       "       0.        , 0.        , 0.        , 0.        , 0.        ,\n",
       "       0.        , 0.        , 0.        , 0.        , 0.        ,\n",
       "       0.        , 0.        , 0.        , 0.        ], dtype=float32)"
      ]
     },
     "execution_count": 19,
     "metadata": {},
     "output_type": "execute_result"
    }
   ],
   "source": [
    "mnist.train.images[0]"
   ]
  },
  {
   "cell_type": "code",
   "execution_count": 20,
   "metadata": {},
   "outputs": [
    {
     "data": {
      "text/plain": [
       "array([0., 0., 0., 0., 0., 0., 0., 1., 0., 0.])"
      ]
     },
     "execution_count": 20,
     "metadata": {},
     "output_type": "execute_result"
    }
   ],
   "source": [
    "mnist.train.labels[0]"
   ]
  },
  {
   "cell_type": "code",
   "execution_count": 22,
   "metadata": {},
   "outputs": [
    {
     "data": {
      "image/png": "[encoded data removed]",
      "text/plain": [
       "<Figure size 432x288 with 1 Axes>"
      ]
     },
     "metadata": {},
     "output_type": "display_data"
    }
   ],
   "source": [
    "%matplotlib inline\n",
    "import matplotlib.pyplot as plt\n",
    "def plot_image(image):\n",
    "    plt.imshow(image.reshape(28,28),cmap='binary')#rainbow\n",
    "    plt.show()\n",
    "plot_image(mnist.train.images[0])     #数字7"
   ]
  },
  {
   "cell_type": "code",
   "execution_count": 23,
   "metadata": {},
   "outputs": [
    {
     "data": {
      "image/png": "[encoded data removed]",
      "text/plain": [
       "<Figure size 864x1008 with 10 Axes>"
      ]
     },
     "metadata": {},
     "output_type": "display_data"
    }
   ],
   "source": [
    "#查看多项训练数据images和labels\n",
    "import numpy as np\n",
    "import matplotlib.pyplot as plt\n",
    "def plot_images_labels_prediction(images,labels, prediction,idx,num=10):\n",
    "    fig = plt.gcf()\n",
    "    fig.set_size_inches(12, 14)\n",
    "    if num>25: num=25 \n",
    "    for i in range(0, num):\n",
    "        ax=plt.subplot(5,5, 1+i)\n",
    "        ax.imshow(np.reshape(images[idx],(28, 28)), \n",
    "                  cmap='binary')#转换images字段\n",
    "        title= \"label=\" +str(np.argmax(labels[idx]))#转换label字段\n",
    "        if len(prediction)>0:\n",
    "            title+=\",predict=\"+str(prediction[idx]) \n",
    "        ax.set_title(title,fontsize=10) \n",
    "        ax.set_xticks([]);ax.set_yticks([])        \n",
    "        idx+=1 \n",
    "    plt.show()\n",
    "\n",
    "plot_images_labels_prediction(mnist.train.images,mnist.train.labels,[],0)"
   ]
  },
  {
   "cell_type": "code",
   "execution_count": 16,
   "metadata": {},
   "outputs": [
    {
     "name": "stdout",
     "output_type": "stream",
     "text": [
      "[0. 0. 0. 0. 0. 0. 0. 1. 0. 0.]\n",
      "[0. 0. 0. 1. 0. 0. 0. 0. 0. 0.]\n",
      "[0. 0. 0. 0. 1. 0. 0. 0. 0. 0.]\n",
      "[0. 0. 0. 0. 0. 0. 1. 0. 0. 0.]\n",
      "[0. 1. 0. 0. 0. 0. 0. 0. 0. 0.]\n",
      "[0. 0. 0. 0. 0. 0. 0. 0. 1. 0.]\n",
      "[0. 1. 0. 0. 0. 0. 0. 0. 0. 0.]\n",
      "[1. 0. 0. 0. 0. 0. 0. 0. 0. 0.]\n",
      "[0. 0. 0. 0. 0. 0. 0. 0. 0. 1.]\n",
      "[0. 0. 0. 0. 0. 0. 0. 0. 1. 0.]\n"
     ]
    }
   ],
   "source": [
    "for i in range(10):\n",
    "    print(mnist.train.labels[i])"
   ]
  },
  {
   "cell_type": "code",
   "execution_count": 24,
   "metadata": {},
   "outputs": [
    {
     "name": "stdout",
     "output_type": "stream",
     "text": [
      "validation images: (5000, 784) labels: (5000, 10)\n"
     ]
    },
    {
     "data": {
      "image/png": "[encoded data removed]",
      "text/plain": [
       "<Figure size 864x1008 with 10 Axes>"
      ]
     },
     "metadata": {},
     "output_type": "display_data"
    },
    {
     "name": "stdout",
     "output_type": "stream",
     "text": [
      "test images: (10000, 784) labels: (10000, 10)\n"
     ]
    },
    {
     "data": {
      "image/png": "[encoded data removed]",
      "text/plain": [
       "<Figure size 864x1008 with 10 Axes>"
      ]
     },
     "metadata": {},
     "output_type": "display_data"
    }
   ],
   "source": [
    "#查看验证数据\n",
    "print('validation images:', mnist.validation.images.shape,'labels:', mnist.validation.labels.shape)\n",
    "plot_images_labels_prediction(mnist.validation.images,mnist.validation.labels,[],0)\n",
    "#查看测试数据\n",
    "print('test images:', mnist.test.images.shape,'labels:', mnist.test.labels.shape)\n",
    "plot_images_labels_prediction(mnist.test.images,mnist.test.labels,[],0)\n"
   ]
  },
  {
   "cell_type": "code",
   "execution_count": 18,
   "metadata": {},
   "outputs": [
    {
     "name": "stdout",
     "output_type": "stream",
     "text": [
      "100 100\n"
     ]
    },
    {
     "data": {
      "image/png": "[encoded data removed]",
      "text/plain": [
       "<Figure size 864x1008 with 10 Axes>"
      ]
     },
     "metadata": {},
     "output_type": "display_data"
    }
   ],
   "source": [
    "#批次读取数据\n",
    "#利用神经网络训练时候，并不是读取所有数据进行训练，而是批次读取（比如100项）\n",
    "batch_images_xs, batch_labels_ys = mnist.train.next_batch(batch_size=100)\n",
    "print(len(batch_images_xs),len(batch_labels_ys))\n",
    "plot_images_labels_prediction(batch_images_xs,batch_labels_ys,[],0)"
   ]
  },
  {
   "cell_type": "markdown",
   "metadata": {},
   "source": [
    "# 搭建神经网络，完整流程"
   ]
  },
  {
   "cell_type": "code",
   "execution_count": 42,
   "metadata": {},
   "outputs": [
    {
     "name": "stdout",
     "output_type": "stream",
     "text": [
      "Extracting MNIST_data/train-images-idx3-ubyte.gz\n",
      "Extracting MNIST_data/train-labels-idx1-ubyte.gz\n",
      "Extracting MNIST_data/t10k-images-idx3-ubyte.gz\n",
      "Extracting MNIST_data/t10k-labels-idx1-ubyte.gz\n",
      "train 55000 ,validation 5000 ,test 10000\n"
     ]
    }
   ],
   "source": [
    "#神经网络实现手写数字识别\n",
    "import tensorflow as tf\n",
    "import os\n",
    "os.chdir('C:\\\\Users\\\\chen\\\\File')\n",
    "import tensorflow.examples.tutorials.mnist.input_data as input_data\n",
    "mnist = input_data.read_data_sets(\"MNIST_data/\", one_hot=True)#读取数据\n",
    "print('train',mnist.train.num_examples,\n",
    "      ',validation',mnist.validation.num_examples,\n",
    "      ',test',mnist.test.num_examples)   #查看数据，train 55000 ,validation 5000 ,test 10000"
   ]
  },
  {
   "cell_type": "code",
   "execution_count": 43,
   "metadata": {},
   "outputs": [],
   "source": [
    "#建立layer函数\n",
    "def layer(output_dim,input_dim,inputs, activation=None):\n",
    "    W = tf.Variable(tf.random_normal([input_dim, output_dim]))\n",
    "    b = tf.Variable(tf.random_normal([1, output_dim]))\n",
    "    XWb = tf.matmul(inputs, W) + b\n",
    "    if activation is None:\n",
    "        outputs = XWb\n",
    "    else:\n",
    "        outputs = activation(XWb)\n",
    "    return outputs"
   ]
  },
  {
   "cell_type": "code",
   "execution_count": 44,
   "metadata": {},
   "outputs": [],
   "source": [
    "#输入层x，784个神经元  建立输入层\n",
    "x = tf.placeholder(\"float\", [None, 784])\n",
    "# 建立隐藏层h1 256个神经元\n",
    "h1=layer(output_dim=256,input_dim=784,inputs=x ,activation=tf.nn.relu)  \n",
    "#输出层  10个神经元\n",
    "y_predict=layer(output_dim=10,input_dim=256,inputs=h1,activation=None)"
   ]
  },
  {
   "cell_type": "code",
   "execution_count": 45,
   "metadata": {},
   "outputs": [],
   "source": [
    "#建立训练数据label真实值 placeholder\n",
    "y_label = tf.placeholder(\"float\", [None, 10])"
   ]
  },
  {
   "cell_type": "code",
   "execution_count": 46,
   "metadata": {},
   "outputs": [
    {
     "name": "stdout",
     "output_type": "stream",
     "text": [
      "WARNING:tensorflow:From <ipython-input-46-26d7419372f6>:11: softmax_cross_entropy_with_logits (from tensorflow.python.ops.nn_ops) is deprecated and will be removed in a future version.\n",
      "Instructions for updating:\n",
      "\n",
      "Future major versions of TensorFlow will allow gradients to flow\n",
      "into the labels input on backprop by default.\n",
      "\n",
      "See @{tf.nn.softmax_cross_entropy_with_logits_v2}.\n",
      "\n"
     ]
    }
   ],
   "source": [
    "#定义训练方式\n",
    "#https://blog.csdn.net/weixin_37567451/article/details/80895309\n",
    "#常用损失函数，https://blog.csdn.net/limiyudianzi/article/details/80693695\n",
    "#定义loss function#在深度学习中使用cross_entropy交叉熵训练的效果比较好\n",
    "#https://blog.csdn.net/u014313009/article/details/51043064\n",
    "#https://m.jb51.net/article/138934.htm\n",
    "#预测值和真实值的交叉熵，取平均值\n",
    "loss_function = tf.reduce_mean(\n",
    "                  tf.nn.softmax_cross_entropy_with_logits\n",
    "                         (logits=y_predict , \n",
    "                          labels=y_label))\n"
   ]
  },
  {
   "cell_type": "code",
   "execution_count": 47,
   "metadata": {},
   "outputs": [],
   "source": [
    "#选择optimizer，训练的方法，学习率为0.001，最小化损失函数\n",
    "#常用优化器https://blog.csdn.net/perom/article/details/80540470\n",
    "optimizer = tf.train.AdamOptimizer(learning_rate=0.001).minimize(loss_function)\n"
   ]
  },
  {
   "cell_type": "code",
   "execution_count": 48,
   "metadata": {},
   "outputs": [],
   "source": [
    "correct_prediction = tf.equal(tf.argmax(y_label, 1),tf.argmax(y_predict, 1))\n",
    "accuracy = tf.reduce_mean(tf.cast(correct_prediction, \"float\"))#用cast转换为float类型"
   ]
  },
  {
   "cell_type": "code",
   "execution_count": 49,
   "metadata": {},
   "outputs": [
    {
     "name": "stdout",
     "output_type": "stream",
     "text": [
      "[4]\n",
      "[2 1]\n"
     ]
    }
   ],
   "source": [
    "#tf.argmax(vector, 1)：返回的是vector中的最大值的索引号，\n",
    "import tensorflow as tf\n",
    "import numpy as np\n",
    " \n",
    "A = [[1,3,4,5,6]]\n",
    "B = [[1,3,4], [2,4,1]]\n",
    " \n",
    "with tf.Session() as sess:\n",
    "    print(sess.run(tf.argmax(A, 1)))\n",
    "    print(sess.run(tf.argmax(B, 1)))\n"
   ]
  },
  {
   "cell_type": "code",
   "execution_count": 50,
   "metadata": {},
   "outputs": [
    {
     "name": "stdout",
     "output_type": "stream",
     "text": [
      "WARNING:tensorflow:From C:\\ProgramData\\Anaconda3\\lib\\site-packages\\tensorflow\\python\\util\\tf_should_use.py:118: initialize_all_variables (from tensorflow.python.ops.variables) is deprecated and will be removed after 2017-03-02.\n",
      "Instructions for updating:\n",
      "Use `tf.global_variables_initializer` instead.\n",
      "[ True False False  True  True]\n"
     ]
    }
   ],
   "source": [
    "#cast，将x的数据格式转化成dtype\n",
    "a = tf.Variable([1,0,0,1,1])\n",
    "b = tf.cast(a,dtype=tf.bool)\n",
    "sess = tf.Session()\n",
    "sess.run(tf.initialize_all_variables())\n",
    "print(sess.run(b))"
   ]
  },
  {
   "cell_type": "code",
   "execution_count": 51,
   "metadata": {},
   "outputs": [
    {
     "data": {
      "text/plain": [
       "<tf.Tensor 'Equal:0' shape=(?,) dtype=bool>"
      ]
     },
     "execution_count": 51,
     "metadata": {},
     "output_type": "execute_result"
    }
   ],
   "source": [
    "correct_prediction"
   ]
  },
  {
   "cell_type": "code",
   "execution_count": 52,
   "metadata": {},
   "outputs": [
    {
     "data": {
      "text/plain": [
       "1562225560.7498405"
      ]
     },
     "execution_count": 52,
     "metadata": {},
     "output_type": "execute_result"
    }
   ],
   "source": [
    "from time import time#计算时间\n",
    "time()"
   ]
  },
  {
   "cell_type": "code",
   "execution_count": 53,
   "metadata": {},
   "outputs": [
    {
     "data": {
      "text/plain": [
       "1562225561.3417149"
      ]
     },
     "execution_count": 53,
     "metadata": {},
     "output_type": "execute_result"
    }
   ],
   "source": [
    "time()"
   ]
  },
  {
   "cell_type": "code",
   "execution_count": 54,
   "metadata": {},
   "outputs": [
    {
     "name": "stdout",
     "output_type": "stream",
     "text": [
      "Train Epoch: 01 Loss= 6.114124775  Accuracy= 0.8408\n",
      "Train Epoch: 02 Loss= 3.968857050  Accuracy= 0.884\n",
      "Train Epoch: 03 Loss= 2.998065472  Accuracy= 0.9066\n",
      "Train Epoch: 04 Loss= 2.488592625  Accuracy= 0.9172\n",
      "Train Epoch: 05 Loss= 2.150012016  Accuracy= 0.9214\n",
      "Train Epoch: 06 Loss= 1.979717016  Accuracy= 0.9248\n",
      "Train Epoch: 07 Loss= 1.726409197  Accuracy= 0.9314\n",
      "Train Epoch: 08 Loss= 1.644844174  Accuracy= 0.9336\n",
      "Train Epoch: 09 Loss= 1.511969328  Accuracy= 0.9364\n",
      "Train Epoch: 10 Loss= 1.412911415  Accuracy= 0.9384\n",
      "Train Epoch: 11 Loss= 1.373728275  Accuracy= 0.9418\n",
      "Train Epoch: 12 Loss= 1.304039121  Accuracy= 0.942\n",
      "Train Epoch: 13 Loss= 1.320186138  Accuracy= 0.94\n",
      "Train Epoch: 14 Loss= 1.343106866  Accuracy= 0.9386\n",
      "Train Epoch: 15 Loss= 1.215845346  Accuracy= 0.946\n",
      "Train Finished takes: 23.72783398628235\n"
     ]
    }
   ],
   "source": [
    "#执行计算图\n",
    "trainEpochs = 15#15个训练周期\n",
    "batchSize = 100#每一批次项数为100\n",
    "totalBatchs = int(mnist.train.num_examples/batchSize)#每个周期所需执行批次,550\n",
    "epoch_list=[];loss_list=[];accuracy_list=[]#初始化训练周期，误差，准确率\n",
    "from time import time#计算时间\n",
    "startTime=time()\n",
    "sess = tf.Session()\n",
    "sess.run(tf.global_variables_initializer())#初始化TensorFlow global变量\n",
    "\n",
    "for epoch in range(trainEpochs):#15个周期\n",
    "    for i in range(totalBatchs):#执行550批次训练，使用优化器进行训练，交叉熵误差最小化\n",
    "        batch_x, batch_y = mnist.train.next_batch(batchSize)\n",
    "        sess.run(optimizer,feed_dict={x: batch_x,y_label: batch_y})#对模型训练\n",
    "        \n",
    "    loss,acc = sess.run([loss_function,accuracy],\n",
    "                        feed_dict={x: mnist.validation.images, \n",
    "                                   y_label: mnist.validation.labels})#\n",
    "\n",
    "    epoch_list.append(epoch)\n",
    "    loss_list.append(loss)\n",
    "    accuracy_list.append(acc)    \n",
    "    print(\"Train Epoch:\", '%02d' % (epoch+1), \"Loss=\",\"{:.9f}\".format(loss),\" Accuracy=\",acc)\n",
    "    \n",
    "duration =time()-startTime\n",
    "print(\"Train Finished takes:\",duration)      "
   ]
  },
  {
   "cell_type": "code",
   "execution_count": 43,
   "metadata": {},
   "outputs": [
    {
     "data": {
      "text/plain": [
       "<matplotlib.legend.Legend at 0x20281734cf8>"
      ]
     },
     "execution_count": 43,
     "metadata": {},
     "output_type": "execute_result"
    },
    {
     "data": {
      "image/png": "[encoded data removed]",
      "text/plain": [
       "<Figure size 288x144 with 1 Axes>"
      ]
     },
     "metadata": {},
     "output_type": "display_data"
    }
   ],
   "source": [
    "%matplotlib inline\n",
    "import matplotlib.pyplot as plt\n",
    "fig = plt.gcf()\n",
    "fig.set_size_inches(4,2)\n",
    "plt.plot(epoch_list, loss_list, label = 'loss')\n",
    "plt.ylabel('loss')\n",
    "plt.xlabel('epoch')\n",
    "plt.legend(['loss'], loc='upper left')\n"
   ]
  },
  {
   "cell_type": "code",
   "execution_count": 44,
   "metadata": {},
   "outputs": [
    {
     "name": "stdout",
     "output_type": "stream",
     "text": [
      "Accuracy: 0.9452\n"
     ]
    }
   ],
   "source": [
    "#模型准确率\n",
    "print(\"Accuracy:\", sess.run(accuracy,\n",
    "                           feed_dict={x: mnist.test.images,\n",
    "                                      y_label: mnist.test.labels}))"
   ]
  },
  {
   "cell_type": "code",
   "execution_count": 19,
   "metadata": {},
   "outputs": [
    {
     "data": {
      "image/png": "[encoded data removed]",
      "text/plain": [
       "<Figure size 288x144 with 1 Axes>"
      ]
     },
     "metadata": {},
     "output_type": "display_data"
    }
   ],
   "source": [
    "#准确率与训练次数关系\n",
    "plt.plot(epoch_list, accuracy_list,label=\"accuracy\" )\n",
    "fig = plt.gcf()\n",
    "fig.set_size_inches(4,2)\n",
    "plt.ylim(0.8,1)\n",
    "plt.ylabel('accuracy')\n",
    "plt.xlabel('epoch')\n",
    "plt.legend()\n",
    "plt.show()\n"
   ]
  },
  {
   "cell_type": "code",
   "execution_count": 45,
   "metadata": {},
   "outputs": [
    {
     "data": {
      "text/plain": [
       "array([7, 2, 1, 0, 4, 1, 4, 9, 5, 9], dtype=int64)"
      ]
     },
     "execution_count": 45,
     "metadata": {},
     "output_type": "execute_result"
    }
   ],
   "source": [
    "#预测\n",
    "prediction_result=sess.run(tf.argmax(y_predict,1),\n",
    "                           feed_dict={x: mnist.test.images })\n",
    "prediction_result[:10]"
   ]
  },
  {
   "cell_type": "code",
   "execution_count": 25,
   "metadata": {},
   "outputs": [
    {
     "data": {
      "image/png": "[encoded data removed]",
      "text/plain": [
       "<Figure size 864x1008 with 10 Axes>"
      ]
     },
     "metadata": {},
     "output_type": "display_data"
    }
   ],
   "source": [
    "#预测结果与真实值比较\n",
    "import matplotlib.pyplot as plt\n",
    "import numpy as np\n",
    "def plot_images_labels_prediction(images,labels,\n",
    "                                  prediction,idx,num=10):\n",
    "    fig = plt.gcf()\n",
    "    fig.set_size_inches(12, 14)\n",
    "    if num>25: num=25 \n",
    "    for i in range(0, num):\n",
    "        ax=plt.subplot(5,5, 1+i)\n",
    "        \n",
    "        ax.imshow(np.reshape(images[idx],(28, 28)), \n",
    "                  cmap='binary')\n",
    "            \n",
    "        title= \"label=\" +str(np.argmax(labels[idx]))\n",
    "        if len(prediction)>0:\n",
    "            title+=\",predict=\"+str(prediction[idx]) \n",
    "            \n",
    "        ax.set_title(title,fontsize=10) \n",
    "        ax.set_xticks([]);ax.set_yticks([])        \n",
    "        idx+=1 \n",
    "plt.show()\n",
    "plot_images_labels_prediction(mnist.test.images,\n",
    "                              mnist.test.labels,\n",
    "                              prediction_result,0)\n"
   ]
  },
  {
   "cell_type": "markdown",
   "metadata": {},
   "source": [
    "# 增加隐藏层神经元个数"
   ]
  },
  {
   "cell_type": "code",
   "execution_count": 1,
   "metadata": {},
   "outputs": [
    {
     "name": "stderr",
     "output_type": "stream",
     "text": [
      "C:\\ProgramData\\Anaconda3\\lib\\site-packages\\h5py\\__init__.py:36: FutureWarning: Conversion of the second argument of issubdtype from `float` to `np.floating` is deprecated. In future, it will be treated as `np.float64 == np.dtype(float).type`.\n",
      "  from ._conv import register_converters as _register_converters\n"
     ]
    },
    {
     "name": "stdout",
     "output_type": "stream",
     "text": [
      "WARNING:tensorflow:From <ipython-input-1-86b5f3cf8a91>:6: read_data_sets (from tensorflow.contrib.learn.python.learn.datasets.mnist) is deprecated and will be removed in a future version.\n",
      "Instructions for updating:\n",
      "Please use alternatives such as official/mnist/dataset.py from tensorflow/models.\n",
      "WARNING:tensorflow:From C:\\ProgramData\\Anaconda3\\lib\\site-packages\\tensorflow\\contrib\\learn\\python\\learn\\datasets\\mnist.py:260: maybe_download (from tensorflow.contrib.learn.python.learn.datasets.base) is deprecated and will be removed in a future version.\n",
      "Instructions for updating:\n",
      "Please write your own downloading logic.\n",
      "WARNING:tensorflow:From C:\\ProgramData\\Anaconda3\\lib\\site-packages\\tensorflow\\contrib\\learn\\python\\learn\\datasets\\mnist.py:262: extract_images (from tensorflow.contrib.learn.python.learn.datasets.mnist) is deprecated and will be removed in a future version.\n",
      "Instructions for updating:\n",
      "Please use tf.data to implement this functionality.\n",
      "Extracting MNIST_data/train-images-idx3-ubyte.gz\n",
      "WARNING:tensorflow:From C:\\ProgramData\\Anaconda3\\lib\\site-packages\\tensorflow\\contrib\\learn\\python\\learn\\datasets\\mnist.py:267: extract_labels (from tensorflow.contrib.learn.python.learn.datasets.mnist) is deprecated and will be removed in a future version.\n",
      "Instructions for updating:\n",
      "Please use tf.data to implement this functionality.\n",
      "Extracting MNIST_data/train-labels-idx1-ubyte.gz\n",
      "WARNING:tensorflow:From C:\\ProgramData\\Anaconda3\\lib\\site-packages\\tensorflow\\contrib\\learn\\python\\learn\\datasets\\mnist.py:110: dense_to_one_hot (from tensorflow.contrib.learn.python.learn.datasets.mnist) is deprecated and will be removed in a future version.\n",
      "Instructions for updating:\n",
      "Please use tf.one_hot on tensors.\n",
      "Extracting MNIST_data/t10k-images-idx3-ubyte.gz\n",
      "Extracting MNIST_data/t10k-labels-idx1-ubyte.gz\n",
      "WARNING:tensorflow:From C:\\ProgramData\\Anaconda3\\lib\\site-packages\\tensorflow\\contrib\\learn\\python\\learn\\datasets\\mnist.py:290: DataSet.__init__ (from tensorflow.contrib.learn.python.learn.datasets.mnist) is deprecated and will be removed in a future version.\n",
      "Instructions for updating:\n",
      "Please use alternatives such as official/mnist/dataset.py from tensorflow/models.\n",
      "train images: (55000, 784) labels: (55000, 10)\n",
      "validation images: (5000, 784)  labels: (5000, 10)\n",
      "test images : (10000, 784) labels: (10000, 10)\n",
      "WARNING:tensorflow:From <ipython-input-1-86b5f3cf8a91>:39: softmax_cross_entropy_with_logits (from tensorflow.python.ops.nn_ops) is deprecated and will be removed in a future version.\n",
      "Instructions for updating:\n",
      "\n",
      "Future major versions of TensorFlow will allow gradients to flow\n",
      "into the labels input on backprop by default.\n",
      "\n",
      "See @{tf.nn.softmax_cross_entropy_with_logits_v2}.\n",
      "\n",
      "Train Epoch: 01 Loss= 8.492298126  Accuracy= 0.8914\n",
      "Train Epoch: 02 Loss= 5.404215813  Accuracy= 0.919\n",
      "Train Epoch: 03 Loss= 4.349153042  Accuracy= 0.9332\n",
      "Train Epoch: 04 Loss= 3.724529743  Accuracy= 0.9382\n",
      "Train Epoch: 05 Loss= 3.440896511  Accuracy= 0.9412\n",
      "Train Epoch: 06 Loss= 2.992154837  Accuracy= 0.947\n",
      "Train Epoch: 07 Loss= 2.924547195  Accuracy= 0.949\n",
      "Train Epoch: 08 Loss= 2.889682531  Accuracy= 0.9492\n",
      "Train Epoch: 09 Loss= 2.897351265  Accuracy= 0.9484\n",
      "Train Epoch: 10 Loss= 3.014984846  Accuracy= 0.9464\n",
      "Train Epoch: 11 Loss= 2.592278719  Accuracy= 0.9522\n",
      "Train Epoch: 12 Loss= 2.693226099  Accuracy= 0.9512\n",
      "Train Epoch: 13 Loss= 2.870411634  Accuracy= 0.9512\n",
      "Train Epoch: 14 Loss= 2.799082518  Accuracy= 0.9506\n",
      "Train Epoch: 15 Loss= 2.569258928  Accuracy= 0.9552\n",
      "Train Finished takes: 52.298216342926025\n"
     ]
    }
   ],
   "source": [
    "#导入数据\n",
    "import os\n",
    "os.chdir('C:\\\\Users\\\\chen\\\\File')\n",
    "import tensorflow as tf\n",
    "import tensorflow.examples.tutorials.mnist.input_data as input_data\n",
    "mnist = input_data.read_data_sets(\"MNIST_data/\", one_hot=True)\n",
    "print('train images:', mnist.train.images.shape,'labels:', mnist.train.labels.shape)\n",
    "print('validation images:', mnist.validation.images.shape,' labels:' , mnist.validation.labels.shape)\n",
    "print('test images :', mnist.test.images.shape,'labels:', mnist.test.labels.shape)\n",
    "\n",
    "#建立layer函数\n",
    "def layer(output_dim,input_dim,inputs, activation=None):\n",
    "    W = tf.Variable(tf.random_normal([input_dim, output_dim]))\n",
    "    b = tf.Variable(tf.random_normal([1, output_dim]))\n",
    "    XWb = tf.matmul(inputs, W) + b\n",
    "    if activation is None:\n",
    "        outputs = XWb\n",
    "    else:\n",
    "        outputs = activation(XWb)\n",
    "    return outputs\n",
    "\n",
    "#输入层x，784个神经元  建立输入层\n",
    "x = tf.placeholder(\"float\", [None, 784])\n",
    "# 建立隐藏层h1 1024个神经元\n",
    "h1=layer(output_dim=1024,input_dim=784,inputs=x ,activation=tf.nn.relu)  \n",
    "#输出层  10个神经元\n",
    "y_predict=layer(output_dim=10,input_dim=1024,inputs=h1,activation=None)\n",
    "\n",
    "#定义训练方式\n",
    "##建立训练数据label真实值 placeholder\n",
    "y_label = tf.placeholder(\"float\", [None, 10])\n",
    "\n",
    "#定义loss function#在深度学习中使用cross_entropy交叉熵训练的效果比较好\n",
    "#https://blog.csdn.net/u014313009/article/details/51043064\n",
    "#预测值和真实值的交叉熵，取平均值\n",
    "loss_function = tf.reduce_mean(\n",
    "                  tf.nn.softmax_cross_entropy_with_logits\n",
    "                         (logits=y_predict , \n",
    "                          labels=y_label))\n",
    "\n",
    "#选择optimizer，训练的方法，学习率为0.001，最小化损失函数\n",
    "optimizer = tf.train.AdamOptimizer(learning_rate=0.001).minimize(loss_function)\n",
    "\n",
    "correct_prediction = tf.equal(tf.argmax(y_label, 1),tf.argmax(y_predict, 1))\n",
    "accuracy = tf.reduce_mean(tf.cast(correct_prediction, \"float\"))#用cast转换为float类型\n",
    "\n",
    "trainEpochs = 15#15个训练周期\n",
    "batchSize = 100#每一批次项数为100\n",
    "totalBatchs = int(mnist.train.num_examples/batchSize)#每个周期所需执行批次,550\n",
    "epoch_list=[];loss_list=[];accuracy_list=[]#初始化训练周期，误差，准确率\n",
    "from time import time#计算时间\n",
    "startTime=time()\n",
    "sess = tf.Session()\n",
    "sess.run(tf.global_variables_initializer())#初始化TensorFlow global变量\n",
    "\n",
    "for epoch in range(trainEpochs):#15个周期\n",
    "    for i in range(totalBatchs):#执行550批次训练，使用优化器进行训练，误差最小化\n",
    "        batch_x, batch_y = mnist.train.next_batch(batchSize)\n",
    "        sess.run(optimizer,feed_dict={x: batch_x,y_label: batch_y})\n",
    "        \n",
    "    loss,acc = sess.run([loss_function,accuracy],\n",
    "                        feed_dict={x: mnist.validation.images, \n",
    "                                   y_label: mnist.validation.labels})#\n",
    "\n",
    "    epoch_list.append(epoch);loss_list.append(loss)\n",
    "    accuracy_list.append(acc)    \n",
    "    print(\"Train Epoch:\", '%02d' % (epoch+1), \"Loss=\",\"{:.9f}\".format(loss),\" Accuracy=\",acc)\n",
    "    \n",
    "duration =time()-startTime\n",
    "print(\"Train Finished takes:\",duration)     \n",
    "writer = tf.summary.FileWriter(\"./log\", sess.graph)\n",
    "writer.close()"
   ]
  },
  {
   "cell_type": "markdown",
   "metadata": {},
   "source": [
    "# 增加隐藏层"
   ]
  },
  {
   "cell_type": "code",
   "execution_count": 29,
   "metadata": {},
   "outputs": [
    {
     "name": "stdout",
     "output_type": "stream",
     "text": [
      "Extracting MNIST_data/train-images-idx3-ubyte.gz\n",
      "Extracting MNIST_data/train-labels-idx1-ubyte.gz\n",
      "Extracting MNIST_data/t10k-images-idx3-ubyte.gz\n",
      "Extracting MNIST_data/t10k-labels-idx1-ubyte.gz\n",
      "train images: (55000, 784) labels: (55000, 10)\n",
      "validation images: (5000, 784)  labels: (5000, 10)\n",
      "test images : (10000, 784) labels: (10000, 10)\n",
      "Train Epoch: 01 Loss= 136.222396851  Accuracy= 0.9144\n",
      "Train Epoch: 02 Loss= 93.555152893  Accuracy= 0.9304\n",
      "Train Epoch: 03 Loss= 77.741729736  Accuracy= 0.9422\n",
      "Train Epoch: 04 Loss= 67.205101013  Accuracy= 0.9482\n",
      "Train Epoch: 05 Loss= 63.870700836  Accuracy= 0.9516\n",
      "Train Epoch: 06 Loss= 61.039913177  Accuracy= 0.9506\n",
      "Train Epoch: 07 Loss= 57.772518158  Accuracy= 0.9556\n",
      "Train Epoch: 08 Loss= 57.500526428  Accuracy= 0.9592\n",
      "Train Epoch: 09 Loss= 53.418025970  Accuracy= 0.9618\n",
      "Train Epoch: 10 Loss= 60.966201782  Accuracy= 0.9588\n",
      "Train Epoch: 11 Loss= 55.260856628  Accuracy= 0.9618\n",
      "Train Epoch: 12 Loss= 48.996799469  Accuracy= 0.9658\n",
      "Train Epoch: 13 Loss= 52.811180115  Accuracy= 0.9642\n",
      "Train Epoch: 14 Loss= 52.232807159  Accuracy= 0.9666\n",
      "Train Epoch: 15 Loss= 46.971015930  Accuracy= 0.9692\n",
      "Train Finished takes: 139.3934450149536\n"
     ]
    }
   ],
   "source": [
    "#导入数据\n",
    "import tensorflow as tf\n",
    "import tensorflow.examples.tutorials.mnist.input_data as input_data\n",
    "mnist = input_data.read_data_sets(\"MNIST_data/\", one_hot=True)\n",
    "print('train images:', mnist.train.images.shape,'labels:', mnist.train.labels.shape)\n",
    "print('validation images:', mnist.validation.images.shape,' labels:' , mnist.validation.labels.shape)\n",
    "print('test images :', mnist.test.images.shape,'labels:', mnist.test.labels.shape)\n",
    "\n",
    "#建立layer函数\n",
    "def layer(output_dim,input_dim,inputs, activation=None):\n",
    "    W = tf.Variable(tf.random_normal([input_dim, output_dim]))\n",
    "    b = tf.Variable(tf.random_normal([1, output_dim]))\n",
    "    XWb = tf.matmul(inputs, W) + b\n",
    "    if activation is None:\n",
    "        outputs = XWb\n",
    "    else:\n",
    "        outputs = activation(XWb)\n",
    "    return outputs\n",
    "\n",
    "#输入层x，784个神经元  建立输入层\n",
    "x = tf.placeholder(\"float\", [None, 784])\n",
    "# 建立隐藏层h1 1024个神经元\n",
    "h1=layer(output_dim=1024,input_dim=784,inputs=x ,activation=tf.nn.relu)  \n",
    "\n",
    "# 建立隐藏层h2 1024个神经元\n",
    "h2=layer(output_dim=1024,input_dim=1024,inputs=h1 ,activation=tf.nn.relu)  \n",
    "\n",
    "#输出层  10个神经元\n",
    "y_predict=layer(output_dim=10,input_dim=1024,inputs=h2,activation=None)\n",
    "\n",
    "#定义训练方式\n",
    "##建立训练数据label真实值 placeholder\n",
    "y_label = tf.placeholder(\"float\", [None, 10])\n",
    "\n",
    "#定义loss function#在深度学习中使用cross_entropy交叉熵训练的效果比较好\n",
    "#https://blog.csdn.net/u014313009/article/details/51043064\n",
    "#预测值和真实值的交叉熵，取平均值\n",
    "loss_function = tf.reduce_mean(\n",
    "                  tf.nn.softmax_cross_entropy_with_logits\n",
    "                         (logits=y_predict , \n",
    "                          labels=y_label))\n",
    "\n",
    "#选择optimizer，训练的方法，学习率为0.001，最小化损失函数\n",
    "optimizer = tf.train.AdamOptimizer(learning_rate=0.001).minimize(loss_function)\n",
    "\n",
    "correct_prediction = tf.equal(tf.argmax(y_label, 1),tf.argmax(y_predict, 1))\n",
    "accuracy = tf.reduce_mean(tf.cast(correct_prediction, \"float\"))#用cast转换为float类型\n",
    "\n",
    "trainEpochs = 15#15个训练周期\n",
    "batchSize = 100#每一批次项数为100\n",
    "totalBatchs = int(mnist.train.num_examples/batchSize)#每个周期所需执行批次,550\n",
    "epoch_list=[];loss_list=[];accuracy_list=[]#初始化训练周期，误差，准确率\n",
    "from time import time#计算时间\n",
    "startTime=time()\n",
    "sess = tf.Session()\n",
    "sess.run(tf.global_variables_initializer())#初始化TensorFlow global变量\n",
    "\n",
    "for epoch in range(trainEpochs):#15个周期\n",
    "    for i in range(totalBatchs):#执行550批次训练\n",
    "        batch_x, batch_y = mnist.train.next_batch(batchSize)\n",
    "        sess.run(optimizer,feed_dict={x: batch_x,y_label: batch_y})\n",
    "        \n",
    "    loss,acc = sess.run([loss_function,accuracy],\n",
    "                        feed_dict={x: mnist.validation.images, \n",
    "                                   y_label: mnist.validation.labels})#\n",
    "\n",
    "    epoch_list.append(epoch);loss_list.append(loss)\n",
    "    accuracy_list.append(acc)    \n",
    "    print(\"Train Epoch:\", '%02d' % (epoch+1), \"Loss=\",\"{:.9f}\".format(loss),\" Accuracy=\",acc)\n",
    "    \n",
    "duration =time()-startTime\n",
    "print(\"Train Finished takes:\",duration)     "
   ]
  },
  {
   "cell_type": "code",
   "execution_count": null,
   "metadata": {},
   "outputs": [],
   "source": []
  }
 ],
 "metadata": {
  "kernelspec": {
   "display_name": "Python 3",
   "language": "python",
   "name": "python3"
  },
  "language_info": {
   "codemirror_mode": {
    "name": "ipython",
    "version": 3
   },
   "file_extension": ".py",
   "mimetype": "text/x-python",
   "name": "python",
   "nbconvert_exporter": "python",
   "pygments_lexer": "ipython3",
   "version": "3.7.1"
  },
  "toc": {
   "base_numbering": 1,
   "nav_menu": {},
   "number_sections": true,
   "sideBar": true,
   "skip_h1_title": false,
   "title_cell": "Table of Contents",
   "title_sidebar": "Contents",
   "toc_cell": false,
   "toc_position": {
    "height": "calc(100% - 180px)",
    "left": "10px",
    "top": "150px",
    "width": "248.352px"
   },
   "toc_section_display": true,
   "toc_window_display": true
  }
 },
 "nbformat": 4,
 "nbformat_minor": 2
}
