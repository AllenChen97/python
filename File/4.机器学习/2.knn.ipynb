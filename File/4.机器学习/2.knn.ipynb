{
 "cells": [
  {
   "cell_type": "markdown",
   "metadata": {},
   "source": [
    "# knn python实现"
   ]
  },
  {
   "cell_type": "code",
   "execution_count": 32,
   "metadata": {},
   "outputs": [
    {
     "name": "stdout",
     "output_type": "stream",
     "text": [
      "动作片\n"
     ]
    }
   ],
   "source": [
    "#knn,方法1\n",
    "import numpy as np\n",
    "import operator\n",
    "#数据集\n",
    "def createDataSet():\n",
    "    group = np.array([[1,101],[5,89],[108,5],[115,8]])#四组二维特征\n",
    "    labels = ['爱情片','爱情片','动作片','动作片']#四组特征的标签\n",
    "    return group, labels\n",
    "\n",
    "dataset, labels = createDataSet()\n",
    "test_data = [101,20]#测试集\n",
    "\n",
    "k=3\n",
    "distances = np.sum((test_data - dataset)**2, axis=1)**0.5#按行\n",
    "#返回distances中元素从小到大排序后的索引值\n",
    "sortedDistIndices = distances.argsort()\n",
    "#定一个记录类别次数的字典\n",
    "classCount = {}\n",
    "for i in range(k):\n",
    "    #取出前k个元素的类别\n",
    "    voteIlabel = labels[sortedDistIndices[i]]\n",
    "    #dict.get(key,default=None),字典的get()方法,返回指定键的值,如果值不在字典中返回默认值。\n",
    "    #计算类别次数\n",
    "    classCount[voteIlabel] = classCount.get(voteIlabel,0) + 1\n",
    "    #key=operator.itemgetter(1)根据字典的值进行排序\n",
    "    #key=operator.itemgetter(0)根据字典的键进行排序\n",
    "    #reverse降序排序字典\n",
    "sortedClassCount = sorted(classCount.items(),key=operator.itemgetter(1),reverse=True)\n",
    "    #返回次数最多的类别,即所要分类的类别\n",
    "print(sortedClassCount[0][0])"
   ]
  },
  {
   "cell_type": "code",
   "execution_count": 33,
   "metadata": {},
   "outputs": [
    {
     "name": "stdout",
     "output_type": "stream",
     "text": [
      "动作片\n"
     ]
    }
   ],
   "source": [
    "#knn，方法2\n",
    "import numpy as np\n",
    "import operator\n",
    "import collections\n",
    "#数据集\n",
    "def createDataSet():\n",
    "    group = np.array([[1,101],[5,89],[108,5],[115,8]])#四组二维特征\n",
    "    labels = ['爱情片','爱情片','动作片','动作片']#四组特征的标签\n",
    "    return group, labels\n",
    "\n",
    "dataset, labels = createDataSet()\n",
    "test_data = [101,20]#测试集\n",
    "\n",
    "k=3\n",
    "distances = np.sum((test_data - dataset)**2, axis=1)**0.5#按行\n",
    "k_labels = [labels[index] for index in distances.argsort()[0:k]]# k个最近的标签\n",
    "label = collections.Counter(k_labels).most_common(1)[0][0]# 出现次数最多的标签即为最终类别\n",
    "print(label)"
   ]
  },
  {
   "cell_type": "code",
   "execution_count": 4,
   "metadata": {},
   "outputs": [
    {
     "name": "stdout",
     "output_type": "stream",
     "text": [
      "动作片\n",
      "动作片\n"
     ]
    }
   ],
   "source": [
    "#整合代码\n",
    "import numpy as np\n",
    "import operator\n",
    "import collections\n",
    "#数据集\n",
    "#方法1\n",
    "def classify0(inx, dataset, labels, k):\n",
    "    dist = np.sum((inx - dataset)**2, axis=1)**0.5# 计算距离\n",
    "    k_labels = [labels[index] for index in dist.argsort()[0 : k]]# k个最近的标签\n",
    "    label = collections.Counter(k_labels).most_common(1)[0][0]# 出现次数最多的标签即为最终类别\n",
    "    return label\n",
    "\n",
    "#方法2\n",
    "def classify1(inx, dataset, labels, k):\n",
    "    #numpy函数shape[0]返回dataSet的行数\n",
    "    distances = np.sum((inx - dataset)**2, axis=1)**0.5#按行\n",
    "    #返回distances中元素从小到大排序后的索引值\n",
    "    sortedDistIndices = distances.argsort()\n",
    "    #定一个记录类别次数的字典\n",
    "    classCount = {}\n",
    "    for i in range(k):\n",
    "        #取出前k个元素的类别\n",
    "        voteIlabel = labels[sortedDistIndices[i]]\n",
    "        #dict.get(key,default=None),字典的get()方法,返回指定键的值,如果值不在字典中返回默认值。\n",
    "        #计算类别次数\n",
    "        classCount[voteIlabel] = classCount.get(voteIlabel,0) + 1\n",
    "    #python3中用items()替换python2中的iteritems()\n",
    "    #key=operator.itemgetter(1)根据字典的值进行排序\n",
    "    #key=operator.itemgetter(0)根据字典的键进行排序\n",
    "    #reverse降序排序字典\n",
    "    sortedClassCount = sorted(classCount.items(),key=operator.itemgetter(1),reverse=True)\n",
    "    #返回次数最多的类别,即所要分类的类别\n",
    "    return sortedClassCount[0][0]\n",
    "\n",
    "if __name__ == '__main__':\n",
    "    #创建数据集\n",
    "    group, labels = createDataSet()\n",
    "    #测试集\n",
    "    test = [101,20]\n",
    "    #kNN分类\n",
    "    test_class0 = classify0(test, group, labels, 3)\n",
    "    print(test_class0)\n",
    "    test_class1 = classify1(test, group, labels, 3)\n",
    "    print(test_class1)"
   ]
  },
  {
   "cell_type": "markdown",
   "metadata": {},
   "source": [
    "# 约会网站测试"
   ]
  },
  {
   "cell_type": "code",
   "execution_count": 2,
   "metadata": {},
   "outputs": [
    {
     "name": "stderr",
     "output_type": "stream",
     "text": [
      "D:\\conda\\lib\\site-packages\\ipykernel_launcher.py:5: FutureWarning: read_table is deprecated, use read_csv instead.\n",
      "  \"\"\"\n"
     ]
    },
    {
     "data": {
      "text/html": [
       "<div>\n",
       "<style scoped>\n",
       "    .dataframe tbody tr th:only-of-type {\n",
       "        vertical-align: middle;\n",
       "    }\n",
       "\n",
       "    .dataframe tbody tr th {\n",
       "        vertical-align: top;\n",
       "    }\n",
       "\n",
       "    .dataframe thead th {\n",
       "        text-align: right;\n",
       "    }\n",
       "</style>\n",
       "<table border=\"1\" class=\"dataframe\">\n",
       "  <thead>\n",
       "    <tr style=\"text-align: right;\">\n",
       "      <th></th>\n",
       "      <th>y</th>\n",
       "    </tr>\n",
       "  </thead>\n",
       "  <tbody>\n",
       "    <tr>\n",
       "      <th>0</th>\n",
       "      <td>largeDoses</td>\n",
       "    </tr>\n",
       "    <tr>\n",
       "      <th>1</th>\n",
       "      <td>smallDoses</td>\n",
       "    </tr>\n",
       "    <tr>\n",
       "      <th>2</th>\n",
       "      <td>didntLike</td>\n",
       "    </tr>\n",
       "    <tr>\n",
       "      <th>3</th>\n",
       "      <td>didntLike</td>\n",
       "    </tr>\n",
       "    <tr>\n",
       "      <th>4</th>\n",
       "      <td>didntLike</td>\n",
       "    </tr>\n",
       "  </tbody>\n",
       "</table>\n",
       "</div>"
      ],
      "text/plain": [
       "            y\n",
       "0  largeDoses\n",
       "1  smallDoses\n",
       "2   didntLike\n",
       "3   didntLike\n",
       "4   didntLike"
      ]
     },
     "execution_count": 2,
     "metadata": {},
     "output_type": "execute_result"
    }
   ],
   "source": [
    "import numpy as np\n",
    "import os\n",
    "os.chdir(r'D:\\CDA\\File')\n",
    "import pandas as pd\n",
    "data=pd.read_table('datingTestSet.txt',sep='\t',names=['x1','x2','x3','y'])\n",
    "datingDataMat=data.loc[:,'x1':'x3']\n",
    "datingLabels=data.loc[:,'y':]\n",
    "datingLabels.head()"
   ]
  },
  {
   "cell_type": "code",
   "execution_count": 3,
   "metadata": {},
   "outputs": [
    {
     "name": "stdout",
     "output_type": "stream",
     "text": [
      "分类结果:largeDoses\t真实类别:largeDoses\n",
      "分类结果:smallDoses\t真实类别:smallDoses\n",
      "分类结果:didntLike\t真实类别:didntLike\n",
      "分类结果:didntLike\t真实类别:didntLike\n",
      "分类结果:didntLike\t真实类别:didntLike\n",
      "分类结果:didntLike\t真实类别:didntLike\n",
      "分类结果:largeDoses\t真实类别:largeDoses\n",
      "分类结果:largeDoses\t真实类别:largeDoses\n",
      "分类结果:didntLike\t真实类别:didntLike\n",
      "分类结果:largeDoses\t真实类别:largeDoses\n",
      "分类结果:didntLike\t真实类别:didntLike\n",
      "分类结果:didntLike\t真实类别:didntLike\n",
      "分类结果:smallDoses\t真实类别:smallDoses\n",
      "分类结果:didntLike\t真实类别:didntLike\n",
      "分类结果:didntLike\t真实类别:didntLike\n",
      "分类结果:didntLike\t真实类别:didntLike\n",
      "分类结果:didntLike\t真实类别:didntLike\n",
      "分类结果:didntLike\t真实类别:didntLike\n",
      "分类结果:smallDoses\t真实类别:smallDoses\n",
      "分类结果:largeDoses\t真实类别:largeDoses\n",
      "分类结果:smallDoses\t真实类别:smallDoses\n",
      "分类结果:didntLike\t真实类别:didntLike\n",
      "分类结果:smallDoses\t真实类别:smallDoses\n",
      "分类结果:largeDoses\t真实类别:largeDoses\n",
      "分类结果:smallDoses\t真实类别:smallDoses\n",
      "分类结果:largeDoses\t真实类别:largeDoses\n",
      "分类结果:smallDoses\t真实类别:smallDoses\n",
      "分类结果:largeDoses\t真实类别:largeDoses\n",
      "分类结果:smallDoses\t真实类别:smallDoses\n",
      "分类结果:didntLike\t真实类别:didntLike\n",
      "分类结果:largeDoses\t真实类别:largeDoses\n",
      "分类结果:didntLike\t真实类别:didntLike\n",
      "分类结果:largeDoses\t真实类别:largeDoses\n",
      "分类结果:didntLike\t真实类别:didntLike\n",
      "分类结果:smallDoses\t真实类别:smallDoses\n",
      "分类结果:didntLike\t真实类别:didntLike\n",
      "分类结果:didntLike\t真实类别:didntLike\n",
      "分类结果:smallDoses\t真实类别:smallDoses\n",
      "分类结果:largeDoses\t真实类别:largeDoses\n",
      "分类结果:largeDoses\t真实类别:largeDoses\n",
      "分类结果:didntLike\t真实类别:didntLike\n",
      "分类结果:smallDoses\t真实类别:smallDoses\n",
      "分类结果:largeDoses\t真实类别:largeDoses\n",
      "分类结果:largeDoses\t真实类别:largeDoses\n",
      "分类结果:largeDoses\t真实类别:largeDoses\n",
      "分类结果:didntLike\t真实类别:didntLike\n",
      "分类结果:didntLike\t真实类别:didntLike\n",
      "分类结果:didntLike\t真实类别:didntLike\n",
      "分类结果:didntLike\t真实类别:didntLike\n",
      "分类结果:smallDoses\t真实类别:smallDoses\n",
      "分类结果:smallDoses\t真实类别:smallDoses\n",
      "分类结果:didntLike\t真实类别:didntLike\n",
      "分类结果:largeDoses\t真实类别:largeDoses\n",
      "分类结果:smallDoses\t真实类别:smallDoses\n",
      "分类结果:smallDoses\t真实类别:smallDoses\n",
      "分类结果:smallDoses\t真实类别:smallDoses\n",
      "分类结果:smallDoses\t真实类别:smallDoses\n",
      "分类结果:largeDoses\t真实类别:largeDoses\n",
      "分类结果:didntLike\t真实类别:didntLike\n",
      "分类结果:smallDoses\t真实类别:smallDoses\n",
      "分类结果:didntLike\t真实类别:didntLike\n",
      "分类结果:smallDoses\t真实类别:smallDoses\n",
      "分类结果:smallDoses\t真实类别:smallDoses\n",
      "分类结果:smallDoses\t真实类别:smallDoses\n",
      "分类结果:smallDoses\t真实类别:smallDoses\n",
      "分类结果:smallDoses\t真实类别:smallDoses\n",
      "分类结果:largeDoses\t真实类别:largeDoses\n",
      "分类结果:smallDoses\t真实类别:smallDoses\n",
      "分类结果:largeDoses\t真实类别:largeDoses\n",
      "分类结果:didntLike\t真实类别:didntLike\n",
      "分类结果:smallDoses\t真实类别:smallDoses\n",
      "分类结果:largeDoses\t真实类别:largeDoses\n",
      "分类结果:smallDoses\t真实类别:smallDoses\n",
      "分类结果:smallDoses\t真实类别:smallDoses\n",
      "分类结果:largeDoses\t真实类别:didntLike\n",
      "分类结果:largeDoses\t真实类别:largeDoses\n",
      "分类结果:didntLike\t真实类别:didntLike\n",
      "分类结果:didntLike\t真实类别:didntLike\n",
      "分类结果:largeDoses\t真实类别:largeDoses\n",
      "分类结果:largeDoses\t真实类别:largeDoses\n",
      "分类结果:didntLike\t真实类别:didntLike\n",
      "分类结果:smallDoses\t真实类别:smallDoses\n",
      "分类结果:largeDoses\t真实类别:largeDoses\n",
      "分类结果:largeDoses\t真实类别:didntLike\n",
      "分类结果:largeDoses\t真实类别:largeDoses\n",
      "分类结果:didntLike\t真实类别:didntLike\n",
      "分类结果:smallDoses\t真实类别:smallDoses\n",
      "分类结果:smallDoses\t真实类别:smallDoses\n",
      "分类结果:didntLike\t真实类别:didntLike\n",
      "分类结果:didntLike\t真实类别:didntLike\n",
      "分类结果:largeDoses\t真实类别:largeDoses\n",
      "分类结果:smallDoses\t真实类别:largeDoses\n",
      "分类结果:didntLike\t真实类别:didntLike\n",
      "分类结果:smallDoses\t真实类别:smallDoses\n",
      "分类结果:didntLike\t真实类别:didntLike\n",
      "分类结果:largeDoses\t真实类别:largeDoses\n",
      "分类结果:largeDoses\t真实类别:largeDoses\n",
      "分类结果:smallDoses\t真实类别:smallDoses\n",
      "分类结果:smallDoses\t真实类别:didntLike\n",
      "分类结果:didntLike\t真实类别:didntLike\n",
      "错误率:4.000000%\n"
     ]
    },
    {
     "name": "stderr",
     "output_type": "stream",
     "text": [
      "D:\\conda\\lib\\site-packages\\ipykernel_launcher.py:10: FutureWarning: read_table is deprecated, use read_csv instead.\n",
      "  # Remove the CWD from sys.path while we load stuff.\n"
     ]
    }
   ],
   "source": [
    "#计算错误率\n",
    "import collections\n",
    "\n",
    "def classify0(inx, dataset, labels, k):\n",
    "    dist = np.sum((inx - dataset)**2, axis=1)**0.5# 计算距离\n",
    "    k_labels = [labels[index] for index in dist.argsort()[0 : k]]# k个最近的标签\n",
    "    label = collections.Counter(k_labels).most_common(1)[0][0]# 出现次数最多的标签即为最终类别\n",
    "    return label\n",
    "\n",
    "data=pd.read_table('datingTestSet.txt',sep='\t',names=['x1','x2','x3','y'])\n",
    "datingData=data.loc[:,'x1':'x3']\n",
    "datingLabels=data['y']\n",
    "\n",
    "#数据归一化\n",
    "df_norm = (datingData - datingData.min()) / (datingData.max() - datingData.min())\n",
    "errorCount = 0.0\n",
    "for i in range(100):#前100作为测试，后900个作为训练\n",
    "\tclassifierResult = classify0(df_norm.values[i,:], df_norm.values[100:1001,:],list(datingLabels[100:1000]), 4)\n",
    "\tprint(\"分类结果:%s\\t真实类别:%s\" % (classifierResult, datingLabels[i]))\n",
    "\tif classifierResult is not datingLabels[i]:\n",
    "\t\terrorCount += 1.0\n",
    "print(\"错误率:%f%%\" %(errorCount/float(100)*100))"
   ]
  },
  {
   "cell_type": "markdown",
   "metadata": {},
   "source": [
    "# 完整可用系统"
   ]
  },
  {
   "cell_type": "code",
   "execution_count": 4,
   "metadata": {},
   "outputs": [
    {
     "name": "stderr",
     "output_type": "stream",
     "text": [
      "D:\\conda\\lib\\site-packages\\ipykernel_launcher.py:14: FutureWarning: read_table is deprecated, use read_csv instead.\n",
      "  \n"
     ]
    },
    {
     "name": "stdout",
     "output_type": "stream",
     "text": [
      "每年获得的飞行常客里程数:34\n",
      "玩视频游戏所耗时间百分比:43\n",
      "每周消费的冰激淋公升数:100\n",
      "你可能largeDoses这个人\n"
     ]
    }
   ],
   "source": [
    "# -*- coding: utf-8 -*-\n",
    "import numpy as np\n",
    "import pandas as pd\n",
    "import os\n",
    "os.chdir(r'D:\\CDA\\File')\n",
    "import collections\n",
    "\n",
    "def classify0(inx, dataset, labels, k):\n",
    "    dist = np.sum((inx - dataset)**2, axis=1)**0.5# 计算距离\n",
    "    k_labels = [labels[index] for index in dist.argsort()[0 : k]]# k个最近的标签\n",
    "    label = collections.Counter(k_labels).most_common(1)[0][0]# 出现次数最多的标签即为最终类别\n",
    "    return label\n",
    "\n",
    "data=pd.read_table('datingTestSet.txt',sep='\t',names=['x1','x2','x3','y'])\n",
    "datingData=data.loc[:,'x1':'x3']\n",
    "datingLabels=data['y']\n",
    "\n",
    "#数据归一化\n",
    "df_norm = (datingData - datingData.min()) / (datingData.max() - datingData.min())\n",
    "\n",
    "\n",
    "#构建完成可用系统    \n",
    "ffMiles = float(input(\"每年获得的飞行常客里程数:\"))\n",
    "precentTats = float(input(\"玩视频游戏所耗时间百分比:\"))\n",
    "iceCream = float(input(\"每周消费的冰激淋公升数:\"))    \n",
    "\n",
    "inArr = np.array([ffMiles, precentTats, iceCream])\n",
    "norminArr = np.array((inArr - datingData.min()) / (datingData.max() - datingData.min()))\n",
    "\n",
    "classifierResult = classify0(norminArr, df_norm.values, list(datingLabels), 4)\n",
    "#打印结果\n",
    "print(\"你可能%s这个人\" %(classifierResult))"
   ]
  },
  {
   "cell_type": "markdown",
   "metadata": {},
   "source": [
    "# sklearn中的knn"
   ]
  },
  {
   "cell_type": "code",
   "execution_count": 66,
   "metadata": {},
   "outputs": [
    {
     "name": "stdout",
     "output_type": "stream",
     "text": [
      "[[0.66666667 0.33333333]]\n",
      "[0]\n"
     ]
    },
    {
     "data": {
      "text/plain": [
       "'a'"
      ]
     },
     "execution_count": 66,
     "metadata": {},
     "output_type": "execute_result"
    }
   ],
   "source": [
    "#分类\n",
    "X = [[0], [1], [2], [3]]\n",
    "label=['a', 'a', 'b', 'b']\n",
    "\n",
    "y = [0,0,1,1]\n",
    "\n",
    "from sklearn.neighbors import KNeighborsClassifier\n",
    "neigh = KNeighborsClassifier(n_neighbors=3)\n",
    "neigh.fit(X, y) \n",
    "print(neigh.predict_proba([[1.1]]))\n",
    "\n",
    "a=neigh.predict([[1.1]])\n",
    "print(a)\n",
    "\n",
    "label[a[0]]"
   ]
  },
  {
   "cell_type": "markdown",
   "metadata": {},
   "source": [
    "# 鸢尾花分类"
   ]
  },
  {
   "cell_type": "code",
   "execution_count": 5,
   "metadata": {},
   "outputs": [
    {
     "name": "stdout",
     "output_type": "stream",
     "text": [
      "数据量 (150, 4)\n",
      "预测结果 [2 1 0 2 0 2 0 1 1 1 2 1 1 1 1 0 1 1 0 0 2 1 0 0 2 0 0 1 1 0]\n",
      "预测准确率 1.0\n"
     ]
    }
   ],
   "source": [
    "#鸢尾花分类\n",
    "import numpy as np\n",
    "from sklearn import datasets\n",
    "from sklearn.neighbors import KNeighborsClassifier\n",
    "from sklearn.model_selection import train_test_split\n",
    "# 导入鸢尾花数据并查看数据特征\n",
    "iris = datasets.load_iris()\n",
    "print('数据量',iris.data.shape)\n",
    "# 拆分属性数据\n",
    "iris_X = iris.data\n",
    "# 拆分类别数据\n",
    "iris_y = iris.target\n",
    "iris_train_X , iris_test_X, iris_train_y ,iris_test_y = train_test_split(iris_X, iris_y, test_size=0.2,random_state=0)\n",
    "knn = KNeighborsClassifier(n_neighbors=6)\n",
    "knn.fit(iris_train_X, iris_train_y)\n",
    "predict_result=knn.predict(iris_test_X)\n",
    "print('预测结果',predict_result)\n",
    "# 计算预测的准确率\n",
    "print('预测准确率',knn.score(iris_test_X, iris_test_y))"
   ]
  },
  {
   "cell_type": "markdown",
   "metadata": {},
   "source": [
    "# 回归树"
   ]
  },
  {
   "cell_type": "code",
   "execution_count": 5,
   "metadata": {},
   "outputs": [
    {
     "name": "stdout",
     "output_type": "stream",
     "text": [
      "[0.5]\n"
     ]
    }
   ],
   "source": [
    "#回归\n",
    "X = [[0], [1], [2], [3]]\n",
    "y = [0, 0, 1, 1]\n",
    "from sklearn.neighbors import KNeighborsRegressor\n",
    "neigh = KNeighborsRegressor(n_neighbors=2)\n",
    "neigh.fit(X, y) \n",
    "print(neigh.predict([[1.5]]))"
   ]
  },
  {
   "cell_type": "markdown",
   "metadata": {},
   "source": [
    "# 波士顿房价预测"
   ]
  },
  {
   "cell_type": "code",
   "execution_count": 6,
   "metadata": {},
   "outputs": [],
   "source": [
    "from sklearn.linear_model import LinearRegression, Ridge,Lasso\n",
    "from sklearn.preprocessing import StandardScaler\n",
    "from sklearn.datasets import load_boston\n",
    "from sklearn.model_selection import train_test_split\n",
    "import matplotlib.pyplot as plt \n",
    "# 1、加载数据集\n",
    "ld = load_boston()\n",
    "x_train,x_test,y_train,y_test = train_test_split(ld.data,ld.target,test_size=0.25)"
   ]
  },
  {
   "cell_type": "code",
   "execution_count": 7,
   "metadata": {},
   "outputs": [],
   "source": [
    "# 2、标准化处理\n",
    "# 特征值处理\n",
    "std_x = StandardScaler()\n",
    "x_train = std_x.fit_transform(x_train)\n",
    "x_test = std_x.fit_transform(x_test)\n",
    "# 目标值进行处理\n",
    "std_y  = StandardScaler()\n",
    "y_train = std_y.fit_transform(y_train.reshape(-1,1))\n",
    "y_test = std_y.transform(y_test.reshape(-1,1))"
   ]
  },
  {
   "cell_type": "code",
   "execution_count": 8,
   "metadata": {},
   "outputs": [
    {
     "data": {
      "text/plain": [
       "0.8097566726694192"
      ]
     },
     "execution_count": 8,
     "metadata": {},
     "output_type": "execute_result"
    }
   ],
   "source": [
    "# knn回归\n",
    "knn=KNeighborsRegressor().fit(x_train,y_train)\n",
    "knn.score(x_test,y_test)"
   ]
  },
  {
   "cell_type": "code",
   "execution_count": 9,
   "metadata": {},
   "outputs": [
    {
     "data": {
      "text/plain": [
       "0.7656033699123515"
      ]
     },
     "execution_count": 9,
     "metadata": {},
     "output_type": "execute_result"
    }
   ],
   "source": [
    "# LinearRegression\n",
    "lr=LinearRegression().fit(x_train,y_train)\n",
    "lr.score(x_test,y_test)"
   ]
  },
  {
   "cell_type": "markdown",
   "metadata": {},
   "source": [
    "# 学习曲线"
   ]
  },
  {
   "cell_type": "code",
   "execution_count": 10,
   "metadata": {
    "scrolled": true
   },
   "outputs": [
    {
     "data": {
      "image/png": "[encoded data removed]",
      "text/plain": [
       "<Figure size 432x288 with 1 Axes>"
      ]
     },
     "metadata": {
      "needs_background": "light"
     },
     "output_type": "display_data"
    }
   ],
   "source": [
    "x_train,x_test,y_train,y_test = train_test_split(ld.data,ld.target,test_size=0.25)\n",
    "std_x = StandardScaler()\n",
    "x_train = std_x.fit_transform(x_train)\n",
    "x_test = std_x.fit_transform(x_test)\n",
    "# 目标值进行处理\n",
    "std_y  = StandardScaler()\n",
    "y_train = std_y.fit_transform(y_train.reshape(-1,1))\n",
    "y_test = std_y.transform(y_test.reshape(-1,1))\n",
    "\n",
    "\n",
    "krange = range(1,20)\n",
    "score=[]\n",
    "\n",
    "for i in krange:\n",
    "    knn = KNeighborsRegressor(n_neighbors=i)\n",
    "    knn.fit(x_train, y_train)\n",
    "    score.append(knn.score(x_test,y_test))\n",
    "    \n",
    "plt.plot(krange,score)\n",
    "plt.show()"
   ]
  },
  {
   "cell_type": "markdown",
   "metadata": {},
   "source": [
    "# 交叉验证"
   ]
  },
  {
   "cell_type": "code",
   "execution_count": 12,
   "metadata": {},
   "outputs": [
    {
     "data": {
      "text/plain": [
       "array([0.77127572, 0.83888444, 0.63297697, 0.66899034, 0.63498958])"
      ]
     },
     "execution_count": 12,
     "metadata": {},
     "output_type": "execute_result"
    }
   ],
   "source": [
    "from sklearn.model_selection import cross_val_score as CVS\n",
    "knn = KNeighborsRegressor(n_neighbors=2)\n",
    "cvresult = CVS(knn,x_train, y_train,cv=5)\n",
    "cvresult"
   ]
  },
  {
   "cell_type": "code",
   "execution_count": 13,
   "metadata": {},
   "outputs": [
    {
     "data": {
      "text/plain": [
       "0.7094234089617364"
      ]
     },
     "execution_count": 13,
     "metadata": {},
     "output_type": "execute_result"
    }
   ],
   "source": [
    "cvresult.mean()  # 模型的平均效果"
   ]
  },
  {
   "cell_type": "code",
   "execution_count": 14,
   "metadata": {},
   "outputs": [
    {
     "data": {
      "text/plain": [
       "0.006721030702572653"
      ]
     },
     "execution_count": 14,
     "metadata": {},
     "output_type": "execute_result"
    }
   ],
   "source": [
    "cvresult.var() # 模型是否稳定"
   ]
  },
  {
   "cell_type": "code",
   "execution_count": 15,
   "metadata": {},
   "outputs": [
    {
     "data": {
      "text/plain": [
       "[<matplotlib.lines.Line2D at 0x17c9ce16198>]"
      ]
     },
     "execution_count": 15,
     "metadata": {},
     "output_type": "execute_result"
    },
    {
     "data": {
      "image/png": "[encoded data removed]",
      "text/plain": [
       "<Figure size 432x288 with 1 Axes>"
      ]
     },
     "metadata": {
      "needs_background": "light"
     },
     "output_type": "display_data"
    }
   ],
   "source": [
    "import matplotlib.pyplot as plt\n",
    "%matplotlib inline\n",
    "score=[]\n",
    "var_ = []\n",
    "krange = range(1,21)\n",
    "\n",
    "for i in krange:\n",
    "    knn = KNeighborsRegressor(n_neighbors=i)\n",
    "    cvresult = CVS(knn,x_train, y_train,cv=5)\n",
    "    score.append(cvresult.mean())\n",
    "    var_.append(cvresult.var())\n",
    "    \n",
    "plt.plot(krange,score,color='b')"
   ]
  },
  {
   "cell_type": "code",
   "execution_count": null,
   "metadata": {},
   "outputs": [],
   "source": []
  },
  {
   "cell_type": "markdown",
   "metadata": {},
   "source": [
    "# knn手写数字识别"
   ]
  },
  {
   "cell_type": "code",
   "execution_count": 16,
   "metadata": {},
   "outputs": [
    {
     "name": "stdout",
     "output_type": "stream",
     "text": [
      "总共错了12个数据\n",
      "错误率为1.268499%\n"
     ]
    }
   ],
   "source": [
    "#knn手写数字识别\n",
    "import numpy as np\n",
    "from os import listdir\n",
    "import os\n",
    "os.chdir(r'D:\\CDA\\File')\n",
    "from sklearn.neighbors import KNeighborsClassifier as kNN\n",
    " \n",
    "\"\"\"\n",
    "函数说明:将32x32的二进制图像转换为1x1024向量。\n",
    "Parameters:\n",
    "    filename - 文件名\n",
    "Returns:\n",
    "    returnVect - 返回的二进制图像的1x1024向量\n",
    "\"\"\"\n",
    "def img2vector(filename):\n",
    "    returnVect = np.zeros((1, 1024))\n",
    "    fr = open(filename)\n",
    "    for i in range(32):\n",
    "        lineStr = fr.readline()\n",
    "        for j in range(32):\n",
    "            returnVect[0, 32*i+j] = int(lineStr[j])\n",
    "    return returnVect\n",
    " \n",
    "\"\"\"\n",
    "函数说明:手写数字分类测试\n",
    "Parameters:\n",
    "    无\n",
    "Returns:\n",
    "    无\n",
    "\"\"\"\n",
    "def handwritingClassTest():\n",
    "    hwLabels = []                                       #测试集的Labels，后面用来比对计算错误率\n",
    "    trainingFileList = listdir('trainingDigits')        #listdir()是返回目录下的文件名\n",
    "    m = len(trainingFileList)                           #返回文件夹下文件的个数\n",
    "    trainingMat = np.zeros((m, 1024))                   #初始化训练的Mat矩阵,测试集，就是批量处理\n",
    "    for i in range(m):                                  #从文件名中解析出训练集的类别\n",
    "        fileNameStr = trainingFileList[i]               #获得文件的名字；是为了下一步获取每个文件的数字类别\n",
    "        classNumber = int(fileNameStr.split('_')[0])    #获得分类的数字；因为分隔后的第一个是代表类别的数字\n",
    "        hwLabels.append(classNumber)                    #将获得的类别添加到hwLabels中\n",
    "        trainingMat[i,:] = img2vector('trainingDigits/%s' % (fileNameStr))     #将每一个文件的1x1024数据存储到trainingMat矩阵中，trainingMat最后是m行1024列的矩阵\n",
    "    neigh = kNN(n_neighbors = 3, algorithm = 'auto')    #构建kNN分类器;第一个指标就是K，第二个指标就是自动搜索适合的算法\n",
    "    neigh.fit(trainingMat, hwLabels)                    #拟合模型, trainingMat为测试矩阵,hwLabels为对应的标签；这两步就是之前定义的classify那个函数的作用\n",
    "    testFileList = listdir('testDigits')                #返回testDigits目录下的文件列表   同样也要对测试集进行相同的处理\n",
    "    errorCount = 0.0                                    #错误检测计数\n",
    "    mTest = len(testFileList)                           #测试数据的数量\n",
    "    for i in range(mTest):                              #从文件中解析出测试集的类别并进行分类测试  \n",
    "        fileNameStr = testFileList[i]                   #获得文件的名字\n",
    "        classNumber = int(fileNameStr.split('_')[0])    #获得分类的数字\n",
    "        vectorUnderTest = img2vector('testDigits/%s' % (fileNameStr))     #获得测试集的1x1024向量,用于训练\n",
    "        classifierResult = neigh.predict(vectorUnderTest)    #获得预测结果；# classifierResult = classify0(vectorUnderTest, trainingMat, hwLabels, 3)\n",
    "        #print(\"分类返回结果为%d\\t真实结果为%d\" % (classifierResult, classNumber)) \n",
    "        if(classifierResult != classNumber):\n",
    "            errorCount += 1.0\n",
    "    print(\"总共错了%d个数据\\n错误率为%f%%\" % (errorCount, errorCount/mTest * 100))\n",
    " \n",
    "\n",
    "if __name__ == '__main__':\n",
    "    handwritingClassTest()#1.268%"
   ]
  },
  {
   "cell_type": "code",
   "execution_count": null,
   "metadata": {},
   "outputs": [],
   "source": []
  }
 ],
 "metadata": {
  "kernelspec": {
   "display_name": "Python 3",
   "language": "python",
   "name": "python3"
  },
  "language_info": {
   "codemirror_mode": {
    "name": "ipython",
    "version": 3
   },
   "file_extension": ".py",
   "mimetype": "text/x-python",
   "name": "python",
   "nbconvert_exporter": "python",
   "pygments_lexer": "ipython3",
   "version": "3.7.3"
  }
 },
 "nbformat": 4,
 "nbformat_minor": 2
}
