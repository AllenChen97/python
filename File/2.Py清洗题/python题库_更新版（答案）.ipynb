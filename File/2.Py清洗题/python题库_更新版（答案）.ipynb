{
 "cells": [
  {
   "cell_type": "markdown",
   "metadata": {},
   "source": [
    "## 题目001：有四个数字：1、2、3、4，能组成多少个互不相同且无重复数字的三位数？各是多少？"
   ]
  },
  {
   "cell_type": "code",
   "execution_count": 78,
   "metadata": {},
   "outputs": [],
   "source": [
    "def tm001():\n",
    "    arr = []\n",
    "    for i in range(1,5):\n",
    "        for j in range(1,5):\n",
    "            for k in range(1,5):\n",
    "                num = 100*i+10*j+k\n",
    "                if i!=j and j!=k and i!=k and num not in arr:# 互不相同且无重复数字的三位数\n",
    "                    arr.append(num)\n",
    "    print(len(arr),arr)"
   ]
  },
  {
   "cell_type": "code",
   "execution_count": 79,
   "metadata": {},
   "outputs": [],
   "source": [
    "def tm001_1():\n",
    "    import itertools\n",
    "    temp_arr = list(itertools.permutations([1, 2, 3, 4], 3)) # 排列  # A_4^3 = (4)!/(4-3)! = (4*3*2*1)/1 = 24\n",
    "    arr = [100*t[0]+10*t[1]+t[2] for t in temp_arr]\n",
    "    print(len(arr),arr)"
   ]
  },
  {
   "cell_type": "code",
   "execution_count": 80,
   "metadata": {},
   "outputs": [
    {
     "name": "stdout",
     "output_type": "stream",
     "text": [
      "24 [123, 124, 132, 134, 142, 143, 213, 214, 231, 234, 241, 243, 312, 314, 321, 324, 341, 342, 412, 413, 421, 423, 431, 432]\n"
     ]
    }
   ],
   "source": [
    "tm001()"
   ]
  },
  {
   "cell_type": "code",
   "execution_count": 81,
   "metadata": {},
   "outputs": [
    {
     "name": "stdout",
     "output_type": "stream",
     "text": [
      "24 [123, 124, 132, 134, 142, 143, 213, 214, 231, 234, 241, 243, 312, 314, 321, 324, 341, 342, 412, 413, 421, 423, 431, 432]\n"
     ]
    }
   ],
   "source": [
    "tm001_1()"
   ]
  },
  {
   "cell_type": "raw",
   "metadata": {},
   "source": [
    "python自带排列组合模块，可以直接调用。\n",
    "如果这是面试题，能写出后一种当然好，实在记不起函数就按照上面的思路去写。"
   ]
  },
  {
   "cell_type": "markdown",
   "metadata": {},
   "source": [
    "## 题目002：企业发放的奖金根据利润(I)的多少来提成：\n",
    "        低于或等于10万元时，奖金可提10%；\n",
    "        利润高于10万元，低于20万元时，低于10万元的部分按10%提成，高于10万元的部分，可提成7.5%；\n",
    "        20万到40万之间时，高于20万元的部分，可提成5%；\n",
    "        40万到60万之间时高于40万元的部分，可提成3%；\n",
    "        60万到100万之间时，高于60万元的部分，可提成1.5%；\n",
    "        高于100万元时，超过100万元的部分按1%提成。\n",
    "        从键盘输入当月利润I，求应发放奖金总数？"
   ]
  },
  {
   "cell_type": "code",
   "execution_count": 82,
   "metadata": {},
   "outputs": [],
   "source": [
    "def tm002():\n",
    "    money = int(input('净利润:'))\n",
    "    arr = [1000000,600000,400000,200000,100000,0]\n",
    "    rat = [0.01,0.015,0.03,0.05,0.075,0.1]\n",
    "    bonus = 0\n",
    "    for i in range(len(arr)):\n",
    "        if money>arr[i]:                    # 对于处于区间的部分\n",
    "            bonus+=(money-arr[i])*rat[i]    # 计算并累加奖励\n",
    "            money=arr[i]                    # 剩余部分\n",
    "    print(bonus)"
   ]
  },
  {
   "cell_type": "code",
   "execution_count": 83,
   "metadata": {},
   "outputs": [
    {
     "name": "stdout",
     "output_type": "stream",
     "text": [
      "净利润:500\n",
      "50.0\n"
     ]
    }
   ],
   "source": [
    "tm002()"
   ]
  },
  {
   "cell_type": "markdown",
   "metadata": {},
   "source": [
    "## 题目003：一个整数，它加上100后是一个完全平方数，再加上168又是一个完全平方数，请问该数是多少？"
   ]
  },
  {
   "cell_type": "code",
   "execution_count": 85,
   "metadata": {},
   "outputs": [],
   "source": [
    "def tm003():\n",
    "    import math\n",
    "    for i in range(1000):\n",
    "        x = math.sqrt(i+100)\n",
    "        y = math.sqrt(i+100+168)\n",
    "        if x%1==0 and y%1==0:\n",
    "            print(i)"
   ]
  },
  {
   "cell_type": "code",
   "execution_count": 86,
   "metadata": {},
   "outputs": [
    {
     "name": "stdout",
     "output_type": "stream",
     "text": [
      "21\n",
      "261\n"
     ]
    }
   ],
   "source": [
    "tm003()"
   ]
  },
  {
   "cell_type": "markdown",
   "metadata": {},
   "source": [
    "## 题目004：输入某年某月某日，判断这一天是这一年的第几天？"
   ]
  },
  {
   "cell_type": "code",
   "execution_count": 87,
   "metadata": {},
   "outputs": [],
   "source": [
    "def tm004():\n",
    "    '''\n",
    "    python有时间元组这一概念，这道题完全不需要计算。\n",
    "    时间元组包含九个属性\n",
    "    tm_year     年\n",
    "    tm_mon      月(1~12)\n",
    "    tm_mday     日(1~31)\n",
    "    tm_hour     时(0~23)\n",
    "    tm_min      分(0~59)\n",
    "    tm_sec      秒(0~61, 60或61是闰秒)\n",
    "    tm_wday     星期(0~6, 0是周一)\n",
    "    tm_yday     第几天(1~366, 366是儒略历)\n",
    "    tm_isdst    夏令时(平时用不到)\n",
    "    '''\n",
    "    import time\n",
    "    date = input('输入时间(例如2018-01-23):')\n",
    "    st = time.strptime(date,'%Y-%m-%d') # 时间文本转化成时间元组\n",
    "    num = st.tm_yday\n",
    "    print(num)"
   ]
  },
  {
   "cell_type": "markdown",
   "metadata": {},
   "source": [
    "## 题目005：输入三个整数x,y,z，请把这三个数由小到大输出。"
   ]
  },
  {
   "cell_type": "code",
   "execution_count": 89,
   "metadata": {},
   "outputs": [],
   "source": [
    "def tm005():\n",
    "    print('输入三个数字')\n",
    "    x = input('输入第1个数字:')\n",
    "    y = input('输入第2个数字:')\n",
    "    z = input('输入第3个数字:')\n",
    "    l = [x,y,z]\n",
    "    arr = sorted(l)  # 你也可以使用list.sort()方法来排序，此时list本身将被修改\n",
    "    print(arr)"
   ]
  },
  {
   "cell_type": "markdown",
   "metadata": {},
   "source": [
    "## 题目006：斐波那契数列。"
   ]
  },
  {
   "cell_type": "code",
   "execution_count": 90,
   "metadata": {},
   "outputs": [],
   "source": [
    "def tm006():\n",
    "    l = [0,1]\n",
    "    for i in range(10):\n",
    "        arr = l[-2:]\n",
    "        l.append(arr[0]+arr[1])\n",
    "    print(l)"
   ]
  },
  {
   "cell_type": "code",
   "execution_count": 91,
   "metadata": {},
   "outputs": [
    {
     "name": "stdout",
     "output_type": "stream",
     "text": [
      "[0, 1, 1, 2, 3, 5, 8, 13, 21, 34, 55, 89]\n"
     ]
    }
   ],
   "source": [
    "tm006()"
   ]
  },
  {
   "cell_type": "markdown",
   "metadata": {},
   "source": [
    "## 题目007：将一个列表的数据复制到另一个列表中。"
   ]
  },
  {
   "cell_type": "code",
   "execution_count": 92,
   "metadata": {},
   "outputs": [],
   "source": [
    "def tm007():\n",
    "    '''\n",
    "    Python里面一切都是对象，list的复制需要用[:]的方式。\n",
    "    至于b=a只是相当于给a取了个别名而已，指向的是同一个列表，并没有实现复制。\n",
    "    '''\n",
    "    a = [1, 2, 3]\n",
    "    b = a[:]\n",
    "    '''题外话'''\n",
    "    a[0]=0\n",
    "    print(id(a),id(b))  # 可以看到a,b的内存不一致，是复制\n",
    "    print(a,b)          # 修改a，b不变\n",
    "    a = [1, 2, 3]\n",
    "    b = a\n",
    "    a[0]=0\n",
    "    print(id(a),id(b))  # 如果去掉[:]，可以看到a,b的内存一致，并没有复制，指向的是同一个列表\n",
    "    print(a,b)          # 修改a，b也变\n"
   ]
  },
  {
   "cell_type": "code",
   "execution_count": 93,
   "metadata": {
    "scrolled": true
   },
   "outputs": [
    {
     "name": "stdout",
     "output_type": "stream",
     "text": [
      "2133468310984 2133468310792\n",
      "[0, 2, 3] [1, 2, 3]\n",
      "2133469224712 2133469224712\n",
      "[0, 2, 3] [0, 2, 3]\n"
     ]
    }
   ],
   "source": [
    "tm007()"
   ]
  },
  {
   "cell_type": "markdown",
   "metadata": {},
   "source": [
    "## 题目008：题目：输出 9*9 乘法口诀表。"
   ]
  },
  {
   "cell_type": "code",
   "execution_count": 94,
   "metadata": {},
   "outputs": [],
   "source": [
    "def tm008():\n",
    "    for i in range(1,10):\n",
    "        for j in range(1,10):\n",
    "            if j<=i:\n",
    "                string = '%d*%d=%d'%(j,i,j*i)\n",
    "                print('%-7s'%string,end='')\n",
    "        print('')"
   ]
  },
  {
   "cell_type": "markdown",
   "metadata": {},
   "source": [
    "## 题目009：定义一个函数，互换字母大小写（大写变小写，小写变大写），其他不变"
   ]
  },
  {
   "cell_type": "code",
   "execution_count": 97,
   "metadata": {},
   "outputs": [],
   "source": [
    "def alter_case(string):\n",
    "    new=\"\"\n",
    "    for i in string:\n",
    "        if i.isupper():\n",
    "            new+=i.lower()\n",
    "        elif i.islower():\n",
    "            new+=i.upper()\n",
    "        else:\n",
    "            new+=i\n",
    "    return new"
   ]
  },
  {
   "cell_type": "code",
   "execution_count": 98,
   "metadata": {},
   "outputs": [
    {
     "data": {
      "text/plain": [
       "'sssSSSASASSfffsss1123'"
      ]
     },
     "execution_count": 98,
     "metadata": {},
     "output_type": "execute_result"
    }
   ],
   "source": [
    "alter_case(\"SSSsssasassFFFSSS1123\")"
   ]
  },
  {
   "cell_type": "code",
   "execution_count": 99,
   "metadata": {},
   "outputs": [],
   "source": [
    "def altering(string):\n",
    "    return string.swapcase()"
   ]
  },
  {
   "cell_type": "code",
   "execution_count": 100,
   "metadata": {},
   "outputs": [
    {
     "data": {
      "text/plain": [
       "'asjoaiKAOSKDPOAKS54564654'"
      ]
     },
     "execution_count": 100,
     "metadata": {},
     "output_type": "execute_result"
    }
   ],
   "source": [
    "altering(\"ASJOAIkaoskdpoaks54564654\")"
   ]
  },
  {
   "cell_type": "markdown",
   "metadata": {},
   "source": [
    "## 题目010：暂停一秒输出，并格式化当前时间。"
   ]
  },
  {
   "cell_type": "code",
   "execution_count": 101,
   "metadata": {},
   "outputs": [],
   "source": [
    "def tm010():\n",
    "    import time\n",
    "    a = time.strftime('%Y-%m-%d %H:%M:%S',time.localtime(time.time())) # time.localtime()时间戳转化成时间元祖\n",
    "    print(a)\n",
    "    time.sleep(1)\n",
    "    b = time.strftime('%Y-%m-%d %H:%M:%S',time.localtime(time.time())) # time.strftime()时间元祖转化成时间文本\n",
    "    print(b)"
   ]
  },
  {
   "cell_type": "markdown",
   "metadata": {},
   "source": [
    "## 题目011：有一对兔子，从出生后第3个月起每个月都生一对兔子，小兔子长到第三个月后每个月又生一对兔子，假如兔子都不死，问每个月的兔子总对数为多少？"
   ]
  },
  {
   "cell_type": "raw",
   "metadata": {},
   "source": [
    "分析 \n",
    "简单的分析了一下，发现这个问题其实就是斐波那契数列问题。 \n",
    "第一个月兔子对数为1， \n",
    "第二个月兔子对数还是1， \n",
    "第三个月，开始生小兔子啦，那么总的对数是1+1=2， \n",
    "第四个月，老兔子又生了，那么1（最开始的老兔子）+1（第四个月老兔子生的）+1（第三个月老兔子生的）=3 \n",
    "第五个月，1（1老）+1（第五个月老兔子生）+1（第四个月老兔子生）+1（第三个月老兔子生）+1（第三个月老兔子生的小兔子也生了）=5 \n",
    "第六个月，1（1老）+1（第六个月老兔子生）+1（第五个月老兔子生）+1（第四个月老兔子生）+1（第三个月老兔子生）+1（第三个月老兔子生的小兔子也生了）+1（第三个月老兔子生的小兔子又生了）+1（第四个月老兔子生的小兔子也生了）=8 \n",
    "⋮ \n",
    "⋮ \n",
    "⋮ \n",
    "可以发现，每个月的兔子的对数为 1,1,2,3,5,8,13,⋯ \n",
    "因此，经过一个简单的分析，可以看出来，这道题就是考察的斐波那契数列的。"
   ]
  },
  {
   "cell_type": "code",
   "execution_count": 102,
   "metadata": {},
   "outputs": [
    {
     "name": "stdout",
     "output_type": "stream",
     "text": [
      "55\n",
      "55\n",
      "55\n"
     ]
    }
   ],
   "source": [
    "#直接输出\n",
    "def rabbit1(n):\n",
    "    f1=1\n",
    "    f2=1\n",
    "    if (n==1 or n==2):\n",
    "        return 1\n",
    "    else:\n",
    "        for i in range(3,n+1):\n",
    "            f1,f2=f2,f1+f2\n",
    "        return f2\n",
    "print(rabbit1(10))\n",
    "    \n",
    "#递归输出方式一 \n",
    "#这个斐波那契数还可以使用递归进行输出，就是非常直观的递归计算。\n",
    "def rabbit2(n):\n",
    "    if (n==1 or n==2):\n",
    "        return 1\n",
    "    else:\n",
    "        return rabbit2(n-1)+rabbit2(n-2)\n",
    "print(rabbit2(10))\n",
    "#递归输出方式二 \n",
    "#这种方式是把之前算过的斐波那契数存在字典中，这样的话递归要用的话就直接存取，而不是去重新计算。\n",
    "def rabbit3(n,rabbits={1:1,2:1}):\n",
    "    if n in rabbits:\n",
    "        return rabbits[n]\n",
    "    res=rabbit3(n-1)+rabbit3(n-2)\n",
    "    rabbits[n]=res\n",
    "    return res\n",
    "print(rabbit3(10))"
   ]
  },
  {
   "cell_type": "code",
   "execution_count": 103,
   "metadata": {},
   "outputs": [],
   "source": [
    "def tm011():\n",
    "    '''\n",
    "    其实这道题就是斐波那契数列的由来。\n",
    "    理清思路是关键，理解成满两个月后，每月都能生兔子，就好办了。\n",
    "    '''\n",
    "    m1=1 # 满月\n",
    "    m2=0 # 满俩月（下个月生兔子）\n",
    "    mm=0 # 可以月月生兔子了\n",
    "    for i in range(1,10):\n",
    "        # 过了1个月后\n",
    "        mm = mm+m2  # 加入新增成年的兔子\n",
    "        m2 = m1     # 满月的变成满俩月\n",
    "        m1 = mm     # 这个月新出生兔子\n",
    "        print(i,mm+m1+m2) # 每个月有多少对兔子"
   ]
  },
  {
   "cell_type": "code",
   "execution_count": 104,
   "metadata": {},
   "outputs": [
    {
     "name": "stdout",
     "output_type": "stream",
     "text": [
      "1 1\n",
      "2 2\n",
      "3 3\n",
      "4 5\n",
      "5 8\n",
      "6 13\n",
      "7 21\n",
      "8 34\n",
      "9 55\n"
     ]
    }
   ],
   "source": [
    "tm011()"
   ]
  },
  {
   "cell_type": "markdown",
   "metadata": {},
   "source": [
    "## 题目012：判断101-200之间有多少个素数，并输出所有素数。"
   ]
  },
  {
   "cell_type": "code",
   "execution_count": 105,
   "metadata": {},
   "outputs": [
    {
     "name": "stdout",
     "output_type": "stream",
     "text": [
      "21 [101, 103, 107, 109, 113, 127, 131, 137, 139, 149, 151, 157, 163, 167, 173, 179, 181, 191, 193, 197, 199]\n"
     ]
    }
   ],
   "source": [
    "def tm012():\n",
    "    '''\n",
    "    按照素数不能被之前的素数整除，取200以内所有素数，然后取出101-200之间的部分。\n",
    "    '''\n",
    "    arr = [2,3]\n",
    "    # 取200以内所有素数\n",
    "    for i in range(4,201):\n",
    "        for j in arr:\n",
    "            if i%j==0:\n",
    "                break\n",
    "        else: # 迭代的对象成功迭代完，位于else的子句将执行；而如果在for循环中含有break时则直接终止循环，并不会执行else子句。\n",
    "            arr.append(i)\n",
    "    # 取出100-200之间部分                \n",
    "    for i in range(len(arr)):\n",
    "        if arr[i]>100:\n",
    "            l = arr[i:]\n",
    "            print(len(l),l)\n",
    "            break\n",
    "            \n",
    "tm012()"
   ]
  },
  {
   "cell_type": "markdown",
   "metadata": {},
   "source": [
    "## 题目013：打印出所有的\"水仙花数\"，\n",
    "所谓\"水仙花数\"是指一个三位数，其各位数字立方和等于该数本身。\n",
    "例如：153是一个\"水仙花数\"，因为153=1的三次方＋5的三次方＋3的三次方。"
   ]
  },
  {
   "cell_type": "code",
   "execution_count": 106,
   "metadata": {},
   "outputs": [
    {
     "name": "stdout",
     "output_type": "stream",
     "text": [
      "153\n",
      "370\n",
      "371\n",
      "407\n"
     ]
    }
   ],
   "source": [
    "def tm013():\n",
    "    '''\n",
    "     // 取整，% 求余，**3 三次方。知道取整求玉写法的就没问题。\n",
    "    '''\n",
    "    for i in range(100,1000):\n",
    "        b = i//100      # 百位\n",
    "        s = i%100//10   # 十位\n",
    "        g = i%10        # 个位\n",
    "        if b**3+s**3+g**3==i:\n",
    "            print(i)\n",
    "tm013()"
   ]
  },
  {
   "cell_type": "markdown",
   "metadata": {},
   "source": [
    "## 题目014：将一个正整数分解质因数。例如：输入90,打印出90=2*3*3*5。"
   ]
  },
  {
   "cell_type": "code",
   "execution_count": 107,
   "metadata": {},
   "outputs": [
    {
     "name": "stdout",
     "output_type": "stream",
     "text": [
      "输入一个整数:77\n",
      "[7, 11]\n"
     ]
    }
   ],
   "source": [
    "def tm014():\n",
    "    '''\n",
    "    拆到拆不动为止，类似012题。\n",
    "    '''\n",
    "    import math\n",
    "    num = int(input('输入一个整数:'))\n",
    "    arr = []\n",
    "    while num>1:\n",
    "        for i in range(2,int(math.sqrt(num))+1): # 因为题目是一个没写范围正整数，开方可以有效减少该值过大时候的计算量\n",
    "            if num%i==0:\n",
    "                arr.append(i)\n",
    "                num = num//i\n",
    "                break\n",
    "        else:\n",
    "            arr.append(num)\n",
    "            break\n",
    "    print(arr)\n",
    "    \n",
    "tm014()"
   ]
  },
  {
   "cell_type": "markdown",
   "metadata": {},
   "source": [
    "## 题目015：利用条件运算符的嵌套来完成此题：学习成绩>=90分的同学用A表示，60-89分之间的用B表示，60分以下的用C表示。"
   ]
  },
  {
   "cell_type": "code",
   "execution_count": 108,
   "metadata": {},
   "outputs": [
    {
     "name": "stdout",
     "output_type": "stream",
     "text": [
      "输入一个成绩:89\n",
      "B\n"
     ]
    }
   ],
   "source": [
    "def tm015():\n",
    "    '''\n",
    "    if-else基本用法，没啥说的。\n",
    "    '''\n",
    "    score = float(input('输入一个成绩:'))\n",
    "    if score>=90:\n",
    "        print('A')\n",
    "    elif score>=60:\n",
    "        print('B')\n",
    "    else:\n",
    "        print('C')\n",
    "        \n",
    "tm015()"
   ]
  },
  {
   "cell_type": "markdown",
   "metadata": {},
   "source": [
    "## 题目016：输出指定格式的日期。"
   ]
  },
  {
   "cell_type": "code",
   "execution_count": 109,
   "metadata": {},
   "outputs": [
    {
     "name": "stdout",
     "output_type": "stream",
     "text": [
      "1534054161.6073823\n",
      "time.struct_time(tm_year=2018, tm_mon=8, tm_mday=12, tm_hour=14, tm_min=9, tm_sec=21, tm_wday=6, tm_yday=224, tm_isdst=0)\n",
      "Sun Aug 12 14:09:21 2018\n",
      "2018-08-12 14:09:21\n",
      "2018-01-23\n",
      "2018-01-30 16:54:18 <class 'datetime.datetime'>\n",
      "2018-08-12 14:09:21.608379\n",
      "相差193天零21.3个小时\n"
     ]
    }
   ],
   "source": [
    "def tm016():\n",
    "    import time\n",
    "    print(time.time())                                          # 时间戳 1498539133.655\n",
    "    print(time.localtime())                                     # 时间元祖 tm_year=2017, tm_mon=6, tm_mday=27, tm_hour=12, tm_min=53, tm_sec=16, tm_wday=1, tm_yday=178, tm_isdst=0\n",
    "    print(time.asctime())                                       # 时间的一种可读文本形式 'Tue Jun 27 12:53:50 2017'\n",
    "    print(time.strftime('%Y-%m-%d %H:%M:%S',time.localtime()))  # 按指定文本格式输出时间 '2017-06-27 13:00:57'\n",
    " \n",
    "    st = time.localtime(time.time())                            # 时间戳 转化成 时间元祖\n",
    "    st = time.strptime('2018/1/23','%Y/%m/%d')                  # 时间文本 转化成 时间元祖\n",
    "    date = time.strftime('%Y-%m-%d',st)                         # 时间元祖 转化成 时间文本  '%Y-%m-%d %H:%M:%S'\n",
    "    print(date)                                                 # 前面两条函数配合着用，相当于将时间文本重新格式化。\n",
    "    \n",
    "    # 另外我们可以通过datetime模块来计算时间差，例如：\n",
    "    import datetime\n",
    "    dt1 = datetime.datetime.fromtimestamp(1517302458)\n",
    "    print(dt1,type(dt1))\n",
    "    dt2 = datetime.datetime.now()\n",
    "    print(dt2)\n",
    "    print('相差%d天零%.1f个小时'%((dt2-dt1).days,(dt2-dt1).seconds/60/60))\n",
    "    '''\n",
    "    2018-01-30 16:54:18 <class 'datetime.datetime'>\n",
    "    2018-02-01 16:27:47.524774\n",
    "    相差1天零23.6个小时\n",
    "    '''\n",
    "    # 注意上面的日期虽然看起来是文本，但实际上是datetime类型的。\n",
    "    # 可以通过时间戳/时间文本转换得到，然后才能进行日期时间计算。\n",
    "    d1 = datetime.datetime.strptime('2017-10-16 19:21:22', '%Y-%m-%d %H:%M:%S')\n",
    "    \n",
    "tm016()"
   ]
  },
  {
   "cell_type": "markdown",
   "metadata": {},
   "source": [
    "## 题目017：定义一个函数，检查字符里面是否有重复的字母，并计算重复字母的个数（忽略大小写）"
   ]
  },
  {
   "cell_type": "code",
   "execution_count": 110,
   "metadata": {},
   "outputs": [],
   "source": [
    "def duplicate_count(text):\n",
    "    result=[]\n",
    "    text=text.lower()\n",
    "    for i in text:\n",
    "        if text.count(i)>1 and i not in result:\n",
    "            result.append(i)\n",
    "    return len(result)"
   ]
  },
  {
   "cell_type": "code",
   "execution_count": 111,
   "metadata": {},
   "outputs": [
    {
     "data": {
      "text/plain": [
       "6"
      ]
     },
     "execution_count": 111,
     "metadata": {},
     "output_type": "execute_result"
    }
   ],
   "source": [
    "text = 'AKJSKJAKAAKKSJKAJIOUEOIWnkskjkasa'\n",
    "duplicate_count(text)"
   ]
  },
  {
   "cell_type": "code",
   "execution_count": 112,
   "metadata": {},
   "outputs": [],
   "source": [
    "def dup_counts(s):\n",
    "    return len([c for c in set(s.lower()) if s.lower().count(c)>1])"
   ]
  },
  {
   "cell_type": "code",
   "execution_count": 113,
   "metadata": {},
   "outputs": [
    {
     "data": {
      "text/plain": [
       "6"
      ]
     },
     "execution_count": 113,
     "metadata": {},
     "output_type": "execute_result"
    }
   ],
   "source": [
    "dup_counts(text)"
   ]
  },
  {
   "cell_type": "markdown",
   "metadata": {},
   "source": [
    "## 题目018：检查一个数是不是质数"
   ]
  },
  {
   "cell_type": "code",
   "execution_count": 114,
   "metadata": {},
   "outputs": [],
   "source": [
    "def divisors(integer):\n",
    "    result=[]\n",
    "    for i in range(2,integer):\n",
    "        if integer%i==0:\n",
    "            result.append(i)\n",
    "    if len(result)==0:\n",
    "        return \"{} is prime\".format(integer)\n",
    "    else:\n",
    "        return result"
   ]
  },
  {
   "cell_type": "code",
   "execution_count": 115,
   "metadata": {},
   "outputs": [
    {
     "data": {
      "text/plain": [
       "'5 is prime'"
      ]
     },
     "execution_count": 115,
     "metadata": {},
     "output_type": "execute_result"
    }
   ],
   "source": [
    "divisors(5)"
   ]
  },
  {
   "cell_type": "code",
   "execution_count": 116,
   "metadata": {},
   "outputs": [],
   "source": [
    "def divisor(num):\n",
    "    l=[a for a in range(2,num) if num%a==0]\n",
    "    if len(l)==0:\n",
    "        return str(num)+\" is prime\"\n",
    "    return l"
   ]
  },
  {
   "cell_type": "markdown",
   "metadata": {},
   "source": [
    "## 题目019：在facebook这类交友网站上，肯定会有显示赞的地方，赞的边上会有写，谁谁谁赞了这条微博那这个文本的显示的实现，要求针对不同人数，显示不同的文本"
   ]
  },
  {
   "cell_type": "code",
   "execution_count": 117,
   "metadata": {},
   "outputs": [],
   "source": [
    "def likes(names):  \n",
    "    if len(names)==0:  \n",
    "        return 'no one likes this'  \n",
    "    elif len(names)==1:  \n",
    "        return '%s likes this'%names[0]  \n",
    "    elif len(names)==2:  \n",
    "        return '%s and %s like this'%(names[0],names[1])  \n",
    "    elif len(names)==3:  \n",
    "        return '%s, %s and %s like this'%(names[0],names[1],names[2])  \n",
    "    elif len(names)>=4:  \n",
    "        return '%s, %s and %d others like this'%(names[0],names[1],(len(names)-2))"
   ]
  },
  {
   "cell_type": "code",
   "execution_count": 118,
   "metadata": {},
   "outputs": [],
   "source": [
    "def like_this(names):  \n",
    "    n = len(names)  \n",
    "    return {  \n",
    "        0: 'no one likes this',  \n",
    "        1: '{} likes this',   \n",
    "        2: '{} and {} like this',   \n",
    "        3: '{}, {} and {} like this',   \n",
    "        4: '{}, {} and {others} others like this'  \n",
    "    }[min(4, n)].format(*names[:3], others=n-2) "
   ]
  },
  {
   "cell_type": "markdown",
   "metadata": {},
   "source": [
    "## 题目020：一球从100米高度自由落下，每次落地后反跳回原高度的一半；再落下，求它在第10次落地时，共经过多少米？第10次反弹多高？"
   ]
  },
  {
   "cell_type": "code",
   "execution_count": 119,
   "metadata": {},
   "outputs": [],
   "source": [
    "def tm020():\n",
    "    total = 0\n",
    "    m = 100                # 第一次落地，经过了一百米\n",
    "    total += m\n",
    "    for i in range(10-1):  # 之后9次弹起到落地\n",
    "        m = m/2            # 弹起的高度\n",
    "        total += 2*m       # 弹起然后重新落地，一共经过的距离\n",
    "    print(total)\n",
    "    print(m/2)"
   ]
  },
  {
   "cell_type": "markdown",
   "metadata": {},
   "source": [
    "## 题目021：猴子吃桃问题\n",
    "猴子第一天摘下若干个桃子，当即吃了一半，还不瘾，又多吃了一个\n",
    "第二天早上又将剩下的桃子吃掉一半，又多吃了一个。\n",
    "以后每天早上都吃了前一天剩下的一半零一个。\n",
    "到第10天早上想再吃时，见只剩下一个桃子了。\n",
    "求第一天共摘了多少。"
   ]
  },
  {
   "cell_type": "code",
   "execution_count": 120,
   "metadata": {},
   "outputs": [],
   "source": [
    "def tm021():\n",
    "    '''\n",
    "    第十天num=1个，第九天必然是4个：4/2-1=1，也就是(num+1)*2=4。\n",
    "    做这种题，先用算数式列出来，然后用代码描述就行了。\n",
    "    '''\n",
    "    num = 1\n",
    "    for i in range(10-1):\n",
    "        num = (num+1)*2\n",
    "    print(num)"
   ]
  },
  {
   "cell_type": "markdown",
   "metadata": {},
   "source": [
    "## 题目022：两个乒乓球队进行比赛，各出三人。\n",
    "甲队为a,b,c三人，乙队为x,y,z三人。\n",
    "已抽签决定比赛名单。有人向队员打听比赛的名单。\n",
    "a说他不和x比，c说他不和x,z比，请编程序找出三队赛手的名单。"
   ]
  },
  {
   "cell_type": "code",
   "execution_count": 121,
   "metadata": {},
   "outputs": [],
   "source": [
    "def tm022():\n",
    "    '''\n",
    "    关键是将抽象化，将问题抽象成代码方式。\n",
    "    有一种思路是用排列组合函数，列出方案，然后排除。\n",
    "    而官方解答里面有一个纯粹的for循环加if的求解方式，\n",
    "    更抽象一些，用了一个很常用固定范式，直接拿来解题了。\n",
    "    稍微对其抽象的方法注释了一下。\n",
    "    '''\n",
    "    import itertools\n",
    "    jia = ['a','b','c']\n",
    "    yi = ['x','y','z']\n",
    "    arr = list(itertools.permutations(yi,3)) # 面对甲队a,b,c时，乙队所有排列 [('x', 'y', 'z'), ('x', 'z', 'y'), ('y', 'x', 'z'), ('y', 'z', 'x'), ('z', 'x', 'y'), ('z', 'y', 'x')]\n",
    "    arr = [[jia[i]+a[i] for i in range(3)] for a in arr] #将a,b,c写上，得到所有对阵组合 [['ax', 'by', 'cz'], ['ax', 'bz', 'cy'], ['ay', 'bx', 'cz'], ['ay', 'bz', 'cx'], ['az', 'bx', 'cy'], ['az', 'by', 'cx']]\n",
    "    for i in arr:\n",
    "        if 'ax' in i:\n",
    "            pass\n",
    "        elif 'cx' in i or 'cz' in i:\n",
    "            pass\n",
    "        else:\n",
    "            print(i) # 得到 ['az', 'bx', 'cy']\n",
    " \n",
    " \n",
    "def tm022_1():\n",
    "    for a in ['x','y','z']:                             # a在x,y,z中挑一个打\n",
    "        for b in ['x', 'y', 'z']:                       # b在x,y,z中挑一个打\n",
    "            for c in ['x', 'y', 'z']:                   # c在x,y,z中挑一个打 三层总计27种打法\n",
    "                if a!=b and b!=c and c!=a:              # a,b,c不能挑同一个人 缩减到6种打法\n",
    "                    if a!='x' and c!='x' and c!='z':    # 依据题意不能ax,cx,cz 缩减到1种打法\n",
    "                        print('a'+a,'b'+b,'c'+c)\n",
    " \n"
   ]
  },
  {
   "cell_type": "markdown",
   "metadata": {},
   "source": [
    "## 题目023：要求将以字典形式为元素的一个列表里面的名字取出来"
   ]
  },
  {
   "cell_type": "code",
   "execution_count": 123,
   "metadata": {},
   "outputs": [],
   "source": [
    "def tm023(names):  \n",
    "    if len(names)==0:  \n",
    "        return ''  \n",
    "    elif len(names)==1:  \n",
    "        return names[0].get('name')  \n",
    "    elif len(names)==2:  \n",
    "        return names[0].get('name') +' & '+names[1].get('name')  \n",
    "    else:  \n",
    "        front=''  \n",
    "        last2=names[-2].get('name') +' & '+names[-1].get('name')  \n",
    "        for i in range(len(names)-2):  \n",
    "            front+=(names[i].get('name')+', ')  \n",
    "        return front+last2  "
   ]
  },
  {
   "cell_type": "code",
   "execution_count": 124,
   "metadata": {},
   "outputs": [],
   "source": [
    "def tm023_1(names):  \n",
    "    if len(names) > 1:  \n",
    "        return '{} & {}'.format(', '.join(name['name'] for name in names[:-1]), names[-1]['name'])  \n",
    "    elif names:  \n",
    "        return names[0]['name']  \n",
    "    else:  \n",
    "        return ''  "
   ]
  },
  {
   "cell_type": "code",
   "execution_count": 125,
   "metadata": {},
   "outputs": [],
   "source": [
    "def tm023_2(names):  \n",
    "    if len(names)==0: return ''  \n",
    "    if len(names)==1: return names[0]['name']  \n",
    "    return ', '.join([n['name'] for n in names[:-1]]) + ' & ' + names[-1]['name']  "
   ]
  },
  {
   "cell_type": "markdown",
   "metadata": {},
   "source": [
    "## 题目024：要求将字符串每2个一分组为元素，组成列表"
   ]
  },
  {
   "cell_type": "code",
   "execution_count": 126,
   "metadata": {},
   "outputs": [],
   "source": [
    "def tm024(s):  \n",
    "    result=[]  \n",
    "    n=len(s)  \n",
    "    # print (n)  \n",
    "    if n%2 !=0:  \n",
    "        s=s+'_'  \n",
    "        for i in range(1,(len(s)//2)+1):  \n",
    "            result.append(s[2*(i-1):2*i])  \n",
    "        return result  \n",
    "    else:  \n",
    "        for i in range(1,(len(s)//2)+1):  \n",
    "            result.append(s[2*(i-1):2*i])  \n",
    "        return result  "
   ]
  },
  {
   "cell_type": "code",
   "execution_count": 127,
   "metadata": {},
   "outputs": [],
   "source": [
    "def tm024_1(s):  \n",
    "    return [s[x:x+2] if x < len(s) - 1 else s[-1] + \"_\" for x in range(0, len(s), 2)]  "
   ]
  },
  {
   "cell_type": "markdown",
   "metadata": {},
   "source": [
    "## 题目025：检查目标里面的每个元素，和样本元素是否属于同一性质，而且元素长度一样"
   ]
  },
  {
   "cell_type": "code",
   "execution_count": 128,
   "metadata": {},
   "outputs": [],
   "source": [
    "def tm025(word, words):  \n",
    "    new=[]  \n",
    "    for x in words:  \n",
    "        if set(word)==set(x) and len(word)==len(x):  \n",
    "            new.append(x)  \n",
    "    return new  "
   ]
  },
  {
   "cell_type": "markdown",
   "metadata": {},
   "source": [
    "## 题目026：利用递归方法求5!。"
   ]
  },
  {
   "cell_type": "code",
   "execution_count": 129,
   "metadata": {},
   "outputs": [],
   "source": [
    "def tm026(x):\n",
    "    if x>1:\n",
    "        return x*fac(x-1)\n",
    "    else:\n",
    "        return x\n",
    "    \n",
    "    print(tm026(5))"
   ]
  },
  {
   "cell_type": "markdown",
   "metadata": {},
   "source": [
    "## 题目027：根据列表内的元素，检查是否可以搭配得出目标值，并在能够搭配的选项中，选取2个元素相隔最短的那组，在相隔相同的组内，选择index靠前的组"
   ]
  },
  {
   "cell_type": "code",
   "execution_count": 131,
   "metadata": {},
   "outputs": [],
   "source": [
    "def sum_pairs(ints, s):  \n",
    "    n=len(ints)  \n",
    "    distance=[]  \n",
    "    for i in range(n):  \n",
    "        for x in range(i+1,n):  \n",
    "            if ints[i]+ints[x]==s:  \n",
    "                distance.append((i,x))  \n",
    "    distance.sort(key = lambda x:x[1]-x[0])  \n",
    "    if len(distance)==0:  \n",
    "        return None  \n",
    "    else:  \n",
    "        return [ints[m] for m in distance[0]] "
   ]
  },
  {
   "cell_type": "code",
   "execution_count": 132,
   "metadata": {},
   "outputs": [],
   "source": [
    "def sum_answer(lst, s):  \n",
    "    cache = set()  \n",
    "    for i in lst:  \n",
    "        if s - i in cache:  \n",
    "            return [s - i, i]  \n",
    "        cache.add(i)  "
   ]
  },
  {
   "cell_type": "markdown",
   "metadata": {},
   "source": [
    "## 题目028：有5个人坐在一起，\n",
    "问第五个人多少岁？他说比第4个人大两岁。\n",
    "问第4个人，他说比第3个人大两岁。\n",
    "问第3个人，又说比第2个人大两岁。\n",
    "问第2个人，说比第1个人大两岁。\n",
    "最后问第一个人，他说是10岁。\n",
    "请问第五个人多大？"
   ]
  },
  {
   "cell_type": "code",
   "execution_count": 133,
   "metadata": {},
   "outputs": [],
   "source": [
    "def age(x):\n",
    "    if x>1:\n",
    "        return 2+age(x-1)\n",
    "    else:\n",
    "        return 10\n",
    "    \n",
    "    print(age(5))\n"
   ]
  },
  {
   "cell_type": "markdown",
   "metadata": {},
   "source": [
    "## 题目029：给一个不多于5位的正整数，要求：一、求它是几位数，二、逆序打印出各位数字。"
   ]
  },
  {
   "cell_type": "code",
   "execution_count": 134,
   "metadata": {},
   "outputs": [],
   "source": [
    "def tm029():\n",
    "    '''\n",
    "    list倒序可以用list.reverse()；\n",
    "    字符串就用步长=-1的方式来倒序。\n",
    "    '''\n",
    "    num = 12345\n",
    "    s = str(num)\n",
    "    print(len(s))\n",
    "    print(s[::-1])"
   ]
  },
  {
   "cell_type": "markdown",
   "metadata": {},
   "source": [
    "## 题目030：一个5位数，判断它是不是回文数。即12321是回文数，个位与万位相同，十位与千位相同。"
   ]
  },
  {
   "cell_type": "code",
   "execution_count": 135,
   "metadata": {},
   "outputs": [],
   "source": [
    "def tm030():\n",
    "    num = 12321\n",
    "    s = str(num)\n",
    "    for i in range(len(s)//2):\n",
    "        if s[i]!=s[-i-1]:\n",
    "            print(False)\n",
    "            break\n",
    "    else:\n",
    "        print(True)"
   ]
  },
  {
   "cell_type": "markdown",
   "metadata": {},
   "source": [
    "## 题目031：请输入星期几的第一个字母来判断一下是星期几，如果第一个字母一样，则继续判断第二个字母。"
   ]
  },
  {
   "cell_type": "code",
   "execution_count": 136,
   "metadata": {},
   "outputs": [],
   "source": [
    "def tm031():\n",
    "    week = ['monday','tuesday','wednesday','thursday','friday','saturday','sunday']\n",
    "    inp = ''\n",
    "    while 1:\n",
    "        arr = []\n",
    "        inp = inp+input('请输入一个字母:')\n",
    "        for day in week:                    # 挑出满足输入的星期\n",
    "            if inp==day[:len(inp)]:\n",
    "                arr.append(day)\n",
    "        if len(arr)==1:                     # 只剩一个，说明唯一，可以输出结果\n",
    "            print('以%s开头的单词是:%s'%(inp,arr[0]))\n",
    "            inp=''\n",
    "        elif len(arr)==0:                   # 一个都没有说明输错了，需要重新输入\n",
    "            print('没有%s开头的单词'%inp)\n",
    "            inp=''"
   ]
  },
  {
   "cell_type": "markdown",
   "metadata": {},
   "source": [
    "## 题目032：要求将字符串里面字符数大于等于5的字符串，倒转，其他照旧"
   ]
  },
  {
   "cell_type": "code",
   "execution_count": 137,
   "metadata": {},
   "outputs": [],
   "source": [
    "def spinning_words(sentence):  \n",
    "    result=[]  \n",
    "    new = sentence.split()  \n",
    "    for i in new:  \n",
    "        if len(i)>4:  \n",
    "            i=i[::-1]  \n",
    "        result.append(i)   \n",
    "    return ' '.join(result)"
   ]
  },
  {
   "cell_type": "code",
   "execution_count": 138,
   "metadata": {},
   "outputs": [],
   "source": [
    "def spin_words(sentence):  \n",
    "    return \" \".join([x[::-1] if len(x) >= 5 else x for x in sentence.split(\" \")]) "
   ]
  },
  {
   "cell_type": "markdown",
   "metadata": {},
   "source": [
    "## 题目033：按逗号分隔列表。"
   ]
  },
  {
   "cell_type": "code",
   "execution_count": 139,
   "metadata": {},
   "outputs": [],
   "source": [
    "def tm033():\n",
    "    '''\n",
    "    实际上题目的意思是，合并列表项，以逗号为间隔\n",
    "    '''\n",
    "    a = ['1','2','3','4','5']\n",
    "    print(','.join(a))"
   ]
  },
  {
   "cell_type": "markdown",
   "metadata": {},
   "source": [
    "## 题目034：给定一个整数数组，返回两个数字的索引，使它们加起来成为一个特定的目标。您可能会认为每个输入都只有一个解决方案，而且您可能不会使用相同的元素两次。"
   ]
  },
  {
   "cell_type": "code",
   "execution_count": 141,
   "metadata": {},
   "outputs": [],
   "source": [
    "def two_sum(nums,target):\n",
    "    if len(nums)<=1:\n",
    "        return False\n",
    "    L=[]\n",
    "    for i in range(len(nums)):\n",
    "        for j in range(i,len(nums)):\n",
    "            if nums[i]+nums[j]==target:\n",
    "                return [i,j]\n",
    "    return False"
   ]
  },
  {
   "cell_type": "code",
   "execution_count": 142,
   "metadata": {},
   "outputs": [
    {
     "data": {
      "text/plain": [
       "False"
      ]
     },
     "execution_count": 142,
     "metadata": {},
     "output_type": "execute_result"
    }
   ],
   "source": [
    "two_sum([1,2,3,4,5,6],110)"
   ]
  },
  {
   "cell_type": "markdown",
   "metadata": {},
   "source": [
    "## 题目035：给定一个数字字符串，返回数字可能表示的所有可能的字母组合。数字到字母的映射（就像电话按钮一样）在下面给出"
   ]
  },
  {
   "cell_type": "code",
   "execution_count": 143,
   "metadata": {},
   "outputs": [],
   "source": [
    "def letterCombinations(digits):\n",
    "    mapping = {'2': 'abc', '3': 'def', '4': 'ghi', '5': 'jkl', \n",
    "               '6': 'mno', '7': 'pqrs', '8': 'tuv', '9': 'wxyz'}\n",
    "    if len(digits) == 0:\n",
    "        return []\n",
    "    if len(digits) == 1:\n",
    "        return list(mapping[digits[0]])\n",
    "    return [s + c for s in letterCombinations(digits[:-1]) for c in mapping[digits[-1]]]"
   ]
  },
  {
   "cell_type": "markdown",
   "metadata": {},
   "source": [
    "## 题目036：求100之内的素数。"
   ]
  },
  {
   "cell_type": "code",
   "execution_count": 144,
   "metadata": {},
   "outputs": [],
   "source": [
    "def tm036():\n",
    "    '''\n",
    "    素数就是质数\n",
    "    '''\n",
    "    arr = [2]\n",
    "    for i in range(3,100):\n",
    "        for j in arr:\n",
    "            if i%j==0:\n",
    "                break\n",
    "        else:\n",
    "            arr.append(i)\n",
    "    print(arr)"
   ]
  },
  {
   "cell_type": "markdown",
   "metadata": {},
   "source": [
    "## 题目037：对10个数进行排序。"
   ]
  },
  {
   "cell_type": "code",
   "execution_count": 145,
   "metadata": {},
   "outputs": [],
   "source": [
    "def tm037():\n",
    "    # 方法1，python解法\n",
    "    a = [1,5,7,3,2,4,9,10,6,8]\n",
    "    a.sort()\n",
    "    print(a)\n",
    "    # 方法2，常规解法\n",
    "    a = [1,5,7,3,2,4,9,10,6,8]\n",
    "    b = [a[0]]\n",
    "    for num in a[1:]:\n",
    "        for i in range(len(b)):\n",
    "            if num<b[i]:\n",
    "                b.insert(i,num)\n",
    "                break\n",
    "        else:\n",
    "            b.append(num)\n",
    "    print(b)"
   ]
  },
  {
   "cell_type": "markdown",
   "metadata": {},
   "source": [
    "## 题目038：求一个3*3矩阵主对角线元素之和。"
   ]
  },
  {
   "cell_type": "code",
   "execution_count": 146,
   "metadata": {},
   "outputs": [],
   "source": [
    "def tm038():\n",
    "    a = [[1,2,3],[4,5,6],[7,8,9]]\n",
    "    s = 0\n",
    "    n = len(a)\n",
    "    for i in range(n): # 左上到右下一条线\n",
    "        s+=a[i][i]\n",
    "    for i in range(n): # 右上到左下一条线\n",
    "        s+=a[i][n-i-1]\n",
    "    if n%2==1:         # 如果是奇数，删掉重复计算的中间点\n",
    "        s-=a[n//2][n//2]\n",
    "    print(s)"
   ]
  },
  {
   "cell_type": "markdown",
   "metadata": {},
   "source": [
    "## 题目039：有一个已经排好序的数组。现输入一个数，要求按原来的规律将它插入数组中。"
   ]
  },
  {
   "cell_type": "code",
   "execution_count": 147,
   "metadata": {},
   "outputs": [],
   "source": [
    "def tm039():\n",
    "\n",
    "    aaa = [1,5,8,14,28,39,60,89,134,324,612,900]\n",
    "    b = 555\n",
    "    for a in aaa:\n",
    "        if b<a:\n",
    "            aaa.insert(aaa.index(a),b)\n",
    "            break\n",
    "    else:\n",
    "        aaa.append(b)\n",
    "    print(aaa)"
   ]
  },
  {
   "cell_type": "markdown",
   "metadata": {},
   "source": [
    "## 题目040：求0—7所能组成的奇数个数。"
   ]
  },
  {
   "cell_type": "code",
   "execution_count": 179,
   "metadata": {},
   "outputs": [],
   "source": [
    "def tm040():\n",
    "    '''\n",
    "    没说组成几位数或是否重复使用。假设1-8位都可以，且不能重复使用。\n",
    "    直接用排列函数，累加然后去重，就得到答案了。\n",
    "    '''\n",
    "    s = [i for i in '01234567']\n",
    "    import itertools\n",
    "    arr = []\n",
    "    for i in range(1,9):\n",
    "        a = list(itertools.permutations(s,i))       # 长度1-8左右排列\n",
    "        l = list(map(lambda x:int(''.join(x)),a))   # 整理成数字形式（避免出现02这种情况，02实际上就是2）\n",
    "        arr+=l\n",
    "        print(i,len(l))\n",
    "    arr1 = set(arr)                                 # 去重\n",
    "    arr2 = list(filter(lambda x:x%2==1,arr1))       # 只留奇数\n",
    "    print(len(arr),len(arr1),len(arr2))             # 答案是46972"
   ]
  },
  {
   "cell_type": "markdown",
   "metadata": {},
   "source": [
    "## 题目041：\n",
    "某个公司采用公用电话传递数据，数据是四位的整数， 在传递过程中是加密的，加密规则如下： 每位数字都加上5,然后用和除以10的余数代替该数字，再将第一位和第四位交换，第二位和第三位交换。"
   ]
  },
  {
   "cell_type": "code",
   "execution_count": 180,
   "metadata": {},
   "outputs": [],
   "source": [
    "def tm041():\n",
    "    x,c = 1234,5\n",
    "    q,b,s,g = x//1000,x//100%10,x//10%10,x%10\n",
    "    s = (g+c)%10*1000+(s+c)%10*100+(b+c)%10*10+(q+c)%10\n",
    "    print(s) "
   ]
  },
  {
   "cell_type": "markdown",
   "metadata": {},
   "source": [
    "## 题目042：假设你有一个数组，其中第i 个元素是第i天给定股票的价格。如果您只能完成最多一笔交易（即买入和卖出一股股票），则设计一个算法来找到最大的利润。"
   ]
  },
  {
   "cell_type": "code",
   "execution_count": 181,
   "metadata": {},
   "outputs": [],
   "source": [
    "def maxProfit(prices):\n",
    "    max_profit,min_price=0,float('inf')\n",
    "    for price in prices:\n",
    "        min_price = min(min_price, price)\n",
    "        profit = price - min_price\n",
    "        max_profit = max(max_profit, profit)\n",
    "    return max_profit"
   ]
  },
  {
   "cell_type": "code",
   "execution_count": 182,
   "metadata": {},
   "outputs": [
    {
     "data": {
      "text/plain": [
       "14"
      ]
     },
     "execution_count": 182,
     "metadata": {},
     "output_type": "execute_result"
    }
   ],
   "source": [
    "maxProfit([4,5,6,7,18])"
   ]
  },
  {
   "cell_type": "markdown",
   "metadata": {},
   "source": [
    "## 题目043：给定一个非负整数列表，排列它们，使它们形成最大的数目。例如，给定[3, 30, 34, 5, 9]，最大的形成数量是9534330\n"
   ]
  },
  {
   "cell_type": "code",
   "execution_count": 183,
   "metadata": {},
   "outputs": [],
   "source": [
    "def largestNumber(num):\n",
    "    L=[]\n",
    "    for i in num:\n",
    "        L.append(str(i))\n",
    "    return \"\".join(sorted(L,reverse=True))"
   ]
  },
  {
   "cell_type": "markdown",
   "metadata": {},
   "source": [
    "## 题目044：两个3*3的矩阵，实现其对应位置的数据相加，并返回一个新矩阵："
   ]
  },
  {
   "cell_type": "raw",
   "metadata": {},
   "source": [
    "X = [[12,7,3],\n",
    "    [  4,5,6],\n",
    "    [  7,8,9]]\n",
    "Y = [[5,8,1],\n",
    "    [ 6,7,3],\n",
    "    [ 4,5,9]]"
   ]
  },
  {
   "cell_type": "code",
   "execution_count": 1,
   "metadata": {},
   "outputs": [],
   "source": [
    "def tm044():\n",
    "    x = [[12,7,3],[4,5,6],[7,8,9]]\n",
    "    y = [[5,8,1],[6,7,3],[4,5,9]]\n",
    "    z = x[:]\n",
    "    for i in range(3):\n",
    "        for j in range(3):\n",
    "            z[i][j]=x[i][j]+y[i][j]\n",
    "    print(z)"
   ]
  },
  {
   "cell_type": "code",
   "execution_count": 150,
   "metadata": {},
   "outputs": [],
   "source": [
    " def tm044_1():\n",
    "    import numpy # pip install numpy  需要安装模块\n",
    "    x = numpy.array([[12,7,3],[4,5,6],[7,8,9]])\n",
    "    y = numpy.array([[5,8,1],[6,7,3],[4,5,9]])\n",
    "    z = x+y\n",
    "    print(z)"
   ]
  },
  {
   "cell_type": "markdown",
   "metadata": {},
   "source": [
    "## 题目045：统计 1 到 100 之和。"
   ]
  },
  {
   "cell_type": "code",
   "execution_count": 151,
   "metadata": {},
   "outputs": [],
   "source": [
    "def tm045():\n",
    "    s = 0\n",
    "    for i in range(1,101):\n",
    "        s+=i\n",
    "    print(s)\n",
    "    # 更简洁的方法\n",
    "    print(sum(range(1,101)))\n"
   ]
  },
  {
   "cell_type": "markdown",
   "metadata": {},
   "source": [
    "## 题目046：求输入数字的平方，如果平方运算后小于 50 则退出。"
   ]
  },
  {
   "cell_type": "code",
   "execution_count": 152,
   "metadata": {},
   "outputs": [],
   "source": [
    "def tm046():\n",
    "    \n",
    "    while 1:\n",
    "        x= input('输入数字得到平方值:')\n",
    "        print(x*x)\n",
    "        if x*x<50:\n",
    "            break"
   ]
  },
  {
   "cell_type": "markdown",
   "metadata": {},
   "source": [
    "## 题目047：给定一个数字字符串，返回数字可能表示的所有可能的字母组合。数字到字母的映射（就像电话按钮一样）在下面给出"
   ]
  },
  {
   "cell_type": "code",
   "execution_count": 154,
   "metadata": {},
   "outputs": [],
   "source": [
    "def letterCombinations(digits):\n",
    "    mapping = {'2': 'abc', '3': 'def', '4': 'ghi', '5': 'jkl', \n",
    "               '6': 'mno', '7': 'pqrs', '8': 'tuv', '9': 'wxyz'}\n",
    "    if len(digits) == 0:\n",
    "        return []\n",
    "    if len(digits) == 1:\n",
    "        return list(mapping[digits[0]])\n",
    "    return [s + c for s in letterCombinations(digits[:-1]) for c in mapping[digits[-1]]]"
   ]
  },
  {
   "cell_type": "code",
   "execution_count": 155,
   "metadata": {},
   "outputs": [
    {
     "data": {
      "text/plain": [
       "['ad', 'ae', 'af', 'bd', 'be', 'bf', 'cd', 'ce', 'cf']"
      ]
     },
     "execution_count": 155,
     "metadata": {},
     "output_type": "execute_result"
    }
   ],
   "source": [
    "letterCombinations(\"23\")"
   ]
  },
  {
   "cell_type": "markdown",
   "metadata": {},
   "source": [
    "## 题目048：你正在爬楼梯的情况。需要n个步骤才能到达顶端。每次你可以爬上1或2步。有多少种不同的方法可以爬到顶端？"
   ]
  },
  {
   "cell_type": "code",
   "execution_count": 157,
   "metadata": {},
   "outputs": [],
   "source": [
    "def climbing(n):\n",
    "    if n==1:\n",
    "        return 1\n",
    "    elif n==2:\n",
    "        return 2\n",
    "    return climbing(n-1)+climbing(n-2)"
   ]
  },
  {
   "cell_type": "markdown",
   "metadata": {},
   "source": [
    "## 题目049：使用lambda来创建匿名函数"
   ]
  },
  {
   "cell_type": "code",
   "execution_count": 158,
   "metadata": {},
   "outputs": [],
   "source": [
    "def tm049():\n",
    "    #lambda函数也叫匿名函数，即，函数没有具体的名称。先来看一个最简单例子：\n",
    "    def f(x):\n",
    "        return x**2\n",
    "    print(f(4))\n",
    "    #Python中使用lambda的话，写成这样\n",
    "    g = lambda x:x**2\n",
    "    print(g(4))\n",
    "    #lambda存在意义就是对简单函数的简洁表示。\n",
    "    #lambda语句中，冒号前是参数，可以有多个，用逗号隔开，冒号右边的返回值。\n",
    "    #常搭配内置函数map、filter、reduce，都是应用于序列的内置函数。常见的序列包括list、tuple、str。\n",
    "    #map(func, *iterables) --> map object\n",
    "    #filter(function or None, iterable) --> filter object\n",
    "    #reduce(function, sequence[, initial]) -> value\n",
    "    foo = [2, 18, 9, 22, 17, 24, 8, 12, 27]\n",
    "    print(list(map(lambda x: x * 2 + 10, foo)))       # 映射 [14, 46, 28, 54, 44, 58, 26, 34, 64]\n",
    "    print(list(filter(lambda x: x % 3 == 0, foo)))    # 过滤 [18, 9, 24, 12, 27]\n",
    "    from functools import reduce                      # 在Python 3里,reduce()函数已经被从全局名字空间里移除了,它现在被放置在fucntools模块里\n",
    "    print(reduce(lambda x, y: x + y, foo))            # 累积 139 \n"
   ]
  },
  {
   "cell_type": "markdown",
   "metadata": {},
   "source": [
    "## 题目050：计算字符串长度。"
   ]
  },
  {
   "cell_type": "code",
   "execution_count": 159,
   "metadata": {},
   "outputs": [],
   "source": [
    "def tm050():\n",
    "    a = 'aegweg'\n",
    "    print(len(a))"
   ]
  },
  {
   "cell_type": "markdown",
   "metadata": {},
   "source": [
    "## 题目051：打印出杨辉三角形（要求打印出10行如下图）。"
   ]
  },
  {
   "cell_type": "raw",
   "metadata": {},
   "source": [
    "1 \n",
    "1 1 \n",
    "1 2 1 \n",
    "1 3 3 1 \n",
    "1 4 6 4 1 \n",
    "1 5 10 10 5 1 \n",
    "1 6 15 20 15 6 1 \n",
    "1 7 21 35 35 21 7 1 \n",
    "1 8 28 56 70 56 28 8 1 \n",
    "1 9 36 84 126 126 84 36 9 1\n",
    "'''"
   ]
  },
  {
   "cell_type": "code",
   "execution_count": 3,
   "metadata": {},
   "outputs": [
    {
     "data": {
      "text/plain": [
       "[1, 0]"
      ]
     },
     "execution_count": 3,
     "metadata": {},
     "output_type": "execute_result"
    }
   ],
   "source": [
    "a=[1]\n",
    "a+[0]"
   ]
  },
  {
   "cell_type": "code",
   "execution_count": 160,
   "metadata": {},
   "outputs": [],
   "source": [
    "def tm051():\n",
    "    arr = [1]\n",
    "    print(1)\n",
    "    while len(arr)<10:                           # [1,1]\n",
    "        a = [0]+arr                              # [0,1,1]\n",
    "        b = arr+[0]                              # [1,1,0]\n",
    "        arr = [a[i]+b[i] for i in range(len(a))] # [1,2,1]\n",
    "        s = [str(i) for i in arr]\n",
    "        print(' '.join(s))"
   ]
  },
  {
   "cell_type": "markdown",
   "metadata": {},
   "source": [
    "## 题目052：有n个人围成一圈，顺序排号。从第一个人开始报数（从1到3报数），凡报到3的人退出圈子，问最后留下的是原来第几号的那位。"
   ]
  },
  {
   "cell_type": "code",
   "execution_count": 161,
   "metadata": {},
   "outputs": [],
   "source": [
    "def tm052():\n",
    "    '''\n",
    "    最直接的方法是列表，点队尾再从头开始。\n",
    "    缺点是列表删除中间项，后面的索引值都会变，需要计算。\n",
    "    可以把问题抽象成排队进门的问题\n",
    "    完全不考虑索引问题。\n",
    "    '''\n",
    "    # 初始化\n",
    "    n = 34\n",
    "    arr = list(range(1,n+1))            # 所有人门外站成一队【a】,进门后依旧按序站好【b】\n",
    "    count,a,b = 0,arr,[]\n",
    "    # 开始解题\n",
    "    while len(a+b)>1:                   # 循环直到只剩1人\n",
    "        num,count=a.pop(0),count+1      # 排队进门，每进一人【a.pop】，按一下计数器\n",
    "        if count%3!=0:b.append(num)     # 进门后依旧按序站好【b.append】，计数器逢3淘汰。\n",
    "        if a==[]:a,b=b,[]               # 如果门外没人了【a=[]】，所有人重新到门外站好【a=b】\n",
    "    print(a[0])"
   ]
  },
  {
   "cell_type": "markdown",
   "metadata": {},
   "source": [
    "## 题目053：编写input()和output()函数输入，输出5个学生的数据记录。"
   ]
  },
  {
   "cell_type": "code",
   "execution_count": 6,
   "metadata": {},
   "outputs": [],
   "source": [
    "def tm053():\n",
    "    def inp(data):\n",
    "        name = input('输入学生姓名：')\n",
    "        score = input('输入学生成绩：')\n",
    "        data[name]=score\n",
    "        print('成功录入')\n",
    "        return data\n",
    " \n",
    "    def outp(data):\n",
    "        name = input('输入学生姓名：')\n",
    "        print('该学生的成绩是：',data.get(name))\n",
    "        return data\n",
    " \n",
    "    if __name__ == '__main__':\n",
    "        data = {}\n",
    "        while 1:\n",
    "            a = input('输入/输出学生成绩(i/o)：')\n",
    "            if a=='i':\n",
    "                data = inp(data)\n",
    "            elif a=='o':\n",
    "                data = outp(data)\n",
    "            else:\n",
    "                print('输入值不对')"
   ]
  },
  {
   "cell_type": "code",
   "execution_count": null,
   "metadata": {},
   "outputs": [
    {
     "name": "stdout",
     "output_type": "stream",
     "text": [
      "输入/输出学生成绩(i/o)：i\n",
      "输入学生姓名：王维\n",
      "输入学生成绩：0\n",
      "成功录入\n",
      "输入/输出学生成绩(i/o)：o\n",
      "输入学生姓名：王维\n",
      "该学生的成绩是： 0\n"
     ]
    }
   ],
   "source": [
    "tm053()"
   ]
  },
  {
   "cell_type": "markdown",
   "metadata": {},
   "source": [
    "## 题目054：找到年龄最大的人，并输出。\n",
    "person = {\"li\":18,\"wang\":50,\"zhang\":20,\"sun\":22}"
   ]
  },
  {
   "cell_type": "code",
   "execution_count": 5,
   "metadata": {},
   "outputs": [
    {
     "data": {
      "text/plain": [
       "18"
      ]
     },
     "execution_count": 5,
     "metadata": {},
     "output_type": "execute_result"
    }
   ],
   "source": [
    "person = {\"li\":18,\"wang\":50,\"zhang\":20,\"sun\":22}\n",
    "person['li']"
   ]
  },
  {
   "cell_type": "code",
   "execution_count": 163,
   "metadata": {},
   "outputs": [],
   "source": [
    "def tm078():\n",
    "    person = {\"li\":18,\"wang\":50,\"zhang\":20,\"sun\":22}\n",
    "    name,age='',0\n",
    "    for p in person.keys():\n",
    "        if person.get(p)>age:\n",
    "            name,age=p,person.get(p)\n",
    "    print(name,age)"
   ]
  },
  {
   "cell_type": "markdown",
   "metadata": {},
   "source": [
    "## 题目055：\n",
    "海滩上有一堆桃子，五只猴子来分。\n",
    "第一只猴子把这堆桃子平均分为五份，多了一个，\n",
    "这只猴子把多的一个扔入海中，拿走了一份。\n",
    "第二只猴子把剩下的桃子又平均分成五份，又多了一个，\n",
    "它同样把多的一个扔入海中，拿走了一份，\n",
    "第三、第四、第五只猴子都是这样做的，\n",
    "问海滩上原来最少有多少个桃子？"
   ]
  },
  {
   "cell_type": "code",
   "execution_count": 165,
   "metadata": {},
   "outputs": [],
   "source": [
    "def tm055():\n",
    "    '''\n",
    "    不考虑解方程什么的，问题实际上归结成\n",
    "    “整数n，迭代5次之每次都能得到整数，求n的最小值”问题。\n",
    "    一开始想简单了，以为最后的猴子只拿一个，代进去一算发现不是整数。\n",
    "    于是直接暴力输入，一个个试直到3121，得到整除。\n",
    "    当然也可以反着试，假设最后一个猴子拿到n个桃子，remain = lambda t:t/4*5+1，\n",
    "    一个个试直到1020，得到整除，也能得出结论，最开始的猴子拿了3121个桃子。\n",
    "    '''\n",
    "    for total in range(10000):\n",
    "        t = total                       # 沙滩上有t个桃子\n",
    "        remain = lambda t:(t-1)/5*4     # 每次分桃后剩余桃子。   \n",
    "        for i in range(5):\n",
    "            t = remain(t)\n",
    "            if t%1!=0:break             # 如果不是整数，说明不符合题意\n",
    "        else:\n",
    "            print(total,t)              # 5次都能得到整数，第一个猴子3121，五个猴子拿完沙滩剩余1020个。\n",
    "            break"
   ]
  },
  {
   "cell_type": "markdown",
   "metadata": {},
   "source": [
    "## 题目056：\n",
    "809*??=800*??+9*?? 其中??代表的两位数, \n",
    "809*??为四位数，8*??的结果为两位数，9*??的结果为3位数。\n",
    "求??代表的两位数，及809*??后的结果。"
   ]
  },
  {
   "cell_type": "code",
   "execution_count": 166,
   "metadata": {},
   "outputs": [],
   "source": [
    "def tm056():\n",
    "    '''\n",
    "    假设??为x，因为8*x<100，所以x<13。\n",
    "    实际上因为9*x>100，得到x>11，很明显x就是12，题意给的过于充分了。\n",
    "    程序如下：\n",
    "    '''\n",
    "    l = lambda x:len(str(x))\n",
    "    for i in range(20):\n",
    "        if l(809*i)==4 and l(8*i)==2 and l(9*i)==3:\n",
    "            x = i\n",
    "            print(x)\n",
    "    print(809*x==800*x+9*x)\n",
    "    print(809*x)"
   ]
  }
 ],
 "metadata": {
  "kernelspec": {
   "display_name": "Python 3",
   "language": "python",
   "name": "python3"
  },
  "language_info": {
   "codemirror_mode": {
    "name": "ipython",
    "version": 3
   },
   "file_extension": ".py",
   "mimetype": "text/x-python",
   "name": "python",
   "nbconvert_exporter": "python",
   "pygments_lexer": "ipython3",
   "version": "3.7.1"
  },
  "toc": {
   "base_numbering": 1,
   "nav_menu": {},
   "number_sections": true,
   "sideBar": true,
   "skip_h1_title": false,
   "title_cell": "Table of Contents",
   "title_sidebar": "Contents",
   "toc_cell": false,
   "toc_position": {},
   "toc_section_display": true,
   "toc_window_display": false
  }
 },
 "nbformat": 4,
 "nbformat_minor": 2
}
