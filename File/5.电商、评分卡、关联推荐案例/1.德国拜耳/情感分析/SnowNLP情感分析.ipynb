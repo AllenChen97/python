{
 "cells": [
  {
   "cell_type": "code",
   "execution_count": 2,
   "metadata": {
    "collapsed": true
   },
   "outputs": [],
   "source": [
    "from snownlp import  SnowNLP"
   ]
  },
  {
   "cell_type": "code",
   "execution_count": 7,
   "metadata": {
    "collapsed": true
   },
   "outputs": [],
   "source": [
    "?SnowNLP"
   ]
  },
  {
   "cell_type": "code",
   "execution_count": 26,
   "metadata": {},
   "outputs": [
    {
     "data": {
      "text/plain": [
       "0.38624728554881993"
      ]
     },
     "execution_count": 26,
     "metadata": {},
     "output_type": "execute_result"
    }
   ],
   "source": [
    "text=\"线材比较硬。听诊器效果严重。音质还可以。看来还是要去买个升级线。\"\n",
    "ana=SnowNLP(text)#把文本处理成可以被用于SnowNlp的格式\n",
    "ana.sentiments#SnowNlp进行情感分析"
   ]
  },
  {
   "cell_type": "code",
   "execution_count": 16,
   "metadata": {
    "collapsed": true
   },
   "outputs": [],
   "source": [
    "?ana.sentences"
   ]
  },
  {
   "cell_type": "code",
   "execution_count": 27,
   "metadata": {},
   "outputs": [
    {
     "name": "stdout",
     "output_type": "stream",
     "text": [
      "线材比较硬\n",
      "0.2588498126952954\n",
      "听诊器效果严重\n",
      "0.3887000816053797\n",
      "音质还可以\n",
      "0.6411382265869894\n",
      "看来还是要去买个升级线\n",
      "0.6849027474923414\n"
     ]
    }
   ],
   "source": [
    "for i in ana.sentences:\n",
    "    s=SnowNLP(i)\n",
    "    result=s.sentiments\n",
    "    print(i)\n",
    "    print(result)"
   ]
  }
 ],
 "metadata": {
  "kernelspec": {
   "display_name": "Python 3",
   "language": "python",
   "name": "python3"
  },
  "language_info": {
   "codemirror_mode": {
    "name": "ipython",
    "version": 3
   },
   "file_extension": ".py",
   "mimetype": "text/x-python",
   "name": "python",
   "nbconvert_exporter": "python",
   "pygments_lexer": "ipython3",
   "version": "3.6.3"
  }
 },
 "nbformat": 4,
 "nbformat_minor": 2
}
