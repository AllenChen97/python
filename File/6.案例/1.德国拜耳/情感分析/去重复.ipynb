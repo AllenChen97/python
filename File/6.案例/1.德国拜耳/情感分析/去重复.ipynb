{
 "cells": [
  {
   "cell_type": "code",
   "execution_count": 5,
   "metadata": {},
   "outputs": [],
   "source": [
    "filelist =['可以，可以可以可以可以可以','很费电很费电很费电']"
   ]
  },
  {
   "cell_type": "code",
   "execution_count": 6,
   "metadata": {},
   "outputs": [],
   "source": [
    "filelist2 = []"
   ]
  },
  {
   "cell_type": "code",
   "execution_count": 6,
   "metadata": {},
   "outputs": [],
   "source": [
    "a_string='很费电很费电很费电'\n",
    "char_list = list(a_string) #把字符串转化列表自动按单个字符分词了\n",
    "list1 = []\n",
    "list1.append(char_list[0])\n",
    "list2 = ['']"
   ]
  },
  {
   "cell_type": "code",
   "execution_count": 2,
   "metadata": {},
   "outputs": [
    {
     "data": {
      "text/plain": [
       "['很', '费', '电', '很', '费', '电', '很', '费', '电']"
      ]
     },
     "execution_count": 2,
     "metadata": {},
     "output_type": "execute_result"
    }
   ],
   "source": [
    "char_list"
   ]
  },
  {
   "cell_type": "code",
   "execution_count": 77,
   "metadata": {},
   "outputs": [
    {
     "data": {
      "text/plain": [
       "['很']"
      ]
     },
     "execution_count": 77,
     "metadata": {},
     "output_type": "execute_result"
    }
   ],
   "source": [
    "list1"
   ]
  },
  {
   "cell_type": "code",
   "execution_count": 78,
   "metadata": {},
   "outputs": [
    {
     "name": "stdout",
     "output_type": "stream",
     "text": [
      "词汇和1不同，2为空，将词加入1\n",
      "词汇和1不同，2为空，将词加入1\n",
      "词汇和list1相同，list2为空，将词加入list2\n",
      "词和1不同，2不为空，判断1和2不重复\n",
      "词和1不同，2不为空，判断1和2不重复\n",
      "词和1相同，2不为空，判断1和2重复\n",
      "词和1不同，2不为空，判断1和2不重复\n",
      "词和1不同，2不为空，判断1和2不重复\n"
     ]
    }
   ],
   "source": [
    "        #记录要删除的索引\n",
    "        del1 = []\n",
    "        i = 0\n",
    "        while (i<len(char_list)):\n",
    "            \n",
    "            i = i+1\n",
    "            #这里是对后面没有词汇的时候对列表1和列表2判断一次重复\n",
    "            if i == len(char_list):\n",
    "                if list1 == list2:\n",
    "                    m = len(list2)\n",
    "                    for x in range(i-m,i):\n",
    "                        del1.append(x)\n",
    "            else:\n",
    "\n",
    "                if char_list[i] == list1[0] and list2==['']:\n",
    "                    print('词汇和list1相同，list2为空，将词加入list2')\n",
    "                    list2[0]=char_list[i] #这里初始化用append会让lisr2初始化为['','**']\n",
    "                elif char_list[i] != list1[0] and list2==['']:\n",
    "                    print('词汇和1不同，2为空，将词加入1')\n",
    "                    list1.append(char_list[i])\n",
    "                #触发判断\n",
    "                elif char_list[i] != list1[0] and list2 !=['']:\n",
    "                    if list1 == list2 and len(list2)>=2:\n",
    "                        print('词和1不同，2不为空，判断1和2重复')\n",
    "                        m = len(list2)\n",
    "                        #删除列表2里的内容，列表1本来的内容不用再去判断重复了\n",
    "                        for x in range(i-m,i):\n",
    "                            del1.append(x)\n",
    "                        list1= ['']\n",
    "                        list2 = ['']\n",
    "                        list1[0]=char_list[i]\n",
    "                    else:\n",
    "                        print('词和1不同，2不为空，判断1和2不重复')\n",
    "                        list2.append(char_list[i])\n",
    "                #触发判断\n",
    "                elif char_list[i] == list1[0] and list2 != ['']:\n",
    "                    if list1 == list2:\n",
    "                        print('词和1相同，2不为空，判断1和2重复')\n",
    "                        m = len(list2)\n",
    "                        #删除列表2里的内容，列表1需要再去和后面的词汇继续判断重复\n",
    "                        for x in range(i-m,i):\n",
    "                            del1.append(x)\n",
    "\n",
    "                        list2 = ['']\n",
    "                        list2[0]=char_list[i]\n",
    "                    else:\n",
    "                        print('词和1相同，2不为空，判断1和2不重复')\n",
    "                        #逻辑对书本上进行了修改，书上是清空列表1和2，就是保留现在列表1和2内容不做删除，这里只保留1，列表2内容还需要做对比\n",
    "                        list1 = list2\n",
    "                        list2 = ['']\n",
    "                        list2[0]=char_list[i]"
   ]
  },
  {
   "cell_type": "code",
   "execution_count": 79,
   "metadata": {},
   "outputs": [
    {
     "data": {
      "text/plain": [
       "[3, 4, 5, 6, 7, 8]"
      ]
     },
     "execution_count": 79,
     "metadata": {},
     "output_type": "execute_result"
    }
   ],
   "source": [
    "del1"
   ]
  },
  {
   "cell_type": "code",
   "execution_count": 80,
   "metadata": {},
   "outputs": [
    {
     "data": {
      "text/plain": [
       "['很', '费', '电']"
      ]
     },
     "execution_count": 80,
     "metadata": {},
     "output_type": "execute_result"
    }
   ],
   "source": [
    "list1"
   ]
  },
  {
   "cell_type": "code",
   "execution_count": 81,
   "metadata": {},
   "outputs": [
    {
     "data": {
      "text/plain": [
       "['很', '费', '电']"
      ]
     },
     "execution_count": 81,
     "metadata": {},
     "output_type": "execute_result"
    }
   ],
   "source": [
    "list2"
   ]
  },
  {
   "cell_type": "code",
   "execution_count": 82,
   "metadata": {},
   "outputs": [],
   "source": [
    "a=sorted(del1)"
   ]
  },
  {
   "cell_type": "code",
   "execution_count": 83,
   "metadata": {},
   "outputs": [
    {
     "data": {
      "text/plain": [
       "5"
      ]
     },
     "execution_count": 83,
     "metadata": {},
     "output_type": "execute_result"
    }
   ],
   "source": [
    "len(a) - 1"
   ]
  },
  {
   "cell_type": "code",
   "execution_count": 84,
   "metadata": {},
   "outputs": [],
   "source": [
    "t = len(a) - 1\n",
    "while(t>=0):\n",
    "    del char_list[a[t]]\n",
    "    t = t-1"
   ]
  },
  {
   "cell_type": "code",
   "execution_count": 85,
   "metadata": {},
   "outputs": [
    {
     "data": {
      "text/plain": [
       "['很', '费', '电']"
      ]
     },
     "execution_count": 85,
     "metadata": {},
     "output_type": "execute_result"
    }
   ],
   "source": [
    "char_list"
   ]
  },
  {
   "cell_type": "code",
   "execution_count": 86,
   "metadata": {},
   "outputs": [],
   "source": [
    "str1 = ''.join(char_list)"
   ]
  },
  {
   "cell_type": "code",
   "execution_count": 87,
   "metadata": {},
   "outputs": [
    {
     "data": {
      "text/plain": [
       "'很费电'"
      ]
     },
     "execution_count": 87,
     "metadata": {},
     "output_type": "execute_result"
    }
   ],
   "source": [
    "str1"
   ]
  },
  {
   "cell_type": "code",
   "execution_count": 88,
   "metadata": {},
   "outputs": [],
   "source": [
    "str2 = str1.strip()"
   ]
  },
  {
   "cell_type": "code",
   "execution_count": 89,
   "metadata": {},
   "outputs": [
    {
     "data": {
      "text/plain": [
       "'很费电'"
      ]
     },
     "execution_count": 89,
     "metadata": {},
     "output_type": "execute_result"
    }
   ],
   "source": [
    "str2"
   ]
  },
  {
   "cell_type": "code",
   "execution_count": 90,
   "metadata": {},
   "outputs": [],
   "source": [
    "filelist2.append(str2)"
   ]
  },
  {
   "cell_type": "code",
   "execution_count": 91,
   "metadata": {},
   "outputs": [
    {
     "data": {
      "text/plain": [
       "['很很费电', '很费电']"
      ]
     },
     "execution_count": 91,
     "metadata": {},
     "output_type": "execute_result"
    }
   ],
   "source": [
    "filelist2"
   ]
  },
  {
   "cell_type": "code",
   "execution_count": 92,
   "metadata": {},
   "outputs": [],
   "source": [
    "def qc_string_forward(s):\n",
    "    filelist = s\n",
    "    filelist2 = []\n",
    "    for a_string in filelist:\n",
    "        temp1 = a_string.strip('\\n')\n",
    "        temp2 = temp1.lstrip('\\ufeff')\n",
    "        temp3 = temp2.strip('\\r')\n",
    "        char_list = list(temp3) #把字符串转化列表自动按单个字符分词了\n",
    "        #print(char_list)\n",
    "\n",
    "        list1 = []\n",
    "        list1.append(char_list[0])\n",
    "        list2 = ['']\n",
    "\n",
    "        #记录要删除的索引\n",
    "        del1 = []\n",
    "        i = 0\n",
    "        while (i<len(char_list)):\n",
    "            i = i+1\n",
    "            #这里是对后面没有词汇的时候对列表1和列表2判断一次重复\n",
    "            if i == len(char_list):\n",
    "                if list1 == list2:\n",
    "                    m = len(list2)\n",
    "                    for x in range(i-m,i):\n",
    "                        del1.append(x)\n",
    "            else:\n",
    "\n",
    "                if char_list[i] == list1[0] and list2==['']:\n",
    "                    #print('词汇和list1相同，list2为空，将词加入list2')\n",
    "                    list2[0]=char_list[i] #这里初始化用append会让lisr2初始化为['','**']\n",
    "                elif char_list[i] != list1[0] and list2==['']:\n",
    "                    #print('词汇和1不同，2为空，将词加入1')\n",
    "                    list1.append(char_list[i])\n",
    "\n",
    "                #触发判断\n",
    "                elif char_list[i] != list1[0] and list2 !=['']:\n",
    "                    if list1 == list2 and len(list2)>=2:\n",
    "                        #print('词和1不同，2不为空，判断1和2重复')\n",
    "                        m = len(list2)\n",
    "                        #删除列表2里的内容，列表1本来的内容不用再去判断重复了\n",
    "                        for x in range(i-m,i):\n",
    "                            del1.append(x)\n",
    "                        list1= ['']\n",
    "                        list2 = ['']\n",
    "                        list1[0]=char_list[i]\n",
    "                    else:\n",
    "                        #print('词和1不同，2不为空，判断1和2不重复')\n",
    "                        list2.append(char_list[i])\n",
    "\n",
    "                #触发判断\n",
    "                elif char_list[i] == list1[0] and list2 != ['']:\n",
    "                    if list1 == list2:\n",
    "                        #print('词和1相同，2不为空，判断1和2重复')\n",
    "                        m = len(list2)\n",
    "                        #删除列表2里的内容，列表1需要再去和后面的词汇继续判断重复\n",
    "                        for x in range(i-m,i):\n",
    "                            del1.append(x)\n",
    "\n",
    "                        list2 = ['']\n",
    "                        list2[0]=char_list[i]\n",
    "                    else:\n",
    "                        #print('词和1相同，2不为空，判断1和2不重复')\n",
    "                        #逻辑对书本上进行了修改，书上是清空列表1和2，就是保留现在列表1和2内容不做删除，这里只保留1，列表2内容还需要做对比\n",
    "                        list1 = list2\n",
    "                        list2 = ['']\n",
    "                        list2[0]=char_list[i]\n",
    "\n",
    "\n",
    "        a = sorted(del1) #从数字更大的索引删起，这样就不用考虑元素删除后索引的变化问题\n",
    "        t = len(a) - 1\n",
    "        while(t>=0):\n",
    "            del char_list[a[t]]\n",
    "            t = t-1\n",
    "        str1 = ''.join(char_list)\n",
    "        str2 = str1.strip()\n",
    "        filelist2.append(str2)\n",
    "    return filelist2"
   ]
  },
  {
   "cell_type": "code",
   "execution_count": 118,
   "metadata": {},
   "outputs": [],
   "source": [
    "def qc_string_backward(s):\n",
    "    filelist = s\n",
    "    filelist2 = []\n",
    "    for a_string in filelist:\n",
    "        temp1 = a_string.strip('\\n')\n",
    "        temp2 = temp1.lstrip('\\ufeff')\n",
    "        temp3 = temp2.strip('\\r')\n",
    "        temp3=temp3[::-1]\n",
    "        char_list = list(temp3) #把字符串转化列表自动按单个字符分词了\n",
    "        #print(char_list)\n",
    "\n",
    "        list1 = []\n",
    "        list1.append(char_list[0])\n",
    "        list2 = ['']\n",
    "\n",
    "        #记录要删除的索引\n",
    "        del1 = []\n",
    "        i = 0\n",
    "        while (i<len(char_list)):\n",
    "            i = i+1\n",
    "            #这里是对后面没有词汇的时候对列表1和列表2判断一次重复\n",
    "            if i == len(char_list):\n",
    "                if list1 == list2:\n",
    "                    m = len(list2)\n",
    "                    for x in range(i-m,i):\n",
    "                        del1.append(x)\n",
    "            else:\n",
    "\n",
    "                if char_list[i] == list1[0] and list2==['']:\n",
    "                    #print('词汇和list1相同，list2为空，将词加入list2')\n",
    "                    list2[0]=char_list[i] #这里初始化用append会让lisr2初始化为['','**']\n",
    "                elif char_list[i] != list1[0] and list2==['']:\n",
    "                    #print('词汇和1不同，2为空，将词加入1')\n",
    "                    list1.append(char_list[i])\n",
    "\n",
    "                #触发判断\n",
    "                elif char_list[i] != list1[0] and list2 !=['']:\n",
    "                    if list1 == list2 and len(list2)>=2:\n",
    "                        #print('词和1不同，2不为空，判断1和2重复')\n",
    "                        m = len(list2)\n",
    "                        #删除列表2里的内容，列表1本来的内容不用再去判断重复了\n",
    "                        for x in range(i-m,i):\n",
    "                            del1.append(x)\n",
    "                        list1= ['']\n",
    "                        list2 = ['']\n",
    "                        list1[0]=char_list[i]\n",
    "                    else:\n",
    "                        #print('词和1不同，2不为空，判断1和2不重复')\n",
    "                        list2.append(char_list[i])\n",
    "\n",
    "                #触发判断\n",
    "                elif char_list[i] == list1[0] and list2 != ['']:\n",
    "                    if list1 == list2:\n",
    "                        #print('词和1相同，2不为空，判断1和2重复')\n",
    "                        m = len(list2)\n",
    "                        #删除列表2里的内容，列表1需要再去和后面的词汇继续判断重复\n",
    "                        for x in range(i-m,i):\n",
    "                            del1.append(x)\n",
    "\n",
    "                        list2 = ['']\n",
    "                        list2[0]=char_list[i]\n",
    "                    else:\n",
    "                        #print('词和1相同，2不为空，判断1和2不重复')\n",
    "                        #逻辑对书本上进行了修改，书上是清空列表1和2，就是保留现在列表1和2内容不做删除，这里只保留1，列表2内容还需要做对比\n",
    "                        list1 = list2\n",
    "                        list2 = ['']\n",
    "                        list2[0]=char_list[i]\n",
    "\n",
    "\n",
    "        a = sorted(del1) #从数字更大的索引删起，这样就不用考虑元素删除后索引的变化问题\n",
    "        t = len(a) - 1\n",
    "        while(t>=0):\n",
    "            del char_list[a[t]]\n",
    "            t = t-1\n",
    "        str1 = ''.join(char_list)\n",
    "        str2 = str1.strip()\n",
    "        str2=str2[::-1]\n",
    "        filelist2.append(str2)\n",
    "    return filelist2"
   ]
  },
  {
   "cell_type": "code",
   "execution_count": 107,
   "metadata": {},
   "outputs": [],
   "source": [
    "a_string='好评好评好评'\n",
    "char_list = list(a_string) #把字符串转化列表自动按单个字符分词了\n",
    "list1 = []\n",
    "list1.append(char_list[0])\n",
    "list2 = ['']"
   ]
  },
  {
   "cell_type": "code",
   "execution_count": 108,
   "metadata": {},
   "outputs": [
    {
     "data": {
      "text/plain": [
       "['好', '评', '好', '评', '好', '评']"
      ]
     },
     "execution_count": 108,
     "metadata": {},
     "output_type": "execute_result"
    }
   ],
   "source": [
    "a_string='好评好评好评'\n",
    "char_list = list(a_string) #把字符串转化列表自动按单个字符分词了\n",
    "char_list"
   ]
  },
  {
   "cell_type": "code",
   "execution_count": 109,
   "metadata": {},
   "outputs": [
    {
     "ename": "IndexError",
     "evalue": "list index out of range",
     "output_type": "error",
     "traceback": [
      "\u001b[1;31m---------------------------------------------------------------------------\u001b[0m",
      "\u001b[1;31mIndexError\u001b[0m                                Traceback (most recent call last)",
      "\u001b[1;32m<ipython-input-109-786995978b66>\u001b[0m in \u001b[0;36m<module>\u001b[1;34m\u001b[0m\n\u001b[0;32m      1\u001b[0m \u001b[0mchar_copy\u001b[0m\u001b[1;33m=\u001b[0m\u001b[0mchar_list\u001b[0m\u001b[1;33m\u001b[0m\u001b[1;33m\u001b[0m\u001b[0m\n\u001b[0;32m      2\u001b[0m \u001b[1;32mfor\u001b[0m \u001b[0mi\u001b[0m \u001b[1;32min\u001b[0m \u001b[0mrange\u001b[0m\u001b[1;33m(\u001b[0m\u001b[1;36m2\u001b[0m\u001b[1;33m,\u001b[0m\u001b[0mlen\u001b[0m\u001b[1;33m(\u001b[0m\u001b[0mchar_list\u001b[0m\u001b[1;33m)\u001b[0m\u001b[1;33m,\u001b[0m\u001b[1;36m2\u001b[0m\u001b[1;33m)\u001b[0m\u001b[1;33m:\u001b[0m\u001b[1;33m\u001b[0m\u001b[1;33m\u001b[0m\u001b[0m\n\u001b[1;32m----> 3\u001b[1;33m     \u001b[1;32mif\u001b[0m \u001b[1;33m(\u001b[0m\u001b[0mchar_list\u001b[0m\u001b[1;33m[\u001b[0m\u001b[0mi\u001b[0m\u001b[1;33m]\u001b[0m\u001b[1;33m==\u001b[0m\u001b[0mchar_list\u001b[0m\u001b[1;33m[\u001b[0m\u001b[0mi\u001b[0m\u001b[1;33m-\u001b[0m\u001b[1;36m2\u001b[0m\u001b[1;33m]\u001b[0m\u001b[1;33m)\u001b[0m \u001b[1;32mand\u001b[0m \u001b[1;33m(\u001b[0m\u001b[0mchar_list\u001b[0m\u001b[1;33m[\u001b[0m\u001b[0mi\u001b[0m\u001b[1;33m+\u001b[0m\u001b[1;36m1\u001b[0m\u001b[1;33m]\u001b[0m\u001b[1;33m==\u001b[0m\u001b[0mchar_list\u001b[0m\u001b[1;33m[\u001b[0m\u001b[0mi\u001b[0m\u001b[1;33m-\u001b[0m\u001b[1;36m1\u001b[0m\u001b[1;33m]\u001b[0m\u001b[1;33m)\u001b[0m\u001b[1;33m:\u001b[0m  \u001b[1;31m#判断是否与前两字符一致\u001b[0m\u001b[1;33m\u001b[0m\u001b[1;33m\u001b[0m\u001b[0m\n\u001b[0m\u001b[0;32m      4\u001b[0m \u001b[1;33m\u001b[0m\u001b[0m\n\u001b[0;32m      5\u001b[0m         \u001b[1;32mfor\u001b[0m \u001b[0mj\u001b[0m \u001b[1;32min\u001b[0m \u001b[0mrange\u001b[0m\u001b[1;33m(\u001b[0m\u001b[1;36m2\u001b[0m\u001b[1;33m)\u001b[0m\u001b[1;33m:\u001b[0m   \u001b[1;31m#删重复的两个字符\u001b[0m\u001b[1;33m\u001b[0m\u001b[1;33m\u001b[0m\u001b[0m\n",
      "\u001b[1;31mIndexError\u001b[0m: list index out of range"
     ]
    }
   ],
   "source": [
    "char_copy=char_list\n",
    "for i in range(2,len(char_list),2):\n",
    "    if (char_list[i]==char_list[i-2]) and (char_list[i+1]==char_list[i-1]):  #判断是否与前两字符一致\n",
    "\n",
    "        for j in range(2):   #删重复的两个字符\n",
    "            del char_copy[i]"
   ]
  },
  {
   "cell_type": "code",
   "execution_count": 105,
   "metadata": {},
   "outputs": [
    {
     "ename": "IndexError",
     "evalue": "list assignment index out of range",
     "output_type": "error",
     "traceback": [
      "\u001b[1;31m---------------------------------------------------------------------------\u001b[0m",
      "\u001b[1;31mIndexError\u001b[0m                                Traceback (most recent call last)",
      "\u001b[1;32m<ipython-input-105-15445fe20eb9>\u001b[0m in \u001b[0;36m<module>\u001b[1;34m\u001b[0m\n\u001b[0;32m      1\u001b[0m \u001b[1;32mfor\u001b[0m \u001b[0mj\u001b[0m \u001b[1;32min\u001b[0m \u001b[0mlist\u001b[0m\u001b[1;33m(\u001b[0m\u001b[0mrange\u001b[0m\u001b[1;33m(\u001b[0m\u001b[1;36m2\u001b[0m\u001b[1;33m,\u001b[0m\u001b[1;36m4\u001b[0m\u001b[1;33m)\u001b[0m\u001b[1;33m)\u001b[0m\u001b[1;33m:\u001b[0m   \u001b[1;31m#删重复的两个字符\u001b[0m\u001b[1;33m\u001b[0m\u001b[1;33m\u001b[0m\u001b[0m\n\u001b[1;32m----> 2\u001b[1;33m         \u001b[1;32mdel\u001b[0m \u001b[0mchar_list\u001b[0m\u001b[1;33m[\u001b[0m\u001b[0mi\u001b[0m\u001b[1;33m]\u001b[0m\u001b[1;33m\u001b[0m\u001b[1;33m\u001b[0m\u001b[0m\n\u001b[0m",
      "\u001b[1;31mIndexError\u001b[0m: list assignment index out of range"
     ]
    }
   ],
   "source": [
    "for j in list(range(2,4)):   #删重复的两个字符\n",
    "        del char_list[i]"
   ]
  },
  {
   "cell_type": "code",
   "execution_count": 106,
   "metadata": {},
   "outputs": [
    {
     "data": {
      "text/plain": [
       "['好', '评', '好', '评']"
      ]
     },
     "execution_count": 106,
     "metadata": {},
     "output_type": "execute_result"
    }
   ],
   "source": [
    "char_list"
   ]
  },
  {
   "cell_type": "code",
   "execution_count": 84,
   "metadata": {},
   "outputs": [
    {
     "data": {
      "text/plain": [
       "[2, 3]"
      ]
     },
     "execution_count": 84,
     "metadata": {},
     "output_type": "execute_result"
    }
   ],
   "source": [
    "list(range(2,4))"
   ]
  }
 ],
 "metadata": {
  "kernelspec": {
   "display_name": "Python 3",
   "language": "python",
   "name": "python3"
  },
  "language_info": {
   "codemirror_mode": {
    "name": "ipython",
    "version": 3
   },
   "file_extension": ".py",
   "mimetype": "text/x-python",
   "name": "python",
   "nbconvert_exporter": "python",
   "pygments_lexer": "ipython3",
   "version": "3.7.1"
  },
  "toc": {
   "base_numbering": 1,
   "nav_menu": {},
   "number_sections": true,
   "sideBar": true,
   "skip_h1_title": false,
   "title_cell": "Table of Contents",
   "title_sidebar": "Contents",
   "toc_cell": false,
   "toc_position": {},
   "toc_section_display": true,
   "toc_window_display": false
  }
 },
 "nbformat": 4,
 "nbformat_minor": 2
}
