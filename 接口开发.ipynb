{
 "cells": [
  {
   "cell_type": "code",
   "execution_count": null,
   "id": "97bbd600",
   "metadata": {},
   "outputs": [
    {
     "name": "stdout",
     "output_type": "stream",
     "text": [
      " * Serving Flask app \"__main__\" (lazy loading)\n",
      " * Environment: production\n",
      "   WARNING: This is a development server. Do not use it in a production deployment.\n",
      "   Use a production WSGI server instead.\n",
      " * Debug mode: off\n"
     ]
    },
    {
     "name": "stderr",
     "output_type": "stream",
     "text": [
      " * Running on http://127.0.0.1:28082/ (Press CTRL+C to quit)\n",
      "127.0.0.1 - - [23/Mar/2022 22:18:04] \"\u001b[33mGET / HTTP/1.1\u001b[0m\" 404 -\n",
      "127.0.0.1 - - [23/Mar/2022 22:18:14] \"\u001b[37mGET /text HTTP/1.1\u001b[0m\" 200 -\n"
     ]
    }
   ],
   "source": [
    "from flask import Flask, request, jsonify, redirect, url_for\n",
    "\n",
    "app = Flask(__name__)# Flask构造函数使用当前模块（__name __）的名称作为参数。\n",
    "\n",
    "# route()函数是一个装饰器，它告诉应用程序哪个URL应该调用相关的函数。\n",
    "# , methods=['GET']\n",
    "@app.route('/text',methods=['GET'])\n",
    "def index():\n",
    "# 1.读取用户发送的内容\n",
    "    return '掉你老母'\n",
    "\n",
    "if __name__ == '__main__':\n",
    "    app.run(port='28082')\n",
    "    # netstat -ntulp |grep 28082"
   ]
  },
  {
   "cell_type": "code",
   "execution_count": null,
   "id": "2397a1df",
   "metadata": {},
   "outputs": [],
   "source": []
  }
 ],
 "metadata": {
  "kernelspec": {
   "display_name": "Python 3",
   "language": "python",
   "name": "python3"
  },
  "language_info": {
   "codemirror_mode": {
    "name": "ipython",
    "version": 3
   },
   "file_extension": ".py",
   "mimetype": "text/x-python",
   "name": "python",
   "nbconvert_exporter": "python",
   "pygments_lexer": "ipython3",
   "version": "3.8.8"
  }
 },
 "nbformat": 4,
 "nbformat_minor": 5
}
